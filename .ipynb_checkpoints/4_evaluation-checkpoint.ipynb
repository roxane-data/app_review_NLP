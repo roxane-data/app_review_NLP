{
 "cells": [
  {
   "cell_type": "code",
   "execution_count": 2,
   "id": "c9163390-54ef-4b88-b25c-eb04b9fedab2",
   "metadata": {},
   "outputs": [],
   "source": [
    "import pandas as pd\n",
    "import numpy as np\n",
    "import seaborn as sns\n",
    "import matplotlib.pyplot as plt\n",
    "\n",
    "import pickle\n",
    "\n",
    "from classification import Classification\n",
    "from ensemble import Ensemble"
   ]
  },
  {
   "cell_type": "code",
   "execution_count": 3,
   "id": "f29276c1-6458-4038-ac38-65f008af5c6d",
   "metadata": {},
   "outputs": [],
   "source": [
    "sns.set_context('poster')"
   ]
  },
  {
   "cell_type": "code",
   "execution_count": 5,
   "id": "847253e1-2ea8-4de1-a678-30f0ca6b8226",
   "metadata": {},
   "outputs": [
    {
     "data": {
      "text/html": [
       "<div>\n",
       "<style scoped>\n",
       "    .dataframe tbody tr th:only-of-type {\n",
       "        vertical-align: middle;\n",
       "    }\n",
       "\n",
       "    .dataframe tbody tr th {\n",
       "        vertical-align: top;\n",
       "    }\n",
       "\n",
       "    .dataframe thead th {\n",
       "        text-align: right;\n",
       "    }\n",
       "</style>\n",
       "<table border=\"1\" class=\"dataframe\">\n",
       "  <thead>\n",
       "    <tr style=\"text-align: right;\">\n",
       "      <th></th>\n",
       "      <th>Model Name</th>\n",
       "      <th>Train Accuracy</th>\n",
       "      <th>Validation Accuracy</th>\n",
       "      <th>Accuracy Difference</th>\n",
       "    </tr>\n",
       "  </thead>\n",
       "  <tbody>\n",
       "    <tr>\n",
       "      <th>0</th>\n",
       "      <td>Decision Tree</td>\n",
       "      <td>0.449649</td>\n",
       "      <td>0.416836</td>\n",
       "      <td>0.032813</td>\n",
       "    </tr>\n",
       "    <tr>\n",
       "      <th>0</th>\n",
       "      <td>Random Forest</td>\n",
       "      <td>0.616655</td>\n",
       "      <td>0.486762</td>\n",
       "      <td>0.129894</td>\n",
       "    </tr>\n",
       "    <tr>\n",
       "      <th>0</th>\n",
       "      <td>Logistic Regression</td>\n",
       "      <td>0.530210</td>\n",
       "      <td>0.496945</td>\n",
       "      <td>0.033265</td>\n",
       "    </tr>\n",
       "    <tr>\n",
       "      <th>0</th>\n",
       "      <td>SVM</td>\n",
       "      <td>0.631591</td>\n",
       "      <td>0.498982</td>\n",
       "      <td>0.132609</td>\n",
       "    </tr>\n",
       "    <tr>\n",
       "      <th>0</th>\n",
       "      <td>Naive Bayes</td>\n",
       "      <td>0.485178</td>\n",
       "      <td>0.460964</td>\n",
       "      <td>0.024214</td>\n",
       "    </tr>\n",
       "    <tr>\n",
       "      <th>0</th>\n",
       "      <td>KNN</td>\n",
       "      <td>0.491288</td>\n",
       "      <td>0.477257</td>\n",
       "      <td>0.014030</td>\n",
       "    </tr>\n",
       "    <tr>\n",
       "      <th>0</th>\n",
       "      <td>AdaBoost</td>\n",
       "      <td>0.508486</td>\n",
       "      <td>0.481331</td>\n",
       "      <td>0.027155</td>\n",
       "    </tr>\n",
       "    <tr>\n",
       "      <th>0</th>\n",
       "      <td>XGBoost</td>\n",
       "      <td>0.712378</td>\n",
       "      <td>0.502376</td>\n",
       "      <td>0.210002</td>\n",
       "    </tr>\n",
       "  </tbody>\n",
       "</table>\n",
       "</div>"
      ],
      "text/plain": [
       "            Model Name  Train Accuracy  Validation Accuracy  \\\n",
       "0        Decision Tree        0.449649             0.416836   \n",
       "0        Random Forest        0.616655             0.486762   \n",
       "0  Logistic Regression        0.530210             0.496945   \n",
       "0                  SVM        0.631591             0.498982   \n",
       "0          Naive Bayes        0.485178             0.460964   \n",
       "0                  KNN        0.491288             0.477257   \n",
       "0             AdaBoost        0.508486             0.481331   \n",
       "0              XGBoost        0.712378             0.502376   \n",
       "\n",
       "   Accuracy Difference  \n",
       "0             0.032813  \n",
       "0             0.129894  \n",
       "0             0.033265  \n",
       "0             0.132609  \n",
       "0             0.024214  \n",
       "0             0.014030  \n",
       "0             0.027155  \n",
       "0             0.210002  "
      ]
     },
     "execution_count": 5,
     "metadata": {},
     "output_type": "execute_result"
    }
   ],
   "source": [
    "path = \"data/all_models.pkl\" \n",
    "\n",
    "with open(path, 'rb') as f:\n",
    "    all_models = pickle.load(f)\n",
    "\n",
    "all_models"
   ]
  },
  {
   "cell_type": "markdown",
   "id": "7b293aaa-ac2f-4628-adac-5e848233bf77",
   "metadata": {},
   "source": [
    "Best model : Adaboost with logistic regression"
   ]
  }
 ],
 "metadata": {
  "kernelspec": {
   "display_name": "Python 3 (ipykernel)",
   "language": "python",
   "name": "python3"
  },
  "language_info": {
   "codemirror_mode": {
    "name": "ipython",
    "version": 3
   },
   "file_extension": ".py",
   "mimetype": "text/x-python",
   "name": "python",
   "nbconvert_exporter": "python",
   "pygments_lexer": "ipython3",
   "version": "3.9.7"
  }
 },
 "nbformat": 4,
 "nbformat_minor": 5
}
