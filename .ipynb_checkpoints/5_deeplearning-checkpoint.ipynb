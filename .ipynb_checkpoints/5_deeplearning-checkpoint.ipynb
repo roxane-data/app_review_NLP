{
 "cells": [
  {
   "cell_type": "code",
   "execution_count": 2,
   "id": "2019b071-ff27-49ba-bccf-a11c9762f721",
   "metadata": {},
   "outputs": [
    {
     "name": "stderr",
     "output_type": "stream",
     "text": [
      "2022-01-03 11:42:51.083750: W tensorflow/stream_executor/platform/default/dso_loader.cc:64] Could not load dynamic library 'libcudart.so.11.0'; dlerror: libcudart.so.11.0: cannot open shared object file: No such file or directory\n",
      "2022-01-03 11:42:51.083766: I tensorflow/stream_executor/cuda/cudart_stub.cc:29] Ignore above cudart dlerror if you do not have a GPU set up on your machine.\n"
     ]
    }
   ],
   "source": [
    "import pandas as pd\n",
    "import numpy as np\n",
    "import seaborn as sns\n",
    "import matplotlib.pyplot as plt\n",
    "\n",
    "from sklearn.model_selection import train_test_split\n",
    "from sklearn.preprocessing import OneHotEncoder\n",
    "from sklearn.metrics import confusion_matrix\n",
    "\n",
    "import tensorflow as tf\n",
    "from tensorflow.keras.preprocessing import sequence\n",
    "from tensorflow.keras.models import Sequential\n",
    "from tensorflow.keras.layers import Dense, Embedding, GlobalAveragePooling1D\n",
    "\n",
    "import pickle\n",
    "\n",
    "from helper_functions import text_cleanup, reverse_encode, add_one_argmax_score, conf_matrix"
   ]
  },
  {
   "cell_type": "code",
   "execution_count": 3,
   "id": "53327bcb-a1b0-43e2-a3f3-c657d6d70a3f",
   "metadata": {},
   "outputs": [],
   "source": [
    "sns.set_context('poster')"
   ]
  },
  {
   "cell_type": "code",
   "execution_count": 4,
   "id": "f73a8517-27f6-40d8-9175-2fb1187dfee6",
   "metadata": {},
   "outputs": [],
   "source": [
    "path = \"data/reviews_tgtg_v0.pkl\" \n",
    "\n",
    "with open(path, 'rb') as f:\n",
    "    df = pickle.load(f)"
   ]
  },
  {
   "cell_type": "code",
   "execution_count": 5,
   "id": "1042c870-2550-4fec-b196-e59abe68bf9a",
   "metadata": {},
   "outputs": [],
   "source": [
    "df.to_pickle('review_proto4.pkl', protocol=4)"
   ]
  },
  {
   "cell_type": "code",
   "execution_count": 6,
   "id": "db12b2e2-2122-4485-bb3c-21822872c14f",
   "metadata": {},
   "outputs": [],
   "source": [
    "df.to_csv('data/review_proto4.csv',index=False)"
   ]
  },
  {
   "cell_type": "markdown",
   "id": "045b3f97-7cc0-4568-88e0-82b466dbc1b1",
   "metadata": {},
   "source": [
    "### One hot encoding rating column\n",
    "For multi-clss classification using neural network model,the target variable needed to be one hot encoded, as the outpu layer would have 5 nodes, 1 for each rating."
   ]
  },
  {
   "cell_type": "code",
   "execution_count": 5,
   "id": "efed285c-5d0f-4d55-b549-3c7e1aa0d847",
   "metadata": {},
   "outputs": [
    {
     "data": {
      "text/html": [
       "<div>\n",
       "<style scoped>\n",
       "    .dataframe tbody tr th:only-of-type {\n",
       "        vertical-align: middle;\n",
       "    }\n",
       "\n",
       "    .dataframe tbody tr th {\n",
       "        vertical-align: top;\n",
       "    }\n",
       "\n",
       "    .dataframe thead th {\n",
       "        text-align: right;\n",
       "    }\n",
       "</style>\n",
       "<table border=\"1\" class=\"dataframe\">\n",
       "  <thead>\n",
       "    <tr style=\"text-align: right;\">\n",
       "      <th></th>\n",
       "      <th>review_content</th>\n",
       "      <th>rating</th>\n",
       "      <th>source</th>\n",
       "      <th>date</th>\n",
       "      <th>0</th>\n",
       "      <th>1</th>\n",
       "      <th>2</th>\n",
       "      <th>3</th>\n",
       "      <th>4</th>\n",
       "    </tr>\n",
       "  </thead>\n",
       "  <tbody>\n",
       "    <tr>\n",
       "      <th>0</th>\n",
       "      <td>Great value for money. Food was still fresh an...</td>\n",
       "      <td>5</td>\n",
       "      <td>Google</td>\n",
       "      <td>2021-12-29</td>\n",
       "      <td>0.0</td>\n",
       "      <td>0.0</td>\n",
       "      <td>0.0</td>\n",
       "      <td>0.0</td>\n",
       "      <td>1.0</td>\n",
       "    </tr>\n",
       "    <tr>\n",
       "      <th>0</th>\n",
       "      <td>Not that great to go more like I have had this...</td>\n",
       "      <td>5</td>\n",
       "      <td>Apple</td>\n",
       "      <td>2021-02-27</td>\n",
       "      <td>0.0</td>\n",
       "      <td>0.0</td>\n",
       "      <td>0.0</td>\n",
       "      <td>0.0</td>\n",
       "      <td>1.0</td>\n",
       "    </tr>\n",
       "    <tr>\n",
       "      <th>0</th>\n",
       "      <td>Never been let down yet! Never been let down y...</td>\n",
       "      <td>5</td>\n",
       "      <td>Trustpilot</td>\n",
       "      <td>2021-12-29</td>\n",
       "      <td>0.0</td>\n",
       "      <td>0.0</td>\n",
       "      <td>0.0</td>\n",
       "      <td>0.0</td>\n",
       "      <td>1.0</td>\n",
       "    </tr>\n",
       "    <tr>\n",
       "      <th>1</th>\n",
       "      <td>occasionally a surprise bag is offered after t...</td>\n",
       "      <td>4</td>\n",
       "      <td>Google</td>\n",
       "      <td>2021-12-29</td>\n",
       "      <td>0.0</td>\n",
       "      <td>0.0</td>\n",
       "      <td>0.0</td>\n",
       "      <td>1.0</td>\n",
       "      <td>0.0</td>\n",
       "    </tr>\n",
       "    <tr>\n",
       "      <th>1</th>\n",
       "      <td>Barley Farm - Eccles This was the first time u...</td>\n",
       "      <td>5</td>\n",
       "      <td>Apple</td>\n",
       "      <td>2020-09-28</td>\n",
       "      <td>0.0</td>\n",
       "      <td>0.0</td>\n",
       "      <td>0.0</td>\n",
       "      <td>1.0</td>\n",
       "      <td>0.0</td>\n",
       "    </tr>\n",
       "  </tbody>\n",
       "</table>\n",
       "</div>"
      ],
      "text/plain": [
       "                                      review_content  rating      source  \\\n",
       "0  Great value for money. Food was still fresh an...       5      Google   \n",
       "0  Not that great to go more like I have had this...       5       Apple   \n",
       "0  Never been let down yet! Never been let down y...       5  Trustpilot   \n",
       "1  occasionally a surprise bag is offered after t...       4      Google   \n",
       "1  Barley Farm - Eccles This was the first time u...       5       Apple   \n",
       "\n",
       "        date    0    1    2    3    4  \n",
       "0 2021-12-29  0.0  0.0  0.0  0.0  1.0  \n",
       "0 2021-02-27  0.0  0.0  0.0  0.0  1.0  \n",
       "0 2021-12-29  0.0  0.0  0.0  0.0  1.0  \n",
       "1 2021-12-29  0.0  0.0  0.0  1.0  0.0  \n",
       "1 2020-09-28  0.0  0.0  0.0  1.0  0.0  "
      ]
     },
     "execution_count": 5,
     "metadata": {},
     "output_type": "execute_result"
    }
   ],
   "source": [
    "enc = OneHotEncoder(handle_unknown='ignore')\n",
    "\n",
    "enc_df = pd.DataFrame(enc.fit_transform(df[['rating']]).toarray())\n",
    "\n",
    "df = df.join(enc_df)\n",
    "df.head()"
   ]
  },
  {
   "cell_type": "code",
   "execution_count": 6,
   "id": "101ace40-4a80-4bec-adad-6189497e5b4f",
   "metadata": {},
   "outputs": [
    {
     "data": {
      "text/html": [
       "<div>\n",
       "<style scoped>\n",
       "    .dataframe tbody tr th:only-of-type {\n",
       "        vertical-align: middle;\n",
       "    }\n",
       "\n",
       "    .dataframe tbody tr th {\n",
       "        vertical-align: top;\n",
       "    }\n",
       "\n",
       "    .dataframe thead th {\n",
       "        text-align: right;\n",
       "    }\n",
       "</style>\n",
       "<table border=\"1\" class=\"dataframe\">\n",
       "  <thead>\n",
       "    <tr style=\"text-align: right;\">\n",
       "      <th></th>\n",
       "      <th>review_content</th>\n",
       "      <th>rating</th>\n",
       "      <th>source</th>\n",
       "      <th>date</th>\n",
       "      <th>score_1</th>\n",
       "      <th>score_2</th>\n",
       "      <th>score_3</th>\n",
       "      <th>score_4</th>\n",
       "      <th>score_5</th>\n",
       "    </tr>\n",
       "  </thead>\n",
       "  <tbody>\n",
       "    <tr>\n",
       "      <th>0</th>\n",
       "      <td>Great value for money. Food was still fresh an...</td>\n",
       "      <td>5</td>\n",
       "      <td>Google</td>\n",
       "      <td>2021-12-29</td>\n",
       "      <td>0.0</td>\n",
       "      <td>0.0</td>\n",
       "      <td>0.0</td>\n",
       "      <td>0.0</td>\n",
       "      <td>1.0</td>\n",
       "    </tr>\n",
       "    <tr>\n",
       "      <th>0</th>\n",
       "      <td>Not that great to go more like I have had this...</td>\n",
       "      <td>5</td>\n",
       "      <td>Apple</td>\n",
       "      <td>2021-02-27</td>\n",
       "      <td>0.0</td>\n",
       "      <td>0.0</td>\n",
       "      <td>0.0</td>\n",
       "      <td>0.0</td>\n",
       "      <td>1.0</td>\n",
       "    </tr>\n",
       "    <tr>\n",
       "      <th>0</th>\n",
       "      <td>Never been let down yet! Never been let down y...</td>\n",
       "      <td>5</td>\n",
       "      <td>Trustpilot</td>\n",
       "      <td>2021-12-29</td>\n",
       "      <td>0.0</td>\n",
       "      <td>0.0</td>\n",
       "      <td>0.0</td>\n",
       "      <td>0.0</td>\n",
       "      <td>1.0</td>\n",
       "    </tr>\n",
       "    <tr>\n",
       "      <th>1</th>\n",
       "      <td>occasionally a surprise bag is offered after t...</td>\n",
       "      <td>4</td>\n",
       "      <td>Google</td>\n",
       "      <td>2021-12-29</td>\n",
       "      <td>0.0</td>\n",
       "      <td>0.0</td>\n",
       "      <td>0.0</td>\n",
       "      <td>1.0</td>\n",
       "      <td>0.0</td>\n",
       "    </tr>\n",
       "    <tr>\n",
       "      <th>1</th>\n",
       "      <td>Barley Farm - Eccles This was the first time u...</td>\n",
       "      <td>5</td>\n",
       "      <td>Apple</td>\n",
       "      <td>2020-09-28</td>\n",
       "      <td>0.0</td>\n",
       "      <td>0.0</td>\n",
       "      <td>0.0</td>\n",
       "      <td>1.0</td>\n",
       "      <td>0.0</td>\n",
       "    </tr>\n",
       "  </tbody>\n",
       "</table>\n",
       "</div>"
      ],
      "text/plain": [
       "                                      review_content  rating      source  \\\n",
       "0  Great value for money. Food was still fresh an...       5      Google   \n",
       "0  Not that great to go more like I have had this...       5       Apple   \n",
       "0  Never been let down yet! Never been let down y...       5  Trustpilot   \n",
       "1  occasionally a surprise bag is offered after t...       4      Google   \n",
       "1  Barley Farm - Eccles This was the first time u...       5       Apple   \n",
       "\n",
       "        date  score_1  score_2  score_3  score_4  score_5  \n",
       "0 2021-12-29      0.0      0.0      0.0      0.0      1.0  \n",
       "0 2021-02-27      0.0      0.0      0.0      0.0      1.0  \n",
       "0 2021-12-29      0.0      0.0      0.0      0.0      1.0  \n",
       "1 2021-12-29      0.0      0.0      0.0      1.0      0.0  \n",
       "1 2020-09-28      0.0      0.0      0.0      1.0      0.0  "
      ]
     },
     "execution_count": 6,
     "metadata": {},
     "output_type": "execute_result"
    }
   ],
   "source": [
    "df = df.rename(columns={0: \"score_1\", 1:'score_2',2:'score_3',3:'score_4',4:'score_5'})\n",
    "df.head()"
   ]
  },
  {
   "cell_type": "markdown",
   "id": "930e13b9-b0ff-4bd9-817d-22012058abfb",
   "metadata": {},
   "source": [
    "### Train test split"
   ]
  },
  {
   "cell_type": "code",
   "execution_count": 7,
   "id": "faaff95d-0d28-4c23-8b7a-2d958670dbf5",
   "metadata": {},
   "outputs": [],
   "source": [
    "X_train, X_test, y_train, y_test = train_test_split(df[['review_content']], \n",
    "                                                    df[['score_1','score_2','score_3','score_4','score_5']], \n",
    "                                                    test_size=.2, \n",
    "                                                    random_state=0)"
   ]
  },
  {
   "cell_type": "code",
   "execution_count": 8,
   "id": "2dbf326b-45af-45af-9d6a-044b0fc6346c",
   "metadata": {},
   "outputs": [],
   "source": [
    "y_test.to_pickle('data/y_test_1hotenc.pkl')"
   ]
  },
  {
   "cell_type": "markdown",
   "id": "55eceabf-051b-4e24-83bc-8bac5f63b3ea",
   "metadata": {},
   "source": [
    "### Removing punctuation and tokenizing review_content column "
   ]
  },
  {
   "cell_type": "code",
   "execution_count": 11,
   "id": "271cebe1-1269-41a7-b805-f7f964599821",
   "metadata": {},
   "outputs": [],
   "source": [
    "X_train['review_cleaned'] = X_train['review_content'].apply(text_cleanup)\n",
    "X_test['review_cleaned'] = X_test['review_content'].apply(text_cleanup)"
   ]
  },
  {
   "cell_type": "code",
   "execution_count": 12,
   "id": "b1cf11d6-6ace-4c80-856f-6d0bc63e36c8",
   "metadata": {},
   "outputs": [
    {
     "data": {
      "text/html": [
       "<div>\n",
       "<style scoped>\n",
       "    .dataframe tbody tr th:only-of-type {\n",
       "        vertical-align: middle;\n",
       "    }\n",
       "\n",
       "    .dataframe tbody tr th {\n",
       "        vertical-align: top;\n",
       "    }\n",
       "\n",
       "    .dataframe thead th {\n",
       "        text-align: right;\n",
       "    }\n",
       "</style>\n",
       "<table border=\"1\" class=\"dataframe\">\n",
       "  <thead>\n",
       "    <tr style=\"text-align: right;\">\n",
       "      <th></th>\n",
       "      <th>review_content</th>\n",
       "      <th>review_cleaned</th>\n",
       "    </tr>\n",
       "  </thead>\n",
       "  <tbody>\n",
       "    <tr>\n",
       "      <th>7490</th>\n",
       "      <td>Good choices</td>\n",
       "      <td>good choices</td>\n",
       "    </tr>\n",
       "    <tr>\n",
       "      <th>17049</th>\n",
       "      <td>very helpful staff</td>\n",
       "      <td>very helpful staff</td>\n",
       "    </tr>\n",
       "    <tr>\n",
       "      <th>1919</th>\n",
       "      <td>This is a nice app, and fighting food waste is...</td>\n",
       "      <td>this is a nice app and fighting food waste is ...</td>\n",
       "    </tr>\n",
       "    <tr>\n",
       "      <th>12674</th>\n",
       "      <td>Really good</td>\n",
       "      <td>really good</td>\n",
       "    </tr>\n",
       "    <tr>\n",
       "      <th>10483</th>\n",
       "      <td>Great</td>\n",
       "      <td>great</td>\n",
       "    </tr>\n",
       "  </tbody>\n",
       "</table>\n",
       "</div>"
      ],
      "text/plain": [
       "                                          review_content  \\\n",
       "7490                                        Good choices   \n",
       "17049                                 very helpful staff   \n",
       "1919   This is a nice app, and fighting food waste is...   \n",
       "12674                                        Really good   \n",
       "10483                                              Great   \n",
       "\n",
       "                                          review_cleaned  \n",
       "7490                                       good choices   \n",
       "17049                                very helpful staff   \n",
       "1919   this is a nice app and fighting food waste is ...  \n",
       "12674                                       really good   \n",
       "10483                                             great   "
      ]
     },
     "execution_count": 12,
     "metadata": {},
     "output_type": "execute_result"
    }
   ],
   "source": [
    "X_train.head()"
   ]
  },
  {
   "cell_type": "markdown",
   "id": "52a30176-7b3e-4654-896e-c7d2b2f3c372",
   "metadata": {},
   "source": [
    "### Creating a dictionary with words that appear in reviews and an index\n",
    "Creation of an index for each word in the training review dataset so when passed through the embedding layer of the neural network there is a indexed associated with each word"
   ]
  },
  {
   "cell_type": "code",
   "execution_count": 14,
   "id": "6cd5724a-02b3-4ba4-8785-57ce93261891",
   "metadata": {},
   "outputs": [],
   "source": [
    "flat_review = \" \".join(X_train['review_cleaned'].values)\n",
    "flat_review = flat_review.lower().split()"
   ]
  },
  {
   "cell_type": "code",
   "execution_count": 15,
   "id": "e91b664c-027d-4f2e-a7cf-c3c0bff0b5d2",
   "metadata": {},
   "outputs": [
    {
     "data": {
      "text/plain": [
       "434840"
      ]
     },
     "execution_count": 15,
     "metadata": {},
     "output_type": "execute_result"
    }
   ],
   "source": [
    "len(flat_review)"
   ]
  },
  {
   "cell_type": "code",
   "execution_count": 16,
   "id": "d4773b50-35b2-4fae-af64-ca182bb98e5e",
   "metadata": {},
   "outputs": [],
   "source": [
    "unique_list = []\n",
    "for word in flat_review:\n",
    "    if word not in unique_list:\n",
    "        unique_list.append(word)"
   ]
  },
  {
   "cell_type": "code",
   "execution_count": 17,
   "id": "5f6c1ac1-5960-46d9-ae86-38cf66c38a47",
   "metadata": {},
   "outputs": [
    {
     "data": {
      "text/plain": [
       "14702"
      ]
     },
     "execution_count": 17,
     "metadata": {},
     "output_type": "execute_result"
    }
   ],
   "source": [
    "len(unique_list)"
   ]
  },
  {
   "cell_type": "code",
   "execution_count": 18,
   "id": "84c3ed15-eff3-4e66-b342-5f2225686467",
   "metadata": {},
   "outputs": [],
   "source": [
    "word_index_dict = {}\n",
    "for i in range(0,len(unique_list)):\n",
    "    word_index_dict[unique_list[i]] = i"
   ]
  },
  {
   "cell_type": "markdown",
   "id": "7587f41f-9d00-49cc-b532-c5e3ef6cd096",
   "metadata": {},
   "source": [
    "I added 4 other items to the dictionary that represented padding, the start of the review, unknown words, and unused words."
   ]
  },
  {
   "cell_type": "code",
   "execution_count": 19,
   "id": "507f48fb-6e2c-443d-aede-abd8ba0006eb",
   "metadata": {},
   "outputs": [],
   "source": [
    "word_index_dict = {k:(v+4) for k,v in word_index_dict.items()}\n",
    "word_index_dict['<PAD>'] = 0\n",
    "word_index_dict['<START>'] = 1\n",
    "word_index_dict['<UNK>'] = 2\n",
    "word_index_dict['<UNUSED>'] = 3"
   ]
  },
  {
   "cell_type": "markdown",
   "id": "84c554b4-c1b2-41ef-b796-b9b59ae86c88",
   "metadata": {},
   "source": [
    "### Indexing words in reviews using dictionary"
   ]
  },
  {
   "cell_type": "code",
   "execution_count": 20,
   "id": "30e75044-e624-4fbe-8d2f-def0f3c15691",
   "metadata": {},
   "outputs": [],
   "source": [
    "def index_review_words(text):\n",
    "    review_word_list = []\n",
    "    for word in text.lower().split():\n",
    "        if word in word_index_dict.keys():\n",
    "            review_word_list.append(word_index_dict[word])\n",
    "        else:\n",
    "            review_word_list.append(word_index_dict['<UNK>'])\n",
    "\n",
    "    return review_word_list "
   ]
  },
  {
   "cell_type": "code",
   "execution_count": 21,
   "id": "0ac6829e-76e0-4aba-9658-18d7649eb574",
   "metadata": {},
   "outputs": [],
   "source": [
    "X_train['preprocessed_review'] = X_train['review_cleaned'].apply(index_review_words)\n",
    "X_test['preprocessed_review'] = X_test['review_cleaned'].apply(index_review_words)"
   ]
  },
  {
   "cell_type": "code",
   "execution_count": 22,
   "id": "afb083b1-93c8-45e9-9941-56ec458c158e",
   "metadata": {},
   "outputs": [
    {
     "data": {
      "text/html": [
       "<div>\n",
       "<style scoped>\n",
       "    .dataframe tbody tr th:only-of-type {\n",
       "        vertical-align: middle;\n",
       "    }\n",
       "\n",
       "    .dataframe tbody tr th {\n",
       "        vertical-align: top;\n",
       "    }\n",
       "\n",
       "    .dataframe thead th {\n",
       "        text-align: right;\n",
       "    }\n",
       "</style>\n",
       "<table border=\"1\" class=\"dataframe\">\n",
       "  <thead>\n",
       "    <tr style=\"text-align: right;\">\n",
       "      <th></th>\n",
       "      <th>review_content</th>\n",
       "      <th>review_cleaned</th>\n",
       "      <th>preprocessed_review</th>\n",
       "    </tr>\n",
       "  </thead>\n",
       "  <tbody>\n",
       "    <tr>\n",
       "      <th>7490</th>\n",
       "      <td>Good choices</td>\n",
       "      <td>good choices</td>\n",
       "      <td>[4, 5]</td>\n",
       "    </tr>\n",
       "    <tr>\n",
       "      <th>17049</th>\n",
       "      <td>very helpful staff</td>\n",
       "      <td>very helpful staff</td>\n",
       "      <td>[6, 7, 8]</td>\n",
       "    </tr>\n",
       "    <tr>\n",
       "      <th>1919</th>\n",
       "      <td>This is a nice app, and fighting food waste is...</td>\n",
       "      <td>this is a nice app and fighting food waste is ...</td>\n",
       "      <td>[9, 10, 11, 12, 13, 14, 15, 16, 17, 10, 11, 4,...</td>\n",
       "    </tr>\n",
       "    <tr>\n",
       "      <th>12674</th>\n",
       "      <td>Really good</td>\n",
       "      <td>really good</td>\n",
       "      <td>[40, 4]</td>\n",
       "    </tr>\n",
       "    <tr>\n",
       "      <th>10483</th>\n",
       "      <td>Great</td>\n",
       "      <td>great</td>\n",
       "      <td>[41]</td>\n",
       "    </tr>\n",
       "  </tbody>\n",
       "</table>\n",
       "</div>"
      ],
      "text/plain": [
       "                                          review_content  \\\n",
       "7490                                        Good choices   \n",
       "17049                                 very helpful staff   \n",
       "1919   This is a nice app, and fighting food waste is...   \n",
       "12674                                        Really good   \n",
       "10483                                              Great   \n",
       "\n",
       "                                          review_cleaned  \\\n",
       "7490                                       good choices    \n",
       "17049                                very helpful staff    \n",
       "1919   this is a nice app and fighting food waste is ...   \n",
       "12674                                       really good    \n",
       "10483                                             great    \n",
       "\n",
       "                                     preprocessed_review  \n",
       "7490                                              [4, 5]  \n",
       "17049                                          [6, 7, 8]  \n",
       "1919   [9, 10, 11, 12, 13, 14, 15, 16, 17, 10, 11, 4,...  \n",
       "12674                                            [40, 4]  \n",
       "10483                                               [41]  "
      ]
     },
     "execution_count": 22,
     "metadata": {},
     "output_type": "execute_result"
    }
   ],
   "source": [
    "X_train.head()"
   ]
  },
  {
   "cell_type": "markdown",
   "id": "c750bb2e-a642-4ebf-af1b-1fe8504b4b1e",
   "metadata": {},
   "source": [
    "### Modelling\n",
    "\n",
    "Add Padding to Reviews and Capping Reviews to Length 250 Words"
   ]
  },
  {
   "cell_type": "code",
   "execution_count": 23,
   "id": "d6cb1e45-593a-4b26-a8ff-631d2405125e",
   "metadata": {},
   "outputs": [],
   "source": [
    "X_train = sequence.pad_sequences(X_train['preprocessed_review'],value=word_index_dict['<PAD>'],padding='post',maxlen=250)\n",
    "X_test = sequence.pad_sequences(X_test['preprocessed_review'],value=word_index_dict['<PAD>'],padding='post',maxlen=250)"
   ]
  },
  {
   "cell_type": "code",
   "execution_count": 27,
   "id": "3199cec1-9474-490b-a25a-d2870b53f373",
   "metadata": {},
   "outputs": [],
   "source": [
    "np.save('data/X_test',X_test)"
   ]
  },
  {
   "cell_type": "markdown",
   "id": "4652e2af-f126-40c6-a61e-b539701cce33",
   "metadata": {},
   "source": [
    "### Creating and Training Neural Network Model\n",
    "Here I created a neural network model with 1 embedding layer for the 17317 unique words (including the extra 4 from padding etc.), 1 dense layer with 16 nodes, and one output layer with 5 nodes for each score."
   ]
  },
  {
   "cell_type": "code",
   "execution_count": 28,
   "id": "94ed74b7-21af-4cc4-bd6f-3ace5937b2be",
   "metadata": {},
   "outputs": [
    {
     "name": "stderr",
     "output_type": "stream",
     "text": [
      "2022-01-02 23:59:06.543153: W tensorflow/stream_executor/platform/default/dso_loader.cc:64] Could not load dynamic library 'libcuda.so.1'; dlerror: libcuda.so.1: cannot open shared object file: No such file or directory\n",
      "2022-01-02 23:59:06.543245: W tensorflow/stream_executor/cuda/cuda_driver.cc:269] failed call to cuInit: UNKNOWN ERROR (303)\n",
      "2022-01-02 23:59:06.543311: I tensorflow/stream_executor/cuda/cuda_diagnostics.cc:156] kernel driver does not appear to be running on this host (roxane-Katana-GF66-11UC): /proc/driver/nvidia/version does not exist\n",
      "2022-01-02 23:59:06.547609: I tensorflow/core/platform/cpu_feature_guard.cc:151] This TensorFlow binary is optimized with oneAPI Deep Neural Network Library (oneDNN) to use the following CPU instructions in performance-critical operations:  AVX2 AVX512F FMA\n",
      "To enable them in other operations, rebuild TensorFlow with the appropriate compiler flags.\n"
     ]
    }
   ],
   "source": [
    "model = Sequential()\n",
    "model.add(Embedding(14702,16))\n",
    "model.add(GlobalAveragePooling1D())\n",
    "model.add(Dense(16,activation='relu'))\n",
    "model.add(Dense(5,activation='sigmoid'))"
   ]
  },
  {
   "cell_type": "code",
   "execution_count": null,
   "id": "a0fc1faf-ef51-453f-9a76-7843d86b76c0",
   "metadata": {},
   "outputs": [],
   "source": [
    "model.compile(optimizer='adam',loss='categorical_crossentropy',metrics=['accuracy'])"
   ]
  },
  {
   "cell_type": "code",
   "execution_count": null,
   "id": "997d4ab7-ee59-4ca3-9b35-b945b571cf85",
   "metadata": {},
   "outputs": [],
   "source": [
    "X_train, X_val, y_train, y_val = train_test_split(X_train,y_train,test_size=.2,random_state=42)"
   ]
  },
  {
   "cell_type": "code",
   "execution_count": null,
   "id": "a38c6b54-cd15-46ce-97c9-4fd504391d1d",
   "metadata": {},
   "outputs": [],
   "source": [
    "fitModel = model.fit(X_train,y_train,epochs=60,batch_size=250,validation_data=(X_val,y_val),verbose=0)"
   ]
  },
  {
   "cell_type": "markdown",
   "id": "97dba4b9-6a27-44cb-adab-1b5a0c49c976",
   "metadata": {},
   "source": [
    "### Testing model\n",
    "After looking at accuracy scores for the validation data (0.5568) and the test data (0.5710), we can see the neural network model performs well."
   ]
  },
  {
   "cell_type": "code",
   "execution_count": null,
   "id": "2f992b43-3d04-457f-9bcd-6153b052c7fb",
   "metadata": {},
   "outputs": [],
   "source": [
    "model.evaluate(X_val,y_val)"
   ]
  },
  {
   "cell_type": "code",
   "execution_count": null,
   "id": "4fda6328-8156-4187-8501-f4d9f4d0f594",
   "metadata": {},
   "outputs": [],
   "source": [
    "model.evaluate(X_test,y_test)"
   ]
  },
  {
   "cell_type": "markdown",
   "id": "660537e0-9203-40da-91d4-210673563f5d",
   "metadata": {},
   "source": [
    "### Test Confusion Matrix\n",
    "In order to create a confusion matrix, I have to reverse one hot encode the scores column and adjust the index for 0-4 back to 1-5."
   ]
  },
  {
   "cell_type": "markdown",
   "id": "d69b6732-5651-4642-badd-f3a70bb2fa47",
   "metadata": {},
   "source": [
    "#### Reverse Encode Target Into One Column for Confusion Matrix"
   ]
  },
  {
   "cell_type": "code",
   "execution_count": null,
   "id": "7c4029cb-e12a-4103-a5f6-03ab0d71ac70",
   "metadata": {},
   "outputs": [],
   "source": [
    "reverse_encode(y_test)"
   ]
  },
  {
   "cell_type": "code",
   "execution_count": null,
   "id": "1718acea-ba7b-4aaa-a859-7f5d4024a80e",
   "metadata": {},
   "outputs": [],
   "source": [
    "reverse_encode(y_val)"
   ]
  },
  {
   "cell_type": "code",
   "execution_count": null,
   "id": "b227e9bf-6022-4249-9a9b-1bedb1460a4f",
   "metadata": {},
   "outputs": [],
   "source": [
    "y_test_predicted = add_one_argmax_score(np.argmax(model.predict(X_test),axis=1))"
   ]
  },
  {
   "cell_type": "markdown",
   "id": "3820c851-63ee-4bab-814f-2dcb0686710b",
   "metadata": {},
   "source": [
    "#### Saving Neural Network Preprocessed y Data"
   ]
  },
  {
   "cell_type": "code",
   "execution_count": null,
   "id": "f96b0702-a020-4d09-83d0-e77fd1c1e2d4",
   "metadata": {},
   "outputs": [],
   "source": [
    "y_test.to_csv('data/y_test_nn_df.csv',index=False)\n",
    "np.save('data/y_test_predicted_array',y_test_predicted)"
   ]
  },
  {
   "cell_type": "markdown",
   "id": "b2bfe2dd-696b-41ca-9e2b-58932fcc0b22",
   "metadata": {
    "tags": []
   },
   "source": [
    "#### Creating Confusion Matrix for Test Data"
   ]
  },
  {
   "cell_type": "code",
   "execution_count": null,
   "id": "c9a7657d-2caa-4a6b-ac50-4bcb26a342ca",
   "metadata": {},
   "outputs": [],
   "source": [
    "test_cm = confusion_matrix(list(y_test['score']), y_test_predicted)\n",
    "conf_matrix(test_cm)"
   ]
  },
  {
   "cell_type": "markdown",
   "id": "687e8f80-0cca-433c-889e-c689c73b2582",
   "metadata": {},
   "source": [
    "### Saving Model"
   ]
  },
  {
   "cell_type": "code",
   "execution_count": null,
   "id": "c965ceb2-5582-4ce6-857f-bd947d253222",
   "metadata": {},
   "outputs": [],
   "source": [
    "model.save('models/Neural_Network.h5')"
   ]
  },
  {
   "cell_type": "code",
   "execution_count": null,
   "id": "a06bad12-f89d-432b-8681-ede4593a5c47",
   "metadata": {},
   "outputs": [],
   "source": [
    "pickle.dump(word_index_dict,open('data/word_index_dict.pkl','wb'))"
   ]
  }
 ],
 "metadata": {
  "kernelspec": {
   "display_name": "Python 3 (ipykernel)",
   "language": "python",
   "name": "python3"
  },
  "language_info": {
   "codemirror_mode": {
    "name": "ipython",
    "version": 3
   },
   "file_extension": ".py",
   "mimetype": "text/x-python",
   "name": "python",
   "nbconvert_exporter": "python",
   "pygments_lexer": "ipython3",
   "version": "3.9.7"
  }
 },
 "nbformat": 4,
 "nbformat_minor": 5
}
