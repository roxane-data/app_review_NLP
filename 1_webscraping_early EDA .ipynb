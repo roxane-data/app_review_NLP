{
 "cells": [
  {
   "cell_type": "markdown",
   "metadata": {
    "id": "pJAw-bBretUY"
   },
   "source": [
    "pip install google-play-scraper AND \n",
    "pip install app_store_scraper"
   ]
  },
  {
   "cell_type": "markdown",
   "metadata": {
    "id": "ky9Kv-ROSt4d"
   },
   "source": [
    "# Data extraction"
   ]
  },
  {
   "cell_type": "markdown",
   "metadata": {},
   "source": [
    "## Step 1: webscraping"
   ]
  },
  {
   "cell_type": "markdown",
   "metadata": {
    "id": "NQfbPaPi9nRX"
   },
   "source": [
    "Retrieving data from the 3 main feedback platforms of the 'too good to go' app:\n",
    "\n",
    "    Google Play\n",
    "    Apple Store\n",
    "    Trustpilot\n",
    "\n",
    "Then storing of the reviews of each platform into an unique file. \n",
    "\n",
    "Installation of pip install google-play-scraper to scrap app reviews"
   ]
  },
  {
   "cell_type": "code",
   "execution_count": 2,
   "metadata": {},
   "outputs": [
    {
     "name": "stdout",
     "output_type": "stream",
     "text": [
      "Collecting google-play-scraper\n",
      "  Downloading google-play-scraper-1.0.2.tar.gz (52 kB)\n",
      "     |████████████████████████████████| 52 kB 2.9 MB/s             \n",
      "\u001b[?25h  Preparing metadata (setup.py) ... \u001b[?25ldone\n",
      "\u001b[?25hBuilding wheels for collected packages: google-play-scraper\n",
      "  Building wheel for google-play-scraper (setup.py) ... \u001b[?25ldone\n",
      "\u001b[?25h  Created wheel for google-play-scraper: filename=google_play_scraper-1.0.2-py3-none-any.whl size=24393 sha256=67773f00ba714e624463eaa285c3c800f57a5302a01cb03d2494de159e3d8447\n",
      "  Stored in directory: /home/roxane/.cache/pip/wheels/b8/72/fa/8c7abdd259a9e1039b88e2c89c2b4f1282bdf32e3e916e7cb1\n",
      "Successfully built google-play-scraper\n",
      "Installing collected packages: google-play-scraper\n",
      "Successfully installed google-play-scraper-1.0.2\n"
     ]
    }
   ],
   "source": [
    "!pip install google-play-scraper\n",
    "#!pip install app_store_scraper"
   ]
  },
  {
   "cell_type": "code",
   "execution_count": 3,
   "metadata": {
    "id": "qEIEDtMC9oiZ"
   },
   "outputs": [],
   "source": [
    "# Import relevant libraries and packages\n",
    "import pandas as pd\n",
    "import numpy as np\n",
    "import pickle\n",
    "\n",
    "import requests\n",
    "from bs4 import BeautifulSoup\n",
    "import json\n",
    "\n",
    "from google_play_scraper import app\n",
    "from google_play_scraper import Sort, reviews_all\n",
    "from app_store_scraper import AppStore\n",
    "import snscrape.modules.twitter as sntwitter\n",
    "import matplotlib.pyplot as plt\n",
    "import seaborn as sns"
   ]
  },
  {
   "cell_type": "markdown",
   "metadata": {
    "id": "4rPDdf6F93mP"
   },
   "source": [
    "## **1. Google Play**\n",
    "\n",
    "google app id => \"com.app.tgtg\""
   ]
  },
  {
   "cell_type": "code",
   "execution_count": 4,
   "metadata": {
    "id": "ZPu-n8Nj9pQI"
   },
   "outputs": [],
   "source": [
    "# Retrieving app reviews from google play \n",
    "reviews_g = reviews_all(\n",
    "    'com.app.tgtg',\n",
    "    sleep_milliseconds=0, # defaults to 0\n",
    "    lang='en', # defaults to 'en'\n",
    "    country='uk', # 'uk'\n",
    "    sort=Sort.NEWEST, # since default is to Sort.MOST_RELEVANT\n",
    ")"
   ]
  },
  {
   "cell_type": "code",
   "execution_count": 5,
   "metadata": {
    "colab": {
     "base_uri": "https://localhost:8080/",
     "height": 556
    },
    "executionInfo": {
     "elapsed": 226,
     "status": "ok",
     "timestamp": 1639214305245,
     "user": {
      "displayName": "Roxane Ajavon",
      "photoUrl": "https://lh3.googleusercontent.com/a/default-user=s64",
      "userId": "10325748363259226548"
     },
     "user_tz": -60
    },
    "id": "sesNfdyx96Z7",
    "outputId": "ede42046-a8be-47c5-da7d-f8f3187e3c57"
   },
   "outputs": [
    {
     "data": {
      "text/html": [
       "<div>\n",
       "<style scoped>\n",
       "    .dataframe tbody tr th:only-of-type {\n",
       "        vertical-align: middle;\n",
       "    }\n",
       "\n",
       "    .dataframe tbody tr th {\n",
       "        vertical-align: top;\n",
       "    }\n",
       "\n",
       "    .dataframe thead th {\n",
       "        text-align: right;\n",
       "    }\n",
       "</style>\n",
       "<table border=\"1\" class=\"dataframe\">\n",
       "  <thead>\n",
       "    <tr style=\"text-align: right;\">\n",
       "      <th></th>\n",
       "      <th>reviewId</th>\n",
       "      <th>userName</th>\n",
       "      <th>userImage</th>\n",
       "      <th>content</th>\n",
       "      <th>score</th>\n",
       "      <th>thumbsUpCount</th>\n",
       "      <th>reviewCreatedVersion</th>\n",
       "      <th>at</th>\n",
       "      <th>replyContent</th>\n",
       "      <th>repliedAt</th>\n",
       "    </tr>\n",
       "  </thead>\n",
       "  <tbody>\n",
       "    <tr>\n",
       "      <th>0</th>\n",
       "      <td>gp:AOqpTOHzqWvh5saZMhM5gKtCSxMUgQ5tJ00lnEyCYyz...</td>\n",
       "      <td>Tammy Ranaldi</td>\n",
       "      <td>https://play-lh.googleusercontent.com/a/AATXAJ...</td>\n",
       "      <td>Great value for money. Food was still fresh an...</td>\n",
       "      <td>5</td>\n",
       "      <td>0</td>\n",
       "      <td>21.12.1</td>\n",
       "      <td>2021-12-29 17:10:58</td>\n",
       "      <td>None</td>\n",
       "      <td>NaT</td>\n",
       "    </tr>\n",
       "    <tr>\n",
       "      <th>1</th>\n",
       "      <td>gp:AOqpTOEEHpwaOoIyoFwfeDwzRM_G53EBlsWaZJWbGD1...</td>\n",
       "      <td>seven braincells</td>\n",
       "      <td>https://play-lh.googleusercontent.com/a-/AOh14...</td>\n",
       "      <td>occasionally a surprise bag is offered after t...</td>\n",
       "      <td>4</td>\n",
       "      <td>0</td>\n",
       "      <td>21.12.1</td>\n",
       "      <td>2021-12-29 16:29:27</td>\n",
       "      <td>None</td>\n",
       "      <td>NaT</td>\n",
       "    </tr>\n",
       "    <tr>\n",
       "      <th>2</th>\n",
       "      <td>gp:AOqpTOFvffMi1gXZp-qW_lW8qrnUoQg052oYZZO7CSw...</td>\n",
       "      <td>Derrill Dabkoski</td>\n",
       "      <td>https://play-lh.googleusercontent.com/a-/AOh14...</td>\n",
       "      <td>Well-designed app except they really need to a...</td>\n",
       "      <td>5</td>\n",
       "      <td>0</td>\n",
       "      <td>21.12.1</td>\n",
       "      <td>2021-12-29 15:19:48</td>\n",
       "      <td>None</td>\n",
       "      <td>NaT</td>\n",
       "    </tr>\n",
       "    <tr>\n",
       "      <th>3</th>\n",
       "      <td>gp:AOqpTOFtNh9KeWcwkLeE9PPmxn1ig9Kw0E1d_5dj7gm...</td>\n",
       "      <td>NatsuRai</td>\n",
       "      <td>https://play-lh.googleusercontent.com/a-/AOh14...</td>\n",
       "      <td>Thanks for the reply! It makes sense to not no...</td>\n",
       "      <td>1</td>\n",
       "      <td>6</td>\n",
       "      <td>21.12.1</td>\n",
       "      <td>2021-12-29 14:31:29</td>\n",
       "      <td>Hello, thank you for your feedback. Currently,...</td>\n",
       "      <td>2021-11-11 17:26:27</td>\n",
       "    </tr>\n",
       "    <tr>\n",
       "      <th>4</th>\n",
       "      <td>gp:AOqpTOHC0rZflHQTy3RFGqKkclDH-MQhddidPXr1UX2...</td>\n",
       "      <td>Elaine Gill</td>\n",
       "      <td>https://play-lh.googleusercontent.com/a-/AOh14...</td>\n",
       "      <td>A good buy will definitely use again</td>\n",
       "      <td>5</td>\n",
       "      <td>0</td>\n",
       "      <td>21.12.1</td>\n",
       "      <td>2021-12-29 11:13:52</td>\n",
       "      <td>None</td>\n",
       "      <td>NaT</td>\n",
       "    </tr>\n",
       "  </tbody>\n",
       "</table>\n",
       "</div>"
      ],
      "text/plain": [
       "                                            reviewId          userName  \\\n",
       "0  gp:AOqpTOHzqWvh5saZMhM5gKtCSxMUgQ5tJ00lnEyCYyz...     Tammy Ranaldi   \n",
       "1  gp:AOqpTOEEHpwaOoIyoFwfeDwzRM_G53EBlsWaZJWbGD1...  seven braincells   \n",
       "2  gp:AOqpTOFvffMi1gXZp-qW_lW8qrnUoQg052oYZZO7CSw...  Derrill Dabkoski   \n",
       "3  gp:AOqpTOFtNh9KeWcwkLeE9PPmxn1ig9Kw0E1d_5dj7gm...          NatsuRai   \n",
       "4  gp:AOqpTOHC0rZflHQTy3RFGqKkclDH-MQhddidPXr1UX2...       Elaine Gill   \n",
       "\n",
       "                                           userImage  \\\n",
       "0  https://play-lh.googleusercontent.com/a/AATXAJ...   \n",
       "1  https://play-lh.googleusercontent.com/a-/AOh14...   \n",
       "2  https://play-lh.googleusercontent.com/a-/AOh14...   \n",
       "3  https://play-lh.googleusercontent.com/a-/AOh14...   \n",
       "4  https://play-lh.googleusercontent.com/a-/AOh14...   \n",
       "\n",
       "                                             content  score  thumbsUpCount  \\\n",
       "0  Great value for money. Food was still fresh an...      5              0   \n",
       "1  occasionally a surprise bag is offered after t...      4              0   \n",
       "2  Well-designed app except they really need to a...      5              0   \n",
       "3  Thanks for the reply! It makes sense to not no...      1              6   \n",
       "4               A good buy will definitely use again      5              0   \n",
       "\n",
       "  reviewCreatedVersion                  at  \\\n",
       "0              21.12.1 2021-12-29 17:10:58   \n",
       "1              21.12.1 2021-12-29 16:29:27   \n",
       "2              21.12.1 2021-12-29 15:19:48   \n",
       "3              21.12.1 2021-12-29 14:31:29   \n",
       "4              21.12.1 2021-12-29 11:13:52   \n",
       "\n",
       "                                        replyContent           repliedAt  \n",
       "0                                               None                 NaT  \n",
       "1                                               None                 NaT  \n",
       "2                                               None                 NaT  \n",
       "3  Hello, thank you for your feedback. Currently,... 2021-11-11 17:26:27  \n",
       "4                                               None                 NaT  "
      ]
     },
     "execution_count": 5,
     "metadata": {},
     "output_type": "execute_result"
    }
   ],
   "source": [
    "# Converting reviews in pandas dataframe\n",
    "df_google = pd.DataFrame(np.array(reviews_g),columns=['review'])\n",
    "df_google = df_google.join(pd.DataFrame(df_google.pop('review').tolist()))\n",
    "df_google.head()"
   ]
  },
  {
   "cell_type": "code",
   "execution_count": 6,
   "metadata": {
    "id": "vXhVEjvFIK7D"
   },
   "outputs": [],
   "source": [
    "# Storing raw data in pickle format\n",
    "df_google.to_pickle('GooglePlayReview_TooGoodToGo.pkl')"
   ]
  },
  {
   "cell_type": "markdown",
   "metadata": {
    "colab": {
     "base_uri": "https://localhost:8080/",
     "height": 556
    },
    "executionInfo": {
     "elapsed": 193,
     "status": "ok",
     "timestamp": 1639214456405,
     "user": {
      "displayName": "Roxane Ajavon",
      "photoUrl": "https://lh3.googleusercontent.com/a/default-user=s64",
      "userId": "10325748363259226548"
     },
     "user_tz": -60
    },
    "id": "cuytdYtvIxcA",
    "outputId": "c0f1878e-fb1c-4e11-be7f-3cf65fea5b0c"
   },
   "source": [
    "# Importing doc back to standardize it into workable format\n",
    "df_google = \"data/GooglePlayReview_TooGoodToGo.pkl\" #path to be written\n",
    "\n",
    "with open(df_google, 'rb') as f:\n",
    "  df_google = pickle.load(f)\n",
    "\n",
    "df_google.head(5)"
   ]
  },
  {
   "cell_type": "code",
   "execution_count": 7,
   "metadata": {
    "colab": {
     "base_uri": "https://localhost:8080/"
    },
    "executionInfo": {
     "elapsed": 185,
     "status": "ok",
     "timestamp": 1639214464149,
     "user": {
      "displayName": "Roxane Ajavon",
      "photoUrl": "https://lh3.googleusercontent.com/a/default-user=s64",
      "userId": "10325748363259226548"
     },
     "user_tz": -60
    },
    "id": "7h5PgI45-DNu",
    "outputId": "f0d2a492-c15b-4b0e-dc61-b1a61b0f3524"
   },
   "outputs": [
    {
     "data": {
      "text/plain": [
       "(20092, 10)"
      ]
     },
     "execution_count": 7,
     "metadata": {},
     "output_type": "execute_result"
    }
   ],
   "source": [
    "df_google.shape"
   ]
  },
  {
   "cell_type": "code",
   "execution_count": 8,
   "metadata": {
    "id": "WnI_X6bdCiul"
   },
   "outputs": [],
   "source": [
    "# Dropping unnecessary columns\n",
    "df_google = df_google.drop(columns=['reviewId','userName', 'userImage', 'thumbsUpCount', 'reviewCreatedVersion','replyContent','repliedAt'])"
   ]
  },
  {
   "cell_type": "code",
   "execution_count": 9,
   "metadata": {
    "colab": {
     "base_uri": "https://localhost:8080/",
     "height": 206
    },
    "executionInfo": {
     "elapsed": 262,
     "status": "ok",
     "timestamp": 1638461906756,
     "user": {
      "displayName": "Virginie Boirel",
      "photoUrl": "https://lh3.googleusercontent.com/a/default-user=s64",
      "userId": "09734304838834625501"
     },
     "user_tz": -60
    },
    "id": "-hhayAKJFCJY",
    "outputId": "fc325b3b-c97a-4256-e4e1-676bce28cd94"
   },
   "outputs": [
    {
     "data": {
      "text/html": [
       "<div>\n",
       "<style scoped>\n",
       "    .dataframe tbody tr th:only-of-type {\n",
       "        vertical-align: middle;\n",
       "    }\n",
       "\n",
       "    .dataframe tbody tr th {\n",
       "        vertical-align: top;\n",
       "    }\n",
       "\n",
       "    .dataframe thead th {\n",
       "        text-align: right;\n",
       "    }\n",
       "</style>\n",
       "<table border=\"1\" class=\"dataframe\">\n",
       "  <thead>\n",
       "    <tr style=\"text-align: right;\">\n",
       "      <th></th>\n",
       "      <th>content</th>\n",
       "      <th>score</th>\n",
       "      <th>at</th>\n",
       "    </tr>\n",
       "  </thead>\n",
       "  <tbody>\n",
       "    <tr>\n",
       "      <th>0</th>\n",
       "      <td>Great value for money. Food was still fresh an...</td>\n",
       "      <td>5</td>\n",
       "      <td>2021-12-29 17:10:58</td>\n",
       "    </tr>\n",
       "    <tr>\n",
       "      <th>1</th>\n",
       "      <td>occasionally a surprise bag is offered after t...</td>\n",
       "      <td>4</td>\n",
       "      <td>2021-12-29 16:29:27</td>\n",
       "    </tr>\n",
       "    <tr>\n",
       "      <th>2</th>\n",
       "      <td>Well-designed app except they really need to a...</td>\n",
       "      <td>5</td>\n",
       "      <td>2021-12-29 15:19:48</td>\n",
       "    </tr>\n",
       "    <tr>\n",
       "      <th>3</th>\n",
       "      <td>Thanks for the reply! It makes sense to not no...</td>\n",
       "      <td>1</td>\n",
       "      <td>2021-12-29 14:31:29</td>\n",
       "    </tr>\n",
       "    <tr>\n",
       "      <th>4</th>\n",
       "      <td>A good buy will definitely use again</td>\n",
       "      <td>5</td>\n",
       "      <td>2021-12-29 11:13:52</td>\n",
       "    </tr>\n",
       "  </tbody>\n",
       "</table>\n",
       "</div>"
      ],
      "text/plain": [
       "                                             content  score  \\\n",
       "0  Great value for money. Food was still fresh an...      5   \n",
       "1  occasionally a surprise bag is offered after t...      4   \n",
       "2  Well-designed app except they really need to a...      5   \n",
       "3  Thanks for the reply! It makes sense to not no...      1   \n",
       "4               A good buy will definitely use again      5   \n",
       "\n",
       "                   at  \n",
       "0 2021-12-29 17:10:58  \n",
       "1 2021-12-29 16:29:27  \n",
       "2 2021-12-29 15:19:48  \n",
       "3 2021-12-29 14:31:29  \n",
       "4 2021-12-29 11:13:52  "
      ]
     },
     "execution_count": 9,
     "metadata": {},
     "output_type": "execute_result"
    }
   ],
   "source": [
    "# Checking dataframe\n",
    "df_google.head(5)"
   ]
  },
  {
   "cell_type": "code",
   "execution_count": 10,
   "metadata": {
    "id": "0S_3fGolG9a1"
   },
   "outputs": [],
   "source": [
    "# Renaming columns\n",
    "df_google.columns=['review_content','rating','date']"
   ]
  },
  {
   "cell_type": "code",
   "execution_count": 11,
   "metadata": {
    "id": "d5xCL9VqAX5u"
   },
   "outputs": [],
   "source": [
    "# Adding \"source\" column to put \"Google\"\n",
    "df_google['source'] = 'Google'"
   ]
  },
  {
   "cell_type": "code",
   "execution_count": 13,
   "metadata": {
    "colab": {
     "base_uri": "https://localhost:8080/"
    },
    "executionInfo": {
     "elapsed": 263,
     "status": "ok",
     "timestamp": 1638461921049,
     "user": {
      "displayName": "Virginie Boirel",
      "photoUrl": "https://lh3.googleusercontent.com/a/default-user=s64",
      "userId": "09734304838834625501"
     },
     "user_tz": -60
    },
    "id": "MdftpX90OR0f",
    "outputId": "70095c6f-aed6-4c64-8eeb-14ba81c5f93d"
   },
   "outputs": [
    {
     "name": "stdout",
     "output_type": "stream",
     "text": [
      "<class 'pandas.core.frame.DataFrame'>\n",
      "RangeIndex: 20092 entries, 0 to 20091\n",
      "Data columns (total 4 columns):\n",
      " #   Column          Non-Null Count  Dtype         \n",
      "---  ------          --------------  -----         \n",
      " 0   review_content  20092 non-null  object        \n",
      " 1   rating          20092 non-null  int64         \n",
      " 2   date            20092 non-null  datetime64[ns]\n",
      " 3   source          20092 non-null  object        \n",
      "dtypes: datetime64[ns](1), int64(1), object(2)\n",
      "memory usage: 628.0+ KB\n"
     ]
    }
   ],
   "source": [
    "# Checking dataframe\n",
    "df_google.info()"
   ]
  },
  {
   "cell_type": "markdown",
   "metadata": {
    "colab": {
     "base_uri": "https://localhost:8080/"
    },
    "executionInfo": {
     "elapsed": 278,
     "status": "ok",
     "timestamp": 1638461946242,
     "user": {
      "displayName": "Virginie Boirel",
      "photoUrl": "https://lh3.googleusercontent.com/a/default-user=s64",
      "userId": "09734304838834625501"
     },
     "user_tz": -60
    },
    "id": "fd8_eEY3OaoZ",
    "outputId": "d851cab7-81da-455f-dd87-8c56c7936de8"
   },
   "source": [
    "# Formatting date\n",
    "df_google['date'] = pd.to_datetime(df_google['date'], format='%Y-%m-%d %Hh%Mm%Ssec')\n",
    "\n",
    "# Formatting rating\n",
    "df_google['rating'].astype(int)"
   ]
  },
  {
   "cell_type": "code",
   "execution_count": 14,
   "metadata": {
    "colab": {
     "base_uri": "https://localhost:8080/"
    },
    "executionInfo": {
     "elapsed": 238,
     "status": "ok",
     "timestamp": 1638461955177,
     "user": {
      "displayName": "Virginie Boirel",
      "photoUrl": "https://lh3.googleusercontent.com/a/default-user=s64",
      "userId": "09734304838834625501"
     },
     "user_tz": -60
    },
    "id": "aNzGJjAm-GXW",
    "outputId": "41f03422-2d06-41dc-e0c3-d7f982e90950"
   },
   "outputs": [
    {
     "data": {
      "text/plain": [
       "review_content    0\n",
       "rating            0\n",
       "date              0\n",
       "source            0\n",
       "dtype: int64"
      ]
     },
     "execution_count": 14,
     "metadata": {},
     "output_type": "execute_result"
    }
   ],
   "source": [
    "# Checking ISNA\n",
    "df_google.isna().sum()"
   ]
  },
  {
   "cell_type": "code",
   "execution_count": 18,
   "metadata": {
    "colab": {
     "base_uri": "https://localhost:8080/"
    },
    "executionInfo": {
     "elapsed": 360,
     "status": "ok",
     "timestamp": 1638461958580,
     "user": {
      "displayName": "Virginie Boirel",
      "photoUrl": "https://lh3.googleusercontent.com/a/default-user=s64",
      "userId": "09734304838834625501"
     },
     "user_tz": -60
    },
    "id": "rXp8uQ9s-Gas",
    "outputId": "bd97a3cd-d411-4f39-8226-725dc9099217"
   },
   "outputs": [
    {
     "data": {
      "text/plain": [
       "0"
      ]
     },
     "execution_count": 18,
     "metadata": {},
     "output_type": "execute_result"
    }
   ],
   "source": [
    "# Checking duplicates \n",
    "df_google.duplicated().sum()"
   ]
  },
  {
   "cell_type": "code",
   "execution_count": 20,
   "metadata": {},
   "outputs": [
    {
     "data": {
      "image/png": "[encoded data removed]",
      "text/plain": [
       "<Figure size 2592x1440 with 1 Axes>"
      ]
     },
     "metadata": {
      "needs_background": "light"
     },
     "output_type": "display_data"
    }
   ],
   "source": [
    "plt.figure(figsize=(36,20))\n",
    "sns.countplot(x='rating',data= df_google)\n",
    "plt.show()"
   ]
  },
  {
   "cell_type": "markdown",
   "metadata": {
    "id": "_Us8ONeD-gr3"
   },
   "source": [
    "## **2. Apple Store**\n",
    "\n",
    "apple store app name => too-good-to-go-end-food-waste AND its id => 1060683933"
   ]
  },
  {
   "cell_type": "code",
   "execution_count": 21,
   "metadata": {
    "colab": {
     "base_uri": "https://localhost:8080/"
    },
    "executionInfo": {
     "elapsed": 19728,
     "status": "ok",
     "timestamp": 1639214854810,
     "user": {
      "displayName": "Roxane Ajavon",
      "photoUrl": "https://lh3.googleusercontent.com/a/default-user=s64",
      "userId": "10325748363259226548"
     },
     "user_tz": -60
    },
    "id": "R3RtzZmT-GiE",
    "outputId": "d19f0dc9-ac84-44e0-9cb4-2492b9423d09"
   },
   "outputs": [
    {
     "name": "stderr",
     "output_type": "stream",
     "text": [
      "2021-12-29 18:07:38,483 [INFO] Base - Initialised: AppStore('gb', 'too-good-to-go-end-food-waste', 1060683933)\n",
      "2021-12-29 18:07:38,484 [INFO] Base - Ready to fetch reviews from: https://apps.apple.com/gb/app/too-good-to-go-end-food-waste/id1060683933\n",
      "2021-12-29 18:07:43,519 [INFO] Base - [id:1060683933] Fetched 440 reviews (440 fetched in total)\n",
      "2021-12-29 18:07:48,803 [INFO] Base - [id:1060683933] Fetched 920 reviews (920 fetched in total)\n",
      "2021-12-29 18:07:54,210 [INFO] Base - [id:1060683933] Fetched 1380 reviews (1380 fetched in total)\n",
      "2021-12-29 18:07:59,494 [INFO] Base - [id:1060683933] Fetched 1860 reviews (1860 fetched in total)\n",
      "2021-12-29 18:08:20,011 [ERROR] Base - Something went wrong: HTTPSConnectionPool(host='amp-api.apps.apple.com', port=443): Max retries exceeded with url: /v1/catalog/gb/apps/1060683933/reviews?l=en-GB&offset=2000&limit=20&platform=web&additionalPlatforms=appletv%2Cipad%2Ciphone%2Cmac (Caused by ResponseError('too many 429 error responses'))\n",
      "2021-12-29 18:08:20,015 [INFO] Base - [id:1060683933] Fetched 2000 reviews (2000 fetched in total)\n"
     ]
    }
   ],
   "source": [
    "# Retrieving app reviews from apple store\n",
    "apple_r = AppStore(country=\"gb\", app_name=\"too-good-to-go-end-food-waste\",app_id=1060683933)\n",
    "apple_r.review(how_many=10000)"
   ]
  },
  {
   "cell_type": "code",
   "execution_count": 22,
   "metadata": {
    "colab": {
     "base_uri": "https://localhost:8080/",
     "height": 519
    },
    "executionInfo": {
     "elapsed": 202,
     "status": "ok",
     "timestamp": 1639214691108,
     "user": {
      "displayName": "Roxane Ajavon",
      "photoUrl": "https://lh3.googleusercontent.com/a/default-user=s64",
      "userId": "10325748363259226548"
     },
     "user_tz": -60
    },
    "id": "_J2Ae2-HihQA",
    "outputId": "0972136e-3f11-48a5-9a3f-00084356eb95"
   },
   "outputs": [
    {
     "data": {
      "text/html": [
       "<div>\n",
       "<style scoped>\n",
       "    .dataframe tbody tr th:only-of-type {\n",
       "        vertical-align: middle;\n",
       "    }\n",
       "\n",
       "    .dataframe tbody tr th {\n",
       "        vertical-align: top;\n",
       "    }\n",
       "\n",
       "    .dataframe thead th {\n",
       "        text-align: right;\n",
       "    }\n",
       "</style>\n",
       "<table border=\"1\" class=\"dataframe\">\n",
       "  <thead>\n",
       "    <tr style=\"text-align: right;\">\n",
       "      <th></th>\n",
       "      <th>review</th>\n",
       "      <th>userName</th>\n",
       "      <th>title</th>\n",
       "      <th>date</th>\n",
       "      <th>rating</th>\n",
       "      <th>isEdited</th>\n",
       "      <th>developerResponse</th>\n",
       "    </tr>\n",
       "  </thead>\n",
       "  <tbody>\n",
       "    <tr>\n",
       "      <th>0</th>\n",
       "      <td>I have had this app for a while but it’s took ...</td>\n",
       "      <td>Jay shake</td>\n",
       "      <td>Not that great to go more like</td>\n",
       "      <td>2021-02-27 15:09:54</td>\n",
       "      <td>5</td>\n",
       "      <td>False</td>\n",
       "      <td>NaN</td>\n",
       "    </tr>\n",
       "    <tr>\n",
       "      <th>1</th>\n",
       "      <td>This was the first time using the app. I was a...</td>\n",
       "      <td>Ck1TWO</td>\n",
       "      <td>Barley Farm - Eccles</td>\n",
       "      <td>2020-09-28 21:50:36</td>\n",
       "      <td>5</td>\n",
       "      <td>False</td>\n",
       "      <td>NaN</td>\n",
       "    </tr>\n",
       "    <tr>\n",
       "      <th>2</th>\n",
       "      <td>I like this idea, sometimes we get some great ...</td>\n",
       "      <td>mobilebob2</td>\n",
       "      <td>Mixed review</td>\n",
       "      <td>2021-11-04 16:43:02</td>\n",
       "      <td>5</td>\n",
       "      <td>False</td>\n",
       "      <td>NaN</td>\n",
       "    </tr>\n",
       "    <tr>\n",
       "      <th>3</th>\n",
       "      <td>Just got the app really so I don’t have much t...</td>\n",
       "      <td>AnActualPoolPlayer</td>\n",
       "      <td>Good idea in theory, but flawed</td>\n",
       "      <td>2019-09-07 11:44:36</td>\n",
       "      <td>1</td>\n",
       "      <td>False</td>\n",
       "      <td>{'id': 10585622, 'body': 'Hi there,\n",
       "\n",
       "We're sor...</td>\n",
       "    </tr>\n",
       "    <tr>\n",
       "      <th>4</th>\n",
       "      <td>Used the app for the first time today and was ...</td>\n",
       "      <td>Ceilidh279</td>\n",
       "      <td>Outstanding!</td>\n",
       "      <td>2019-09-07 17:21:51</td>\n",
       "      <td>5</td>\n",
       "      <td>False</td>\n",
       "      <td>NaN</td>\n",
       "    </tr>\n",
       "  </tbody>\n",
       "</table>\n",
       "</div>"
      ],
      "text/plain": [
       "                                              review            userName  \\\n",
       "0  I have had this app for a while but it’s took ...           Jay shake   \n",
       "1  This was the first time using the app. I was a...              Ck1TWO   \n",
       "2  I like this idea, sometimes we get some great ...          mobilebob2   \n",
       "3  Just got the app really so I don’t have much t...  AnActualPoolPlayer   \n",
       "4  Used the app for the first time today and was ...          Ceilidh279   \n",
       "\n",
       "                             title                date  rating  isEdited  \\\n",
       "0   Not that great to go more like 2021-02-27 15:09:54       5     False   \n",
       "1             Barley Farm - Eccles 2020-09-28 21:50:36       5     False   \n",
       "2                     Mixed review 2021-11-04 16:43:02       5     False   \n",
       "3  Good idea in theory, but flawed 2019-09-07 11:44:36       1     False   \n",
       "4                     Outstanding! 2019-09-07 17:21:51       5     False   \n",
       "\n",
       "                                   developerResponse  \n",
       "0                                                NaN  \n",
       "1                                                NaN  \n",
       "2                                                NaN  \n",
       "3  {'id': 10585622, 'body': 'Hi there,\n",
       "\n",
       "We're sor...  \n",
       "4                                                NaN  "
      ]
     },
     "execution_count": 22,
     "metadata": {},
     "output_type": "execute_result"
    }
   ],
   "source": [
    "# Converting format (JSON to Pandas Dataframe)\n",
    "apple = pd.DataFrame(np.array(apple_r.reviews),columns=['review'])\n",
    "df_apple = apple.join(pd.DataFrame(apple.pop('review').tolist()))\n",
    "df_apple.head()"
   ]
  },
  {
   "cell_type": "code",
   "execution_count": 23,
   "metadata": {
    "id": "kY_Q0gUl-qI2"
   },
   "outputs": [],
   "source": [
    "# Storing raw data in pickle format\n",
    "df_apple.to_pickle('AppleStoreReview_TooGoodToGo.pkl')"
   ]
  },
  {
   "cell_type": "markdown",
   "metadata": {
    "colab": {
     "base_uri": "https://localhost:8080/",
     "height": 519
    },
    "executionInfo": {
     "elapsed": 219,
     "status": "ok",
     "timestamp": 1639214727235,
     "user": {
      "displayName": "Roxane Ajavon",
      "photoUrl": "https://lh3.googleusercontent.com/a/default-user=s64",
      "userId": "10325748363259226548"
     },
     "user_tz": -60
    },
    "id": "3H_L7bOk-qWH",
    "outputId": "5ddadd6c-eeed-4db6-8248-9486f5d8aefa"
   },
   "source": [
    "# Importing doc back to standardize it into workable format\n",
    "df_apple = \"data/AppleStoreReview_TooGoodToGo.pkl\" #path to be written\n",
    "\n",
    "with open(df_apple, 'rb') as f:\n",
    "    df_apple = pickle.load(f)\n",
    "\n",
    "df_apple.head(5)"
   ]
  },
  {
   "cell_type": "code",
   "execution_count": 24,
   "metadata": {
    "colab": {
     "base_uri": "https://localhost:8080/"
    },
    "executionInfo": {
     "elapsed": 199,
     "status": "ok",
     "timestamp": 1639214732125,
     "user": {
      "displayName": "Roxane Ajavon",
      "photoUrl": "https://lh3.googleusercontent.com/a/default-user=s64",
      "userId": "10325748363259226548"
     },
     "user_tz": -60
    },
    "id": "uuX4_QGuKb0g",
    "outputId": "4eb7a741-bc51-4f32-a94a-c051b3c1d68d"
   },
   "outputs": [
    {
     "data": {
      "text/plain": [
       "(2000, 7)"
      ]
     },
     "execution_count": 24,
     "metadata": {},
     "output_type": "execute_result"
    }
   ],
   "source": [
    "df_apple.shape"
   ]
  },
  {
   "cell_type": "code",
   "execution_count": 25,
   "metadata": {
    "id": "505JsPdL9s3j"
   },
   "outputs": [],
   "source": [
    "# to concatenate Title & review content\n",
    "df_apple['review_content'] = df_apple['title'] + ' ' + df_apple['review']"
   ]
  },
  {
   "cell_type": "code",
   "execution_count": 26,
   "metadata": {
    "id": "tQOWNjkgKb4X"
   },
   "outputs": [],
   "source": [
    "# Dropping unnecessary columns\n",
    "df_apple = df_apple.drop(columns=['review','userName', 'isEdited','title','developerResponse'])"
   ]
  },
  {
   "cell_type": "code",
   "execution_count": 28,
   "metadata": {
    "id": "BlldX62I_kky"
   },
   "outputs": [],
   "source": [
    "# Reordering columns\n",
    "df_apple = df_apple[['review_content', 'rating', 'date']]"
   ]
  },
  {
   "cell_type": "code",
   "execution_count": 30,
   "metadata": {
    "id": "2UomSm1SKcED"
   },
   "outputs": [],
   "source": [
    "# Adding \"source\" column to put \"Apple\"\n",
    "df_apple['source'] = 'Apple'"
   ]
  },
  {
   "cell_type": "code",
   "execution_count": 31,
   "metadata": {
    "colab": {
     "base_uri": "https://localhost:8080/",
     "height": 206
    },
    "executionInfo": {
     "elapsed": 289,
     "status": "ok",
     "timestamp": 1638462898727,
     "user": {
      "displayName": "Virginie Boirel",
      "photoUrl": "https://lh3.googleusercontent.com/a/default-user=s64",
      "userId": "09734304838834625501"
     },
     "user_tz": -60
    },
    "id": "TQlLHR4oOqeg",
    "outputId": "f0297170-e5e7-4198-cf65-7d66d12d907a"
   },
   "outputs": [
    {
     "data": {
      "text/html": [
       "<div>\n",
       "<style scoped>\n",
       "    .dataframe tbody tr th:only-of-type {\n",
       "        vertical-align: middle;\n",
       "    }\n",
       "\n",
       "    .dataframe tbody tr th {\n",
       "        vertical-align: top;\n",
       "    }\n",
       "\n",
       "    .dataframe thead th {\n",
       "        text-align: right;\n",
       "    }\n",
       "</style>\n",
       "<table border=\"1\" class=\"dataframe\">\n",
       "  <thead>\n",
       "    <tr style=\"text-align: right;\">\n",
       "      <th></th>\n",
       "      <th>review_content</th>\n",
       "      <th>rating</th>\n",
       "      <th>date</th>\n",
       "      <th>source</th>\n",
       "    </tr>\n",
       "  </thead>\n",
       "  <tbody>\n",
       "    <tr>\n",
       "      <th>0</th>\n",
       "      <td>Not that great to go more like I have had this...</td>\n",
       "      <td>5</td>\n",
       "      <td>2021-02-27 15:09:54</td>\n",
       "      <td>Apple</td>\n",
       "    </tr>\n",
       "    <tr>\n",
       "      <th>1</th>\n",
       "      <td>Barley Farm - Eccles This was the first time u...</td>\n",
       "      <td>5</td>\n",
       "      <td>2020-09-28 21:50:36</td>\n",
       "      <td>Apple</td>\n",
       "    </tr>\n",
       "    <tr>\n",
       "      <th>2</th>\n",
       "      <td>Mixed review I like this idea, sometimes we ge...</td>\n",
       "      <td>5</td>\n",
       "      <td>2021-11-04 16:43:02</td>\n",
       "      <td>Apple</td>\n",
       "    </tr>\n",
       "    <tr>\n",
       "      <th>3</th>\n",
       "      <td>Good idea in theory, but flawed Just got the a...</td>\n",
       "      <td>1</td>\n",
       "      <td>2019-09-07 11:44:36</td>\n",
       "      <td>Apple</td>\n",
       "    </tr>\n",
       "    <tr>\n",
       "      <th>4</th>\n",
       "      <td>Outstanding! Used the app for the first time t...</td>\n",
       "      <td>5</td>\n",
       "      <td>2019-09-07 17:21:51</td>\n",
       "      <td>Apple</td>\n",
       "    </tr>\n",
       "  </tbody>\n",
       "</table>\n",
       "</div>"
      ],
      "text/plain": [
       "                                      review_content  rating  \\\n",
       "0  Not that great to go more like I have had this...       5   \n",
       "1  Barley Farm - Eccles This was the first time u...       5   \n",
       "2  Mixed review I like this idea, sometimes we ge...       5   \n",
       "3  Good idea in theory, but flawed Just got the a...       1   \n",
       "4  Outstanding! Used the app for the first time t...       5   \n",
       "\n",
       "                 date source  \n",
       "0 2021-02-27 15:09:54  Apple  \n",
       "1 2020-09-28 21:50:36  Apple  \n",
       "2 2021-11-04 16:43:02  Apple  \n",
       "3 2019-09-07 11:44:36  Apple  \n",
       "4 2019-09-07 17:21:51  Apple  "
      ]
     },
     "execution_count": 31,
     "metadata": {},
     "output_type": "execute_result"
    }
   ],
   "source": [
    "# Checking dataframe\n",
    "df_apple.head(5)"
   ]
  },
  {
   "cell_type": "code",
   "execution_count": 32,
   "metadata": {
    "colab": {
     "base_uri": "https://localhost:8080/"
    },
    "executionInfo": {
     "elapsed": 252,
     "status": "ok",
     "timestamp": 1638462942578,
     "user": {
      "displayName": "Virginie Boirel",
      "photoUrl": "https://lh3.googleusercontent.com/a/default-user=s64",
      "userId": "09734304838834625501"
     },
     "user_tz": -60
    },
    "id": "S6q8VLMCOq2U",
    "outputId": "12cd24fe-fc97-431d-cee4-89034c306554"
   },
   "outputs": [
    {
     "name": "stdout",
     "output_type": "stream",
     "text": [
      "<class 'pandas.core.frame.DataFrame'>\n",
      "RangeIndex: 2000 entries, 0 to 1999\n",
      "Data columns (total 4 columns):\n",
      " #   Column          Non-Null Count  Dtype         \n",
      "---  ------          --------------  -----         \n",
      " 0   review_content  2000 non-null   object        \n",
      " 1   rating          2000 non-null   int64         \n",
      " 2   date            2000 non-null   datetime64[ns]\n",
      " 3   source          2000 non-null   object        \n",
      "dtypes: datetime64[ns](1), int64(1), object(2)\n",
      "memory usage: 62.6+ KB\n"
     ]
    }
   ],
   "source": [
    "# Check new format\n",
    "df_apple.info()"
   ]
  },
  {
   "cell_type": "code",
   "execution_count": 33,
   "metadata": {
    "colab": {
     "base_uri": "https://localhost:8080/"
    },
    "executionInfo": {
     "elapsed": 209,
     "status": "ok",
     "timestamp": 1638462975731,
     "user": {
      "displayName": "Virginie Boirel",
      "photoUrl": "https://lh3.googleusercontent.com/a/default-user=s64",
      "userId": "09734304838834625501"
     },
     "user_tz": -60
    },
    "id": "Erk78Bng-qcv",
    "outputId": "bbdeb3e1-5ec6-4f6e-d401-98956d671b33"
   },
   "outputs": [
    {
     "data": {
      "text/plain": [
       "review_content    0\n",
       "rating            0\n",
       "date              0\n",
       "source            0\n",
       "dtype: int64"
      ]
     },
     "execution_count": 33,
     "metadata": {},
     "output_type": "execute_result"
    }
   ],
   "source": [
    "# Checking ISNA\n",
    "df_apple.isna().sum()"
   ]
  },
  {
   "cell_type": "code",
   "execution_count": 34,
   "metadata": {
    "colab": {
     "base_uri": "https://localhost:8080/"
    },
    "executionInfo": {
     "elapsed": 299,
     "status": "ok",
     "timestamp": 1638462979154,
     "user": {
      "displayName": "Virginie Boirel",
      "photoUrl": "https://lh3.googleusercontent.com/a/default-user=s64",
      "userId": "09734304838834625501"
     },
     "user_tz": -60
    },
    "id": "OJX1jgrm-qhf",
    "outputId": "a719112e-8bbb-4467-9400-2886afb8fea7"
   },
   "outputs": [
    {
     "data": {
      "text/plain": [
       "0"
      ]
     },
     "execution_count": 34,
     "metadata": {},
     "output_type": "execute_result"
    }
   ],
   "source": [
    "# Checking duplicates \n",
    "df_apple.duplicated().sum()"
   ]
  },
  {
   "cell_type": "code",
   "execution_count": 35,
   "metadata": {},
   "outputs": [
    {
     "data": {
      "image/png": "[encoded data removed]",
      "text/plain": [
       "<Figure size 2592x1440 with 1 Axes>"
      ]
     },
     "metadata": {
      "needs_background": "light"
     },
     "output_type": "display_data"
    }
   ],
   "source": [
    "plt.figure(figsize=(36,20))\n",
    "sns.countplot(x='rating',data= df_apple)\n",
    "plt.show()"
   ]
  },
  {
   "cell_type": "markdown",
   "metadata": {
    "id": "J21Lsk67-ncz"
   },
   "source": [
    "## **3. Trustpilot**"
   ]
  },
  {
   "cell_type": "code",
   "execution_count": 36,
   "metadata": {
    "colab": {
     "base_uri": "https://localhost:8080/"
    },
    "executionInfo": {
     "elapsed": 2130,
     "status": "ok",
     "timestamp": 1639214895107,
     "user": {
      "displayName": "Roxane Ajavon",
      "photoUrl": "https://lh3.googleusercontent.com/a/default-user=s64",
      "userId": "10325748363259226548"
     },
     "user_tz": -60
    },
    "id": "0mDco5pI-ywd",
    "outputId": "08848f77-a1b1-4dea-caa2-534f49c3d495"
   },
   "outputs": [
    {
     "data": {
      "text/plain": [
       "200"
      ]
     },
     "execution_count": 36,
     "metadata": {},
     "output_type": "execute_result"
    }
   ],
   "source": [
    "# Retrieving app reviews from trustpilot website\n",
    "headers = {\n",
    "    'User-Agent': 'Mozilla/5.0 (X11; Ubuntu; Linux x86_64; rv:93.0) Gecko/20100101 Firefox/93.0'\n",
    "}\n",
    "response = requests.get('https://uk.trustpilot.com/review/toogoodtogo.com?page=2', headers=headers)\n",
    "response.status_code"
   ]
  },
  {
   "cell_type": "code",
   "execution_count": 37,
   "metadata": {
    "colab": {
     "base_uri": "https://localhost:8080/"
    },
    "executionInfo": {
     "elapsed": 23,
     "status": "ok",
     "timestamp": 1638462994373,
     "user": {
      "displayName": "Virginie Boirel",
      "photoUrl": "https://lh3.googleusercontent.com/a/default-user=s64",
      "userId": "09734304838834625501"
     },
     "user_tz": -60
    },
    "id": "n1d7wF-5QIpP",
    "outputId": "d8fafa28-c6d7-4176-9314-694950303ba9"
   },
   "outputs": [
    {
     "data": {
      "text/plain": [
       "{'id': '61b11d8c2b49257fe29a4648',\n",
       " 'filtered': False,\n",
       " 'text': 'Made an order with Co op Erdington, it was really bad, the value was way below what i paid, im an adult and they gave me baby ready meals, the fresh carrots had gone off, what i thought was a good has changed my mind, i had to throw most of it away, so defeated the object',\n",
       " 'rating': 1,\n",
       " 'labels': {'merged': None,\n",
       "  'verification': {'isVerified': False,\n",
       "   'createdDateTime': '2021-12-08T21:03:08.000Z',\n",
       "   'reviewSourceName': 'Organic',\n",
       "   'verificationSource': 'invitation',\n",
       "   'verificationLevel': 'not-verified'}},\n",
       " 'title': 'Made an order with Co op Erdington',\n",
       " 'likes': 0,\n",
       " 'dates': {'experiencedDate': None,\n",
       "  'publishedDate': '2021-12-08T21:03:08.000Z',\n",
       "  'updatedDate': None},\n",
       " 'report': None,\n",
       " 'hasUnhandledReports': False,\n",
       " 'consumer': {'id': '5ea0ad5650943e2497a97d5d',\n",
       "  'displayName': 'Harjote Soor',\n",
       "  'imageUrl': '',\n",
       "  'numberOfReviews': 3,\n",
       "  'countryCode': 'GB',\n",
       "  'hasReviewFacebookFriend': False,\n",
       "  'isDirectFacebookFriend': False},\n",
       " 'reply': {'message': \"Hi Harjote,\\n\\nThanks for getting in touch and for fighting food waste with us.\\n\\nWe'd love to chat about your experiences. Please get in touch via the Help Centre in the Too Good To Go app, or fill out this contact form: Bit.ly/tgtgcontactus - one of the team will get back to you shortly.\\n\\nAll the best,\\n\\nToo Good To Go\",\n",
       "  'publishedDate': '2021-12-18T15:50:02.863Z',\n",
       "  'updatedDate': None},\n",
       " 'consumersReviewCountOnSameDomain': 1,\n",
       " 'consumersReviewCountOnSameLocation': 0,\n",
       " 'productReviews': [],\n",
       " 'language': 'en',\n",
       " 'location': None}"
      ]
     },
     "execution_count": 37,
     "metadata": {},
     "output_type": "execute_result"
    }
   ],
   "source": [
    "soup = BeautifulSoup(response.content)\n",
    "data = json.loads(soup.find('script', type='application/json').string)\n",
    "reviews_t = data[\"props\"][\"pageProps\"][\"reviews\"]\n",
    "\n",
    "sample_reply = reviews_t[0]\n",
    "sample_reply"
   ]
  },
  {
   "cell_type": "code",
   "execution_count": 38,
   "metadata": {
    "id": "zpt07FK1QIWy"
   },
   "outputs": [],
   "source": [
    "#collecting all the info of the review we might need to process after checking it\n",
    "reviewsText = []\n",
    "reviewsTitle = []\n",
    "ratings = []\n",
    "publishedDate = []\n",
    "\n",
    "\n",
    "for i in range(1,75):\n",
    "    url = \"https://uk.trustpilot.com/review/toogoodtogo.com?page={}\".format(i)\n",
    "    response = requests.get(url, headers=headers)\n",
    "    soup = BeautifulSoup(response.content)\n",
    "    data = json.loads(soup.find('script', type='application/json').string)\n",
    "    reviews_t = data[\"props\"][\"pageProps\"][\"reviews\"]\n",
    "    for review in reviews_t:\n",
    "        reviewsTitle.append(review['title'])\n",
    "        reviewsText.append(review['text'])\n",
    "        ratings.append(review['rating'])\n",
    "        publishedDate.append(review['dates']['publishedDate'])"
   ]
  },
  {
   "cell_type": "code",
   "execution_count": 39,
   "metadata": {
    "id": "IlmX6MyBQIjV"
   },
   "outputs": [],
   "source": [
    "# Converting reviews in pandas dataframe\n",
    "df_trust = pd.DataFrame(np.column_stack([ratings, publishedDate, reviewsTitle, reviewsText]), \n",
    "                               columns=['rating', 'date', 'title', 'content'])"
   ]
  },
  {
   "cell_type": "code",
   "execution_count": 40,
   "metadata": {
    "colab": {
     "base_uri": "https://localhost:8080/",
     "height": 380
    },
    "executionInfo": {
     "elapsed": 211,
     "status": "ok",
     "timestamp": 1639215318328,
     "user": {
      "displayName": "Roxane Ajavon",
      "photoUrl": "https://lh3.googleusercontent.com/a/default-user=s64",
      "userId": "10325748363259226548"
     },
     "user_tz": -60
    },
    "id": "K938K6xn2HU1",
    "outputId": "f0f0ff10-d5d1-4e20-c289-0cc14420ef12"
   },
   "outputs": [
    {
     "data": {
      "text/html": [
       "<div>\n",
       "<style scoped>\n",
       "    .dataframe tbody tr th:only-of-type {\n",
       "        vertical-align: middle;\n",
       "    }\n",
       "\n",
       "    .dataframe tbody tr th {\n",
       "        vertical-align: top;\n",
       "    }\n",
       "\n",
       "    .dataframe thead th {\n",
       "        text-align: right;\n",
       "    }\n",
       "</style>\n",
       "<table border=\"1\" class=\"dataframe\">\n",
       "  <thead>\n",
       "    <tr style=\"text-align: right;\">\n",
       "      <th></th>\n",
       "      <th>rating</th>\n",
       "      <th>date</th>\n",
       "      <th>title</th>\n",
       "      <th>content</th>\n",
       "    </tr>\n",
       "  </thead>\n",
       "  <tbody>\n",
       "    <tr>\n",
       "      <th>0</th>\n",
       "      <td>5</td>\n",
       "      <td>2021-12-29T17:20:29.000Z</td>\n",
       "      <td>Never been let down yet!</td>\n",
       "      <td>Never been let down yet!\\nBlackpool....\\nFavou...</td>\n",
       "    </tr>\n",
       "    <tr>\n",
       "      <th>1</th>\n",
       "      <td>1</td>\n",
       "      <td>2021-12-29T17:04:40.000Z</td>\n",
       "      <td>Surprise but no bag!</td>\n",
       "      <td>I ordered a surprise bag from a restaurant.  P...</td>\n",
       "    </tr>\n",
       "    <tr>\n",
       "      <th>2</th>\n",
       "      <td>1</td>\n",
       "      <td>2021-12-28T21:14:18.000Z</td>\n",
       "      <td>The shelf date on all of the item…</td>\n",
       "      <td>The shelf date on all of the item package was ...</td>\n",
       "    </tr>\n",
       "    <tr>\n",
       "      <th>3</th>\n",
       "      <td>1</td>\n",
       "      <td>2021-12-28T19:25:29.000Z</td>\n",
       "      <td>Ordered a too good to go this is my…</td>\n",
       "      <td>Ordered a too good to go this is my second tim...</td>\n",
       "    </tr>\n",
       "    <tr>\n",
       "      <th>4</th>\n",
       "      <td>1</td>\n",
       "      <td>2021-12-28T16:09:24.000Z</td>\n",
       "      <td>Disappointing app</td>\n",
       "      <td>This app is very promising but this is the 3rd...</td>\n",
       "    </tr>\n",
       "  </tbody>\n",
       "</table>\n",
       "</div>"
      ],
      "text/plain": [
       "  rating                      date                                 title  \\\n",
       "0      5  2021-12-29T17:20:29.000Z              Never been let down yet!   \n",
       "1      1  2021-12-29T17:04:40.000Z                  Surprise but no bag!   \n",
       "2      1  2021-12-28T21:14:18.000Z    The shelf date on all of the item…   \n",
       "3      1  2021-12-28T19:25:29.000Z  Ordered a too good to go this is my…   \n",
       "4      1  2021-12-28T16:09:24.000Z                     Disappointing app   \n",
       "\n",
       "                                             content  \n",
       "0  Never been let down yet!\\nBlackpool....\\nFavou...  \n",
       "1  I ordered a surprise bag from a restaurant.  P...  \n",
       "2  The shelf date on all of the item package was ...  \n",
       "3  Ordered a too good to go this is my second tim...  \n",
       "4  This app is very promising but this is the 3rd...  "
      ]
     },
     "execution_count": 40,
     "metadata": {},
     "output_type": "execute_result"
    }
   ],
   "source": [
    "df_trust.head()"
   ]
  },
  {
   "cell_type": "code",
   "execution_count": 41,
   "metadata": {
    "id": "mopG6f4aLLrN"
   },
   "outputs": [],
   "source": [
    "# Storing raw data in pickle format\n",
    "df_trust.to_pickle('TrustpilotReview_TooGoodToGo.pkl')"
   ]
  },
  {
   "cell_type": "markdown",
   "metadata": {
    "colab": {
     "base_uri": "https://localhost:8080/",
     "height": 380
    },
    "executionInfo": {
     "elapsed": 197,
     "status": "ok",
     "timestamp": 1639215361043,
     "user": {
      "displayName": "Roxane Ajavon",
      "photoUrl": "https://lh3.googleusercontent.com/a/default-user=s64",
      "userId": "10325748363259226548"
     },
     "user_tz": -60
    },
    "id": "zjIA3OxeLQ4H",
    "outputId": "cdd93b8c-dcc4-4e8e-dbbc-01d41a730933"
   },
   "source": [
    "# Importing doc back to standardize it into workable format\n",
    "df_trust = \"data/TrustpilotReview_TooGoodToGo.pkl\" \n",
    "\n",
    "with open(df_trust, 'rb') as f:\n",
    "    df_trust = pickle.load(f)\n",
    "\n",
    "df_trust.head()"
   ]
  },
  {
   "cell_type": "code",
   "execution_count": 42,
   "metadata": {
    "colab": {
     "base_uri": "https://localhost:8080/"
    },
    "executionInfo": {
     "elapsed": 284,
     "status": "ok",
     "timestamp": 1638464106719,
     "user": {
      "displayName": "Virginie Boirel",
      "photoUrl": "https://lh3.googleusercontent.com/a/default-user=s64",
      "userId": "09734304838834625501"
     },
     "user_tz": -60
    },
    "id": "FOXiC4anLQ_d",
    "outputId": "929a88b4-a067-464a-96fc-db14de746064"
   },
   "outputs": [
    {
     "data": {
      "text/plain": [
       "(1480, 4)"
      ]
     },
     "execution_count": 42,
     "metadata": {},
     "output_type": "execute_result"
    }
   ],
   "source": [
    "df_trust.shape"
   ]
  },
  {
   "cell_type": "code",
   "execution_count": 43,
   "metadata": {
    "id": "gr49XDqcQl_S"
   },
   "outputs": [],
   "source": [
    "# to concatenate Title & review content\n",
    "df_trust['review_content'] = df_trust['title'] + ' ' + df_trust['content']"
   ]
  },
  {
   "cell_type": "code",
   "execution_count": 47,
   "metadata": {
    "collapsed": true,
    "id": "ylJ5ykgmQmHP",
    "jupyter": {
     "outputs_hidden": true
    },
    "tags": []
   },
   "outputs": [
    {
     "ename": "KeyError",
     "evalue": "\"['title' 'content'] not found in axis\"",
     "output_type": "error",
     "traceback": [
      "\u001b[0;31m---------------------------------------------------------------------------\u001b[0m",
      "\u001b[0;31mKeyError\u001b[0m                                  Traceback (most recent call last)",
      "\u001b[0;32m/tmp/ipykernel_7964/4070123892.py\u001b[0m in \u001b[0;36m<module>\u001b[0;34m\u001b[0m\n\u001b[1;32m      1\u001b[0m \u001b[0;31m# Dropping unnecessary columns\u001b[0m\u001b[0;34m\u001b[0m\u001b[0;34m\u001b[0m\u001b[0m\n\u001b[0;32m----> 2\u001b[0;31m \u001b[0mdf_trust\u001b[0m \u001b[0;34m=\u001b[0m \u001b[0mdf_trust\u001b[0m\u001b[0;34m.\u001b[0m\u001b[0mdrop\u001b[0m\u001b[0;34m(\u001b[0m\u001b[0mcolumns\u001b[0m\u001b[0;34m=\u001b[0m\u001b[0;34m[\u001b[0m\u001b[0;34m'title'\u001b[0m\u001b[0;34m,\u001b[0m\u001b[0;34m'content'\u001b[0m\u001b[0;34m]\u001b[0m\u001b[0;34m)\u001b[0m\u001b[0;34m\u001b[0m\u001b[0;34m\u001b[0m\u001b[0m\n\u001b[0m",
      "\u001b[0;32m~/.pyenv/versions/3.9.7/lib/python3.9/site-packages/pandas/util/_decorators.py\u001b[0m in \u001b[0;36mwrapper\u001b[0;34m(*args, **kwargs)\u001b[0m\n\u001b[1;32m    309\u001b[0m                     \u001b[0mstacklevel\u001b[0m\u001b[0;34m=\u001b[0m\u001b[0mstacklevel\u001b[0m\u001b[0;34m,\u001b[0m\u001b[0;34m\u001b[0m\u001b[0;34m\u001b[0m\u001b[0m\n\u001b[1;32m    310\u001b[0m                 )\n\u001b[0;32m--> 311\u001b[0;31m             \u001b[0;32mreturn\u001b[0m \u001b[0mfunc\u001b[0m\u001b[0;34m(\u001b[0m\u001b[0;34m*\u001b[0m\u001b[0margs\u001b[0m\u001b[0;34m,\u001b[0m \u001b[0;34m**\u001b[0m\u001b[0mkwargs\u001b[0m\u001b[0;34m)\u001b[0m\u001b[0;34m\u001b[0m\u001b[0;34m\u001b[0m\u001b[0m\n\u001b[0m\u001b[1;32m    312\u001b[0m \u001b[0;34m\u001b[0m\u001b[0m\n\u001b[1;32m    313\u001b[0m         \u001b[0;32mreturn\u001b[0m \u001b[0mwrapper\u001b[0m\u001b[0;34m\u001b[0m\u001b[0;34m\u001b[0m\u001b[0m\n",
      "\u001b[0;32m~/.pyenv/versions/3.9.7/lib/python3.9/site-packages/pandas/core/frame.py\u001b[0m in \u001b[0;36mdrop\u001b[0;34m(self, labels, axis, index, columns, level, inplace, errors)\u001b[0m\n\u001b[1;32m   4904\u001b[0m                 \u001b[0mweight\u001b[0m  \u001b[0;36m1.0\u001b[0m     \u001b[0;36m0.8\u001b[0m\u001b[0;34m\u001b[0m\u001b[0;34m\u001b[0m\u001b[0m\n\u001b[1;32m   4905\u001b[0m         \"\"\"\n\u001b[0;32m-> 4906\u001b[0;31m         return super().drop(\n\u001b[0m\u001b[1;32m   4907\u001b[0m             \u001b[0mlabels\u001b[0m\u001b[0;34m=\u001b[0m\u001b[0mlabels\u001b[0m\u001b[0;34m,\u001b[0m\u001b[0;34m\u001b[0m\u001b[0;34m\u001b[0m\u001b[0m\n\u001b[1;32m   4908\u001b[0m             \u001b[0maxis\u001b[0m\u001b[0;34m=\u001b[0m\u001b[0maxis\u001b[0m\u001b[0;34m,\u001b[0m\u001b[0;34m\u001b[0m\u001b[0;34m\u001b[0m\u001b[0m\n",
      "\u001b[0;32m~/.pyenv/versions/3.9.7/lib/python3.9/site-packages/pandas/core/generic.py\u001b[0m in \u001b[0;36mdrop\u001b[0;34m(self, labels, axis, index, columns, level, inplace, errors)\u001b[0m\n\u001b[1;32m   4148\u001b[0m         \u001b[0;32mfor\u001b[0m \u001b[0maxis\u001b[0m\u001b[0;34m,\u001b[0m \u001b[0mlabels\u001b[0m \u001b[0;32min\u001b[0m \u001b[0maxes\u001b[0m\u001b[0;34m.\u001b[0m\u001b[0mitems\u001b[0m\u001b[0;34m(\u001b[0m\u001b[0;34m)\u001b[0m\u001b[0;34m:\u001b[0m\u001b[0;34m\u001b[0m\u001b[0;34m\u001b[0m\u001b[0m\n\u001b[1;32m   4149\u001b[0m             \u001b[0;32mif\u001b[0m \u001b[0mlabels\u001b[0m \u001b[0;32mis\u001b[0m \u001b[0;32mnot\u001b[0m \u001b[0;32mNone\u001b[0m\u001b[0;34m:\u001b[0m\u001b[0;34m\u001b[0m\u001b[0;34m\u001b[0m\u001b[0m\n\u001b[0;32m-> 4150\u001b[0;31m                 \u001b[0mobj\u001b[0m \u001b[0;34m=\u001b[0m \u001b[0mobj\u001b[0m\u001b[0;34m.\u001b[0m\u001b[0m_drop_axis\u001b[0m\u001b[0;34m(\u001b[0m\u001b[0mlabels\u001b[0m\u001b[0;34m,\u001b[0m \u001b[0maxis\u001b[0m\u001b[0;34m,\u001b[0m \u001b[0mlevel\u001b[0m\u001b[0;34m=\u001b[0m\u001b[0mlevel\u001b[0m\u001b[0;34m,\u001b[0m \u001b[0merrors\u001b[0m\u001b[0;34m=\u001b[0m\u001b[0merrors\u001b[0m\u001b[0;34m)\u001b[0m\u001b[0;34m\u001b[0m\u001b[0;34m\u001b[0m\u001b[0m\n\u001b[0m\u001b[1;32m   4151\u001b[0m \u001b[0;34m\u001b[0m\u001b[0m\n\u001b[1;32m   4152\u001b[0m         \u001b[0;32mif\u001b[0m \u001b[0minplace\u001b[0m\u001b[0;34m:\u001b[0m\u001b[0;34m\u001b[0m\u001b[0;34m\u001b[0m\u001b[0m\n",
      "\u001b[0;32m~/.pyenv/versions/3.9.7/lib/python3.9/site-packages/pandas/core/generic.py\u001b[0m in \u001b[0;36m_drop_axis\u001b[0;34m(self, labels, axis, level, errors)\u001b[0m\n\u001b[1;32m   4183\u001b[0m                 \u001b[0mnew_axis\u001b[0m \u001b[0;34m=\u001b[0m \u001b[0maxis\u001b[0m\u001b[0;34m.\u001b[0m\u001b[0mdrop\u001b[0m\u001b[0;34m(\u001b[0m\u001b[0mlabels\u001b[0m\u001b[0;34m,\u001b[0m \u001b[0mlevel\u001b[0m\u001b[0;34m=\u001b[0m\u001b[0mlevel\u001b[0m\u001b[0;34m,\u001b[0m \u001b[0merrors\u001b[0m\u001b[0;34m=\u001b[0m\u001b[0merrors\u001b[0m\u001b[0;34m)\u001b[0m\u001b[0;34m\u001b[0m\u001b[0;34m\u001b[0m\u001b[0m\n\u001b[1;32m   4184\u001b[0m             \u001b[0;32melse\u001b[0m\u001b[0;34m:\u001b[0m\u001b[0;34m\u001b[0m\u001b[0;34m\u001b[0m\u001b[0m\n\u001b[0;32m-> 4185\u001b[0;31m                 \u001b[0mnew_axis\u001b[0m \u001b[0;34m=\u001b[0m \u001b[0maxis\u001b[0m\u001b[0;34m.\u001b[0m\u001b[0mdrop\u001b[0m\u001b[0;34m(\u001b[0m\u001b[0mlabels\u001b[0m\u001b[0;34m,\u001b[0m \u001b[0merrors\u001b[0m\u001b[0;34m=\u001b[0m\u001b[0merrors\u001b[0m\u001b[0;34m)\u001b[0m\u001b[0;34m\u001b[0m\u001b[0;34m\u001b[0m\u001b[0m\n\u001b[0m\u001b[1;32m   4186\u001b[0m             \u001b[0mresult\u001b[0m \u001b[0;34m=\u001b[0m \u001b[0mself\u001b[0m\u001b[0;34m.\u001b[0m\u001b[0mreindex\u001b[0m\u001b[0;34m(\u001b[0m\u001b[0;34m**\u001b[0m\u001b[0;34m{\u001b[0m\u001b[0maxis_name\u001b[0m\u001b[0;34m:\u001b[0m \u001b[0mnew_axis\u001b[0m\u001b[0;34m}\u001b[0m\u001b[0;34m)\u001b[0m\u001b[0;34m\u001b[0m\u001b[0;34m\u001b[0m\u001b[0m\n\u001b[1;32m   4187\u001b[0m \u001b[0;34m\u001b[0m\u001b[0m\n",
      "\u001b[0;32m~/.pyenv/versions/3.9.7/lib/python3.9/site-packages/pandas/core/indexes/base.py\u001b[0m in \u001b[0;36mdrop\u001b[0;34m(self, labels, errors)\u001b[0m\n\u001b[1;32m   6015\u001b[0m         \u001b[0;32mif\u001b[0m \u001b[0mmask\u001b[0m\u001b[0;34m.\u001b[0m\u001b[0many\u001b[0m\u001b[0;34m(\u001b[0m\u001b[0;34m)\u001b[0m\u001b[0;34m:\u001b[0m\u001b[0;34m\u001b[0m\u001b[0;34m\u001b[0m\u001b[0m\n\u001b[1;32m   6016\u001b[0m             \u001b[0;32mif\u001b[0m \u001b[0merrors\u001b[0m \u001b[0;34m!=\u001b[0m \u001b[0;34m\"ignore\"\u001b[0m\u001b[0;34m:\u001b[0m\u001b[0;34m\u001b[0m\u001b[0;34m\u001b[0m\u001b[0m\n\u001b[0;32m-> 6017\u001b[0;31m                 \u001b[0;32mraise\u001b[0m \u001b[0mKeyError\u001b[0m\u001b[0;34m(\u001b[0m\u001b[0;34mf\"{labels[mask]} not found in axis\"\u001b[0m\u001b[0;34m)\u001b[0m\u001b[0;34m\u001b[0m\u001b[0;34m\u001b[0m\u001b[0m\n\u001b[0m\u001b[1;32m   6018\u001b[0m             \u001b[0mindexer\u001b[0m \u001b[0;34m=\u001b[0m \u001b[0mindexer\u001b[0m\u001b[0;34m[\u001b[0m\u001b[0;34m~\u001b[0m\u001b[0mmask\u001b[0m\u001b[0;34m]\u001b[0m\u001b[0;34m\u001b[0m\u001b[0;34m\u001b[0m\u001b[0m\n\u001b[1;32m   6019\u001b[0m         \u001b[0;32mreturn\u001b[0m \u001b[0mself\u001b[0m\u001b[0;34m.\u001b[0m\u001b[0mdelete\u001b[0m\u001b[0;34m(\u001b[0m\u001b[0mindexer\u001b[0m\u001b[0;34m)\u001b[0m\u001b[0;34m\u001b[0m\u001b[0;34m\u001b[0m\u001b[0m\n",
      "\u001b[0;31mKeyError\u001b[0m: \"['title' 'content'] not found in axis\""
     ]
    }
   ],
   "source": [
    "# Dropping unnecessary columns\n",
    "df_trust = df_trust.drop(columns=['title','content'])"
   ]
  },
  {
   "cell_type": "code",
   "execution_count": 52,
   "metadata": {
    "colab": {
     "base_uri": "https://localhost:8080/",
     "height": 293
    },
    "executionInfo": {
     "elapsed": 245,
     "status": "ok",
     "timestamp": 1638464120598,
     "user": {
      "displayName": "Virginie Boirel",
      "photoUrl": "https://lh3.googleusercontent.com/a/default-user=s64",
      "userId": "09734304838834625501"
     },
     "user_tz": -60
    },
    "id": "kcQg9VtGLRIx",
    "outputId": "bfda4f8e-48a9-4de0-e072-b4db5b80df20"
   },
   "outputs": [
    {
     "data": {
      "text/html": [
       "<div>\n",
       "<style scoped>\n",
       "    .dataframe tbody tr th:only-of-type {\n",
       "        vertical-align: middle;\n",
       "    }\n",
       "\n",
       "    .dataframe tbody tr th {\n",
       "        vertical-align: top;\n",
       "    }\n",
       "\n",
       "    .dataframe thead th {\n",
       "        text-align: right;\n",
       "    }\n",
       "</style>\n",
       "<table border=\"1\" class=\"dataframe\">\n",
       "  <thead>\n",
       "    <tr style=\"text-align: right;\">\n",
       "      <th></th>\n",
       "      <th>rating</th>\n",
       "      <th>date</th>\n",
       "      <th>review_content</th>\n",
       "    </tr>\n",
       "  </thead>\n",
       "  <tbody>\n",
       "    <tr>\n",
       "      <th>0</th>\n",
       "      <td>5</td>\n",
       "      <td>2021-12-29 17:20:29+00:00</td>\n",
       "      <td>Never been let down yet! Never been let down y...</td>\n",
       "    </tr>\n",
       "    <tr>\n",
       "      <th>1</th>\n",
       "      <td>1</td>\n",
       "      <td>2021-12-29 17:04:40+00:00</td>\n",
       "      <td>Surprise but no bag! I ordered a surprise bag ...</td>\n",
       "    </tr>\n",
       "    <tr>\n",
       "      <th>2</th>\n",
       "      <td>1</td>\n",
       "      <td>2021-12-28 21:14:18+00:00</td>\n",
       "      <td>The shelf date on all of the item… The shelf d...</td>\n",
       "    </tr>\n",
       "    <tr>\n",
       "      <th>3</th>\n",
       "      <td>1</td>\n",
       "      <td>2021-12-28 19:25:29+00:00</td>\n",
       "      <td>Ordered a too good to go this is my… Ordered a...</td>\n",
       "    </tr>\n",
       "    <tr>\n",
       "      <th>4</th>\n",
       "      <td>1</td>\n",
       "      <td>2021-12-28 16:09:24+00:00</td>\n",
       "      <td>Disappointing app This app is very promising b...</td>\n",
       "    </tr>\n",
       "  </tbody>\n",
       "</table>\n",
       "</div>"
      ],
      "text/plain": [
       "  rating                      date  \\\n",
       "0      5 2021-12-29 17:20:29+00:00   \n",
       "1      1 2021-12-29 17:04:40+00:00   \n",
       "2      1 2021-12-28 21:14:18+00:00   \n",
       "3      1 2021-12-28 19:25:29+00:00   \n",
       "4      1 2021-12-28 16:09:24+00:00   \n",
       "\n",
       "                                      review_content  \n",
       "0  Never been let down yet! Never been let down y...  \n",
       "1  Surprise but no bag! I ordered a surprise bag ...  \n",
       "2  The shelf date on all of the item… The shelf d...  \n",
       "3  Ordered a too good to go this is my… Ordered a...  \n",
       "4  Disappointing app This app is very promising b...  "
      ]
     },
     "execution_count": 52,
     "metadata": {},
     "output_type": "execute_result"
    }
   ],
   "source": [
    "# Checking dataframe\n",
    "df_trust.head()"
   ]
  },
  {
   "cell_type": "code",
   "execution_count": 49,
   "metadata": {
    "colab": {
     "base_uri": "https://localhost:8080/"
    },
    "executionInfo": {
     "elapsed": 351,
     "status": "ok",
     "timestamp": 1638464129887,
     "user": {
      "displayName": "Virginie Boirel",
      "photoUrl": "https://lh3.googleusercontent.com/a/default-user=s64",
      "userId": "09734304838834625501"
     },
     "user_tz": -60
    },
    "id": "EXo8Z8NQBLZ5",
    "outputId": "e6c9a158-906c-4cf6-8249-7b3e8ef7e455"
   },
   "outputs": [
    {
     "name": "stdout",
     "output_type": "stream",
     "text": [
      "<class 'pandas.core.frame.DataFrame'>\n",
      "RangeIndex: 1480 entries, 0 to 1479\n",
      "Data columns (total 3 columns):\n",
      " #   Column          Non-Null Count  Dtype \n",
      "---  ------          --------------  ----- \n",
      " 0   rating          1480 non-null   object\n",
      " 1   date            1480 non-null   object\n",
      " 2   review_content  1480 non-null   object\n",
      "dtypes: object(3)\n",
      "memory usage: 34.8+ KB\n"
     ]
    }
   ],
   "source": [
    "df_trust.info()"
   ]
  },
  {
   "cell_type": "code",
   "execution_count": 38,
   "metadata": {
    "id": "mZ0pZCyMBY_x"
   },
   "outputs": [],
   "source": [
    "# Formatting date => removing anything on the right of T (T being included)\n",
    "df_trust['date'] = df_trust['date'].str[:10]"
   ]
  },
  {
   "cell_type": "code",
   "execution_count": 50,
   "metadata": {
    "id": "ZIAz_YsVA7UD"
   },
   "outputs": [],
   "source": [
    "# Formatting date\n",
    "df_trust['date'] = pd.to_datetime(df_trust['date'], format='%Y-%m-%d')"
   ]
  },
  {
   "cell_type": "code",
   "execution_count": 40,
   "metadata": {
    "id": "JWiJgP09CqZ-"
   },
   "outputs": [],
   "source": [
    "# Reordering columns\n",
    "df_trust = df_trust[['review_content', 'rating', 'date']]"
   ]
  },
  {
   "cell_type": "code",
   "execution_count": 53,
   "metadata": {
    "colab": {
     "base_uri": "https://localhost:8080/"
    },
    "executionInfo": {
     "elapsed": 232,
     "status": "ok",
     "timestamp": 1638464156327,
     "user": {
      "displayName": "Virginie Boirel",
      "photoUrl": "https://lh3.googleusercontent.com/a/default-user=s64",
      "userId": "09734304838834625501"
     },
     "user_tz": -60
    },
    "id": "IA6MFcpkLr5I",
    "outputId": "3b672ad0-630c-456f-8484-7a4e185e26bf"
   },
   "outputs": [],
   "source": [
    "# Adding \"source\" column to put \"Trustpilot\"\n",
    "df_trust['source'] = 'Trustpilot'"
   ]
  },
  {
   "cell_type": "code",
   "execution_count": 55,
   "metadata": {
    "colab": {
     "base_uri": "https://localhost:8080/"
    },
    "executionInfo": {
     "elapsed": 78,
     "status": "ok",
     "timestamp": 1638464206586,
     "user": {
      "displayName": "Virginie Boirel",
      "photoUrl": "https://lh3.googleusercontent.com/a/default-user=s64",
      "userId": "09734304838834625501"
     },
     "user_tz": -60
    },
    "id": "VjmO7cjuPSvU",
    "outputId": "1d40b5c5-b589-4ed1-b571-4a6fa744a2c1"
   },
   "outputs": [],
   "source": [
    "# Formatting rating\n",
    "df_trust['rating'] = df_trust['rating'].astype(int)"
   ]
  },
  {
   "cell_type": "code",
   "execution_count": 56,
   "metadata": {
    "colab": {
     "base_uri": "https://localhost:8080/"
    },
    "executionInfo": {
     "elapsed": 348,
     "status": "ok",
     "timestamp": 1638464215031,
     "user": {
      "displayName": "Virginie Boirel",
      "photoUrl": "https://lh3.googleusercontent.com/a/default-user=s64",
      "userId": "09734304838834625501"
     },
     "user_tz": -60
    },
    "id": "0Fg7W8oxPS6Z",
    "outputId": "795bc2ae-f3f6-4971-81e1-7df3df9b7bcc"
   },
   "outputs": [
    {
     "name": "stdout",
     "output_type": "stream",
     "text": [
      "<class 'pandas.core.frame.DataFrame'>\n",
      "RangeIndex: 1480 entries, 0 to 1479\n",
      "Data columns (total 4 columns):\n",
      " #   Column          Non-Null Count  Dtype              \n",
      "---  ------          --------------  -----              \n",
      " 0   rating          1480 non-null   int64              \n",
      " 1   date            1480 non-null   datetime64[ns, UTC]\n",
      " 2   review_content  1480 non-null   object             \n",
      " 3   source          1480 non-null   object             \n",
      "dtypes: datetime64[ns, UTC](1), int64(1), object(2)\n",
      "memory usage: 46.4+ KB\n"
     ]
    }
   ],
   "source": [
    "# Check new format\n",
    "df_trust.info()"
   ]
  },
  {
   "cell_type": "code",
   "execution_count": 57,
   "metadata": {
    "colab": {
     "base_uri": "https://localhost:8080/"
    },
    "executionInfo": {
     "elapsed": 553,
     "status": "ok",
     "timestamp": 1638464219521,
     "user": {
      "displayName": "Virginie Boirel",
      "photoUrl": "https://lh3.googleusercontent.com/a/default-user=s64",
      "userId": "09734304838834625501"
     },
     "user_tz": -60
    },
    "id": "mIee1mbM_Ire",
    "outputId": "46e8e4cc-016b-43af-9a05-1a96ac9a77d4"
   },
   "outputs": [
    {
     "data": {
      "text/plain": [
       "rating            0\n",
       "date              0\n",
       "review_content    0\n",
       "source            0\n",
       "dtype: int64"
      ]
     },
     "execution_count": 57,
     "metadata": {},
     "output_type": "execute_result"
    }
   ],
   "source": [
    "# Checking ISNA\n",
    "df_trust.isna().sum()"
   ]
  },
  {
   "cell_type": "code",
   "execution_count": 58,
   "metadata": {
    "colab": {
     "base_uri": "https://localhost:8080/"
    },
    "executionInfo": {
     "elapsed": 41,
     "status": "ok",
     "timestamp": 1638464221676,
     "user": {
      "displayName": "Virginie Boirel",
      "photoUrl": "https://lh3.googleusercontent.com/a/default-user=s64",
      "userId": "09734304838834625501"
     },
     "user_tz": -60
    },
    "id": "rRqiMqls_Ivl",
    "outputId": "df4de90b-9a35-42f2-f5fd-a9b3d34ab66f"
   },
   "outputs": [
    {
     "data": {
      "text/plain": [
       "0"
      ]
     },
     "execution_count": 58,
     "metadata": {},
     "output_type": "execute_result"
    }
   ],
   "source": [
    "# Checking duplicates \n",
    "df_trust.duplicated().sum()"
   ]
  },
  {
   "cell_type": "code",
   "execution_count": 59,
   "metadata": {},
   "outputs": [
    {
     "data": {
      "image/png": "[encoded data removed]",
      "text/plain": [
       "<Figure size 2592x1440 with 1 Axes>"
      ]
     },
     "metadata": {
      "needs_background": "light"
     },
     "output_type": "display_data"
    }
   ],
   "source": [
    "plt.figure(figsize=(36,20))\n",
    "sns.countplot(x='rating',data= df_trust)\n",
    "plt.show()"
   ]
  },
  {
   "cell_type": "markdown",
   "metadata": {
    "id": "soMp90FRA9gp"
   },
   "source": [
    "## **4. Concatenation**"
   ]
  },
  {
   "cell_type": "code",
   "execution_count": 165,
   "metadata": {
    "colab": {
     "base_uri": "https://localhost:8080/",
     "height": 206
    },
    "executionInfo": {
     "elapsed": 390,
     "status": "ok",
     "timestamp": 1638465382509,
     "user": {
      "displayName": "Virginie Boirel",
      "photoUrl": "https://lh3.googleusercontent.com/a/default-user=s64",
      "userId": "09734304838834625501"
     },
     "user_tz": -60
    },
    "id": "Y92LHsOEGIM8",
    "outputId": "ff24c089-96e5-441b-be22-e90bbc6e6c92"
   },
   "outputs": [
    {
     "data": {
      "text/html": [
       "<div>\n",
       "<style scoped>\n",
       "    .dataframe tbody tr th:only-of-type {\n",
       "        vertical-align: middle;\n",
       "    }\n",
       "\n",
       "    .dataframe tbody tr th {\n",
       "        vertical-align: top;\n",
       "    }\n",
       "\n",
       "    .dataframe thead th {\n",
       "        text-align: right;\n",
       "    }\n",
       "</style>\n",
       "<table border=\"1\" class=\"dataframe\">\n",
       "  <thead>\n",
       "    <tr style=\"text-align: right;\">\n",
       "      <th></th>\n",
       "      <th>review_content</th>\n",
       "      <th>rating</th>\n",
       "      <th>date</th>\n",
       "      <th>source</th>\n",
       "    </tr>\n",
       "  </thead>\n",
       "  <tbody>\n",
       "    <tr>\n",
       "      <th>0</th>\n",
       "      <td>Great value for money. Food was still fresh an...</td>\n",
       "      <td>5</td>\n",
       "      <td>2021-12-29 17:10:58</td>\n",
       "      <td>Google</td>\n",
       "    </tr>\n",
       "    <tr>\n",
       "      <th>1</th>\n",
       "      <td>occasionally a surprise bag is offered after t...</td>\n",
       "      <td>4</td>\n",
       "      <td>2021-12-29 16:29:27</td>\n",
       "      <td>Google</td>\n",
       "    </tr>\n",
       "    <tr>\n",
       "      <th>2</th>\n",
       "      <td>Well-designed app except they really need to a...</td>\n",
       "      <td>5</td>\n",
       "      <td>2021-12-29 15:19:48</td>\n",
       "      <td>Google</td>\n",
       "    </tr>\n",
       "    <tr>\n",
       "      <th>3</th>\n",
       "      <td>Thanks for the reply! It makes sense to not no...</td>\n",
       "      <td>1</td>\n",
       "      <td>2021-12-29 14:31:29</td>\n",
       "      <td>Google</td>\n",
       "    </tr>\n",
       "    <tr>\n",
       "      <th>4</th>\n",
       "      <td>A good buy will definitely use again</td>\n",
       "      <td>5</td>\n",
       "      <td>2021-12-29 11:13:52</td>\n",
       "      <td>Google</td>\n",
       "    </tr>\n",
       "  </tbody>\n",
       "</table>\n",
       "</div>"
      ],
      "text/plain": [
       "                                      review_content  rating  \\\n",
       "0  Great value for money. Food was still fresh an...       5   \n",
       "1  occasionally a surprise bag is offered after t...       4   \n",
       "2  Well-designed app except they really need to a...       5   \n",
       "3  Thanks for the reply! It makes sense to not no...       1   \n",
       "4               A good buy will definitely use again       5   \n",
       "\n",
       "                  date  source  \n",
       "0  2021-12-29 17:10:58  Google  \n",
       "1  2021-12-29 16:29:27  Google  \n",
       "2  2021-12-29 15:19:48  Google  \n",
       "3  2021-12-29 14:31:29  Google  \n",
       "4  2021-12-29 11:13:52  Google  "
      ]
     },
     "execution_count": 165,
     "metadata": {},
     "output_type": "execute_result"
    }
   ],
   "source": [
    "df = pd.concat([df_google, df_apple, df_trust], axis=0)\n",
    "df.head()"
   ]
  },
  {
   "cell_type": "code",
   "execution_count": 166,
   "metadata": {
    "colab": {
     "base_uri": "https://localhost:8080/"
    },
    "executionInfo": {
     "elapsed": 320,
     "status": "ok",
     "timestamp": 1638465394794,
     "user": {
      "displayName": "Virginie Boirel",
      "photoUrl": "https://lh3.googleusercontent.com/a/default-user=s64",
      "userId": "09734304838834625501"
     },
     "user_tz": -60
    },
    "id": "VH0TjfGdJboL",
    "outputId": "559aa02c-3bb1-464c-a018-59506b9d5628"
   },
   "outputs": [
    {
     "data": {
      "text/plain": [
       "(23572, 4)"
      ]
     },
     "execution_count": 166,
     "metadata": {},
     "output_type": "execute_result"
    }
   ],
   "source": [
    "df.shape"
   ]
  },
  {
   "cell_type": "code",
   "execution_count": 167,
   "metadata": {},
   "outputs": [],
   "source": [
    "# formatting date\n",
    "df['date2'] = pd.to_datetime(df['date'], utc=True)"
   ]
  },
  {
   "cell_type": "code",
   "execution_count": 168,
   "metadata": {
    "tags": []
   },
   "outputs": [],
   "source": [
    "# formatting date => to remove day\n",
    "df['date3'] = df['date2'].dt.tz_localize(None)"
   ]
  },
  {
   "cell_type": "code",
   "execution_count": 169,
   "metadata": {
    "tags": []
   },
   "outputs": [],
   "source": [
    "df['date4'] = df['date3'].dt.normalize()"
   ]
  },
  {
   "cell_type": "code",
   "execution_count": 136,
   "metadata": {},
   "outputs": [
    {
     "name": "stdout",
     "output_type": "stream",
     "text": [
      "<class 'pandas.core.frame.DataFrame'>\n",
      "Int64Index: 23572 entries, 0 to 1479\n",
      "Data columns (total 4 columns):\n",
      " #   Column          Non-Null Count  Dtype         \n",
      "---  ------          --------------  -----         \n",
      " 0   review_content  23572 non-null  object        \n",
      " 1   rating          23572 non-null  int64         \n",
      " 2   source          23572 non-null  object        \n",
      " 3   date            23572 non-null  datetime64[ns]\n",
      "dtypes: datetime64[ns](1), int64(1), object(2)\n",
      "memory usage: 1.4+ MB\n"
     ]
    }
   ],
   "source": [
    "# checking format\n",
    "df.info()"
   ]
  },
  {
   "cell_type": "code",
   "execution_count": 170,
   "metadata": {},
   "outputs": [
    {
     "data": {
      "text/html": [
       "<div>\n",
       "<style scoped>\n",
       "    .dataframe tbody tr th:only-of-type {\n",
       "        vertical-align: middle;\n",
       "    }\n",
       "\n",
       "    .dataframe tbody tr th {\n",
       "        vertical-align: top;\n",
       "    }\n",
       "\n",
       "    .dataframe thead th {\n",
       "        text-align: right;\n",
       "    }\n",
       "</style>\n",
       "<table border=\"1\" class=\"dataframe\">\n",
       "  <thead>\n",
       "    <tr style=\"text-align: right;\">\n",
       "      <th></th>\n",
       "      <th>review_content</th>\n",
       "      <th>rating</th>\n",
       "      <th>source</th>\n",
       "      <th>date</th>\n",
       "    </tr>\n",
       "  </thead>\n",
       "  <tbody>\n",
       "    <tr>\n",
       "      <th>0</th>\n",
       "      <td>Great value for money. Food was still fresh an...</td>\n",
       "      <td>5</td>\n",
       "      <td>Google</td>\n",
       "      <td>2021-12-29</td>\n",
       "    </tr>\n",
       "    <tr>\n",
       "      <th>1</th>\n",
       "      <td>occasionally a surprise bag is offered after t...</td>\n",
       "      <td>4</td>\n",
       "      <td>Google</td>\n",
       "      <td>2021-12-29</td>\n",
       "    </tr>\n",
       "    <tr>\n",
       "      <th>2</th>\n",
       "      <td>Well-designed app except they really need to a...</td>\n",
       "      <td>5</td>\n",
       "      <td>Google</td>\n",
       "      <td>2021-12-29</td>\n",
       "    </tr>\n",
       "    <tr>\n",
       "      <th>3</th>\n",
       "      <td>Thanks for the reply! It makes sense to not no...</td>\n",
       "      <td>1</td>\n",
       "      <td>Google</td>\n",
       "      <td>2021-12-29</td>\n",
       "    </tr>\n",
       "    <tr>\n",
       "      <th>4</th>\n",
       "      <td>A good buy will definitely use again</td>\n",
       "      <td>5</td>\n",
       "      <td>Google</td>\n",
       "      <td>2021-12-29</td>\n",
       "    </tr>\n",
       "  </tbody>\n",
       "</table>\n",
       "</div>"
      ],
      "text/plain": [
       "                                      review_content  rating  source  \\\n",
       "0  Great value for money. Food was still fresh an...       5  Google   \n",
       "1  occasionally a surprise bag is offered after t...       4  Google   \n",
       "2  Well-designed app except they really need to a...       5  Google   \n",
       "3  Thanks for the reply! It makes sense to not no...       1  Google   \n",
       "4               A good buy will definitely use again       5  Google   \n",
       "\n",
       "        date  \n",
       "0 2021-12-29  \n",
       "1 2021-12-29  \n",
       "2 2021-12-29  \n",
       "3 2021-12-29  \n",
       "4 2021-12-29  "
      ]
     },
     "execution_count": 170,
     "metadata": {},
     "output_type": "execute_result"
    }
   ],
   "source": [
    "df = df[['review_content','rating','source','date4']]\n",
    "df.columns=['review_content','rating','source','date']\n",
    "df.head()"
   ]
  },
  {
   "cell_type": "code",
   "execution_count": 150,
   "metadata": {},
   "outputs": [
    {
     "data": {
      "image/png": "[encoded data removed]",
      "text/plain": [
       "<Figure size 2592x1440 with 1 Axes>"
      ]
     },
     "metadata": {
      "needs_background": "light"
     },
     "output_type": "display_data"
    }
   ],
   "source": [
    "plt.figure(figsize=(36,20))\n",
    "sns.countplot(x='rating',data= df)\n",
    "plt.show()"
   ]
  },
  {
   "cell_type": "code",
   "execution_count": 104,
   "metadata": {},
   "outputs": [],
   "source": [
    "# Storing data in pickle format\n",
    "df.to_pickle('reviews_tgtg_v0.pkl')"
   ]
  },
  {
   "cell_type": "code",
   "execution_count": 1,
   "metadata": {},
   "outputs": [
    {
     "ename": "NameError",
     "evalue": "name 'df' is not defined",
     "output_type": "error",
     "traceback": [
      "\u001b[0;31m---------------------------------------------------------------------------\u001b[0m",
      "\u001b[0;31mNameError\u001b[0m                                 Traceback (most recent call last)",
      "\u001b[0;32m/tmp/ipykernel_4149/136303746.py\u001b[0m in \u001b[0;36m<module>\u001b[0;34m\u001b[0m\n\u001b[0;32m----> 1\u001b[0;31m \u001b[0mdf\u001b[0m\u001b[0;34m.\u001b[0m\u001b[0mreset_index\u001b[0m\u001b[0;34m(\u001b[0m\u001b[0minplace\u001b[0m\u001b[0;34m=\u001b[0m\u001b[0;32mTrue\u001b[0m\u001b[0;34m)\u001b[0m\u001b[0;34m\u001b[0m\u001b[0;34m\u001b[0m\u001b[0m\n\u001b[0m",
      "\u001b[0;31mNameError\u001b[0m: name 'df' is not defined"
     ]
    }
   ],
   "source": [
    "df.reset_index(inplace=True)"
   ]
  },
  {
   "cell_type": "code",
   "execution_count": 172,
   "metadata": {},
   "outputs": [],
   "source": [
    "df=df[['review_content','rating','source','date']]"
   ]
  },
  {
   "cell_type": "markdown",
   "metadata": {},
   "source": [
    "### Adjusting class imbalance for rating\n",
    "This project entailed the use of classification models, and for reliable results, I had to remove reviews to undo class imbalance. Using this visualisation I saw that were much less reviews with a score of 1 compared to reviews with a score of 5. To combat this imbalance, I randomly removed reviews with scores of 5, to match with 1 (2056 reviews)."
   ]
  },
  {
   "cell_type": "code",
   "execution_count": 182,
   "metadata": {},
   "outputs": [
    {
     "data": {
      "text/plain": [
       "1057"
      ]
     },
     "execution_count": 182,
     "metadata": {},
     "output_type": "execute_result"
    }
   ],
   "source": [
    "minority_class_len = len(df[df['rating'] == 3])\n",
    "minority_class_len"
   ]
  },
  {
   "cell_type": "code",
   "execution_count": 183,
   "metadata": {},
   "outputs": [],
   "source": [
    "score_1_class_indices = df[df['rating'] == 1].index\n",
    "score_2_class_indices = df[df['rating'] == 2].index\n",
    "score_3_class_indices = df[df['rating'] == 3].index\n",
    "score_4_class_indices = df[df['rating'] == 4].index\n",
    "score_5_class_indices = df[df['rating'] == 5].index"
   ]
  },
  {
   "cell_type": "code",
   "execution_count": 184,
   "metadata": {},
   "outputs": [
    {
     "name": "stdout",
     "output_type": "stream",
     "text": [
      "1057\n",
      "1057\n",
      "1057\n"
     ]
    }
   ],
   "source": [
    "random_score_1_class_indices = np.random.choice(score_1_class_indices,minority_class_len,replace=False)\n",
    "print(len(random_score_1_class_indices))\n",
    "random_score_4_class_indices = np.random.choice(score_4_class_indices,minority_class_len,replace=False)\n",
    "print(len(random_score_4_class_indices))\n",
    "random_score_5_class_indices = np.random.choice(score_5_class_indices,minority_class_len,replace=False)\n",
    "print(len(random_score_5_class_indices))"
   ]
  },
  {
   "cell_type": "code",
   "execution_count": 185,
   "metadata": {},
   "outputs": [],
   "source": [
    "under_sample_indices = np.concatenate([random_score_1_class_indices,score_2_class_indices,score_3_class_indices,random_score_4_class_indices,random_score_5_class_indices])"
   ]
  },
  {
   "cell_type": "code",
   "execution_count": 186,
   "metadata": {},
   "outputs": [],
   "source": [
    "df = df.loc[under_sample_indices]"
   ]
  },
  {
   "cell_type": "code",
   "execution_count": 187,
   "metadata": {},
   "outputs": [
    {
     "data": {
      "text/plain": [
       "5    5444\n",
       "1    4209\n",
       "4    2655\n",
       "3    2332\n",
       "2    1926\n",
       "Name: rating, dtype: int64"
      ]
     },
     "execution_count": 187,
     "metadata": {},
     "output_type": "execute_result"
    }
   ],
   "source": [
    "df['rating'].value_counts()"
   ]
  },
  {
   "cell_type": "code",
   "execution_count": 160,
   "metadata": {},
   "outputs": [
    {
     "data": {
      "image/png": "[encoded data removed]",
      "text/plain": [
       "<Figure size 864x864 with 1 Axes>"
      ]
     },
     "metadata": {
      "needs_background": "light"
     },
     "output_type": "display_data"
    }
   ],
   "source": [
    "plt.figure(figsize=(12,12))\n",
    "sns.countplot(x='rating',data=df)\n",
    "plt.show()"
   ]
  },
  {
   "cell_type": "code",
   "execution_count": 162,
   "metadata": {},
   "outputs": [],
   "source": [
    "df.to_pickle('reviews_tgtg_v1.pkl')"
   ]
  },
  {
   "cell_type": "markdown",
   "metadata": {},
   "source": [
    "## Step 2: Twitter dataset"
   ]
  },
  {
   "cell_type": "code",
   "execution_count": 105,
   "metadata": {
    "collapsed": true,
    "jupyter": {
     "outputs_hidden": true
    },
    "tags": []
   },
   "outputs": [
    {
     "name": "stderr",
     "output_type": "stream",
     "text": [
      "2021-12-29 21:44:50,084 [INFO] snscrape.modules.twitter - Retrieving scroll page None\n",
      "2021-12-29 21:44:50,084 [INFO] snscrape.modules.twitter - Retrieving guest token\n",
      "2021-12-29 21:44:50,085 [INFO] snscrape.base - Retrieving https://twitter.com/search?f=live&lang=en&q=%23TooGoodToGo+since%3A2019-01-01+until%3A2021-12-28+lang%3Aen&src=spelling_expansion_revert_click\n",
      "2021-12-29 21:44:50,435 [INFO] snscrape.base - Retrieved https://twitter.com/search?f=live&lang=en&q=%23TooGoodToGo+since%3A2019-01-01+until%3A2021-12-28+lang%3Aen&src=spelling_expansion_revert_click: 200\n",
      "2021-12-29 21:44:50,442 [INFO] snscrape.base - Retrieving https://api.twitter.com/2/search/adaptive.json?include_profile_interstitial_type=1&include_blocking=1&include_blocked_by=1&include_followed_by=1&include_want_retweets=1&include_mute_edge=1&include_can_dm=1&include_can_media_tag=1&skip_status=1&cards_platform=Web-12&include_cards=1&include_ext_alt_text=true&include_quote_count=true&include_reply_count=1&tweet_mode=extended&include_entities=true&include_user_entities=true&include_ext_media_color=true&include_ext_media_availability=true&send_error_codes=true&simple_quoted_tweets=true&q=%23TooGoodToGo+since%3A2019-01-01+until%3A2021-12-28+lang%3Aen&tweet_search_mode=live&count=100&query_source=spelling_expansion_revert_click&pc=1&spelling_corrections=1&ext=mediaStats%2ChighlightedLabel\n",
      "2021-12-29 21:44:51,267 [INFO] snscrape.base - Retrieved https://api.twitter.com/2/search/adaptive.json?include_profile_interstitial_type=1&include_blocking=1&include_blocked_by=1&include_followed_by=1&include_want_retweets=1&include_mute_edge=1&include_can_dm=1&include_can_media_tag=1&skip_status=1&cards_platform=Web-12&include_cards=1&include_ext_alt_text=true&include_quote_count=true&include_reply_count=1&tweet_mode=extended&include_entities=true&include_user_entities=true&include_ext_media_color=true&include_ext_media_availability=true&send_error_codes=true&simple_quoted_tweets=true&q=%23TooGoodToGo+since%3A2019-01-01+until%3A2021-12-28+lang%3Aen&tweet_search_mode=live&count=100&query_source=spelling_expansion_revert_click&pc=1&spelling_corrections=1&ext=mediaStats%2ChighlightedLabel: 200\n",
      "/tmp/ipykernel_7964/797474278.py:8: FutureWarning: username is deprecated, use user.username instead\n",
      "  tweets_list.append([tweet.date, tweet.id, tweet.content, tweet.username])\n",
      "2021-12-29 21:44:51,270 [INFO] snscrape.modules.twitter - Retrieving scroll page scroll:thGAVUV0VFVBaMgLP5j5mR7SgWjoCy_eDMo_ooEnEV3IV6FYCJehgHREVGQVVMVDUBFQAVAAA=\n",
      "2021-12-29 21:44:51,271 [INFO] snscrape.base - Retrieving https://api.twitter.com/2/search/adaptive.json?include_profile_interstitial_type=1&include_blocking=1&include_blocked_by=1&include_followed_by=1&include_want_retweets=1&include_mute_edge=1&include_can_dm=1&include_can_media_tag=1&skip_status=1&cards_platform=Web-12&include_cards=1&include_ext_alt_text=true&include_quote_count=true&include_reply_count=1&tweet_mode=extended&include_entities=true&include_user_entities=true&include_ext_media_color=true&include_ext_media_availability=true&send_error_codes=true&simple_quoted_tweets=true&q=%23TooGoodToGo+since%3A2019-01-01+until%3A2021-12-28+lang%3Aen&tweet_search_mode=live&count=100&query_source=spelling_expansion_revert_click&cursor=scroll%3AthGAVUV0VFVBaMgLP5j5mR7SgWjoCy_eDMo_ooEnEV3IV6FYCJehgHREVGQVVMVDUBFQAVAAA%3D&pc=1&spelling_corrections=1&ext=mediaStats%2ChighlightedLabel\n",
      "2021-12-29 21:44:51,980 [INFO] snscrape.base - Retrieved https://api.twitter.com/2/search/adaptive.json?include_profile_interstitial_type=1&include_blocking=1&include_blocked_by=1&include_followed_by=1&include_want_retweets=1&include_mute_edge=1&include_can_dm=1&include_can_media_tag=1&skip_status=1&cards_platform=Web-12&include_cards=1&include_ext_alt_text=true&include_quote_count=true&include_reply_count=1&tweet_mode=extended&include_entities=true&include_user_entities=true&include_ext_media_color=true&include_ext_media_availability=true&send_error_codes=true&simple_quoted_tweets=true&q=%23TooGoodToGo+since%3A2019-01-01+until%3A2021-12-28+lang%3Aen&tweet_search_mode=live&count=100&query_source=spelling_expansion_revert_click&cursor=scroll%3AthGAVUV0VFVBaMgLP5j5mR7SgWjoCy_eDMo_ooEnEV3IV6FYCJehgHREVGQVVMVDUBFQAVAAA%3D&pc=1&spelling_corrections=1&ext=mediaStats%2ChighlightedLabel: 200\n",
      "2021-12-29 21:44:51,983 [INFO] snscrape.modules.twitter - Retrieving scroll page scroll:thGAVUV0VFVBaEwKz59_HP4ygWjoCy_eDMo_ooEnEVzIJ6FYCJehgHREVGQVVMVDUBFQIVAAA=\n",
      "2021-12-29 21:44:51,984 [INFO] snscrape.base - Retrieving https://api.twitter.com/2/search/adaptive.json?include_profile_interstitial_type=1&include_blocking=1&include_blocked_by=1&include_followed_by=1&include_want_retweets=1&include_mute_edge=1&include_can_dm=1&include_can_media_tag=1&skip_status=1&cards_platform=Web-12&include_cards=1&include_ext_alt_text=true&include_quote_count=true&include_reply_count=1&tweet_mode=extended&include_entities=true&include_user_entities=true&include_ext_media_color=true&include_ext_media_availability=true&send_error_codes=true&simple_quoted_tweets=true&q=%23TooGoodToGo+since%3A2019-01-01+until%3A2021-12-28+lang%3Aen&tweet_search_mode=live&count=100&query_source=spelling_expansion_revert_click&cursor=scroll%3AthGAVUV0VFVBaEwKz59_HP4ygWjoCy_eDMo_ooEnEVzIJ6FYCJehgHREVGQVVMVDUBFQIVAAA%3D&pc=1&spelling_corrections=1&ext=mediaStats%2ChighlightedLabel\n",
      "2021-12-29 21:44:52,719 [INFO] snscrape.base - Retrieved https://api.twitter.com/2/search/adaptive.json?include_profile_interstitial_type=1&include_blocking=1&include_blocked_by=1&include_followed_by=1&include_want_retweets=1&include_mute_edge=1&include_can_dm=1&include_can_media_tag=1&skip_status=1&cards_platform=Web-12&include_cards=1&include_ext_alt_text=true&include_quote_count=true&include_reply_count=1&tweet_mode=extended&include_entities=true&include_user_entities=true&include_ext_media_color=true&include_ext_media_availability=true&send_error_codes=true&simple_quoted_tweets=true&q=%23TooGoodToGo+since%3A2019-01-01+until%3A2021-12-28+lang%3Aen&tweet_search_mode=live&count=100&query_source=spelling_expansion_revert_click&cursor=scroll%3AthGAVUV0VFVBaEwKz59_HP4ygWjoCy_eDMo_ooEnEVzIJ6FYCJehgHREVGQVVMVDUBFQIVAAA%3D&pc=1&spelling_corrections=1&ext=mediaStats%2ChighlightedLabel: 200\n",
      "2021-12-29 21:44:52,722 [INFO] snscrape.modules.twitter - Retrieving scroll page scroll:thGAVUV0VFVBaCwL39nuq-3igWjoCy_eDMo_ooEnEVvP95FYCJehgHREVGQVVMVDUBFQQVAAA=\n",
      "2021-12-29 21:44:52,723 [INFO] snscrape.base - Retrieving https://api.twitter.com/2/search/adaptive.json?include_profile_interstitial_type=1&include_blocking=1&include_blocked_by=1&include_followed_by=1&include_want_retweets=1&include_mute_edge=1&include_can_dm=1&include_can_media_tag=1&skip_status=1&cards_platform=Web-12&include_cards=1&include_ext_alt_text=true&include_quote_count=true&include_reply_count=1&tweet_mode=extended&include_entities=true&include_user_entities=true&include_ext_media_color=true&include_ext_media_availability=true&send_error_codes=true&simple_quoted_tweets=true&q=%23TooGoodToGo+since%3A2019-01-01+until%3A2021-12-28+lang%3Aen&tweet_search_mode=live&count=100&query_source=spelling_expansion_revert_click&cursor=scroll%3AthGAVUV0VFVBaCwL39nuq-3igWjoCy_eDMo_ooEnEVvP95FYCJehgHREVGQVVMVDUBFQQVAAA%3D&pc=1&spelling_corrections=1&ext=mediaStats%2ChighlightedLabel\n",
      "2021-12-29 21:44:53,455 [INFO] snscrape.base - Retrieved https://api.twitter.com/2/search/adaptive.json?include_profile_interstitial_type=1&include_blocking=1&include_blocked_by=1&include_followed_by=1&include_want_retweets=1&include_mute_edge=1&include_can_dm=1&include_can_media_tag=1&skip_status=1&cards_platform=Web-12&include_cards=1&include_ext_alt_text=true&include_quote_count=true&include_reply_count=1&tweet_mode=extended&include_entities=true&include_user_entities=true&include_ext_media_color=true&include_ext_media_availability=true&send_error_codes=true&simple_quoted_tweets=true&q=%23TooGoodToGo+since%3A2019-01-01+until%3A2021-12-28+lang%3Aen&tweet_search_mode=live&count=100&query_source=spelling_expansion_revert_click&cursor=scroll%3AthGAVUV0VFVBaCwL39nuq-3igWjoCy_eDMo_ooEnEVvP95FYCJehgHREVGQVVMVDUBFQQVAAA%3D&pc=1&spelling_corrections=1&ext=mediaStats%2ChighlightedLabel: 200\n",
      "2021-12-29 21:44:53,458 [INFO] snscrape.modules.twitter - Retrieving scroll page scroll:thGAVUV0VFVBaCwL7F7MmN1ygWjoCy_eDMo_ooEnEVrPx5FYCJehgHREVGQVVMVDUBFQYVAAA=\n",
      "2021-12-29 21:44:53,459 [INFO] snscrape.base - Retrieving https://api.twitter.com/2/search/adaptive.json?include_profile_interstitial_type=1&include_blocking=1&include_blocked_by=1&include_followed_by=1&include_want_retweets=1&include_mute_edge=1&include_can_dm=1&include_can_media_tag=1&skip_status=1&cards_platform=Web-12&include_cards=1&include_ext_alt_text=true&include_quote_count=true&include_reply_count=1&tweet_mode=extended&include_entities=true&include_user_entities=true&include_ext_media_color=true&include_ext_media_availability=true&send_error_codes=true&simple_quoted_tweets=true&q=%23TooGoodToGo+since%3A2019-01-01+until%3A2021-12-28+lang%3Aen&tweet_search_mode=live&count=100&query_source=spelling_expansion_revert_click&cursor=scroll%3AthGAVUV0VFVBaCwL7F7MmN1ygWjoCy_eDMo_ooEnEVrPx5FYCJehgHREVGQVVMVDUBFQYVAAA%3D&pc=1&spelling_corrections=1&ext=mediaStats%2ChighlightedLabel\n",
      "2021-12-29 21:44:54,109 [INFO] snscrape.base - Retrieved https://api.twitter.com/2/search/adaptive.json?include_profile_interstitial_type=1&include_blocking=1&include_blocked_by=1&include_followed_by=1&include_want_retweets=1&include_mute_edge=1&include_can_dm=1&include_can_media_tag=1&skip_status=1&cards_platform=Web-12&include_cards=1&include_ext_alt_text=true&include_quote_count=true&include_reply_count=1&tweet_mode=extended&include_entities=true&include_user_entities=true&include_ext_media_color=true&include_ext_media_availability=true&send_error_codes=true&simple_quoted_tweets=true&q=%23TooGoodToGo+since%3A2019-01-01+until%3A2021-12-28+lang%3Aen&tweet_search_mode=live&count=100&query_source=spelling_expansion_revert_click&cursor=scroll%3AthGAVUV0VFVBaCwL7F7MmN1ygWjoCy_eDMo_ooEnEVrPx5FYCJehgHREVGQVVMVDUBFQYVAAA%3D&pc=1&spelling_corrections=1&ext=mediaStats%2ChighlightedLabel: 200\n",
      "2021-12-29 21:44:54,123 [INFO] snscrape.modules.twitter - Retrieving scroll page scroll:thGAVUV0VFVBaMwLnRmuaCzSgWjoCy_eDMo_ooEnEVnPl5FYCJehgHREVGQVVMVDUBFQgVAAA=\n",
      "2021-12-29 21:44:54,126 [INFO] snscrape.base - Retrieving https://api.twitter.com/2/search/adaptive.json?include_profile_interstitial_type=1&include_blocking=1&include_blocked_by=1&include_followed_by=1&include_want_retweets=1&include_mute_edge=1&include_can_dm=1&include_can_media_tag=1&skip_status=1&cards_platform=Web-12&include_cards=1&include_ext_alt_text=true&include_quote_count=true&include_reply_count=1&tweet_mode=extended&include_entities=true&include_user_entities=true&include_ext_media_color=true&include_ext_media_availability=true&send_error_codes=true&simple_quoted_tweets=true&q=%23TooGoodToGo+since%3A2019-01-01+until%3A2021-12-28+lang%3Aen&tweet_search_mode=live&count=100&query_source=spelling_expansion_revert_click&cursor=scroll%3AthGAVUV0VFVBaMwLnRmuaCzSgWjoCy_eDMo_ooEnEVnPl5FYCJehgHREVGQVVMVDUBFQgVAAA%3D&pc=1&spelling_corrections=1&ext=mediaStats%2ChighlightedLabel\n",
      "2021-12-29 21:44:54,740 [INFO] snscrape.base - Retrieved https://api.twitter.com/2/search/adaptive.json?include_profile_interstitial_type=1&include_blocking=1&include_blocked_by=1&include_followed_by=1&include_want_retweets=1&include_mute_edge=1&include_can_dm=1&include_can_media_tag=1&skip_status=1&cards_platform=Web-12&include_cards=1&include_ext_alt_text=true&include_quote_count=true&include_reply_count=1&tweet_mode=extended&include_entities=true&include_user_entities=true&include_ext_media_color=true&include_ext_media_availability=true&send_error_codes=true&simple_quoted_tweets=true&q=%23TooGoodToGo+since%3A2019-01-01+until%3A2021-12-28+lang%3Aen&tweet_search_mode=live&count=100&query_source=spelling_expansion_revert_click&cursor=scroll%3AthGAVUV0VFVBaMwLnRmuaCzSgWjoCy_eDMo_ooEnEVnPl5FYCJehgHREVGQVVMVDUBFQgVAAA%3D&pc=1&spelling_corrections=1&ext=mediaStats%2ChighlightedLabel: 200\n",
      "2021-12-29 21:44:54,753 [INFO] snscrape.modules.twitter - Retrieving scroll page scroll:thGAVUV0VFVBaCwLKR0q_LwygWjoCy_eDMo_ooEnEVoPZ5FYCJehgHREVGQVVMVDUBFQoVAAA=\n",
      "2021-12-29 21:44:54,754 [INFO] snscrape.base - Retrieving https://api.twitter.com/2/search/adaptive.json?include_profile_interstitial_type=1&include_blocking=1&include_blocked_by=1&include_followed_by=1&include_want_retweets=1&include_mute_edge=1&include_can_dm=1&include_can_media_tag=1&skip_status=1&cards_platform=Web-12&include_cards=1&include_ext_alt_text=true&include_quote_count=true&include_reply_count=1&tweet_mode=extended&include_entities=true&include_user_entities=true&include_ext_media_color=true&include_ext_media_availability=true&send_error_codes=true&simple_quoted_tweets=true&q=%23TooGoodToGo+since%3A2019-01-01+until%3A2021-12-28+lang%3Aen&tweet_search_mode=live&count=100&query_source=spelling_expansion_revert_click&cursor=scroll%3AthGAVUV0VFVBaCwLKR0q_LwygWjoCy_eDMo_ooEnEVoPZ5FYCJehgHREVGQVVMVDUBFQoVAAA%3D&pc=1&spelling_corrections=1&ext=mediaStats%2ChighlightedLabel\n",
      "2021-12-29 21:44:55,425 [INFO] snscrape.base - Retrieved https://api.twitter.com/2/search/adaptive.json?include_profile_interstitial_type=1&include_blocking=1&include_blocked_by=1&include_followed_by=1&include_want_retweets=1&include_mute_edge=1&include_can_dm=1&include_can_media_tag=1&skip_status=1&cards_platform=Web-12&include_cards=1&include_ext_alt_text=true&include_quote_count=true&include_reply_count=1&tweet_mode=extended&include_entities=true&include_user_entities=true&include_ext_media_color=true&include_ext_media_availability=true&send_error_codes=true&simple_quoted_tweets=true&q=%23TooGoodToGo+since%3A2019-01-01+until%3A2021-12-28+lang%3Aen&tweet_search_mode=live&count=100&query_source=spelling_expansion_revert_click&cursor=scroll%3AthGAVUV0VFVBaCwLKR0q_LwygWjoCy_eDMo_ooEnEVoPZ5FYCJehgHREVGQVVMVDUBFQoVAAA%3D&pc=1&spelling_corrections=1&ext=mediaStats%2ChighlightedLabel: 200\n",
      "2021-12-29 21:44:55,433 [INFO] snscrape.modules.twitter - Retrieving scroll page scroll:thGAVUV0VFVBaKwLDN1cfGvCgWjoCy_eDMo_ooEnEVkPN5FYCJehgHREVGQVVMVDUBFQwVAAA=\n",
      "2021-12-29 21:44:55,434 [INFO] snscrape.base - Retrieving https://api.twitter.com/2/search/adaptive.json?include_profile_interstitial_type=1&include_blocking=1&include_blocked_by=1&include_followed_by=1&include_want_retweets=1&include_mute_edge=1&include_can_dm=1&include_can_media_tag=1&skip_status=1&cards_platform=Web-12&include_cards=1&include_ext_alt_text=true&include_quote_count=true&include_reply_count=1&tweet_mode=extended&include_entities=true&include_user_entities=true&include_ext_media_color=true&include_ext_media_availability=true&send_error_codes=true&simple_quoted_tweets=true&q=%23TooGoodToGo+since%3A2019-01-01+until%3A2021-12-28+lang%3Aen&tweet_search_mode=live&count=100&query_source=spelling_expansion_revert_click&cursor=scroll%3AthGAVUV0VFVBaKwLDN1cfGvCgWjoCy_eDMo_ooEnEVkPN5FYCJehgHREVGQVVMVDUBFQwVAAA%3D&pc=1&spelling_corrections=1&ext=mediaStats%2ChighlightedLabel\n",
      "2021-12-29 21:44:56,158 [INFO] snscrape.base - Retrieved https://api.twitter.com/2/search/adaptive.json?include_profile_interstitial_type=1&include_blocking=1&include_blocked_by=1&include_followed_by=1&include_want_retweets=1&include_mute_edge=1&include_can_dm=1&include_can_media_tag=1&skip_status=1&cards_platform=Web-12&include_cards=1&include_ext_alt_text=true&include_quote_count=true&include_reply_count=1&tweet_mode=extended&include_entities=true&include_user_entities=true&include_ext_media_color=true&include_ext_media_availability=true&send_error_codes=true&simple_quoted_tweets=true&q=%23TooGoodToGo+since%3A2019-01-01+until%3A2021-12-28+lang%3Aen&tweet_search_mode=live&count=100&query_source=spelling_expansion_revert_click&cursor=scroll%3AthGAVUV0VFVBaKwLDN1cfGvCgWjoCy_eDMo_ooEnEVkPN5FYCJehgHREVGQVVMVDUBFQwVAAA%3D&pc=1&spelling_corrections=1&ext=mediaStats%2ChighlightedLabel: 200\n",
      "2021-12-29 21:44:56,161 [INFO] snscrape.modules.twitter - Retrieving scroll page scroll:thGAVUV0VFVBaCgLKxgP_7rSgWjoCy_eDMo_ooEnEVgPB5FYCJehgHREVGQVVMVDUBFQ4VAAA=\n",
      "2021-12-29 21:44:56,162 [INFO] snscrape.base - Retrieving https://api.twitter.com/2/search/adaptive.json?include_profile_interstitial_type=1&include_blocking=1&include_blocked_by=1&include_followed_by=1&include_want_retweets=1&include_mute_edge=1&include_can_dm=1&include_can_media_tag=1&skip_status=1&cards_platform=Web-12&include_cards=1&include_ext_alt_text=true&include_quote_count=true&include_reply_count=1&tweet_mode=extended&include_entities=true&include_user_entities=true&include_ext_media_color=true&include_ext_media_availability=true&send_error_codes=true&simple_quoted_tweets=true&q=%23TooGoodToGo+since%3A2019-01-01+until%3A2021-12-28+lang%3Aen&tweet_search_mode=live&count=100&query_source=spelling_expansion_revert_click&cursor=scroll%3AthGAVUV0VFVBaCgLKxgP_7rSgWjoCy_eDMo_ooEnEVgPB5FYCJehgHREVGQVVMVDUBFQ4VAAA%3D&pc=1&spelling_corrections=1&ext=mediaStats%2ChighlightedLabel\n",
      "2021-12-29 21:44:56,767 [INFO] snscrape.base - Retrieved https://api.twitter.com/2/search/adaptive.json?include_profile_interstitial_type=1&include_blocking=1&include_blocked_by=1&include_followed_by=1&include_want_retweets=1&include_mute_edge=1&include_can_dm=1&include_can_media_tag=1&skip_status=1&cards_platform=Web-12&include_cards=1&include_ext_alt_text=true&include_quote_count=true&include_reply_count=1&tweet_mode=extended&include_entities=true&include_user_entities=true&include_ext_media_color=true&include_ext_media_availability=true&send_error_codes=true&simple_quoted_tweets=true&q=%23TooGoodToGo+since%3A2019-01-01+until%3A2021-12-28+lang%3Aen&tweet_search_mode=live&count=100&query_source=spelling_expansion_revert_click&cursor=scroll%3AthGAVUV0VFVBaCgLKxgP_7rSgWjoCy_eDMo_ooEnEVgPB5FYCJehgHREVGQVVMVDUBFQ4VAAA%3D&pc=1&spelling_corrections=1&ext=mediaStats%2ChighlightedLabel: 200\n",
      "2021-12-29 21:44:56,773 [INFO] snscrape.modules.twitter - Retrieving scroll page scroll:thGAVUV0VFVBaAwLnll7ieqigWjoCy_eDMo_ooEnEV8Ox5FYCJehgHREVGQVVMVDUBFRAVAAA=\n",
      "2021-12-29 21:44:56,775 [INFO] snscrape.base - Retrieving https://api.twitter.com/2/search/adaptive.json?include_profile_interstitial_type=1&include_blocking=1&include_blocked_by=1&include_followed_by=1&include_want_retweets=1&include_mute_edge=1&include_can_dm=1&include_can_media_tag=1&skip_status=1&cards_platform=Web-12&include_cards=1&include_ext_alt_text=true&include_quote_count=true&include_reply_count=1&tweet_mode=extended&include_entities=true&include_user_entities=true&include_ext_media_color=true&include_ext_media_availability=true&send_error_codes=true&simple_quoted_tweets=true&q=%23TooGoodToGo+since%3A2019-01-01+until%3A2021-12-28+lang%3Aen&tweet_search_mode=live&count=100&query_source=spelling_expansion_revert_click&cursor=scroll%3AthGAVUV0VFVBaAwLnll7ieqigWjoCy_eDMo_ooEnEV8Ox5FYCJehgHREVGQVVMVDUBFRAVAAA%3D&pc=1&spelling_corrections=1&ext=mediaStats%2ChighlightedLabel\n",
      "2021-12-29 21:44:57,396 [INFO] snscrape.base - Retrieved https://api.twitter.com/2/search/adaptive.json?include_profile_interstitial_type=1&include_blocking=1&include_blocked_by=1&include_followed_by=1&include_want_retweets=1&include_mute_edge=1&include_can_dm=1&include_can_media_tag=1&skip_status=1&cards_platform=Web-12&include_cards=1&include_ext_alt_text=true&include_quote_count=true&include_reply_count=1&tweet_mode=extended&include_entities=true&include_user_entities=true&include_ext_media_color=true&include_ext_media_availability=true&send_error_codes=true&simple_quoted_tweets=true&q=%23TooGoodToGo+since%3A2019-01-01+until%3A2021-12-28+lang%3Aen&tweet_search_mode=live&count=100&query_source=spelling_expansion_revert_click&cursor=scroll%3AthGAVUV0VFVBaAwLnll7ieqigWjoCy_eDMo_ooEnEV8Ox5FYCJehgHREVGQVVMVDUBFRAVAAA%3D&pc=1&spelling_corrections=1&ext=mediaStats%2ChighlightedLabel: 200\n",
      "2021-12-29 21:44:57,401 [INFO] snscrape.modules.twitter - Retrieving scroll page scroll:thGAVUV0VFVBaCgL3Fu9vrpSgWjoCy_eDMo_ooEnEV4Ol5FYCJehgHREVGQVVMVDUBFRIVAAA=\n",
      "2021-12-29 21:44:57,403 [INFO] snscrape.base - Retrieving https://api.twitter.com/2/search/adaptive.json?include_profile_interstitial_type=1&include_blocking=1&include_blocked_by=1&include_followed_by=1&include_want_retweets=1&include_mute_edge=1&include_can_dm=1&include_can_media_tag=1&skip_status=1&cards_platform=Web-12&include_cards=1&include_ext_alt_text=true&include_quote_count=true&include_reply_count=1&tweet_mode=extended&include_entities=true&include_user_entities=true&include_ext_media_color=true&include_ext_media_availability=true&send_error_codes=true&simple_quoted_tweets=true&q=%23TooGoodToGo+since%3A2019-01-01+until%3A2021-12-28+lang%3Aen&tweet_search_mode=live&count=100&query_source=spelling_expansion_revert_click&cursor=scroll%3AthGAVUV0VFVBaCgL3Fu9vrpSgWjoCy_eDMo_ooEnEV4Ol5FYCJehgHREVGQVVMVDUBFRIVAAA%3D&pc=1&spelling_corrections=1&ext=mediaStats%2ChighlightedLabel\n",
      "2021-12-29 21:44:58,127 [INFO] snscrape.base - Retrieved https://api.twitter.com/2/search/adaptive.json?include_profile_interstitial_type=1&include_blocking=1&include_blocked_by=1&include_followed_by=1&include_want_retweets=1&include_mute_edge=1&include_can_dm=1&include_can_media_tag=1&skip_status=1&cards_platform=Web-12&include_cards=1&include_ext_alt_text=true&include_quote_count=true&include_reply_count=1&tweet_mode=extended&include_entities=true&include_user_entities=true&include_ext_media_color=true&include_ext_media_availability=true&send_error_codes=true&simple_quoted_tweets=true&q=%23TooGoodToGo+since%3A2019-01-01+until%3A2021-12-28+lang%3Aen&tweet_search_mode=live&count=100&query_source=spelling_expansion_revert_click&cursor=scroll%3AthGAVUV0VFVBaCgL3Fu9vrpSgWjoCy_eDMo_ooEnEV4Ol5FYCJehgHREVGQVVMVDUBFRIVAAA%3D&pc=1&spelling_corrections=1&ext=mediaStats%2ChighlightedLabel: 200\n",
      "2021-12-29 21:44:58,133 [INFO] snscrape.modules.twitter - Retrieving scroll page scroll:thGAVUV0VFVBaCgLLxtMjpoCgWjoCy_eDMo_ooEnEV0OZ5FYCJehgHREVGQVVMVDUBFRQVAAA=\n",
      "2021-12-29 21:44:58,135 [INFO] snscrape.base - Retrieving https://api.twitter.com/2/search/adaptive.json?include_profile_interstitial_type=1&include_blocking=1&include_blocked_by=1&include_followed_by=1&include_want_retweets=1&include_mute_edge=1&include_can_dm=1&include_can_media_tag=1&skip_status=1&cards_platform=Web-12&include_cards=1&include_ext_alt_text=true&include_quote_count=true&include_reply_count=1&tweet_mode=extended&include_entities=true&include_user_entities=true&include_ext_media_color=true&include_ext_media_availability=true&send_error_codes=true&simple_quoted_tweets=true&q=%23TooGoodToGo+since%3A2019-01-01+until%3A2021-12-28+lang%3Aen&tweet_search_mode=live&count=100&query_source=spelling_expansion_revert_click&cursor=scroll%3AthGAVUV0VFVBaCgLLxtMjpoCgWjoCy_eDMo_ooEnEV0OZ5FYCJehgHREVGQVVMVDUBFRQVAAA%3D&pc=1&spelling_corrections=1&ext=mediaStats%2ChighlightedLabel\n",
      "2021-12-29 21:44:58,786 [INFO] snscrape.base - Retrieved https://api.twitter.com/2/search/adaptive.json?include_profile_interstitial_type=1&include_blocking=1&include_blocked_by=1&include_followed_by=1&include_want_retweets=1&include_mute_edge=1&include_can_dm=1&include_can_media_tag=1&skip_status=1&cards_platform=Web-12&include_cards=1&include_ext_alt_text=true&include_quote_count=true&include_reply_count=1&tweet_mode=extended&include_entities=true&include_user_entities=true&include_ext_media_color=true&include_ext_media_availability=true&send_error_codes=true&simple_quoted_tweets=true&q=%23TooGoodToGo+since%3A2019-01-01+until%3A2021-12-28+lang%3Aen&tweet_search_mode=live&count=100&query_source=spelling_expansion_revert_click&cursor=scroll%3AthGAVUV0VFVBaCgLLxtMjpoCgWjoCy_eDMo_ooEnEV0OZ5FYCJehgHREVGQVVMVDUBFRQVAAA%3D&pc=1&spelling_corrections=1&ext=mediaStats%2ChighlightedLabel: 200\n",
      "2021-12-29 21:44:58,791 [INFO] snscrape.modules.twitter - Retrieving scroll page scroll:thGAVUV0VFVBaQwLmB6dyJmCgWjoCy_eDMo_ooEnEVwON5FYCJehgHREVGQVVMVDUBFRYVAAA=\n",
      "2021-12-29 21:44:58,793 [INFO] snscrape.base - Retrieving https://api.twitter.com/2/search/adaptive.json?include_profile_interstitial_type=1&include_blocking=1&include_blocked_by=1&include_followed_by=1&include_want_retweets=1&include_mute_edge=1&include_can_dm=1&include_can_media_tag=1&skip_status=1&cards_platform=Web-12&include_cards=1&include_ext_alt_text=true&include_quote_count=true&include_reply_count=1&tweet_mode=extended&include_entities=true&include_user_entities=true&include_ext_media_color=true&include_ext_media_availability=true&send_error_codes=true&simple_quoted_tweets=true&q=%23TooGoodToGo+since%3A2019-01-01+until%3A2021-12-28+lang%3Aen&tweet_search_mode=live&count=100&query_source=spelling_expansion_revert_click&cursor=scroll%3AthGAVUV0VFVBaQwLmB6dyJmCgWjoCy_eDMo_ooEnEVwON5FYCJehgHREVGQVVMVDUBFRYVAAA%3D&pc=1&spelling_corrections=1&ext=mediaStats%2ChighlightedLabel\n",
      "2021-12-29 21:44:59,350 [INFO] snscrape.base - Retrieved https://api.twitter.com/2/search/adaptive.json?include_profile_interstitial_type=1&include_blocking=1&include_blocked_by=1&include_followed_by=1&include_want_retweets=1&include_mute_edge=1&include_can_dm=1&include_can_media_tag=1&skip_status=1&cards_platform=Web-12&include_cards=1&include_ext_alt_text=true&include_quote_count=true&include_reply_count=1&tweet_mode=extended&include_entities=true&include_user_entities=true&include_ext_media_color=true&include_ext_media_availability=true&send_error_codes=true&simple_quoted_tweets=true&q=%23TooGoodToGo+since%3A2019-01-01+until%3A2021-12-28+lang%3Aen&tweet_search_mode=live&count=100&query_source=spelling_expansion_revert_click&cursor=scroll%3AthGAVUV0VFVBaQwLmB6dyJmCgWjoCy_eDMo_ooEnEVwON5FYCJehgHREVGQVVMVDUBFRYVAAA%3D&pc=1&spelling_corrections=1&ext=mediaStats%2ChighlightedLabel: 200\n",
      "2021-12-29 21:44:59,357 [INFO] snscrape.modules.twitter - Retrieving scroll page scroll:thGAVUV0VFVBaCwLK9vergjigWjoCy_eDMo_ooEnEVsOB5FYCJehgHREVGQVVMVDUBFRgVAAA=\n",
      "2021-12-29 21:44:59,359 [INFO] snscrape.base - Retrieving https://api.twitter.com/2/search/adaptive.json?include_profile_interstitial_type=1&include_blocking=1&include_blocked_by=1&include_followed_by=1&include_want_retweets=1&include_mute_edge=1&include_can_dm=1&include_can_media_tag=1&skip_status=1&cards_platform=Web-12&include_cards=1&include_ext_alt_text=true&include_quote_count=true&include_reply_count=1&tweet_mode=extended&include_entities=true&include_user_entities=true&include_ext_media_color=true&include_ext_media_availability=true&send_error_codes=true&simple_quoted_tweets=true&q=%23TooGoodToGo+since%3A2019-01-01+until%3A2021-12-28+lang%3Aen&tweet_search_mode=live&count=100&query_source=spelling_expansion_revert_click&cursor=scroll%3AthGAVUV0VFVBaCwLK9vergjigWjoCy_eDMo_ooEnEVsOB5FYCJehgHREVGQVVMVDUBFRgVAAA%3D&pc=1&spelling_corrections=1&ext=mediaStats%2ChighlightedLabel\n",
      "2021-12-29 21:44:59,969 [INFO] snscrape.base - Retrieved https://api.twitter.com/2/search/adaptive.json?include_profile_interstitial_type=1&include_blocking=1&include_blocked_by=1&include_followed_by=1&include_want_retweets=1&include_mute_edge=1&include_can_dm=1&include_can_media_tag=1&skip_status=1&cards_platform=Web-12&include_cards=1&include_ext_alt_text=true&include_quote_count=true&include_reply_count=1&tweet_mode=extended&include_entities=true&include_user_entities=true&include_ext_media_color=true&include_ext_media_availability=true&send_error_codes=true&simple_quoted_tweets=true&q=%23TooGoodToGo+since%3A2019-01-01+until%3A2021-12-28+lang%3Aen&tweet_search_mode=live&count=100&query_source=spelling_expansion_revert_click&cursor=scroll%3AthGAVUV0VFVBaCwLK9vergjigWjoCy_eDMo_ooEnEVsOB5FYCJehgHREVGQVVMVDUBFRgVAAA%3D&pc=1&spelling_corrections=1&ext=mediaStats%2ChighlightedLabel: 200\n",
      "2021-12-29 21:44:59,975 [INFO] snscrape.modules.twitter - Retrieving scroll page scroll:thGAVUV0VFVBaSgKyRmo_diCgWjoCy_eDMo_ooEnEVoN15FYCJehgHREVGQVVMVDUBFRoVAAA=\n",
      "2021-12-29 21:44:59,976 [INFO] snscrape.base - Retrieving https://api.twitter.com/2/search/adaptive.json?include_profile_interstitial_type=1&include_blocking=1&include_blocked_by=1&include_followed_by=1&include_want_retweets=1&include_mute_edge=1&include_can_dm=1&include_can_media_tag=1&skip_status=1&cards_platform=Web-12&include_cards=1&include_ext_alt_text=true&include_quote_count=true&include_reply_count=1&tweet_mode=extended&include_entities=true&include_user_entities=true&include_ext_media_color=true&include_ext_media_availability=true&send_error_codes=true&simple_quoted_tweets=true&q=%23TooGoodToGo+since%3A2019-01-01+until%3A2021-12-28+lang%3Aen&tweet_search_mode=live&count=100&query_source=spelling_expansion_revert_click&cursor=scroll%3AthGAVUV0VFVBaSgKyRmo_diCgWjoCy_eDMo_ooEnEVoN15FYCJehgHREVGQVVMVDUBFRoVAAA%3D&pc=1&spelling_corrections=1&ext=mediaStats%2ChighlightedLabel\n",
      "2021-12-29 21:45:00,526 [INFO] snscrape.base - Retrieved https://api.twitter.com/2/search/adaptive.json?include_profile_interstitial_type=1&include_blocking=1&include_blocked_by=1&include_followed_by=1&include_want_retweets=1&include_mute_edge=1&include_can_dm=1&include_can_media_tag=1&skip_status=1&cards_platform=Web-12&include_cards=1&include_ext_alt_text=true&include_quote_count=true&include_reply_count=1&tweet_mode=extended&include_entities=true&include_user_entities=true&include_ext_media_color=true&include_ext_media_availability=true&send_error_codes=true&simple_quoted_tweets=true&q=%23TooGoodToGo+since%3A2019-01-01+until%3A2021-12-28+lang%3Aen&tweet_search_mode=live&count=100&query_source=spelling_expansion_revert_click&cursor=scroll%3AthGAVUV0VFVBaSgKyRmo_diCgWjoCy_eDMo_ooEnEVoN15FYCJehgHREVGQVVMVDUBFRoVAAA%3D&pc=1&spelling_corrections=1&ext=mediaStats%2ChighlightedLabel: 200\n",
      "2021-12-29 21:45:00,532 [INFO] snscrape.modules.twitter - Retrieving scroll page scroll:thGAVUV0VFVBaCgKyB3uPdgygWjoCy_eDMo_ooEnEVkNp5FYCJehgHREVGQVVMVDUBFRwVAAA=\n",
      "2021-12-29 21:45:00,533 [INFO] snscrape.base - Retrieving https://api.twitter.com/2/search/adaptive.json?include_profile_interstitial_type=1&include_blocking=1&include_blocked_by=1&include_followed_by=1&include_want_retweets=1&include_mute_edge=1&include_can_dm=1&include_can_media_tag=1&skip_status=1&cards_platform=Web-12&include_cards=1&include_ext_alt_text=true&include_quote_count=true&include_reply_count=1&tweet_mode=extended&include_entities=true&include_user_entities=true&include_ext_media_color=true&include_ext_media_availability=true&send_error_codes=true&simple_quoted_tweets=true&q=%23TooGoodToGo+since%3A2019-01-01+until%3A2021-12-28+lang%3Aen&tweet_search_mode=live&count=100&query_source=spelling_expansion_revert_click&cursor=scroll%3AthGAVUV0VFVBaCgKyB3uPdgygWjoCy_eDMo_ooEnEVkNp5FYCJehgHREVGQVVMVDUBFRwVAAA%3D&pc=1&spelling_corrections=1&ext=mediaStats%2ChighlightedLabel\n",
      "2021-12-29 21:45:01,197 [INFO] snscrape.base - Retrieved https://api.twitter.com/2/search/adaptive.json?include_profile_interstitial_type=1&include_blocking=1&include_blocked_by=1&include_followed_by=1&include_want_retweets=1&include_mute_edge=1&include_can_dm=1&include_can_media_tag=1&skip_status=1&cards_platform=Web-12&include_cards=1&include_ext_alt_text=true&include_quote_count=true&include_reply_count=1&tweet_mode=extended&include_entities=true&include_user_entities=true&include_ext_media_color=true&include_ext_media_availability=true&send_error_codes=true&simple_quoted_tweets=true&q=%23TooGoodToGo+since%3A2019-01-01+until%3A2021-12-28+lang%3Aen&tweet_search_mode=live&count=100&query_source=spelling_expansion_revert_click&cursor=scroll%3AthGAVUV0VFVBaCgKyB3uPdgygWjoCy_eDMo_ooEnEVkNp5FYCJehgHREVGQVVMVDUBFRwVAAA%3D&pc=1&spelling_corrections=1&ext=mediaStats%2ChighlightedLabel: 200\n",
      "2021-12-29 21:45:01,203 [INFO] snscrape.modules.twitter - Retrieving scroll page scroll:thGAVUV0VFVBaEwLDpzemX-ScWjoCy_eDMo_ooEnEVgNd5FYCJehgHREVGQVVMVDUBFR4VAAA=\n",
      "2021-12-29 21:45:01,206 [INFO] snscrape.base - Retrieving https://api.twitter.com/2/search/adaptive.json?include_profile_interstitial_type=1&include_blocking=1&include_blocked_by=1&include_followed_by=1&include_want_retweets=1&include_mute_edge=1&include_can_dm=1&include_can_media_tag=1&skip_status=1&cards_platform=Web-12&include_cards=1&include_ext_alt_text=true&include_quote_count=true&include_reply_count=1&tweet_mode=extended&include_entities=true&include_user_entities=true&include_ext_media_color=true&include_ext_media_availability=true&send_error_codes=true&simple_quoted_tweets=true&q=%23TooGoodToGo+since%3A2019-01-01+until%3A2021-12-28+lang%3Aen&tweet_search_mode=live&count=100&query_source=spelling_expansion_revert_click&cursor=scroll%3AthGAVUV0VFVBaEwLDpzemX-ScWjoCy_eDMo_ooEnEVgNd5FYCJehgHREVGQVVMVDUBFR4VAAA%3D&pc=1&spelling_corrections=1&ext=mediaStats%2ChighlightedLabel\n",
      "2021-12-29 21:45:01,860 [INFO] snscrape.base - Retrieved https://api.twitter.com/2/search/adaptive.json?include_profile_interstitial_type=1&include_blocking=1&include_blocked_by=1&include_followed_by=1&include_want_retweets=1&include_mute_edge=1&include_can_dm=1&include_can_media_tag=1&skip_status=1&cards_platform=Web-12&include_cards=1&include_ext_alt_text=true&include_quote_count=true&include_reply_count=1&tweet_mode=extended&include_entities=true&include_user_entities=true&include_ext_media_color=true&include_ext_media_availability=true&send_error_codes=true&simple_quoted_tweets=true&q=%23TooGoodToGo+since%3A2019-01-01+until%3A2021-12-28+lang%3Aen&tweet_search_mode=live&count=100&query_source=spelling_expansion_revert_click&cursor=scroll%3AthGAVUV0VFVBaEwLDpzemX-ScWjoCy_eDMo_ooEnEVgNd5FYCJehgHREVGQVVMVDUBFR4VAAA%3D&pc=1&spelling_corrections=1&ext=mediaStats%2ChighlightedLabel: 200\n",
      "2021-12-29 21:45:01,867 [INFO] snscrape.modules.twitter - Retrieving scroll page scroll:thGAVUV0VFVBaCgLLF6Krm7ycWjoCy_eDMo_ooEnEVhNR5FYCJehgHREVGQVVMVDUBFSAVAAA=\n",
      "2021-12-29 21:45:01,869 [INFO] snscrape.base - Retrieving https://api.twitter.com/2/search/adaptive.json?include_profile_interstitial_type=1&include_blocking=1&include_blocked_by=1&include_followed_by=1&include_want_retweets=1&include_mute_edge=1&include_can_dm=1&include_can_media_tag=1&skip_status=1&cards_platform=Web-12&include_cards=1&include_ext_alt_text=true&include_quote_count=true&include_reply_count=1&tweet_mode=extended&include_entities=true&include_user_entities=true&include_ext_media_color=true&include_ext_media_availability=true&send_error_codes=true&simple_quoted_tweets=true&q=%23TooGoodToGo+since%3A2019-01-01+until%3A2021-12-28+lang%3Aen&tweet_search_mode=live&count=100&query_source=spelling_expansion_revert_click&cursor=scroll%3AthGAVUV0VFVBaCgLLF6Krm7ycWjoCy_eDMo_ooEnEVhNR5FYCJehgHREVGQVVMVDUBFSAVAAA%3D&pc=1&spelling_corrections=1&ext=mediaStats%2ChighlightedLabel\n",
      "2021-12-29 21:45:02,551 [INFO] snscrape.base - Retrieved https://api.twitter.com/2/search/adaptive.json?include_profile_interstitial_type=1&include_blocking=1&include_blocked_by=1&include_followed_by=1&include_want_retweets=1&include_mute_edge=1&include_can_dm=1&include_can_media_tag=1&skip_status=1&cards_platform=Web-12&include_cards=1&include_ext_alt_text=true&include_quote_count=true&include_reply_count=1&tweet_mode=extended&include_entities=true&include_user_entities=true&include_ext_media_color=true&include_ext_media_availability=true&send_error_codes=true&simple_quoted_tweets=true&q=%23TooGoodToGo+since%3A2019-01-01+until%3A2021-12-28+lang%3Aen&tweet_search_mode=live&count=100&query_source=spelling_expansion_revert_click&cursor=scroll%3AthGAVUV0VFVBaCgLLF6Krm7ycWjoCy_eDMo_ooEnEVhNR5FYCJehgHREVGQVVMVDUBFSAVAAA%3D&pc=1&spelling_corrections=1&ext=mediaStats%2ChighlightedLabel: 200\n",
      "2021-12-29 21:45:02,563 [INFO] snscrape.modules.twitter - Retrieving scroll page scroll:thGAVUV0VFVBaEgLLR0fuH6icWjoCy_eDMo_ooEnEVnNF5FYCJehgHREVGQVVMVDUBFSIVAAA=\n",
      "2021-12-29 21:45:02,566 [INFO] snscrape.base - Retrieving https://api.twitter.com/2/search/adaptive.json?include_profile_interstitial_type=1&include_blocking=1&include_blocked_by=1&include_followed_by=1&include_want_retweets=1&include_mute_edge=1&include_can_dm=1&include_can_media_tag=1&skip_status=1&cards_platform=Web-12&include_cards=1&include_ext_alt_text=true&include_quote_count=true&include_reply_count=1&tweet_mode=extended&include_entities=true&include_user_entities=true&include_ext_media_color=true&include_ext_media_availability=true&send_error_codes=true&simple_quoted_tweets=true&q=%23TooGoodToGo+since%3A2019-01-01+until%3A2021-12-28+lang%3Aen&tweet_search_mode=live&count=100&query_source=spelling_expansion_revert_click&cursor=scroll%3AthGAVUV0VFVBaEgLLR0fuH6icWjoCy_eDMo_ooEnEVnNF5FYCJehgHREVGQVVMVDUBFSIVAAA%3D&pc=1&spelling_corrections=1&ext=mediaStats%2ChighlightedLabel\n",
      "2021-12-29 21:45:03,235 [INFO] snscrape.base - Retrieved https://api.twitter.com/2/search/adaptive.json?include_profile_interstitial_type=1&include_blocking=1&include_blocked_by=1&include_followed_by=1&include_want_retweets=1&include_mute_edge=1&include_can_dm=1&include_can_media_tag=1&skip_status=1&cards_platform=Web-12&include_cards=1&include_ext_alt_text=true&include_quote_count=true&include_reply_count=1&tweet_mode=extended&include_entities=true&include_user_entities=true&include_ext_media_color=true&include_ext_media_availability=true&send_error_codes=true&simple_quoted_tweets=true&q=%23TooGoodToGo+since%3A2019-01-01+until%3A2021-12-28+lang%3Aen&tweet_search_mode=live&count=100&query_source=spelling_expansion_revert_click&cursor=scroll%3AthGAVUV0VFVBaEgLLR0fuH6icWjoCy_eDMo_ooEnEVnNF5FYCJehgHREVGQVVMVDUBFSIVAAA%3D&pc=1&spelling_corrections=1&ext=mediaStats%2ChighlightedLabel: 200\n",
      "2021-12-29 21:45:03,240 [INFO] snscrape.modules.twitter - Retrieving scroll page scroll:thGAVUV0VFVBaAgLO9ya2l4ycWjoCy_eDMo_ooEnEVjM55FYCJehgHREVGQVVMVDUBFSQVAAA=\n",
      "2021-12-29 21:45:03,242 [INFO] snscrape.base - Retrieving https://api.twitter.com/2/search/adaptive.json?include_profile_interstitial_type=1&include_blocking=1&include_blocked_by=1&include_followed_by=1&include_want_retweets=1&include_mute_edge=1&include_can_dm=1&include_can_media_tag=1&skip_status=1&cards_platform=Web-12&include_cards=1&include_ext_alt_text=true&include_quote_count=true&include_reply_count=1&tweet_mode=extended&include_entities=true&include_user_entities=true&include_ext_media_color=true&include_ext_media_availability=true&send_error_codes=true&simple_quoted_tweets=true&q=%23TooGoodToGo+since%3A2019-01-01+until%3A2021-12-28+lang%3Aen&tweet_search_mode=live&count=100&query_source=spelling_expansion_revert_click&cursor=scroll%3AthGAVUV0VFVBaAgLO9ya2l4ycWjoCy_eDMo_ooEnEVjM55FYCJehgHREVGQVVMVDUBFSQVAAA%3D&pc=1&spelling_corrections=1&ext=mediaStats%2ChighlightedLabel\n",
      "2021-12-29 21:45:03,902 [INFO] snscrape.base - Retrieved https://api.twitter.com/2/search/adaptive.json?include_profile_interstitial_type=1&include_blocking=1&include_blocked_by=1&include_followed_by=1&include_want_retweets=1&include_mute_edge=1&include_can_dm=1&include_can_media_tag=1&skip_status=1&cards_platform=Web-12&include_cards=1&include_ext_alt_text=true&include_quote_count=true&include_reply_count=1&tweet_mode=extended&include_entities=true&include_user_entities=true&include_ext_media_color=true&include_ext_media_availability=true&send_error_codes=true&simple_quoted_tweets=true&q=%23TooGoodToGo+since%3A2019-01-01+until%3A2021-12-28+lang%3Aen&tweet_search_mode=live&count=100&query_source=spelling_expansion_revert_click&cursor=scroll%3AthGAVUV0VFVBaAgLO9ya2l4ycWjoCy_eDMo_ooEnEVjM55FYCJehgHREVGQVVMVDUBFSQVAAA%3D&pc=1&spelling_corrections=1&ext=mediaStats%2ChighlightedLabel: 200\n",
      "2021-12-29 21:45:03,907 [INFO] snscrape.modules.twitter - Retrieving scroll page scroll:thGAVUV0VFVBaCgLnJtaf93CcWjoCy_eDMo_ooEnEV_Mp5FYCJehgHREVGQVVMVDUBFSYVAAA=\n",
      "2021-12-29 21:45:03,909 [INFO] snscrape.base - Retrieving https://api.twitter.com/2/search/adaptive.json?include_profile_interstitial_type=1&include_blocking=1&include_blocked_by=1&include_followed_by=1&include_want_retweets=1&include_mute_edge=1&include_can_dm=1&include_can_media_tag=1&skip_status=1&cards_platform=Web-12&include_cards=1&include_ext_alt_text=true&include_quote_count=true&include_reply_count=1&tweet_mode=extended&include_entities=true&include_user_entities=true&include_ext_media_color=true&include_ext_media_availability=true&send_error_codes=true&simple_quoted_tweets=true&q=%23TooGoodToGo+since%3A2019-01-01+until%3A2021-12-28+lang%3Aen&tweet_search_mode=live&count=100&query_source=spelling_expansion_revert_click&cursor=scroll%3AthGAVUV0VFVBaCgLnJtaf93CcWjoCy_eDMo_ooEnEV_Mp5FYCJehgHREVGQVVMVDUBFSYVAAA%3D&pc=1&spelling_corrections=1&ext=mediaStats%2ChighlightedLabel\n",
      "2021-12-29 21:45:04,517 [INFO] snscrape.base - Retrieved https://api.twitter.com/2/search/adaptive.json?include_profile_interstitial_type=1&include_blocking=1&include_blocked_by=1&include_followed_by=1&include_want_retweets=1&include_mute_edge=1&include_can_dm=1&include_can_media_tag=1&skip_status=1&cards_platform=Web-12&include_cards=1&include_ext_alt_text=true&include_quote_count=true&include_reply_count=1&tweet_mode=extended&include_entities=true&include_user_entities=true&include_ext_media_color=true&include_ext_media_availability=true&send_error_codes=true&simple_quoted_tweets=true&q=%23TooGoodToGo+since%3A2019-01-01+until%3A2021-12-28+lang%3Aen&tweet_search_mode=live&count=100&query_source=spelling_expansion_revert_click&cursor=scroll%3AthGAVUV0VFVBaCgLnJtaf93CcWjoCy_eDMo_ooEnEV_Mp5FYCJehgHREVGQVVMVDUBFSYVAAA%3D&pc=1&spelling_corrections=1&ext=mediaStats%2ChighlightedLabel: 200\n",
      "2021-12-29 21:45:04,522 [INFO] snscrape.modules.twitter - Retrieving scroll page scroll:thGAVUV0VFVBaEwL2ByLa91ycWjoCy_eDMo_ooEnEV7Md5FYCJehgHREVGQVVMVDUBFSgVAAA=\n",
      "2021-12-29 21:45:04,524 [INFO] snscrape.base - Retrieving https://api.twitter.com/2/search/adaptive.json?include_profile_interstitial_type=1&include_blocking=1&include_blocked_by=1&include_followed_by=1&include_want_retweets=1&include_mute_edge=1&include_can_dm=1&include_can_media_tag=1&skip_status=1&cards_platform=Web-12&include_cards=1&include_ext_alt_text=true&include_quote_count=true&include_reply_count=1&tweet_mode=extended&include_entities=true&include_user_entities=true&include_ext_media_color=true&include_ext_media_availability=true&send_error_codes=true&simple_quoted_tweets=true&q=%23TooGoodToGo+since%3A2019-01-01+until%3A2021-12-28+lang%3Aen&tweet_search_mode=live&count=100&query_source=spelling_expansion_revert_click&cursor=scroll%3AthGAVUV0VFVBaEwL2ByLa91ycWjoCy_eDMo_ooEnEV7Md5FYCJehgHREVGQVVMVDUBFSgVAAA%3D&pc=1&spelling_corrections=1&ext=mediaStats%2ChighlightedLabel\n",
      "2021-12-29 21:45:05,090 [INFO] snscrape.base - Retrieved https://api.twitter.com/2/search/adaptive.json?include_profile_interstitial_type=1&include_blocking=1&include_blocked_by=1&include_followed_by=1&include_want_retweets=1&include_mute_edge=1&include_can_dm=1&include_can_media_tag=1&skip_status=1&cards_platform=Web-12&include_cards=1&include_ext_alt_text=true&include_quote_count=true&include_reply_count=1&tweet_mode=extended&include_entities=true&include_user_entities=true&include_ext_media_color=true&include_ext_media_availability=true&send_error_codes=true&simple_quoted_tweets=true&q=%23TooGoodToGo+since%3A2019-01-01+until%3A2021-12-28+lang%3Aen&tweet_search_mode=live&count=100&query_source=spelling_expansion_revert_click&cursor=scroll%3AthGAVUV0VFVBaEwL2ByLa91ycWjoCy_eDMo_ooEnEV7Md5FYCJehgHREVGQVVMVDUBFSgVAAA%3D&pc=1&spelling_corrections=1&ext=mediaStats%2ChighlightedLabel: 200\n",
      "2021-12-29 21:45:05,095 [INFO] snscrape.modules.twitter - Retrieving scroll page scroll:thGAVUV0VFVBaAwLCV1aKZ0CcWjoCy_eDMo_ooEnEV3MR5FYCJehgHREVGQVVMVDUBFSoVAAA=\n",
      "2021-12-29 21:45:05,097 [INFO] snscrape.base - Retrieving https://api.twitter.com/2/search/adaptive.json?include_profile_interstitial_type=1&include_blocking=1&include_blocked_by=1&include_followed_by=1&include_want_retweets=1&include_mute_edge=1&include_can_dm=1&include_can_media_tag=1&skip_status=1&cards_platform=Web-12&include_cards=1&include_ext_alt_text=true&include_quote_count=true&include_reply_count=1&tweet_mode=extended&include_entities=true&include_user_entities=true&include_ext_media_color=true&include_ext_media_availability=true&send_error_codes=true&simple_quoted_tweets=true&q=%23TooGoodToGo+since%3A2019-01-01+until%3A2021-12-28+lang%3Aen&tweet_search_mode=live&count=100&query_source=spelling_expansion_revert_click&cursor=scroll%3AthGAVUV0VFVBaAwLCV1aKZ0CcWjoCy_eDMo_ooEnEV3MR5FYCJehgHREVGQVVMVDUBFSoVAAA%3D&pc=1&spelling_corrections=1&ext=mediaStats%2ChighlightedLabel\n",
      "2021-12-29 21:45:05,745 [INFO] snscrape.base - Retrieved https://api.twitter.com/2/search/adaptive.json?include_profile_interstitial_type=1&include_blocking=1&include_blocked_by=1&include_followed_by=1&include_want_retweets=1&include_mute_edge=1&include_can_dm=1&include_can_media_tag=1&skip_status=1&cards_platform=Web-12&include_cards=1&include_ext_alt_text=true&include_quote_count=true&include_reply_count=1&tweet_mode=extended&include_entities=true&include_user_entities=true&include_ext_media_color=true&include_ext_media_availability=true&send_error_codes=true&simple_quoted_tweets=true&q=%23TooGoodToGo+since%3A2019-01-01+until%3A2021-12-28+lang%3Aen&tweet_search_mode=live&count=100&query_source=spelling_expansion_revert_click&cursor=scroll%3AthGAVUV0VFVBaAwLCV1aKZ0CcWjoCy_eDMo_ooEnEV3MR5FYCJehgHREVGQVVMVDUBFSoVAAA%3D&pc=1&spelling_corrections=1&ext=mediaStats%2ChighlightedLabel: 200\n",
      "2021-12-29 21:45:05,750 [INFO] snscrape.modules.twitter - Retrieving scroll page scroll:thGAVUV0VFVBaGgLmJwMrXyCcWjoCy_eDMo_ooEnEVzMF5FYCJehgHREVGQVVMVDUBFSwVAAA=\n",
      "2021-12-29 21:45:05,752 [INFO] snscrape.base - Retrieving https://api.twitter.com/2/search/adaptive.json?include_profile_interstitial_type=1&include_blocking=1&include_blocked_by=1&include_followed_by=1&include_want_retweets=1&include_mute_edge=1&include_can_dm=1&include_can_media_tag=1&skip_status=1&cards_platform=Web-12&include_cards=1&include_ext_alt_text=true&include_quote_count=true&include_reply_count=1&tweet_mode=extended&include_entities=true&include_user_entities=true&include_ext_media_color=true&include_ext_media_availability=true&send_error_codes=true&simple_quoted_tweets=true&q=%23TooGoodToGo+since%3A2019-01-01+until%3A2021-12-28+lang%3Aen&tweet_search_mode=live&count=100&query_source=spelling_expansion_revert_click&cursor=scroll%3AthGAVUV0VFVBaGgLmJwMrXyCcWjoCy_eDMo_ooEnEVzMF5FYCJehgHREVGQVVMVDUBFSwVAAA%3D&pc=1&spelling_corrections=1&ext=mediaStats%2ChighlightedLabel\n",
      "2021-12-29 21:45:06,727 [INFO] snscrape.base - Retrieved https://api.twitter.com/2/search/adaptive.json?include_profile_interstitial_type=1&include_blocking=1&include_blocked_by=1&include_followed_by=1&include_want_retweets=1&include_mute_edge=1&include_can_dm=1&include_can_media_tag=1&skip_status=1&cards_platform=Web-12&include_cards=1&include_ext_alt_text=true&include_quote_count=true&include_reply_count=1&tweet_mode=extended&include_entities=true&include_user_entities=true&include_ext_media_color=true&include_ext_media_availability=true&send_error_codes=true&simple_quoted_tweets=true&q=%23TooGoodToGo+since%3A2019-01-01+until%3A2021-12-28+lang%3Aen&tweet_search_mode=live&count=100&query_source=spelling_expansion_revert_click&cursor=scroll%3AthGAVUV0VFVBaGgLmJwMrXyCcWjoCy_eDMo_ooEnEVzMF5FYCJehgHREVGQVVMVDUBFSwVAAA%3D&pc=1&spelling_corrections=1&ext=mediaStats%2ChighlightedLabel: 200\n",
      "2021-12-29 21:45:06,732 [INFO] snscrape.modules.twitter - Retrieving scroll page scroll:thGAVUV0VFVBaCgL358JjSvCcWjoCy_eDMo_ooEnEV0L55FYCJehgHREVGQVVMVDUBFS4VAAA=\n",
      "2021-12-29 21:45:06,734 [INFO] snscrape.base - Retrieving https://api.twitter.com/2/search/adaptive.json?include_profile_interstitial_type=1&include_blocking=1&include_blocked_by=1&include_followed_by=1&include_want_retweets=1&include_mute_edge=1&include_can_dm=1&include_can_media_tag=1&skip_status=1&cards_platform=Web-12&include_cards=1&include_ext_alt_text=true&include_quote_count=true&include_reply_count=1&tweet_mode=extended&include_entities=true&include_user_entities=true&include_ext_media_color=true&include_ext_media_availability=true&send_error_codes=true&simple_quoted_tweets=true&q=%23TooGoodToGo+since%3A2019-01-01+until%3A2021-12-28+lang%3Aen&tweet_search_mode=live&count=100&query_source=spelling_expansion_revert_click&cursor=scroll%3AthGAVUV0VFVBaCgL358JjSvCcWjoCy_eDMo_ooEnEV0L55FYCJehgHREVGQVVMVDUBFS4VAAA%3D&pc=1&spelling_corrections=1&ext=mediaStats%2ChighlightedLabel\n",
      "2021-12-29 21:45:07,341 [INFO] snscrape.base - Retrieved https://api.twitter.com/2/search/adaptive.json?include_profile_interstitial_type=1&include_blocking=1&include_blocked_by=1&include_followed_by=1&include_want_retweets=1&include_mute_edge=1&include_can_dm=1&include_can_media_tag=1&skip_status=1&cards_platform=Web-12&include_cards=1&include_ext_alt_text=true&include_quote_count=true&include_reply_count=1&tweet_mode=extended&include_entities=true&include_user_entities=true&include_ext_media_color=true&include_ext_media_availability=true&send_error_codes=true&simple_quoted_tweets=true&q=%23TooGoodToGo+since%3A2019-01-01+until%3A2021-12-28+lang%3Aen&tweet_search_mode=live&count=100&query_source=spelling_expansion_revert_click&cursor=scroll%3AthGAVUV0VFVBaCgL358JjSvCcWjoCy_eDMo_ooEnEV0L55FYCJehgHREVGQVVMVDUBFS4VAAA%3D&pc=1&spelling_corrections=1&ext=mediaStats%2ChighlightedLabel: 200\n",
      "2021-12-29 21:45:07,347 [INFO] snscrape.modules.twitter - Retrieving scroll page scroll:thGAVUV0VFVBaMgLOF64vIticWjoCy_eDMo_ooEnEVwLt5FYCJehgHREVGQVVMVDUBFTAVAAA=\n",
      "2021-12-29 21:45:07,349 [INFO] snscrape.base - Retrieving https://api.twitter.com/2/search/adaptive.json?include_profile_interstitial_type=1&include_blocking=1&include_blocked_by=1&include_followed_by=1&include_want_retweets=1&include_mute_edge=1&include_can_dm=1&include_can_media_tag=1&skip_status=1&cards_platform=Web-12&include_cards=1&include_ext_alt_text=true&include_quote_count=true&include_reply_count=1&tweet_mode=extended&include_entities=true&include_user_entities=true&include_ext_media_color=true&include_ext_media_availability=true&send_error_codes=true&simple_quoted_tweets=true&q=%23TooGoodToGo+since%3A2019-01-01+until%3A2021-12-28+lang%3Aen&tweet_search_mode=live&count=100&query_source=spelling_expansion_revert_click&cursor=scroll%3AthGAVUV0VFVBaMgLOF64vIticWjoCy_eDMo_ooEnEVwLt5FYCJehgHREVGQVVMVDUBFTAVAAA%3D&pc=1&spelling_corrections=1&ext=mediaStats%2ChighlightedLabel\n",
      "2021-12-29 21:45:07,833 [INFO] snscrape.base - Retrieved https://api.twitter.com/2/search/adaptive.json?include_profile_interstitial_type=1&include_blocking=1&include_blocked_by=1&include_followed_by=1&include_want_retweets=1&include_mute_edge=1&include_can_dm=1&include_can_media_tag=1&skip_status=1&cards_platform=Web-12&include_cards=1&include_ext_alt_text=true&include_quote_count=true&include_reply_count=1&tweet_mode=extended&include_entities=true&include_user_entities=true&include_ext_media_color=true&include_ext_media_availability=true&send_error_codes=true&simple_quoted_tweets=true&q=%23TooGoodToGo+since%3A2019-01-01+until%3A2021-12-28+lang%3Aen&tweet_search_mode=live&count=100&query_source=spelling_expansion_revert_click&cursor=scroll%3AthGAVUV0VFVBaMgLOF64vIticWjoCy_eDMo_ooEnEVwLt5FYCJehgHREVGQVVMVDUBFTAVAAA%3D&pc=1&spelling_corrections=1&ext=mediaStats%2ChighlightedLabel: 200\n",
      "2021-12-29 21:45:07,837 [INFO] snscrape.modules.twitter - Retrieving scroll page scroll:thGAVUV0VFVBaEgL2d6OO_sycWjoCy_eDMo_ooEnEVsLh5FYCJehgHREVGQVVMVDUBFTIVAAA=\n",
      "2021-12-29 21:45:07,839 [INFO] snscrape.base - Retrieving https://api.twitter.com/2/search/adaptive.json?include_profile_interstitial_type=1&include_blocking=1&include_blocked_by=1&include_followed_by=1&include_want_retweets=1&include_mute_edge=1&include_can_dm=1&include_can_media_tag=1&skip_status=1&cards_platform=Web-12&include_cards=1&include_ext_alt_text=true&include_quote_count=true&include_reply_count=1&tweet_mode=extended&include_entities=true&include_user_entities=true&include_ext_media_color=true&include_ext_media_availability=true&send_error_codes=true&simple_quoted_tweets=true&q=%23TooGoodToGo+since%3A2019-01-01+until%3A2021-12-28+lang%3Aen&tweet_search_mode=live&count=100&query_source=spelling_expansion_revert_click&cursor=scroll%3AthGAVUV0VFVBaEgL2d6OO_sycWjoCy_eDMo_ooEnEVsLh5FYCJehgHREVGQVVMVDUBFTIVAAA%3D&pc=1&spelling_corrections=1&ext=mediaStats%2ChighlightedLabel\n",
      "2021-12-29 21:45:08,570 [INFO] snscrape.base - Retrieved https://api.twitter.com/2/search/adaptive.json?include_profile_interstitial_type=1&include_blocking=1&include_blocked_by=1&include_followed_by=1&include_want_retweets=1&include_mute_edge=1&include_can_dm=1&include_can_media_tag=1&skip_status=1&cards_platform=Web-12&include_cards=1&include_ext_alt_text=true&include_quote_count=true&include_reply_count=1&tweet_mode=extended&include_entities=true&include_user_entities=true&include_ext_media_color=true&include_ext_media_availability=true&send_error_codes=true&simple_quoted_tweets=true&q=%23TooGoodToGo+since%3A2019-01-01+until%3A2021-12-28+lang%3Aen&tweet_search_mode=live&count=100&query_source=spelling_expansion_revert_click&cursor=scroll%3AthGAVUV0VFVBaEgL2d6OO_sycWjoCy_eDMo_ooEnEVsLh5FYCJehgHREVGQVVMVDUBFTIVAAA%3D&pc=1&spelling_corrections=1&ext=mediaStats%2ChighlightedLabel: 200\n",
      "2021-12-29 21:45:08,575 [INFO] snscrape.modules.twitter - Retrieving scroll page scroll:thGAVUV0VFVBaKgLKFzPTorCcWjoCy_eDMo_ooEnEVoLV5FYCJehgHREVGQVVMVDUBFTQVAAA=\n",
      "2021-12-29 21:45:08,577 [INFO] snscrape.base - Retrieving https://api.twitter.com/2/search/adaptive.json?include_profile_interstitial_type=1&include_blocking=1&include_blocked_by=1&include_followed_by=1&include_want_retweets=1&include_mute_edge=1&include_can_dm=1&include_can_media_tag=1&skip_status=1&cards_platform=Web-12&include_cards=1&include_ext_alt_text=true&include_quote_count=true&include_reply_count=1&tweet_mode=extended&include_entities=true&include_user_entities=true&include_ext_media_color=true&include_ext_media_availability=true&send_error_codes=true&simple_quoted_tweets=true&q=%23TooGoodToGo+since%3A2019-01-01+until%3A2021-12-28+lang%3Aen&tweet_search_mode=live&count=100&query_source=spelling_expansion_revert_click&cursor=scroll%3AthGAVUV0VFVBaKgLKFzPTorCcWjoCy_eDMo_ooEnEVoLV5FYCJehgHREVGQVVMVDUBFTQVAAA%3D&pc=1&spelling_corrections=1&ext=mediaStats%2ChighlightedLabel\n",
      "2021-12-29 21:45:09,244 [INFO] snscrape.base - Retrieved https://api.twitter.com/2/search/adaptive.json?include_profile_interstitial_type=1&include_blocking=1&include_blocked_by=1&include_followed_by=1&include_want_retweets=1&include_mute_edge=1&include_can_dm=1&include_can_media_tag=1&skip_status=1&cards_platform=Web-12&include_cards=1&include_ext_alt_text=true&include_quote_count=true&include_reply_count=1&tweet_mode=extended&include_entities=true&include_user_entities=true&include_ext_media_color=true&include_ext_media_availability=true&send_error_codes=true&simple_quoted_tweets=true&q=%23TooGoodToGo+since%3A2019-01-01+until%3A2021-12-28+lang%3Aen&tweet_search_mode=live&count=100&query_source=spelling_expansion_revert_click&cursor=scroll%3AthGAVUV0VFVBaKgLKFzPTorCcWjoCy_eDMo_ooEnEVoLV5FYCJehgHREVGQVVMVDUBFTQVAAA%3D&pc=1&spelling_corrections=1&ext=mediaStats%2ChighlightedLabel: 200\n",
      "2021-12-29 21:45:09,249 [INFO] snscrape.modules.twitter - Retrieving scroll page scroll:thGAVUV0VFVBaIgL21ld6ipycWjoCy_eDMo_ooEnEVkLJ5FYCJehgHREVGQVVMVDUBFTYVAAA=\n",
      "2021-12-29 21:45:09,251 [INFO] snscrape.base - Retrieving https://api.twitter.com/2/search/adaptive.json?include_profile_interstitial_type=1&include_blocking=1&include_blocked_by=1&include_followed_by=1&include_want_retweets=1&include_mute_edge=1&include_can_dm=1&include_can_media_tag=1&skip_status=1&cards_platform=Web-12&include_cards=1&include_ext_alt_text=true&include_quote_count=true&include_reply_count=1&tweet_mode=extended&include_entities=true&include_user_entities=true&include_ext_media_color=true&include_ext_media_availability=true&send_error_codes=true&simple_quoted_tweets=true&q=%23TooGoodToGo+since%3A2019-01-01+until%3A2021-12-28+lang%3Aen&tweet_search_mode=live&count=100&query_source=spelling_expansion_revert_click&cursor=scroll%3AthGAVUV0VFVBaIgL21ld6ipycWjoCy_eDMo_ooEnEVkLJ5FYCJehgHREVGQVVMVDUBFTYVAAA%3D&pc=1&spelling_corrections=1&ext=mediaStats%2ChighlightedLabel\n",
      "2021-12-29 21:45:10,046 [INFO] snscrape.base - Retrieved https://api.twitter.com/2/search/adaptive.json?include_profile_interstitial_type=1&include_blocking=1&include_blocked_by=1&include_followed_by=1&include_want_retweets=1&include_mute_edge=1&include_can_dm=1&include_can_media_tag=1&skip_status=1&cards_platform=Web-12&include_cards=1&include_ext_alt_text=true&include_quote_count=true&include_reply_count=1&tweet_mode=extended&include_entities=true&include_user_entities=true&include_ext_media_color=true&include_ext_media_availability=true&send_error_codes=true&simple_quoted_tweets=true&q=%23TooGoodToGo+since%3A2019-01-01+until%3A2021-12-28+lang%3Aen&tweet_search_mode=live&count=100&query_source=spelling_expansion_revert_click&cursor=scroll%3AthGAVUV0VFVBaIgL21ld6ipycWjoCy_eDMo_ooEnEVkLJ5FYCJehgHREVGQVVMVDUBFTYVAAA%3D&pc=1&spelling_corrections=1&ext=mediaStats%2ChighlightedLabel: 200\n",
      "2021-12-29 21:45:10,055 [INFO] snscrape.modules.twitter - Retrieving scroll page scroll:thGAVUV0VFVBaCwKqlh_6EoicWjoCy_eDMo_ooEnEVgK95FYCJehgHREVGQVVMVDUBFTgVAAA=\n",
      "2021-12-29 21:45:10,057 [INFO] snscrape.base - Retrieving https://api.twitter.com/2/search/adaptive.json?include_profile_interstitial_type=1&include_blocking=1&include_blocked_by=1&include_followed_by=1&include_want_retweets=1&include_mute_edge=1&include_can_dm=1&include_can_media_tag=1&skip_status=1&cards_platform=Web-12&include_cards=1&include_ext_alt_text=true&include_quote_count=true&include_reply_count=1&tweet_mode=extended&include_entities=true&include_user_entities=true&include_ext_media_color=true&include_ext_media_availability=true&send_error_codes=true&simple_quoted_tweets=true&q=%23TooGoodToGo+since%3A2019-01-01+until%3A2021-12-28+lang%3Aen&tweet_search_mode=live&count=100&query_source=spelling_expansion_revert_click&cursor=scroll%3AthGAVUV0VFVBaCwKqlh_6EoicWjoCy_eDMo_ooEnEVgK95FYCJehgHREVGQVVMVDUBFTgVAAA%3D&pc=1&spelling_corrections=1&ext=mediaStats%2ChighlightedLabel\n",
      "2021-12-29 21:45:10,905 [INFO] snscrape.base - Retrieved https://api.twitter.com/2/search/adaptive.json?include_profile_interstitial_type=1&include_blocking=1&include_blocked_by=1&include_followed_by=1&include_want_retweets=1&include_mute_edge=1&include_can_dm=1&include_can_media_tag=1&skip_status=1&cards_platform=Web-12&include_cards=1&include_ext_alt_text=true&include_quote_count=true&include_reply_count=1&tweet_mode=extended&include_entities=true&include_user_entities=true&include_ext_media_color=true&include_ext_media_availability=true&send_error_codes=true&simple_quoted_tweets=true&q=%23TooGoodToGo+since%3A2019-01-01+until%3A2021-12-28+lang%3Aen&tweet_search_mode=live&count=100&query_source=spelling_expansion_revert_click&cursor=scroll%3AthGAVUV0VFVBaCwKqlh_6EoicWjoCy_eDMo_ooEnEVgK95FYCJehgHREVGQVVMVDUBFTgVAAA%3D&pc=1&spelling_corrections=1&ext=mediaStats%2ChighlightedLabel: 200\n",
      "2021-12-29 21:45:10,911 [INFO] snscrape.modules.twitter - Retrieving scroll page scroll:thGAVUV0VFVBaagKP99IyJnycWjoCy_eDMo_ooEnEV8Kt5FYCJehgHREVGQVVMVDUBFToVAAA=\n",
      "2021-12-29 21:45:10,913 [INFO] snscrape.base - Retrieving https://api.twitter.com/2/search/adaptive.json?include_profile_interstitial_type=1&include_blocking=1&include_blocked_by=1&include_followed_by=1&include_want_retweets=1&include_mute_edge=1&include_can_dm=1&include_can_media_tag=1&skip_status=1&cards_platform=Web-12&include_cards=1&include_ext_alt_text=true&include_quote_count=true&include_reply_count=1&tweet_mode=extended&include_entities=true&include_user_entities=true&include_ext_media_color=true&include_ext_media_availability=true&send_error_codes=true&simple_quoted_tweets=true&q=%23TooGoodToGo+since%3A2019-01-01+until%3A2021-12-28+lang%3Aen&tweet_search_mode=live&count=100&query_source=spelling_expansion_revert_click&cursor=scroll%3AthGAVUV0VFVBaagKP99IyJnycWjoCy_eDMo_ooEnEV8Kt5FYCJehgHREVGQVVMVDUBFToVAAA%3D&pc=1&spelling_corrections=1&ext=mediaStats%2ChighlightedLabel\n",
      "2021-12-29 21:45:11,643 [INFO] snscrape.base - Retrieved https://api.twitter.com/2/search/adaptive.json?include_profile_interstitial_type=1&include_blocking=1&include_blocked_by=1&include_followed_by=1&include_want_retweets=1&include_mute_edge=1&include_can_dm=1&include_can_media_tag=1&skip_status=1&cards_platform=Web-12&include_cards=1&include_ext_alt_text=true&include_quote_count=true&include_reply_count=1&tweet_mode=extended&include_entities=true&include_user_entities=true&include_ext_media_color=true&include_ext_media_availability=true&send_error_codes=true&simple_quoted_tweets=true&q=%23TooGoodToGo+since%3A2019-01-01+until%3A2021-12-28+lang%3Aen&tweet_search_mode=live&count=100&query_source=spelling_expansion_revert_click&cursor=scroll%3AthGAVUV0VFVBaagKP99IyJnycWjoCy_eDMo_ooEnEV8Kt5FYCJehgHREVGQVVMVDUBFToVAAA%3D&pc=1&spelling_corrections=1&ext=mediaStats%2ChighlightedLabel: 200\n",
      "2021-12-29 21:45:11,649 [INFO] snscrape.modules.twitter - Retrieving scroll page scroll:thGAVUV0VFVBaEwL79meOxmycWjoCy_eDMo_ooEnEV4Kh5FYCJehgHREVGQVVMVDUBFTwVAAA=\n",
      "2021-12-29 21:45:11,651 [INFO] snscrape.base - Retrieving https://api.twitter.com/2/search/adaptive.json?include_profile_interstitial_type=1&include_blocking=1&include_blocked_by=1&include_followed_by=1&include_want_retweets=1&include_mute_edge=1&include_can_dm=1&include_can_media_tag=1&skip_status=1&cards_platform=Web-12&include_cards=1&include_ext_alt_text=true&include_quote_count=true&include_reply_count=1&tweet_mode=extended&include_entities=true&include_user_entities=true&include_ext_media_color=true&include_ext_media_availability=true&send_error_codes=true&simple_quoted_tweets=true&q=%23TooGoodToGo+since%3A2019-01-01+until%3A2021-12-28+lang%3Aen&tweet_search_mode=live&count=100&query_source=spelling_expansion_revert_click&cursor=scroll%3AthGAVUV0VFVBaEwL79meOxmycWjoCy_eDMo_ooEnEV4Kh5FYCJehgHREVGQVVMVDUBFTwVAAA%3D&pc=1&spelling_corrections=1&ext=mediaStats%2ChighlightedLabel\n",
      "2021-12-29 21:45:12,379 [INFO] snscrape.base - Retrieved https://api.twitter.com/2/search/adaptive.json?include_profile_interstitial_type=1&include_blocking=1&include_blocked_by=1&include_followed_by=1&include_want_retweets=1&include_mute_edge=1&include_can_dm=1&include_can_media_tag=1&skip_status=1&cards_platform=Web-12&include_cards=1&include_ext_alt_text=true&include_quote_count=true&include_reply_count=1&tweet_mode=extended&include_entities=true&include_user_entities=true&include_ext_media_color=true&include_ext_media_availability=true&send_error_codes=true&simple_quoted_tweets=true&q=%23TooGoodToGo+since%3A2019-01-01+until%3A2021-12-28+lang%3Aen&tweet_search_mode=live&count=100&query_source=spelling_expansion_revert_click&cursor=scroll%3AthGAVUV0VFVBaEwL79meOxmycWjoCy_eDMo_ooEnEV4Kh5FYCJehgHREVGQVVMVDUBFTwVAAA%3D&pc=1&spelling_corrections=1&ext=mediaStats%2ChighlightedLabel: 200\n",
      "2021-12-29 21:45:12,385 [INFO] snscrape.modules.twitter - Retrieving scroll page scroll:thGAVUV0VFVBaGwLL9qMaylCcWjoCy_eDMo_ooEnEV0KV5FYCJehgHREVGQVVMVDUBFT4VAAA=\n",
      "2021-12-29 21:45:12,387 [INFO] snscrape.base - Retrieving https://api.twitter.com/2/search/adaptive.json?include_profile_interstitial_type=1&include_blocking=1&include_blocked_by=1&include_followed_by=1&include_want_retweets=1&include_mute_edge=1&include_can_dm=1&include_can_media_tag=1&skip_status=1&cards_platform=Web-12&include_cards=1&include_ext_alt_text=true&include_quote_count=true&include_reply_count=1&tweet_mode=extended&include_entities=true&include_user_entities=true&include_ext_media_color=true&include_ext_media_availability=true&send_error_codes=true&simple_quoted_tweets=true&q=%23TooGoodToGo+since%3A2019-01-01+until%3A2021-12-28+lang%3Aen&tweet_search_mode=live&count=100&query_source=spelling_expansion_revert_click&cursor=scroll%3AthGAVUV0VFVBaGwLL9qMaylCcWjoCy_eDMo_ooEnEV0KV5FYCJehgHREVGQVVMVDUBFT4VAAA%3D&pc=1&spelling_corrections=1&ext=mediaStats%2ChighlightedLabel\n",
      "2021-12-29 21:45:13,117 [INFO] snscrape.base - Retrieved https://api.twitter.com/2/search/adaptive.json?include_profile_interstitial_type=1&include_blocking=1&include_blocked_by=1&include_followed_by=1&include_want_retweets=1&include_mute_edge=1&include_can_dm=1&include_can_media_tag=1&skip_status=1&cards_platform=Web-12&include_cards=1&include_ext_alt_text=true&include_quote_count=true&include_reply_count=1&tweet_mode=extended&include_entities=true&include_user_entities=true&include_ext_media_color=true&include_ext_media_availability=true&send_error_codes=true&simple_quoted_tweets=true&q=%23TooGoodToGo+since%3A2019-01-01+until%3A2021-12-28+lang%3Aen&tweet_search_mode=live&count=100&query_source=spelling_expansion_revert_click&cursor=scroll%3AthGAVUV0VFVBaGwLL9qMaylCcWjoCy_eDMo_ooEnEV0KV5FYCJehgHREVGQVVMVDUBFT4VAAA%3D&pc=1&spelling_corrections=1&ext=mediaStats%2ChighlightedLabel: 200\n",
      "2021-12-29 21:45:13,124 [INFO] snscrape.modules.twitter - Retrieving scroll page scroll:thGAVUV0VFVBaEgL3d-sLEjicWjoCy_eDMo_ooEnEVwKJ5FYCJehgHREVGQVVMVDUBFUAVAAA=\n",
      "2021-12-29 21:45:13,126 [INFO] snscrape.base - Retrieving https://api.twitter.com/2/search/adaptive.json?include_profile_interstitial_type=1&include_blocking=1&include_blocked_by=1&include_followed_by=1&include_want_retweets=1&include_mute_edge=1&include_can_dm=1&include_can_media_tag=1&skip_status=1&cards_platform=Web-12&include_cards=1&include_ext_alt_text=true&include_quote_count=true&include_reply_count=1&tweet_mode=extended&include_entities=true&include_user_entities=true&include_ext_media_color=true&include_ext_media_availability=true&send_error_codes=true&simple_quoted_tweets=true&q=%23TooGoodToGo+since%3A2019-01-01+until%3A2021-12-28+lang%3Aen&tweet_search_mode=live&count=100&query_source=spelling_expansion_revert_click&cursor=scroll%3AthGAVUV0VFVBaEgL3d-sLEjicWjoCy_eDMo_ooEnEVwKJ5FYCJehgHREVGQVVMVDUBFUAVAAA%3D&pc=1&spelling_corrections=1&ext=mediaStats%2ChighlightedLabel\n",
      "2021-12-29 21:45:13,856 [INFO] snscrape.base - Retrieved https://api.twitter.com/2/search/adaptive.json?include_profile_interstitial_type=1&include_blocking=1&include_blocked_by=1&include_followed_by=1&include_want_retweets=1&include_mute_edge=1&include_can_dm=1&include_can_media_tag=1&skip_status=1&cards_platform=Web-12&include_cards=1&include_ext_alt_text=true&include_quote_count=true&include_reply_count=1&tweet_mode=extended&include_entities=true&include_user_entities=true&include_ext_media_color=true&include_ext_media_availability=true&send_error_codes=true&simple_quoted_tweets=true&q=%23TooGoodToGo+since%3A2019-01-01+until%3A2021-12-28+lang%3Aen&tweet_search_mode=live&count=100&query_source=spelling_expansion_revert_click&cursor=scroll%3AthGAVUV0VFVBaEgL3d-sLEjicWjoCy_eDMo_ooEnEVwKJ5FYCJehgHREVGQVVMVDUBFUAVAAA%3D&pc=1&spelling_corrections=1&ext=mediaStats%2ChighlightedLabel: 200\n",
      "2021-12-29 21:45:13,866 [INFO] snscrape.modules.twitter - Retrieving scroll page scroll:thGAVUV0VFVBaAwLCth8LRiCcWjoCy_eDMo_ooEnEVsJ95FYCJehgHREVGQVVMVDUBFUIVAAA=\n",
      "2021-12-29 21:45:13,869 [INFO] snscrape.base - Retrieving https://api.twitter.com/2/search/adaptive.json?include_profile_interstitial_type=1&include_blocking=1&include_blocked_by=1&include_followed_by=1&include_want_retweets=1&include_mute_edge=1&include_can_dm=1&include_can_media_tag=1&skip_status=1&cards_platform=Web-12&include_cards=1&include_ext_alt_text=true&include_quote_count=true&include_reply_count=1&tweet_mode=extended&include_entities=true&include_user_entities=true&include_ext_media_color=true&include_ext_media_availability=true&send_error_codes=true&simple_quoted_tweets=true&q=%23TooGoodToGo+since%3A2019-01-01+until%3A2021-12-28+lang%3Aen&tweet_search_mode=live&count=100&query_source=spelling_expansion_revert_click&cursor=scroll%3AthGAVUV0VFVBaAwLCth8LRiCcWjoCy_eDMo_ooEnEVsJ95FYCJehgHREVGQVVMVDUBFUIVAAA%3D&pc=1&spelling_corrections=1&ext=mediaStats%2ChighlightedLabel\n",
      "2021-12-29 21:45:14,473 [INFO] snscrape.base - Retrieved https://api.twitter.com/2/search/adaptive.json?include_profile_interstitial_type=1&include_blocking=1&include_blocked_by=1&include_followed_by=1&include_want_retweets=1&include_mute_edge=1&include_can_dm=1&include_can_media_tag=1&skip_status=1&cards_platform=Web-12&include_cards=1&include_ext_alt_text=true&include_quote_count=true&include_reply_count=1&tweet_mode=extended&include_entities=true&include_user_entities=true&include_ext_media_color=true&include_ext_media_availability=true&send_error_codes=true&simple_quoted_tweets=true&q=%23TooGoodToGo+since%3A2019-01-01+until%3A2021-12-28+lang%3Aen&tweet_search_mode=live&count=100&query_source=spelling_expansion_revert_click&cursor=scroll%3AthGAVUV0VFVBaAwLCth8LRiCcWjoCy_eDMo_ooEnEVsJ95FYCJehgHREVGQVVMVDUBFUIVAAA%3D&pc=1&spelling_corrections=1&ext=mediaStats%2ChighlightedLabel: 200\n",
      "2021-12-29 21:45:14,478 [INFO] snscrape.modules.twitter - Retrieving scroll page scroll:thGAVUV0VFVBaEwL6R4fT6gycWjoCy_eDMo_ooEnEVoJx5FYCJehgHREVGQVVMVDUBFUQVAAA=\n",
      "2021-12-29 21:45:14,480 [INFO] snscrape.base - Retrieving https://api.twitter.com/2/search/adaptive.json?include_profile_interstitial_type=1&include_blocking=1&include_blocked_by=1&include_followed_by=1&include_want_retweets=1&include_mute_edge=1&include_can_dm=1&include_can_media_tag=1&skip_status=1&cards_platform=Web-12&include_cards=1&include_ext_alt_text=true&include_quote_count=true&include_reply_count=1&tweet_mode=extended&include_entities=true&include_user_entities=true&include_ext_media_color=true&include_ext_media_availability=true&send_error_codes=true&simple_quoted_tweets=true&q=%23TooGoodToGo+since%3A2019-01-01+until%3A2021-12-28+lang%3Aen&tweet_search_mode=live&count=100&query_source=spelling_expansion_revert_click&cursor=scroll%3AthGAVUV0VFVBaEwL6R4fT6gycWjoCy_eDMo_ooEnEVoJx5FYCJehgHREVGQVVMVDUBFUQVAAA%3D&pc=1&spelling_corrections=1&ext=mediaStats%2ChighlightedLabel\n",
      "2021-12-29 21:45:15,067 [INFO] snscrape.base - Retrieved https://api.twitter.com/2/search/adaptive.json?include_profile_interstitial_type=1&include_blocking=1&include_blocked_by=1&include_followed_by=1&include_want_retweets=1&include_mute_edge=1&include_can_dm=1&include_can_media_tag=1&skip_status=1&cards_platform=Web-12&include_cards=1&include_ext_alt_text=true&include_quote_count=true&include_reply_count=1&tweet_mode=extended&include_entities=true&include_user_entities=true&include_ext_media_color=true&include_ext_media_availability=true&send_error_codes=true&simple_quoted_tweets=true&q=%23TooGoodToGo+since%3A2019-01-01+until%3A2021-12-28+lang%3Aen&tweet_search_mode=live&count=100&query_source=spelling_expansion_revert_click&cursor=scroll%3AthGAVUV0VFVBaEwL6R4fT6gycWjoCy_eDMo_ooEnEVoJx5FYCJehgHREVGQVVMVDUBFUQVAAA%3D&pc=1&spelling_corrections=1&ext=mediaStats%2ChighlightedLabel: 200\n",
      "2021-12-29 21:45:15,072 [INFO] snscrape.modules.twitter - Retrieving scroll page scroll:thGAVUV0VFVBaAgLOBgKiG-iYWjoCy_eDMo_ooEnEVkJl5FYCJehgHREVGQVVMVDUBFUYVAAA=\n",
      "2021-12-29 21:45:15,074 [INFO] snscrape.base - Retrieving https://api.twitter.com/2/search/adaptive.json?include_profile_interstitial_type=1&include_blocking=1&include_blocked_by=1&include_followed_by=1&include_want_retweets=1&include_mute_edge=1&include_can_dm=1&include_can_media_tag=1&skip_status=1&cards_platform=Web-12&include_cards=1&include_ext_alt_text=true&include_quote_count=true&include_reply_count=1&tweet_mode=extended&include_entities=true&include_user_entities=true&include_ext_media_color=true&include_ext_media_availability=true&send_error_codes=true&simple_quoted_tweets=true&q=%23TooGoodToGo+since%3A2019-01-01+until%3A2021-12-28+lang%3Aen&tweet_search_mode=live&count=100&query_source=spelling_expansion_revert_click&cursor=scroll%3AthGAVUV0VFVBaAgLOBgKiG-iYWjoCy_eDMo_ooEnEVkJl5FYCJehgHREVGQVVMVDUBFUYVAAA%3D&pc=1&spelling_corrections=1&ext=mediaStats%2ChighlightedLabel\n",
      "2021-12-29 21:45:15,820 [INFO] snscrape.base - Retrieved https://api.twitter.com/2/search/adaptive.json?include_profile_interstitial_type=1&include_blocking=1&include_blocked_by=1&include_followed_by=1&include_want_retweets=1&include_mute_edge=1&include_can_dm=1&include_can_media_tag=1&skip_status=1&cards_platform=Web-12&include_cards=1&include_ext_alt_text=true&include_quote_count=true&include_reply_count=1&tweet_mode=extended&include_entities=true&include_user_entities=true&include_ext_media_color=true&include_ext_media_availability=true&send_error_codes=true&simple_quoted_tweets=true&q=%23TooGoodToGo+since%3A2019-01-01+until%3A2021-12-28+lang%3Aen&tweet_search_mode=live&count=100&query_source=spelling_expansion_revert_click&cursor=scroll%3AthGAVUV0VFVBaAgLOBgKiG-iYWjoCy_eDMo_ooEnEVkJl5FYCJehgHREVGQVVMVDUBFUYVAAA%3D&pc=1&spelling_corrections=1&ext=mediaStats%2ChighlightedLabel: 200\n",
      "2021-12-29 21:45:15,828 [INFO] snscrape.modules.twitter - Retrieving scroll page scroll:thGAVUV0VFVBaagLm914Xq9SYWjoCy_eDMo_ooEnEVgJZ5FYCJehgHREVGQVVMVDUBFUgVAAA=\n",
      "2021-12-29 21:45:15,830 [INFO] snscrape.base - Retrieving https://api.twitter.com/2/search/adaptive.json?include_profile_interstitial_type=1&include_blocking=1&include_blocked_by=1&include_followed_by=1&include_want_retweets=1&include_mute_edge=1&include_can_dm=1&include_can_media_tag=1&skip_status=1&cards_platform=Web-12&include_cards=1&include_ext_alt_text=true&include_quote_count=true&include_reply_count=1&tweet_mode=extended&include_entities=true&include_user_entities=true&include_ext_media_color=true&include_ext_media_availability=true&send_error_codes=true&simple_quoted_tweets=true&q=%23TooGoodToGo+since%3A2019-01-01+until%3A2021-12-28+lang%3Aen&tweet_search_mode=live&count=100&query_source=spelling_expansion_revert_click&cursor=scroll%3AthGAVUV0VFVBaagLm914Xq9SYWjoCy_eDMo_ooEnEVgJZ5FYCJehgHREVGQVVMVDUBFUgVAAA%3D&pc=1&spelling_corrections=1&ext=mediaStats%2ChighlightedLabel\n",
      "2021-12-29 21:45:16,557 [INFO] snscrape.base - Retrieved https://api.twitter.com/2/search/adaptive.json?include_profile_interstitial_type=1&include_blocking=1&include_blocked_by=1&include_followed_by=1&include_want_retweets=1&include_mute_edge=1&include_can_dm=1&include_can_media_tag=1&skip_status=1&cards_platform=Web-12&include_cards=1&include_ext_alt_text=true&include_quote_count=true&include_reply_count=1&tweet_mode=extended&include_entities=true&include_user_entities=true&include_ext_media_color=true&include_ext_media_availability=true&send_error_codes=true&simple_quoted_tweets=true&q=%23TooGoodToGo+since%3A2019-01-01+until%3A2021-12-28+lang%3Aen&tweet_search_mode=live&count=100&query_source=spelling_expansion_revert_click&cursor=scroll%3AthGAVUV0VFVBaagLm914Xq9SYWjoCy_eDMo_ooEnEVgJZ5FYCJehgHREVGQVVMVDUBFUgVAAA%3D&pc=1&spelling_corrections=1&ext=mediaStats%2ChighlightedLabel: 200\n",
      "2021-12-29 21:45:16,563 [INFO] snscrape.modules.twitter - Retrieving scroll page scroll:thGAVUV0VFVBaCgKn9_uv37SYWjoCy_eDMo_ooEnEV8JJ5FYCJehgHREVGQVVMVDUBFUoVAAA=\n",
      "2021-12-29 21:45:16,565 [INFO] snscrape.base - Retrieving https://api.twitter.com/2/search/adaptive.json?include_profile_interstitial_type=1&include_blocking=1&include_blocked_by=1&include_followed_by=1&include_want_retweets=1&include_mute_edge=1&include_can_dm=1&include_can_media_tag=1&skip_status=1&cards_platform=Web-12&include_cards=1&include_ext_alt_text=true&include_quote_count=true&include_reply_count=1&tweet_mode=extended&include_entities=true&include_user_entities=true&include_ext_media_color=true&include_ext_media_availability=true&send_error_codes=true&simple_quoted_tweets=true&q=%23TooGoodToGo+since%3A2019-01-01+until%3A2021-12-28+lang%3Aen&tweet_search_mode=live&count=100&query_source=spelling_expansion_revert_click&cursor=scroll%3AthGAVUV0VFVBaCgKn9_uv37SYWjoCy_eDMo_ooEnEV8JJ5FYCJehgHREVGQVVMVDUBFUoVAAA%3D&pc=1&spelling_corrections=1&ext=mediaStats%2ChighlightedLabel\n",
      "2021-12-29 21:45:17,295 [INFO] snscrape.base - Retrieved https://api.twitter.com/2/search/adaptive.json?include_profile_interstitial_type=1&include_blocking=1&include_blocked_by=1&include_followed_by=1&include_want_retweets=1&include_mute_edge=1&include_can_dm=1&include_can_media_tag=1&skip_status=1&cards_platform=Web-12&include_cards=1&include_ext_alt_text=true&include_quote_count=true&include_reply_count=1&tweet_mode=extended&include_entities=true&include_user_entities=true&include_ext_media_color=true&include_ext_media_availability=true&send_error_codes=true&simple_quoted_tweets=true&q=%23TooGoodToGo+since%3A2019-01-01+until%3A2021-12-28+lang%3Aen&tweet_search_mode=live&count=100&query_source=spelling_expansion_revert_click&cursor=scroll%3AthGAVUV0VFVBaCgKn9_uv37SYWjoCy_eDMo_ooEnEV8JJ5FYCJehgHREVGQVVMVDUBFUoVAAA%3D&pc=1&spelling_corrections=1&ext=mediaStats%2ChighlightedLabel: 200\n",
      "2021-12-29 21:45:17,300 [INFO] snscrape.modules.twitter - Retrieving scroll page scroll:thGAVUV0VFVBaOwLD5u7nT5yYWjoCy_eDMo_ooEnEV4I95FYCJehgHREVGQVVMVDUBFUwVAAA=\n",
      "2021-12-29 21:45:17,303 [INFO] snscrape.base - Retrieving https://api.twitter.com/2/search/adaptive.json?include_profile_interstitial_type=1&include_blocking=1&include_blocked_by=1&include_followed_by=1&include_want_retweets=1&include_mute_edge=1&include_can_dm=1&include_can_media_tag=1&skip_status=1&cards_platform=Web-12&include_cards=1&include_ext_alt_text=true&include_quote_count=true&include_reply_count=1&tweet_mode=extended&include_entities=true&include_user_entities=true&include_ext_media_color=true&include_ext_media_availability=true&send_error_codes=true&simple_quoted_tweets=true&q=%23TooGoodToGo+since%3A2019-01-01+until%3A2021-12-28+lang%3Aen&tweet_search_mode=live&count=100&query_source=spelling_expansion_revert_click&cursor=scroll%3AthGAVUV0VFVBaOwLD5u7nT5yYWjoCy_eDMo_ooEnEV4I95FYCJehgHREVGQVVMVDUBFUwVAAA%3D&pc=1&spelling_corrections=1&ext=mediaStats%2ChighlightedLabel\n",
      "2021-12-29 21:45:18,033 [INFO] snscrape.base - Retrieved https://api.twitter.com/2/search/adaptive.json?include_profile_interstitial_type=1&include_blocking=1&include_blocked_by=1&include_followed_by=1&include_want_retweets=1&include_mute_edge=1&include_can_dm=1&include_can_media_tag=1&skip_status=1&cards_platform=Web-12&include_cards=1&include_ext_alt_text=true&include_quote_count=true&include_reply_count=1&tweet_mode=extended&include_entities=true&include_user_entities=true&include_ext_media_color=true&include_ext_media_availability=true&send_error_codes=true&simple_quoted_tweets=true&q=%23TooGoodToGo+since%3A2019-01-01+until%3A2021-12-28+lang%3Aen&tweet_search_mode=live&count=100&query_source=spelling_expansion_revert_click&cursor=scroll%3AthGAVUV0VFVBaOwLD5u7nT5yYWjoCy_eDMo_ooEnEV4I95FYCJehgHREVGQVVMVDUBFUwVAAA%3D&pc=1&spelling_corrections=1&ext=mediaStats%2ChighlightedLabel: 200\n",
      "2021-12-29 21:45:18,040 [INFO] snscrape.modules.twitter - Retrieving scroll page scroll:thGAVUV0VFVBaKwLDV3Ja73SYWjoCy_eDMo_ooEnEV0Ix5FYCJehgHREVGQVVMVDUBFU4VAAA=\n",
      "2021-12-29 21:45:18,042 [INFO] snscrape.base - Retrieving https://api.twitter.com/2/search/adaptive.json?include_profile_interstitial_type=1&include_blocking=1&include_blocked_by=1&include_followed_by=1&include_want_retweets=1&include_mute_edge=1&include_can_dm=1&include_can_media_tag=1&skip_status=1&cards_platform=Web-12&include_cards=1&include_ext_alt_text=true&include_quote_count=true&include_reply_count=1&tweet_mode=extended&include_entities=true&include_user_entities=true&include_ext_media_color=true&include_ext_media_availability=true&send_error_codes=true&simple_quoted_tweets=true&q=%23TooGoodToGo+since%3A2019-01-01+until%3A2021-12-28+lang%3Aen&tweet_search_mode=live&count=100&query_source=spelling_expansion_revert_click&cursor=scroll%3AthGAVUV0VFVBaKwLDV3Ja73SYWjoCy_eDMo_ooEnEV0Ix5FYCJehgHREVGQVVMVDUBFU4VAAA%3D&pc=1&spelling_corrections=1&ext=mediaStats%2ChighlightedLabel\n",
      "2021-12-29 21:45:18,769 [INFO] snscrape.base - Retrieved https://api.twitter.com/2/search/adaptive.json?include_profile_interstitial_type=1&include_blocking=1&include_blocked_by=1&include_followed_by=1&include_want_retweets=1&include_mute_edge=1&include_can_dm=1&include_can_media_tag=1&skip_status=1&cards_platform=Web-12&include_cards=1&include_ext_alt_text=true&include_quote_count=true&include_reply_count=1&tweet_mode=extended&include_entities=true&include_user_entities=true&include_ext_media_color=true&include_ext_media_availability=true&send_error_codes=true&simple_quoted_tweets=true&q=%23TooGoodToGo+since%3A2019-01-01+until%3A2021-12-28+lang%3Aen&tweet_search_mode=live&count=100&query_source=spelling_expansion_revert_click&cursor=scroll%3AthGAVUV0VFVBaKwLDV3Ja73SYWjoCy_eDMo_ooEnEV0Ix5FYCJehgHREVGQVVMVDUBFU4VAAA%3D&pc=1&spelling_corrections=1&ext=mediaStats%2ChighlightedLabel: 200\n",
      "2021-12-29 21:45:18,775 [INFO] snscrape.modules.twitter - Retrieving scroll page scroll:thGAVUV0VFVBaAgLKpmILC2CYWjoCy_eDMo_ooEnEVwIl5FYCJehgHREVGQVVMVDUBFVAVAAA=\n",
      "2021-12-29 21:45:18,776 [INFO] snscrape.base - Retrieving https://api.twitter.com/2/search/adaptive.json?include_profile_interstitial_type=1&include_blocking=1&include_blocked_by=1&include_followed_by=1&include_want_retweets=1&include_mute_edge=1&include_can_dm=1&include_can_media_tag=1&skip_status=1&cards_platform=Web-12&include_cards=1&include_ext_alt_text=true&include_quote_count=true&include_reply_count=1&tweet_mode=extended&include_entities=true&include_user_entities=true&include_ext_media_color=true&include_ext_media_availability=true&send_error_codes=true&simple_quoted_tweets=true&q=%23TooGoodToGo+since%3A2019-01-01+until%3A2021-12-28+lang%3Aen&tweet_search_mode=live&count=100&query_source=spelling_expansion_revert_click&cursor=scroll%3AthGAVUV0VFVBaAgLKpmILC2CYWjoCy_eDMo_ooEnEVwIl5FYCJehgHREVGQVVMVDUBFVAVAAA%3D&pc=1&spelling_corrections=1&ext=mediaStats%2ChighlightedLabel\n",
      "2021-12-29 21:45:19,506 [INFO] snscrape.base - Retrieved https://api.twitter.com/2/search/adaptive.json?include_profile_interstitial_type=1&include_blocking=1&include_blocked_by=1&include_followed_by=1&include_want_retweets=1&include_mute_edge=1&include_can_dm=1&include_can_media_tag=1&skip_status=1&cards_platform=Web-12&include_cards=1&include_ext_alt_text=true&include_quote_count=true&include_reply_count=1&tweet_mode=extended&include_entities=true&include_user_entities=true&include_ext_media_color=true&include_ext_media_availability=true&send_error_codes=true&simple_quoted_tweets=true&q=%23TooGoodToGo+since%3A2019-01-01+until%3A2021-12-28+lang%3Aen&tweet_search_mode=live&count=100&query_source=spelling_expansion_revert_click&cursor=scroll%3AthGAVUV0VFVBaAgLKpmILC2CYWjoCy_eDMo_ooEnEVwIl5FYCJehgHREVGQVVMVDUBFVAVAAA%3D&pc=1&spelling_corrections=1&ext=mediaStats%2ChighlightedLabel: 200\n",
      "2021-12-29 21:45:19,512 [INFO] snscrape.modules.twitter - Retrieving scroll page scroll:thGAVUV0VFVBaCgLK9_7iV0yYWjoCy_eDMo_ooEnEVsIZ5FYCJehgHREVGQVVMVDUBFVIVAAA=\n",
      "2021-12-29 21:45:19,514 [INFO] snscrape.base - Retrieving https://api.twitter.com/2/search/adaptive.json?include_profile_interstitial_type=1&include_blocking=1&include_blocked_by=1&include_followed_by=1&include_want_retweets=1&include_mute_edge=1&include_can_dm=1&include_can_media_tag=1&skip_status=1&cards_platform=Web-12&include_cards=1&include_ext_alt_text=true&include_quote_count=true&include_reply_count=1&tweet_mode=extended&include_entities=true&include_user_entities=true&include_ext_media_color=true&include_ext_media_availability=true&send_error_codes=true&simple_quoted_tweets=true&q=%23TooGoodToGo+since%3A2019-01-01+until%3A2021-12-28+lang%3Aen&tweet_search_mode=live&count=100&query_source=spelling_expansion_revert_click&cursor=scroll%3AthGAVUV0VFVBaCgLK9_7iV0yYWjoCy_eDMo_ooEnEVsIZ5FYCJehgHREVGQVVMVDUBFVIVAAA%3D&pc=1&spelling_corrections=1&ext=mediaStats%2ChighlightedLabel\n",
      "2021-12-29 21:45:20,225 [INFO] snscrape.base - Retrieved https://api.twitter.com/2/search/adaptive.json?include_profile_interstitial_type=1&include_blocking=1&include_blocked_by=1&include_followed_by=1&include_want_retweets=1&include_mute_edge=1&include_can_dm=1&include_can_media_tag=1&skip_status=1&cards_platform=Web-12&include_cards=1&include_ext_alt_text=true&include_quote_count=true&include_reply_count=1&tweet_mode=extended&include_entities=true&include_user_entities=true&include_ext_media_color=true&include_ext_media_availability=true&send_error_codes=true&simple_quoted_tweets=true&q=%23TooGoodToGo+since%3A2019-01-01+until%3A2021-12-28+lang%3Aen&tweet_search_mode=live&count=100&query_source=spelling_expansion_revert_click&cursor=scroll%3AthGAVUV0VFVBaCgLK9_7iV0yYWjoCy_eDMo_ooEnEVsIZ5FYCJehgHREVGQVVMVDUBFVIVAAA%3D&pc=1&spelling_corrections=1&ext=mediaStats%2ChighlightedLabel: 200\n",
      "2021-12-29 21:45:20,231 [INFO] snscrape.modules.twitter - Retrieving scroll page scroll:thGAVUV0VFVBaCgLPN0ICzzCYWjoCy_eDMo_ooEnEVoIN5FYCJehgHREVGQVVMVDUBFVQVAAA=\n",
      "2021-12-29 21:45:20,233 [INFO] snscrape.base - Retrieving https://api.twitter.com/2/search/adaptive.json?include_profile_interstitial_type=1&include_blocking=1&include_blocked_by=1&include_followed_by=1&include_want_retweets=1&include_mute_edge=1&include_can_dm=1&include_can_media_tag=1&skip_status=1&cards_platform=Web-12&include_cards=1&include_ext_alt_text=true&include_quote_count=true&include_reply_count=1&tweet_mode=extended&include_entities=true&include_user_entities=true&include_ext_media_color=true&include_ext_media_availability=true&send_error_codes=true&simple_quoted_tweets=true&q=%23TooGoodToGo+since%3A2019-01-01+until%3A2021-12-28+lang%3Aen&tweet_search_mode=live&count=100&query_source=spelling_expansion_revert_click&cursor=scroll%3AthGAVUV0VFVBaCgLPN0ICzzCYWjoCy_eDMo_ooEnEVoIN5FYCJehgHREVGQVVMVDUBFVQVAAA%3D&pc=1&spelling_corrections=1&ext=mediaStats%2ChighlightedLabel\n",
      "2021-12-29 21:45:20,853 [INFO] snscrape.base - Retrieved https://api.twitter.com/2/search/adaptive.json?include_profile_interstitial_type=1&include_blocking=1&include_blocked_by=1&include_followed_by=1&include_want_retweets=1&include_mute_edge=1&include_can_dm=1&include_can_media_tag=1&skip_status=1&cards_platform=Web-12&include_cards=1&include_ext_alt_text=true&include_quote_count=true&include_reply_count=1&tweet_mode=extended&include_entities=true&include_user_entities=true&include_ext_media_color=true&include_ext_media_availability=true&send_error_codes=true&simple_quoted_tweets=true&q=%23TooGoodToGo+since%3A2019-01-01+until%3A2021-12-28+lang%3Aen&tweet_search_mode=live&count=100&query_source=spelling_expansion_revert_click&cursor=scroll%3AthGAVUV0VFVBaCgLPN0ICzzCYWjoCy_eDMo_ooEnEVoIN5FYCJehgHREVGQVVMVDUBFVQVAAA%3D&pc=1&spelling_corrections=1&ext=mediaStats%2ChighlightedLabel: 200\n",
      "2021-12-29 21:45:20,858 [INFO] snscrape.modules.twitter - Retrieving scroll page scroll:thGAVUV0VFVBaCwL2hjYiExyYWjoCy_eDMo_ooEnEVkIB5FYCJehgHREVGQVVMVDUBFVYVAAA=\n",
      "2021-12-29 21:45:20,860 [INFO] snscrape.base - Retrieving https://api.twitter.com/2/search/adaptive.json?include_profile_interstitial_type=1&include_blocking=1&include_blocked_by=1&include_followed_by=1&include_want_retweets=1&include_mute_edge=1&include_can_dm=1&include_can_media_tag=1&skip_status=1&cards_platform=Web-12&include_cards=1&include_ext_alt_text=true&include_quote_count=true&include_reply_count=1&tweet_mode=extended&include_entities=true&include_user_entities=true&include_ext_media_color=true&include_ext_media_availability=true&send_error_codes=true&simple_quoted_tweets=true&q=%23TooGoodToGo+since%3A2019-01-01+until%3A2021-12-28+lang%3Aen&tweet_search_mode=live&count=100&query_source=spelling_expansion_revert_click&cursor=scroll%3AthGAVUV0VFVBaCwL2hjYiExyYWjoCy_eDMo_ooEnEVkIB5FYCJehgHREVGQVVMVDUBFVYVAAA%3D&pc=1&spelling_corrections=1&ext=mediaStats%2ChighlightedLabel\n",
      "2021-12-29 21:45:21,501 [INFO] snscrape.base - Retrieved https://api.twitter.com/2/search/adaptive.json?include_profile_interstitial_type=1&include_blocking=1&include_blocked_by=1&include_followed_by=1&include_want_retweets=1&include_mute_edge=1&include_can_dm=1&include_can_media_tag=1&skip_status=1&cards_platform=Web-12&include_cards=1&include_ext_alt_text=true&include_quote_count=true&include_reply_count=1&tweet_mode=extended&include_entities=true&include_user_entities=true&include_ext_media_color=true&include_ext_media_availability=true&send_error_codes=true&simple_quoted_tweets=true&q=%23TooGoodToGo+since%3A2019-01-01+until%3A2021-12-28+lang%3Aen&tweet_search_mode=live&count=100&query_source=spelling_expansion_revert_click&cursor=scroll%3AthGAVUV0VFVBaCwL2hjYiExyYWjoCy_eDMo_ooEnEVkIB5FYCJehgHREVGQVVMVDUBFVYVAAA%3D&pc=1&spelling_corrections=1&ext=mediaStats%2ChighlightedLabel: 200\n",
      "2021-12-29 21:45:21,507 [INFO] snscrape.modules.twitter - Retrieving scroll page scroll:thGAVUV0VFVBaKgLP50YyYwSYWjoCy_eDMo_ooEnEVgP14FYCJehgHREVGQVVMVDUBFVgVAAA=\n",
      "2021-12-29 21:45:21,509 [INFO] snscrape.base - Retrieving https://api.twitter.com/2/search/adaptive.json?include_profile_interstitial_type=1&include_blocking=1&include_blocked_by=1&include_followed_by=1&include_want_retweets=1&include_mute_edge=1&include_can_dm=1&include_can_media_tag=1&skip_status=1&cards_platform=Web-12&include_cards=1&include_ext_alt_text=true&include_quote_count=true&include_reply_count=1&tweet_mode=extended&include_entities=true&include_user_entities=true&include_ext_media_color=true&include_ext_media_availability=true&send_error_codes=true&simple_quoted_tweets=true&q=%23TooGoodToGo+since%3A2019-01-01+until%3A2021-12-28+lang%3Aen&tweet_search_mode=live&count=100&query_source=spelling_expansion_revert_click&cursor=scroll%3AthGAVUV0VFVBaKgLP50YyYwSYWjoCy_eDMo_ooEnEVgP14FYCJehgHREVGQVVMVDUBFVgVAAA%3D&pc=1&spelling_corrections=1&ext=mediaStats%2ChighlightedLabel\n",
      "2021-12-29 21:45:22,210 [INFO] snscrape.base - Retrieved https://api.twitter.com/2/search/adaptive.json?include_profile_interstitial_type=1&include_blocking=1&include_blocked_by=1&include_followed_by=1&include_want_retweets=1&include_mute_edge=1&include_can_dm=1&include_can_media_tag=1&skip_status=1&cards_platform=Web-12&include_cards=1&include_ext_alt_text=true&include_quote_count=true&include_reply_count=1&tweet_mode=extended&include_entities=true&include_user_entities=true&include_ext_media_color=true&include_ext_media_availability=true&send_error_codes=true&simple_quoted_tweets=true&q=%23TooGoodToGo+since%3A2019-01-01+until%3A2021-12-28+lang%3Aen&tweet_search_mode=live&count=100&query_source=spelling_expansion_revert_click&cursor=scroll%3AthGAVUV0VFVBaKgLP50YyYwSYWjoCy_eDMo_ooEnEVgP14FYCJehgHREVGQVVMVDUBFVgVAAA%3D&pc=1&spelling_corrections=1&ext=mediaStats%2ChighlightedLabel: 200\n",
      "2021-12-29 21:45:22,215 [INFO] snscrape.modules.twitter - Retrieving scroll page scroll:thGAVUV0VFVBaAwLDVq5WMviYWjoCy_eDMo_ooEnEV8Pl4FYCJehgHREVGQVVMVDUBFVoVAAA=\n",
      "2021-12-29 21:45:22,218 [INFO] snscrape.base - Retrieving https://api.twitter.com/2/search/adaptive.json?include_profile_interstitial_type=1&include_blocking=1&include_blocked_by=1&include_followed_by=1&include_want_retweets=1&include_mute_edge=1&include_can_dm=1&include_can_media_tag=1&skip_status=1&cards_platform=Web-12&include_cards=1&include_ext_alt_text=true&include_quote_count=true&include_reply_count=1&tweet_mode=extended&include_entities=true&include_user_entities=true&include_ext_media_color=true&include_ext_media_availability=true&send_error_codes=true&simple_quoted_tweets=true&q=%23TooGoodToGo+since%3A2019-01-01+until%3A2021-12-28+lang%3Aen&tweet_search_mode=live&count=100&query_source=spelling_expansion_revert_click&cursor=scroll%3AthGAVUV0VFVBaAwLDVq5WMviYWjoCy_eDMo_ooEnEV8Pl4FYCJehgHREVGQVVMVDUBFVoVAAA%3D&pc=1&spelling_corrections=1&ext=mediaStats%2ChighlightedLabel\n",
      "2021-12-29 21:45:22,947 [INFO] snscrape.base - Retrieved https://api.twitter.com/2/search/adaptive.json?include_profile_interstitial_type=1&include_blocking=1&include_blocked_by=1&include_followed_by=1&include_want_retweets=1&include_mute_edge=1&include_can_dm=1&include_can_media_tag=1&skip_status=1&cards_platform=Web-12&include_cards=1&include_ext_alt_text=true&include_quote_count=true&include_reply_count=1&tweet_mode=extended&include_entities=true&include_user_entities=true&include_ext_media_color=true&include_ext_media_availability=true&send_error_codes=true&simple_quoted_tweets=true&q=%23TooGoodToGo+since%3A2019-01-01+until%3A2021-12-28+lang%3Aen&tweet_search_mode=live&count=100&query_source=spelling_expansion_revert_click&cursor=scroll%3AthGAVUV0VFVBaAwLDVq5WMviYWjoCy_eDMo_ooEnEV8Pl4FYCJehgHREVGQVVMVDUBFVoVAAA%3D&pc=1&spelling_corrections=1&ext=mediaStats%2ChighlightedLabel: 200\n",
      "2021-12-29 21:45:22,953 [INFO] snscrape.modules.twitter - Retrieving scroll page scroll:thGAVUV0VFVBaAgL2xzc7SuCYWjoCy_eDMo_ooEnEV4PZ4FYCJehgHREVGQVVMVDUBFVwVAAA=\n",
      "2021-12-29 21:45:22,955 [INFO] snscrape.base - Retrieving https://api.twitter.com/2/search/adaptive.json?include_profile_interstitial_type=1&include_blocking=1&include_blocked_by=1&include_followed_by=1&include_want_retweets=1&include_mute_edge=1&include_can_dm=1&include_can_media_tag=1&skip_status=1&cards_platform=Web-12&include_cards=1&include_ext_alt_text=true&include_quote_count=true&include_reply_count=1&tweet_mode=extended&include_entities=true&include_user_entities=true&include_ext_media_color=true&include_ext_media_availability=true&send_error_codes=true&simple_quoted_tweets=true&q=%23TooGoodToGo+since%3A2019-01-01+until%3A2021-12-28+lang%3Aen&tweet_search_mode=live&count=100&query_source=spelling_expansion_revert_click&cursor=scroll%3AthGAVUV0VFVBaAgL2xzc7SuCYWjoCy_eDMo_ooEnEV4PZ4FYCJehgHREVGQVVMVDUBFVwVAAA%3D&pc=1&spelling_corrections=1&ext=mediaStats%2ChighlightedLabel\n",
      "2021-12-29 21:45:23,540 [INFO] snscrape.base - Retrieved https://api.twitter.com/2/search/adaptive.json?include_profile_interstitial_type=1&include_blocking=1&include_blocked_by=1&include_followed_by=1&include_want_retweets=1&include_mute_edge=1&include_can_dm=1&include_can_media_tag=1&skip_status=1&cards_platform=Web-12&include_cards=1&include_ext_alt_text=true&include_quote_count=true&include_reply_count=1&tweet_mode=extended&include_entities=true&include_user_entities=true&include_ext_media_color=true&include_ext_media_availability=true&send_error_codes=true&simple_quoted_tweets=true&q=%23TooGoodToGo+since%3A2019-01-01+until%3A2021-12-28+lang%3Aen&tweet_search_mode=live&count=100&query_source=spelling_expansion_revert_click&cursor=scroll%3AthGAVUV0VFVBaAgL2xzc7SuCYWjoCy_eDMo_ooEnEV4PZ4FYCJehgHREVGQVVMVDUBFVwVAAA%3D&pc=1&spelling_corrections=1&ext=mediaStats%2ChighlightedLabel: 200\n",
      "2021-12-29 21:45:23,545 [INFO] snscrape.modules.twitter - Retrieving scroll page scroll:thGAVUV0VFVBaCwLDZybLBsSYWjoCy_eDMo_ooEnEV0PN4FYCJehgHREVGQVVMVDUBFV4VAAA=\n",
      "2021-12-29 21:45:23,547 [INFO] snscrape.base - Retrieving https://api.twitter.com/2/search/adaptive.json?include_profile_interstitial_type=1&include_blocking=1&include_blocked_by=1&include_followed_by=1&include_want_retweets=1&include_mute_edge=1&include_can_dm=1&include_can_media_tag=1&skip_status=1&cards_platform=Web-12&include_cards=1&include_ext_alt_text=true&include_quote_count=true&include_reply_count=1&tweet_mode=extended&include_entities=true&include_user_entities=true&include_ext_media_color=true&include_ext_media_availability=true&send_error_codes=true&simple_quoted_tweets=true&q=%23TooGoodToGo+since%3A2019-01-01+until%3A2021-12-28+lang%3Aen&tweet_search_mode=live&count=100&query_source=spelling_expansion_revert_click&cursor=scroll%3AthGAVUV0VFVBaCwLDZybLBsSYWjoCy_eDMo_ooEnEV0PN4FYCJehgHREVGQVVMVDUBFV4VAAA%3D&pc=1&spelling_corrections=1&ext=mediaStats%2ChighlightedLabel\n",
      "2021-12-29 21:45:24,151 [INFO] snscrape.base - Retrieved https://api.twitter.com/2/search/adaptive.json?include_profile_interstitial_type=1&include_blocking=1&include_blocked_by=1&include_followed_by=1&include_want_retweets=1&include_mute_edge=1&include_can_dm=1&include_can_media_tag=1&skip_status=1&cards_platform=Web-12&include_cards=1&include_ext_alt_text=true&include_quote_count=true&include_reply_count=1&tweet_mode=extended&include_entities=true&include_user_entities=true&include_ext_media_color=true&include_ext_media_availability=true&send_error_codes=true&simple_quoted_tweets=true&q=%23TooGoodToGo+since%3A2019-01-01+until%3A2021-12-28+lang%3Aen&tweet_search_mode=live&count=100&query_source=spelling_expansion_revert_click&cursor=scroll%3AthGAVUV0VFVBaCwLDZybLBsSYWjoCy_eDMo_ooEnEV0PN4FYCJehgHREVGQVVMVDUBFV4VAAA%3D&pc=1&spelling_corrections=1&ext=mediaStats%2ChighlightedLabel: 200\n",
      "2021-12-29 21:45:24,157 [INFO] snscrape.modules.twitter - Retrieving scroll page scroll:thGAVUV0VFVBaCwLfhk7PWrCYWjoCy_eDMo_ooEnEVwPB4FYCJehgHREVGQVVMVDUBFWAVAAA=\n",
      "2021-12-29 21:45:24,158 [INFO] snscrape.base - Retrieving https://api.twitter.com/2/search/adaptive.json?include_profile_interstitial_type=1&include_blocking=1&include_blocked_by=1&include_followed_by=1&include_want_retweets=1&include_mute_edge=1&include_can_dm=1&include_can_media_tag=1&skip_status=1&cards_platform=Web-12&include_cards=1&include_ext_alt_text=true&include_quote_count=true&include_reply_count=1&tweet_mode=extended&include_entities=true&include_user_entities=true&include_ext_media_color=true&include_ext_media_availability=true&send_error_codes=true&simple_quoted_tweets=true&q=%23TooGoodToGo+since%3A2019-01-01+until%3A2021-12-28+lang%3Aen&tweet_search_mode=live&count=100&query_source=spelling_expansion_revert_click&cursor=scroll%3AthGAVUV0VFVBaCwLfhk7PWrCYWjoCy_eDMo_ooEnEVwPB4FYCJehgHREVGQVVMVDUBFWAVAAA%3D&pc=1&spelling_corrections=1&ext=mediaStats%2ChighlightedLabel\n",
      "2021-12-29 21:45:24,914 [INFO] snscrape.base - Retrieved https://api.twitter.com/2/search/adaptive.json?include_profile_interstitial_type=1&include_blocking=1&include_blocked_by=1&include_followed_by=1&include_want_retweets=1&include_mute_edge=1&include_can_dm=1&include_can_media_tag=1&skip_status=1&cards_platform=Web-12&include_cards=1&include_ext_alt_text=true&include_quote_count=true&include_reply_count=1&tweet_mode=extended&include_entities=true&include_user_entities=true&include_ext_media_color=true&include_ext_media_availability=true&send_error_codes=true&simple_quoted_tweets=true&q=%23TooGoodToGo+since%3A2019-01-01+until%3A2021-12-28+lang%3Aen&tweet_search_mode=live&count=100&query_source=spelling_expansion_revert_click&cursor=scroll%3AthGAVUV0VFVBaCwLfhk7PWrCYWjoCy_eDMo_ooEnEVwPB4FYCJehgHREVGQVVMVDUBFWAVAAA%3D&pc=1&spelling_corrections=1&ext=mediaStats%2ChighlightedLabel: 200\n",
      "2021-12-29 21:45:24,920 [INFO] snscrape.modules.twitter - Retrieving scroll page scroll:thGAVUV0VFVBaCgLPN0cTSpiYWjoCy_eDMo_ooEnEVsO14FYCJehgHREVGQVVMVDUBFWIVAAA=\n",
      "2021-12-29 21:45:24,922 [INFO] snscrape.base - Retrieving https://api.twitter.com/2/search/adaptive.json?include_profile_interstitial_type=1&include_blocking=1&include_blocked_by=1&include_followed_by=1&include_want_retweets=1&include_mute_edge=1&include_can_dm=1&include_can_media_tag=1&skip_status=1&cards_platform=Web-12&include_cards=1&include_ext_alt_text=true&include_quote_count=true&include_reply_count=1&tweet_mode=extended&include_entities=true&include_user_entities=true&include_ext_media_color=true&include_ext_media_availability=true&send_error_codes=true&simple_quoted_tweets=true&q=%23TooGoodToGo+since%3A2019-01-01+until%3A2021-12-28+lang%3Aen&tweet_search_mode=live&count=100&query_source=spelling_expansion_revert_click&cursor=scroll%3AthGAVUV0VFVBaCgLPN0cTSpiYWjoCy_eDMo_ooEnEVsO14FYCJehgHREVGQVVMVDUBFWIVAAA%3D&pc=1&spelling_corrections=1&ext=mediaStats%2ChighlightedLabel\n",
      "2021-12-29 21:45:25,650 [INFO] snscrape.base - Retrieved https://api.twitter.com/2/search/adaptive.json?include_profile_interstitial_type=1&include_blocking=1&include_blocked_by=1&include_followed_by=1&include_want_retweets=1&include_mute_edge=1&include_can_dm=1&include_can_media_tag=1&skip_status=1&cards_platform=Web-12&include_cards=1&include_ext_alt_text=true&include_quote_count=true&include_reply_count=1&tweet_mode=extended&include_entities=true&include_user_entities=true&include_ext_media_color=true&include_ext_media_availability=true&send_error_codes=true&simple_quoted_tweets=true&q=%23TooGoodToGo+since%3A2019-01-01+until%3A2021-12-28+lang%3Aen&tweet_search_mode=live&count=100&query_source=spelling_expansion_revert_click&cursor=scroll%3AthGAVUV0VFVBaCgLPN0cTSpiYWjoCy_eDMo_ooEnEVsO14FYCJehgHREVGQVVMVDUBFWIVAAA%3D&pc=1&spelling_corrections=1&ext=mediaStats%2ChighlightedLabel: 200\n",
      "2021-12-29 21:45:25,655 [INFO] snscrape.modules.twitter - Retrieving scroll page scroll:thGAVUV0VFVBaGgLnx3LLyoCYWjoCy_eDMo_ooEnEVoOp4FYCJehgHREVGQVVMVDUBFWQVAAA=\n",
      "2021-12-29 21:45:25,657 [INFO] snscrape.base - Retrieving https://api.twitter.com/2/search/adaptive.json?include_profile_interstitial_type=1&include_blocking=1&include_blocked_by=1&include_followed_by=1&include_want_retweets=1&include_mute_edge=1&include_can_dm=1&include_can_media_tag=1&skip_status=1&cards_platform=Web-12&include_cards=1&include_ext_alt_text=true&include_quote_count=true&include_reply_count=1&tweet_mode=extended&include_entities=true&include_user_entities=true&include_ext_media_color=true&include_ext_media_availability=true&send_error_codes=true&simple_quoted_tweets=true&q=%23TooGoodToGo+since%3A2019-01-01+until%3A2021-12-28+lang%3Aen&tweet_search_mode=live&count=100&query_source=spelling_expansion_revert_click&cursor=scroll%3AthGAVUV0VFVBaGgLnx3LLyoCYWjoCy_eDMo_ooEnEVoOp4FYCJehgHREVGQVVMVDUBFWQVAAA%3D&pc=1&spelling_corrections=1&ext=mediaStats%2ChighlightedLabel\n",
      "2021-12-29 21:45:26,273 [INFO] snscrape.base - Retrieved https://api.twitter.com/2/search/adaptive.json?include_profile_interstitial_type=1&include_blocking=1&include_blocked_by=1&include_followed_by=1&include_want_retweets=1&include_mute_edge=1&include_can_dm=1&include_can_media_tag=1&skip_status=1&cards_platform=Web-12&include_cards=1&include_ext_alt_text=true&include_quote_count=true&include_reply_count=1&tweet_mode=extended&include_entities=true&include_user_entities=true&include_ext_media_color=true&include_ext_media_availability=true&send_error_codes=true&simple_quoted_tweets=true&q=%23TooGoodToGo+since%3A2019-01-01+until%3A2021-12-28+lang%3Aen&tweet_search_mode=live&count=100&query_source=spelling_expansion_revert_click&cursor=scroll%3AthGAVUV0VFVBaGgLnx3LLyoCYWjoCy_eDMo_ooEnEVoOp4FYCJehgHREVGQVVMVDUBFWQVAAA%3D&pc=1&spelling_corrections=1&ext=mediaStats%2ChighlightedLabel: 200\n",
      "2021-12-29 21:45:26,282 [INFO] snscrape.modules.twitter - Retrieving scroll page scroll:thGAVUV0VFVBaOgLjVqfWvmiYWjoCy_eDMo_ooEnEVkOd4FYCJehgHREVGQVVMVDUBFWYVAAA=\n",
      "2021-12-29 21:45:26,284 [INFO] snscrape.base - Retrieving https://api.twitter.com/2/search/adaptive.json?include_profile_interstitial_type=1&include_blocking=1&include_blocked_by=1&include_followed_by=1&include_want_retweets=1&include_mute_edge=1&include_can_dm=1&include_can_media_tag=1&skip_status=1&cards_platform=Web-12&include_cards=1&include_ext_alt_text=true&include_quote_count=true&include_reply_count=1&tweet_mode=extended&include_entities=true&include_user_entities=true&include_ext_media_color=true&include_ext_media_availability=true&send_error_codes=true&simple_quoted_tweets=true&q=%23TooGoodToGo+since%3A2019-01-01+until%3A2021-12-28+lang%3Aen&tweet_search_mode=live&count=100&query_source=spelling_expansion_revert_click&cursor=scroll%3AthGAVUV0VFVBaOgLjVqfWvmiYWjoCy_eDMo_ooEnEVkOd4FYCJehgHREVGQVVMVDUBFWYVAAA%3D&pc=1&spelling_corrections=1&ext=mediaStats%2ChighlightedLabel\n",
      "2021-12-29 21:45:27,126 [INFO] snscrape.base - Retrieved https://api.twitter.com/2/search/adaptive.json?include_profile_interstitial_type=1&include_blocking=1&include_blocked_by=1&include_followed_by=1&include_want_retweets=1&include_mute_edge=1&include_can_dm=1&include_can_media_tag=1&skip_status=1&cards_platform=Web-12&include_cards=1&include_ext_alt_text=true&include_quote_count=true&include_reply_count=1&tweet_mode=extended&include_entities=true&include_user_entities=true&include_ext_media_color=true&include_ext_media_availability=true&send_error_codes=true&simple_quoted_tweets=true&q=%23TooGoodToGo+since%3A2019-01-01+until%3A2021-12-28+lang%3Aen&tweet_search_mode=live&count=100&query_source=spelling_expansion_revert_click&cursor=scroll%3AthGAVUV0VFVBaOgLjVqfWvmiYWjoCy_eDMo_ooEnEVkOd4FYCJehgHREVGQVVMVDUBFWYVAAA%3D&pc=1&spelling_corrections=1&ext=mediaStats%2ChighlightedLabel: 200\n",
      "2021-12-29 21:45:27,380 [INFO] snscrape.modules.twitter - Retrieving scroll page scroll:thGAVUV0VFVBaEwLCpgIvQkiYWjoCy_eDMo_ooEnEVgOR4FYCJehgHREVGQVVMVDUBFWgVAAA=\n",
      "2021-12-29 21:45:27,382 [INFO] snscrape.base - Retrieving https://api.twitter.com/2/search/adaptive.json?include_profile_interstitial_type=1&include_blocking=1&include_blocked_by=1&include_followed_by=1&include_want_retweets=1&include_mute_edge=1&include_can_dm=1&include_can_media_tag=1&skip_status=1&cards_platform=Web-12&include_cards=1&include_ext_alt_text=true&include_quote_count=true&include_reply_count=1&tweet_mode=extended&include_entities=true&include_user_entities=true&include_ext_media_color=true&include_ext_media_availability=true&send_error_codes=true&simple_quoted_tweets=true&q=%23TooGoodToGo+since%3A2019-01-01+until%3A2021-12-28+lang%3Aen&tweet_search_mode=live&count=100&query_source=spelling_expansion_revert_click&cursor=scroll%3AthGAVUV0VFVBaEwLCpgIvQkiYWjoCy_eDMo_ooEnEVgOR4FYCJehgHREVGQVVMVDUBFWgVAAA%3D&pc=1&spelling_corrections=1&ext=mediaStats%2ChighlightedLabel\n",
      "2021-12-29 21:45:27,972 [INFO] snscrape.base - Retrieved https://api.twitter.com/2/search/adaptive.json?include_profile_interstitial_type=1&include_blocking=1&include_blocked_by=1&include_followed_by=1&include_want_retweets=1&include_mute_edge=1&include_can_dm=1&include_can_media_tag=1&skip_status=1&cards_platform=Web-12&include_cards=1&include_ext_alt_text=true&include_quote_count=true&include_reply_count=1&tweet_mode=extended&include_entities=true&include_user_entities=true&include_ext_media_color=true&include_ext_media_availability=true&send_error_codes=true&simple_quoted_tweets=true&q=%23TooGoodToGo+since%3A2019-01-01+until%3A2021-12-28+lang%3Aen&tweet_search_mode=live&count=100&query_source=spelling_expansion_revert_click&cursor=scroll%3AthGAVUV0VFVBaEwLCpgIvQkiYWjoCy_eDMo_ooEnEVgOR4FYCJehgHREVGQVVMVDUBFWgVAAA%3D&pc=1&spelling_corrections=1&ext=mediaStats%2ChighlightedLabel: 200\n",
      "2021-12-29 21:45:27,977 [INFO] snscrape.modules.twitter - Retrieving scroll page scroll:thGAVUV0VFVBaAgLL1w_WTiyYWjoCy_eDMo_ooEnEV8OB4FYCJehgHREVGQVVMVDUBFWoVAAA=\n",
      "2021-12-29 21:45:27,979 [INFO] snscrape.base - Retrieving https://api.twitter.com/2/search/adaptive.json?include_profile_interstitial_type=1&include_blocking=1&include_blocked_by=1&include_followed_by=1&include_want_retweets=1&include_mute_edge=1&include_can_dm=1&include_can_media_tag=1&skip_status=1&cards_platform=Web-12&include_cards=1&include_ext_alt_text=true&include_quote_count=true&include_reply_count=1&tweet_mode=extended&include_entities=true&include_user_entities=true&include_ext_media_color=true&include_ext_media_availability=true&send_error_codes=true&simple_quoted_tweets=true&q=%23TooGoodToGo+since%3A2019-01-01+until%3A2021-12-28+lang%3Aen&tweet_search_mode=live&count=100&query_source=spelling_expansion_revert_click&cursor=scroll%3AthGAVUV0VFVBaAgLL1w_WTiyYWjoCy_eDMo_ooEnEV8OB4FYCJehgHREVGQVVMVDUBFWoVAAA%3D&pc=1&spelling_corrections=1&ext=mediaStats%2ChighlightedLabel\n",
      "2021-12-29 21:45:28,623 [INFO] snscrape.base - Retrieved https://api.twitter.com/2/search/adaptive.json?include_profile_interstitial_type=1&include_blocking=1&include_blocked_by=1&include_followed_by=1&include_want_retweets=1&include_mute_edge=1&include_can_dm=1&include_can_media_tag=1&skip_status=1&cards_platform=Web-12&include_cards=1&include_ext_alt_text=true&include_quote_count=true&include_reply_count=1&tweet_mode=extended&include_entities=true&include_user_entities=true&include_ext_media_color=true&include_ext_media_availability=true&send_error_codes=true&simple_quoted_tweets=true&q=%23TooGoodToGo+since%3A2019-01-01+until%3A2021-12-28+lang%3Aen&tweet_search_mode=live&count=100&query_source=spelling_expansion_revert_click&cursor=scroll%3AthGAVUV0VFVBaAgLL1w_WTiyYWjoCy_eDMo_ooEnEV8OB4FYCJehgHREVGQVVMVDUBFWoVAAA%3D&pc=1&spelling_corrections=1&ext=mediaStats%2ChighlightedLabel: 200\n",
      "2021-12-29 21:45:28,628 [INFO] snscrape.modules.twitter - Retrieving scroll page scroll:thGAVUV0VFVBaEwLnh4JeE_SUWjoCy_eDMo_ooEnEV4N14FYCJehgHREVGQVVMVDUBFWwVAAA=\n",
      "2021-12-29 21:45:28,630 [INFO] snscrape.base - Retrieving https://api.twitter.com/2/search/adaptive.json?include_profile_interstitial_type=1&include_blocking=1&include_blocked_by=1&include_followed_by=1&include_want_retweets=1&include_mute_edge=1&include_can_dm=1&include_can_media_tag=1&skip_status=1&cards_platform=Web-12&include_cards=1&include_ext_alt_text=true&include_quote_count=true&include_reply_count=1&tweet_mode=extended&include_entities=true&include_user_entities=true&include_ext_media_color=true&include_ext_media_availability=true&send_error_codes=true&simple_quoted_tweets=true&q=%23TooGoodToGo+since%3A2019-01-01+until%3A2021-12-28+lang%3Aen&tweet_search_mode=live&count=100&query_source=spelling_expansion_revert_click&cursor=scroll%3AthGAVUV0VFVBaEwLnh4JeE_SUWjoCy_eDMo_ooEnEV4N14FYCJehgHREVGQVVMVDUBFWwVAAA%3D&pc=1&spelling_corrections=1&ext=mediaStats%2ChighlightedLabel\n",
      "2021-12-29 21:45:29,337 [INFO] snscrape.base - Retrieved https://api.twitter.com/2/search/adaptive.json?include_profile_interstitial_type=1&include_blocking=1&include_blocked_by=1&include_followed_by=1&include_want_retweets=1&include_mute_edge=1&include_can_dm=1&include_can_media_tag=1&skip_status=1&cards_platform=Web-12&include_cards=1&include_ext_alt_text=true&include_quote_count=true&include_reply_count=1&tweet_mode=extended&include_entities=true&include_user_entities=true&include_ext_media_color=true&include_ext_media_availability=true&send_error_codes=true&simple_quoted_tweets=true&q=%23TooGoodToGo+since%3A2019-01-01+until%3A2021-12-28+lang%3Aen&tweet_search_mode=live&count=100&query_source=spelling_expansion_revert_click&cursor=scroll%3AthGAVUV0VFVBaEwLnh4JeE_SUWjoCy_eDMo_ooEnEV4N14FYCJehgHREVGQVVMVDUBFWwVAAA%3D&pc=1&spelling_corrections=1&ext=mediaStats%2ChighlightedLabel: 200\n",
      "2021-12-29 21:45:29,343 [INFO] snscrape.modules.twitter - Retrieving scroll page scroll:thGAVUV0VFVBaAwKLF-_Kk8SUWjoCy_eDMo_ooEnEV0Np4FYCJehgHREVGQVVMVDUBFW4VAAA=\n",
      "2021-12-29 21:45:29,344 [INFO] snscrape.base - Retrieving https://api.twitter.com/2/search/adaptive.json?include_profile_interstitial_type=1&include_blocking=1&include_blocked_by=1&include_followed_by=1&include_want_retweets=1&include_mute_edge=1&include_can_dm=1&include_can_media_tag=1&skip_status=1&cards_platform=Web-12&include_cards=1&include_ext_alt_text=true&include_quote_count=true&include_reply_count=1&tweet_mode=extended&include_entities=true&include_user_entities=true&include_ext_media_color=true&include_ext_media_availability=true&send_error_codes=true&simple_quoted_tweets=true&q=%23TooGoodToGo+since%3A2019-01-01+until%3A2021-12-28+lang%3Aen&tweet_search_mode=live&count=100&query_source=spelling_expansion_revert_click&cursor=scroll%3AthGAVUV0VFVBaAwKLF-_Kk8SUWjoCy_eDMo_ooEnEV0Np4FYCJehgHREVGQVVMVDUBFW4VAAA%3D&pc=1&spelling_corrections=1&ext=mediaStats%2ChighlightedLabel\n",
      "2021-12-29 21:45:30,077 [INFO] snscrape.base - Retrieved https://api.twitter.com/2/search/adaptive.json?include_profile_interstitial_type=1&include_blocking=1&include_blocked_by=1&include_followed_by=1&include_want_retweets=1&include_mute_edge=1&include_can_dm=1&include_can_media_tag=1&skip_status=1&cards_platform=Web-12&include_cards=1&include_ext_alt_text=true&include_quote_count=true&include_reply_count=1&tweet_mode=extended&include_entities=true&include_user_entities=true&include_ext_media_color=true&include_ext_media_availability=true&send_error_codes=true&simple_quoted_tweets=true&q=%23TooGoodToGo+since%3A2019-01-01+until%3A2021-12-28+lang%3Aen&tweet_search_mode=live&count=100&query_source=spelling_expansion_revert_click&cursor=scroll%3AthGAVUV0VFVBaAwKLF-_Kk8SUWjoCy_eDMo_ooEnEV0Np4FYCJehgHREVGQVVMVDUBFW4VAAA%3D&pc=1&spelling_corrections=1&ext=mediaStats%2ChighlightedLabel: 200\n",
      "2021-12-29 21:45:30,090 [INFO] snscrape.modules.twitter - Retrieving scroll page scroll:thGAVUV0VFVBaGgLjF7rHn6SUWjoCy_eDMo_ooEnEVwNd4FYCJehgHREVGQVVMVDUBFXAVAAA=\n",
      "2021-12-29 21:45:30,093 [INFO] snscrape.base - Retrieving https://api.twitter.com/2/search/adaptive.json?include_profile_interstitial_type=1&include_blocking=1&include_blocked_by=1&include_followed_by=1&include_want_retweets=1&include_mute_edge=1&include_can_dm=1&include_can_media_tag=1&skip_status=1&cards_platform=Web-12&include_cards=1&include_ext_alt_text=true&include_quote_count=true&include_reply_count=1&tweet_mode=extended&include_entities=true&include_user_entities=true&include_ext_media_color=true&include_ext_media_availability=true&send_error_codes=true&simple_quoted_tweets=true&q=%23TooGoodToGo+since%3A2019-01-01+until%3A2021-12-28+lang%3Aen&tweet_search_mode=live&count=100&query_source=spelling_expansion_revert_click&cursor=scroll%3AthGAVUV0VFVBaGgLjF7rHn6SUWjoCy_eDMo_ooEnEVwNd4FYCJehgHREVGQVVMVDUBFXAVAAA%3D&pc=1&spelling_corrections=1&ext=mediaStats%2ChighlightedLabel\n",
      "2021-12-29 21:45:30,811 [INFO] snscrape.base - Retrieved https://api.twitter.com/2/search/adaptive.json?include_profile_interstitial_type=1&include_blocking=1&include_blocked_by=1&include_followed_by=1&include_want_retweets=1&include_mute_edge=1&include_can_dm=1&include_can_media_tag=1&skip_status=1&cards_platform=Web-12&include_cards=1&include_ext_alt_text=true&include_quote_count=true&include_reply_count=1&tweet_mode=extended&include_entities=true&include_user_entities=true&include_ext_media_color=true&include_ext_media_availability=true&send_error_codes=true&simple_quoted_tweets=true&q=%23TooGoodToGo+since%3A2019-01-01+until%3A2021-12-28+lang%3Aen&tweet_search_mode=live&count=100&query_source=spelling_expansion_revert_click&cursor=scroll%3AthGAVUV0VFVBaGgLjF7rHn6SUWjoCy_eDMo_ooEnEVwNd4FYCJehgHREVGQVVMVDUBFXAVAAA%3D&pc=1&spelling_corrections=1&ext=mediaStats%2ChighlightedLabel: 200\n",
      "2021-12-29 21:45:30,817 [INFO] snscrape.modules.twitter - Retrieving scroll page scroll:thGAVUV0VFVBaSwLmZ_bf-4SUWjoCy_eDMo_ooEnEVsNR4FYCJehgHREVGQVVMVDUBFXIVAAA=\n",
      "2021-12-29 21:45:30,818 [INFO] snscrape.base - Retrieving https://api.twitter.com/2/search/adaptive.json?include_profile_interstitial_type=1&include_blocking=1&include_blocked_by=1&include_followed_by=1&include_want_retweets=1&include_mute_edge=1&include_can_dm=1&include_can_media_tag=1&skip_status=1&cards_platform=Web-12&include_cards=1&include_ext_alt_text=true&include_quote_count=true&include_reply_count=1&tweet_mode=extended&include_entities=true&include_user_entities=true&include_ext_media_color=true&include_ext_media_availability=true&send_error_codes=true&simple_quoted_tweets=true&q=%23TooGoodToGo+since%3A2019-01-01+until%3A2021-12-28+lang%3Aen&tweet_search_mode=live&count=100&query_source=spelling_expansion_revert_click&cursor=scroll%3AthGAVUV0VFVBaSwLmZ_bf-4SUWjoCy_eDMo_ooEnEVsNR4FYCJehgHREVGQVVMVDUBFXIVAAA%3D&pc=1&spelling_corrections=1&ext=mediaStats%2ChighlightedLabel\n",
      "2021-12-29 21:45:31,551 [INFO] snscrape.base - Retrieved https://api.twitter.com/2/search/adaptive.json?include_profile_interstitial_type=1&include_blocking=1&include_blocked_by=1&include_followed_by=1&include_want_retweets=1&include_mute_edge=1&include_can_dm=1&include_can_media_tag=1&skip_status=1&cards_platform=Web-12&include_cards=1&include_ext_alt_text=true&include_quote_count=true&include_reply_count=1&tweet_mode=extended&include_entities=true&include_user_entities=true&include_ext_media_color=true&include_ext_media_availability=true&send_error_codes=true&simple_quoted_tweets=true&q=%23TooGoodToGo+since%3A2019-01-01+until%3A2021-12-28+lang%3Aen&tweet_search_mode=live&count=100&query_source=spelling_expansion_revert_click&cursor=scroll%3AthGAVUV0VFVBaSwLmZ_bf-4SUWjoCy_eDMo_ooEnEVsNR4FYCJehgHREVGQVVMVDUBFXIVAAA%3D&pc=1&spelling_corrections=1&ext=mediaStats%2ChighlightedLabel: 200\n",
      "2021-12-29 21:45:31,560 [INFO] snscrape.modules.twitter - Retrieving scroll page scroll:thGAVUV0VFVBaAgLu1v7OS3iUWjoCy_eDMo_ooEnEVoNF4FYCJehgHREVGQVVMVDUBFXQVAAA=\n",
      "2021-12-29 21:45:31,563 [INFO] snscrape.base - Retrieving https://api.twitter.com/2/search/adaptive.json?include_profile_interstitial_type=1&include_blocking=1&include_blocked_by=1&include_followed_by=1&include_want_retweets=1&include_mute_edge=1&include_can_dm=1&include_can_media_tag=1&skip_status=1&cards_platform=Web-12&include_cards=1&include_ext_alt_text=true&include_quote_count=true&include_reply_count=1&tweet_mode=extended&include_entities=true&include_user_entities=true&include_ext_media_color=true&include_ext_media_availability=true&send_error_codes=true&simple_quoted_tweets=true&q=%23TooGoodToGo+since%3A2019-01-01+until%3A2021-12-28+lang%3Aen&tweet_search_mode=live&count=100&query_source=spelling_expansion_revert_click&cursor=scroll%3AthGAVUV0VFVBaAgLu1v7OS3iUWjoCy_eDMo_ooEnEVoNF4FYCJehgHREVGQVVMVDUBFXQVAAA%3D&pc=1&spelling_corrections=1&ext=mediaStats%2ChighlightedLabel\n",
      "2021-12-29 21:45:32,289 [INFO] snscrape.base - Retrieved https://api.twitter.com/2/search/adaptive.json?include_profile_interstitial_type=1&include_blocking=1&include_blocked_by=1&include_followed_by=1&include_want_retweets=1&include_mute_edge=1&include_can_dm=1&include_can_media_tag=1&skip_status=1&cards_platform=Web-12&include_cards=1&include_ext_alt_text=true&include_quote_count=true&include_reply_count=1&tweet_mode=extended&include_entities=true&include_user_entities=true&include_ext_media_color=true&include_ext_media_availability=true&send_error_codes=true&simple_quoted_tweets=true&q=%23TooGoodToGo+since%3A2019-01-01+until%3A2021-12-28+lang%3Aen&tweet_search_mode=live&count=100&query_source=spelling_expansion_revert_click&cursor=scroll%3AthGAVUV0VFVBaAgLu1v7OS3iUWjoCy_eDMo_ooEnEVoNF4FYCJehgHREVGQVVMVDUBFXQVAAA%3D&pc=1&spelling_corrections=1&ext=mediaStats%2ChighlightedLabel: 200\n",
      "2021-12-29 21:45:32,298 [INFO] snscrape.modules.twitter - Retrieving scroll page scroll:thGAVUV0VFVBaAgLKtwuGs1CUWjoCy_eDMo_ooEnEVkM54FYCJehgHREVGQVVMVDUBFXYVAAA=\n",
      "2021-12-29 21:45:32,300 [INFO] snscrape.base - Retrieving https://api.twitter.com/2/search/adaptive.json?include_profile_interstitial_type=1&include_blocking=1&include_blocked_by=1&include_followed_by=1&include_want_retweets=1&include_mute_edge=1&include_can_dm=1&include_can_media_tag=1&skip_status=1&cards_platform=Web-12&include_cards=1&include_ext_alt_text=true&include_quote_count=true&include_reply_count=1&tweet_mode=extended&include_entities=true&include_user_entities=true&include_ext_media_color=true&include_ext_media_availability=true&send_error_codes=true&simple_quoted_tweets=true&q=%23TooGoodToGo+since%3A2019-01-01+until%3A2021-12-28+lang%3Aen&tweet_search_mode=live&count=100&query_source=spelling_expansion_revert_click&cursor=scroll%3AthGAVUV0VFVBaAgLKtwuGs1CUWjoCy_eDMo_ooEnEVkM54FYCJehgHREVGQVVMVDUBFXYVAAA%3D&pc=1&spelling_corrections=1&ext=mediaStats%2ChighlightedLabel\n",
      "2021-12-29 21:45:33,025 [INFO] snscrape.base - Retrieved https://api.twitter.com/2/search/adaptive.json?include_profile_interstitial_type=1&include_blocking=1&include_blocked_by=1&include_followed_by=1&include_want_retweets=1&include_mute_edge=1&include_can_dm=1&include_can_media_tag=1&skip_status=1&cards_platform=Web-12&include_cards=1&include_ext_alt_text=true&include_quote_count=true&include_reply_count=1&tweet_mode=extended&include_entities=true&include_user_entities=true&include_ext_media_color=true&include_ext_media_availability=true&send_error_codes=true&simple_quoted_tweets=true&q=%23TooGoodToGo+since%3A2019-01-01+until%3A2021-12-28+lang%3Aen&tweet_search_mode=live&count=100&query_source=spelling_expansion_revert_click&cursor=scroll%3AthGAVUV0VFVBaAgLKtwuGs1CUWjoCy_eDMo_ooEnEVkM54FYCJehgHREVGQVVMVDUBFXYVAAA%3D&pc=1&spelling_corrections=1&ext=mediaStats%2ChighlightedLabel: 200\n",
      "2021-12-29 21:45:33,031 [INFO] snscrape.modules.twitter - Retrieving scroll page scroll:thGAVUV0VFVBaEwLnpnKSNzCUWjoCy_eDMo_ooEnEVgMt4FYCJehgHREVGQVVMVDUBFXgVAAA=\n",
      "2021-12-29 21:45:33,033 [INFO] snscrape.base - Retrieving https://api.twitter.com/2/search/adaptive.json?include_profile_interstitial_type=1&include_blocking=1&include_blocked_by=1&include_followed_by=1&include_want_retweets=1&include_mute_edge=1&include_can_dm=1&include_can_media_tag=1&skip_status=1&cards_platform=Web-12&include_cards=1&include_ext_alt_text=true&include_quote_count=true&include_reply_count=1&tweet_mode=extended&include_entities=true&include_user_entities=true&include_ext_media_color=true&include_ext_media_availability=true&send_error_codes=true&simple_quoted_tweets=true&q=%23TooGoodToGo+since%3A2019-01-01+until%3A2021-12-28+lang%3Aen&tweet_search_mode=live&count=100&query_source=spelling_expansion_revert_click&cursor=scroll%3AthGAVUV0VFVBaEwLnpnKSNzCUWjoCy_eDMo_ooEnEVgMt4FYCJehgHREVGQVVMVDUBFXgVAAA%3D&pc=1&spelling_corrections=1&ext=mediaStats%2ChighlightedLabel\n",
      "2021-12-29 21:45:33,763 [INFO] snscrape.base - Retrieved https://api.twitter.com/2/search/adaptive.json?include_profile_interstitial_type=1&include_blocking=1&include_blocked_by=1&include_followed_by=1&include_want_retweets=1&include_mute_edge=1&include_can_dm=1&include_can_media_tag=1&skip_status=1&cards_platform=Web-12&include_cards=1&include_ext_alt_text=true&include_quote_count=true&include_reply_count=1&tweet_mode=extended&include_entities=true&include_user_entities=true&include_ext_media_color=true&include_ext_media_availability=true&send_error_codes=true&simple_quoted_tweets=true&q=%23TooGoodToGo+since%3A2019-01-01+until%3A2021-12-28+lang%3Aen&tweet_search_mode=live&count=100&query_source=spelling_expansion_revert_click&cursor=scroll%3AthGAVUV0VFVBaEwLnpnKSNzCUWjoCy_eDMo_ooEnEVgMt4FYCJehgHREVGQVVMVDUBFXgVAAA%3D&pc=1&spelling_corrections=1&ext=mediaStats%2ChighlightedLabel: 200\n",
      "2021-12-29 21:45:33,769 [INFO] snscrape.modules.twitter - Retrieving scroll page scroll:thGAVUV0VFVBaCgLjV3aSGyCUWjoCy_eDMo_ooEnEV8Md4FYCJehgHREVGQVVMVDUBFXoVAAA=\n",
      "2021-12-29 21:45:33,770 [INFO] snscrape.base - Retrieving https://api.twitter.com/2/search/adaptive.json?include_profile_interstitial_type=1&include_blocking=1&include_blocked_by=1&include_followed_by=1&include_want_retweets=1&include_mute_edge=1&include_can_dm=1&include_can_media_tag=1&skip_status=1&cards_platform=Web-12&include_cards=1&include_ext_alt_text=true&include_quote_count=true&include_reply_count=1&tweet_mode=extended&include_entities=true&include_user_entities=true&include_ext_media_color=true&include_ext_media_availability=true&send_error_codes=true&simple_quoted_tweets=true&q=%23TooGoodToGo+since%3A2019-01-01+until%3A2021-12-28+lang%3Aen&tweet_search_mode=live&count=100&query_source=spelling_expansion_revert_click&cursor=scroll%3AthGAVUV0VFVBaCgLjV3aSGyCUWjoCy_eDMo_ooEnEV8Md4FYCJehgHREVGQVVMVDUBFXoVAAA%3D&pc=1&spelling_corrections=1&ext=mediaStats%2ChighlightedLabel\n",
      "2021-12-29 21:45:34,498 [INFO] snscrape.base - Retrieved https://api.twitter.com/2/search/adaptive.json?include_profile_interstitial_type=1&include_blocking=1&include_blocked_by=1&include_followed_by=1&include_want_retweets=1&include_mute_edge=1&include_can_dm=1&include_can_media_tag=1&skip_status=1&cards_platform=Web-12&include_cards=1&include_ext_alt_text=true&include_quote_count=true&include_reply_count=1&tweet_mode=extended&include_entities=true&include_user_entities=true&include_ext_media_color=true&include_ext_media_availability=true&send_error_codes=true&simple_quoted_tweets=true&q=%23TooGoodToGo+since%3A2019-01-01+until%3A2021-12-28+lang%3Aen&tweet_search_mode=live&count=100&query_source=spelling_expansion_revert_click&cursor=scroll%3AthGAVUV0VFVBaCgLjV3aSGyCUWjoCy_eDMo_ooEnEV8Md4FYCJehgHREVGQVVMVDUBFXoVAAA%3D&pc=1&spelling_corrections=1&ext=mediaStats%2ChighlightedLabel: 200\n",
      "2021-12-29 21:45:34,504 [INFO] snscrape.modules.twitter - Retrieving scroll page scroll:thGAVUV0VFVBaAwLvpyqHBuiUWjoCy_eDMo_ooEnEV4MR4FYCJehgHREVGQVVMVDUBFXwVAAA=\n",
      "2021-12-29 21:45:34,506 [INFO] snscrape.base - Retrieving https://api.twitter.com/2/search/adaptive.json?include_profile_interstitial_type=1&include_blocking=1&include_blocked_by=1&include_followed_by=1&include_want_retweets=1&include_mute_edge=1&include_can_dm=1&include_can_media_tag=1&skip_status=1&cards_platform=Web-12&include_cards=1&include_ext_alt_text=true&include_quote_count=true&include_reply_count=1&tweet_mode=extended&include_entities=true&include_user_entities=true&include_ext_media_color=true&include_ext_media_availability=true&send_error_codes=true&simple_quoted_tweets=true&q=%23TooGoodToGo+since%3A2019-01-01+until%3A2021-12-28+lang%3Aen&tweet_search_mode=live&count=100&query_source=spelling_expansion_revert_click&cursor=scroll%3AthGAVUV0VFVBaAwLvpyqHBuiUWjoCy_eDMo_ooEnEV4MR4FYCJehgHREVGQVVMVDUBFXwVAAA%3D&pc=1&spelling_corrections=1&ext=mediaStats%2ChighlightedLabel\n",
      "2021-12-29 21:45:35,236 [INFO] snscrape.base - Retrieved https://api.twitter.com/2/search/adaptive.json?include_profile_interstitial_type=1&include_blocking=1&include_blocked_by=1&include_followed_by=1&include_want_retweets=1&include_mute_edge=1&include_can_dm=1&include_can_media_tag=1&skip_status=1&cards_platform=Web-12&include_cards=1&include_ext_alt_text=true&include_quote_count=true&include_reply_count=1&tweet_mode=extended&include_entities=true&include_user_entities=true&include_ext_media_color=true&include_ext_media_availability=true&send_error_codes=true&simple_quoted_tweets=true&q=%23TooGoodToGo+since%3A2019-01-01+until%3A2021-12-28+lang%3Aen&tweet_search_mode=live&count=100&query_source=spelling_expansion_revert_click&cursor=scroll%3AthGAVUV0VFVBaAwLvpyqHBuiUWjoCy_eDMo_ooEnEV4MR4FYCJehgHREVGQVVMVDUBFXwVAAA%3D&pc=1&spelling_corrections=1&ext=mediaStats%2ChighlightedLabel: 200\n",
      "2021-12-29 21:45:35,242 [INFO] snscrape.modules.twitter - Retrieving scroll page scroll:thGAVUV0VFVBaCwKiR44z1sSUWjoCy_eDMo_ooEnEV0MF4FYCJehgHREVGQVVMVDUBFX4VAAA=\n",
      "2021-12-29 21:45:35,244 [INFO] snscrape.base - Retrieving https://api.twitter.com/2/search/adaptive.json?include_profile_interstitial_type=1&include_blocking=1&include_blocked_by=1&include_followed_by=1&include_want_retweets=1&include_mute_edge=1&include_can_dm=1&include_can_media_tag=1&skip_status=1&cards_platform=Web-12&include_cards=1&include_ext_alt_text=true&include_quote_count=true&include_reply_count=1&tweet_mode=extended&include_entities=true&include_user_entities=true&include_ext_media_color=true&include_ext_media_availability=true&send_error_codes=true&simple_quoted_tweets=true&q=%23TooGoodToGo+since%3A2019-01-01+until%3A2021-12-28+lang%3Aen&tweet_search_mode=live&count=100&query_source=spelling_expansion_revert_click&cursor=scroll%3AthGAVUV0VFVBaCwKiR44z1sSUWjoCy_eDMo_ooEnEV0MF4FYCJehgHREVGQVVMVDUBFX4VAAA%3D&pc=1&spelling_corrections=1&ext=mediaStats%2ChighlightedLabel\n",
      "2021-12-29 21:45:35,856 [INFO] snscrape.base - Retrieved https://api.twitter.com/2/search/adaptive.json?include_profile_interstitial_type=1&include_blocking=1&include_blocked_by=1&include_followed_by=1&include_want_retweets=1&include_mute_edge=1&include_can_dm=1&include_can_media_tag=1&skip_status=1&cards_platform=Web-12&include_cards=1&include_ext_alt_text=true&include_quote_count=true&include_reply_count=1&tweet_mode=extended&include_entities=true&include_user_entities=true&include_ext_media_color=true&include_ext_media_availability=true&send_error_codes=true&simple_quoted_tweets=true&q=%23TooGoodToGo+since%3A2019-01-01+until%3A2021-12-28+lang%3Aen&tweet_search_mode=live&count=100&query_source=spelling_expansion_revert_click&cursor=scroll%3AthGAVUV0VFVBaCwKiR44z1sSUWjoCy_eDMo_ooEnEV0MF4FYCJehgHREVGQVVMVDUBFX4VAAA%3D&pc=1&spelling_corrections=1&ext=mediaStats%2ChighlightedLabel: 200\n",
      "2021-12-29 21:45:35,862 [INFO] snscrape.modules.twitter - Retrieving scroll page scroll:thGAVUV0VFVBaCwLrl1qvMpyUWjoCy_eDMo_ooEnEVwL54FYCJehgHREVGQVVMVDUBFYABFQAA\n",
      "2021-12-29 21:45:35,864 [INFO] snscrape.base - Retrieving https://api.twitter.com/2/search/adaptive.json?include_profile_interstitial_type=1&include_blocking=1&include_blocked_by=1&include_followed_by=1&include_want_retweets=1&include_mute_edge=1&include_can_dm=1&include_can_media_tag=1&skip_status=1&cards_platform=Web-12&include_cards=1&include_ext_alt_text=true&include_quote_count=true&include_reply_count=1&tweet_mode=extended&include_entities=true&include_user_entities=true&include_ext_media_color=true&include_ext_media_availability=true&send_error_codes=true&simple_quoted_tweets=true&q=%23TooGoodToGo+since%3A2019-01-01+until%3A2021-12-28+lang%3Aen&tweet_search_mode=live&count=100&query_source=spelling_expansion_revert_click&cursor=scroll%3AthGAVUV0VFVBaCwLrl1qvMpyUWjoCy_eDMo_ooEnEVwL54FYCJehgHREVGQVVMVDUBFYABFQAA&pc=1&spelling_corrections=1&ext=mediaStats%2ChighlightedLabel\n",
      "2021-12-29 21:45:36,464 [INFO] snscrape.base - Retrieved https://api.twitter.com/2/search/adaptive.json?include_profile_interstitial_type=1&include_blocking=1&include_blocked_by=1&include_followed_by=1&include_want_retweets=1&include_mute_edge=1&include_can_dm=1&include_can_media_tag=1&skip_status=1&cards_platform=Web-12&include_cards=1&include_ext_alt_text=true&include_quote_count=true&include_reply_count=1&tweet_mode=extended&include_entities=true&include_user_entities=true&include_ext_media_color=true&include_ext_media_availability=true&send_error_codes=true&simple_quoted_tweets=true&q=%23TooGoodToGo+since%3A2019-01-01+until%3A2021-12-28+lang%3Aen&tweet_search_mode=live&count=100&query_source=spelling_expansion_revert_click&cursor=scroll%3AthGAVUV0VFVBaCwLrl1qvMpyUWjoCy_eDMo_ooEnEVwL54FYCJehgHREVGQVVMVDUBFYABFQAA&pc=1&spelling_corrections=1&ext=mediaStats%2ChighlightedLabel: 200\n",
      "2021-12-29 21:45:36,469 [INFO] snscrape.modules.twitter - Retrieving scroll page scroll:thGAVUV0VFVBaGwLfx387qmSUWjoCy_eDMo_ooEnEVsLt4FYCJehgHREVGQVVMVDUBFYIBFQAA\n",
      "2021-12-29 21:45:36,471 [INFO] snscrape.base - Retrieving https://api.twitter.com/2/search/adaptive.json?include_profile_interstitial_type=1&include_blocking=1&include_blocked_by=1&include_followed_by=1&include_want_retweets=1&include_mute_edge=1&include_can_dm=1&include_can_media_tag=1&skip_status=1&cards_platform=Web-12&include_cards=1&include_ext_alt_text=true&include_quote_count=true&include_reply_count=1&tweet_mode=extended&include_entities=true&include_user_entities=true&include_ext_media_color=true&include_ext_media_availability=true&send_error_codes=true&simple_quoted_tweets=true&q=%23TooGoodToGo+since%3A2019-01-01+until%3A2021-12-28+lang%3Aen&tweet_search_mode=live&count=100&query_source=spelling_expansion_revert_click&cursor=scroll%3AthGAVUV0VFVBaGwLfx387qmSUWjoCy_eDMo_ooEnEVsLt4FYCJehgHREVGQVVMVDUBFYIBFQAA&pc=1&spelling_corrections=1&ext=mediaStats%2ChighlightedLabel\n",
      "2021-12-29 21:45:37,205 [INFO] snscrape.base - Retrieved https://api.twitter.com/2/search/adaptive.json?include_profile_interstitial_type=1&include_blocking=1&include_blocked_by=1&include_followed_by=1&include_want_retweets=1&include_mute_edge=1&include_can_dm=1&include_can_media_tag=1&skip_status=1&cards_platform=Web-12&include_cards=1&include_ext_alt_text=true&include_quote_count=true&include_reply_count=1&tweet_mode=extended&include_entities=true&include_user_entities=true&include_ext_media_color=true&include_ext_media_availability=true&send_error_codes=true&simple_quoted_tweets=true&q=%23TooGoodToGo+since%3A2019-01-01+until%3A2021-12-28+lang%3Aen&tweet_search_mode=live&count=100&query_source=spelling_expansion_revert_click&cursor=scroll%3AthGAVUV0VFVBaGwLfx387qmSUWjoCy_eDMo_ooEnEVsLt4FYCJehgHREVGQVVMVDUBFYIBFQAA&pc=1&spelling_corrections=1&ext=mediaStats%2ChighlightedLabel: 200\n",
      "2021-12-29 21:45:37,216 [INFO] snscrape.modules.twitter - Retrieving scroll page scroll:thGAVUV0VFVBaAwLHF85L6iCUWjoCy_eDMo_ooEnEVoLh4FYCJehgHREVGQVVMVDUBFYQBFQAA\n",
      "2021-12-29 21:45:37,217 [INFO] snscrape.base - Retrieving https://api.twitter.com/2/search/adaptive.json?include_profile_interstitial_type=1&include_blocking=1&include_blocked_by=1&include_followed_by=1&include_want_retweets=1&include_mute_edge=1&include_can_dm=1&include_can_media_tag=1&skip_status=1&cards_platform=Web-12&include_cards=1&include_ext_alt_text=true&include_quote_count=true&include_reply_count=1&tweet_mode=extended&include_entities=true&include_user_entities=true&include_ext_media_color=true&include_ext_media_availability=true&send_error_codes=true&simple_quoted_tweets=true&q=%23TooGoodToGo+since%3A2019-01-01+until%3A2021-12-28+lang%3Aen&tweet_search_mode=live&count=100&query_source=spelling_expansion_revert_click&cursor=scroll%3AthGAVUV0VFVBaAwLHF85L6iCUWjoCy_eDMo_ooEnEVoLh4FYCJehgHREVGQVVMVDUBFYQBFQAA&pc=1&spelling_corrections=1&ext=mediaStats%2ChighlightedLabel\n",
      "2021-12-29 21:45:37,941 [INFO] snscrape.base - Retrieved https://api.twitter.com/2/search/adaptive.json?include_profile_interstitial_type=1&include_blocking=1&include_blocked_by=1&include_followed_by=1&include_want_retweets=1&include_mute_edge=1&include_can_dm=1&include_can_media_tag=1&skip_status=1&cards_platform=Web-12&include_cards=1&include_ext_alt_text=true&include_quote_count=true&include_reply_count=1&tweet_mode=extended&include_entities=true&include_user_entities=true&include_ext_media_color=true&include_ext_media_availability=true&send_error_codes=true&simple_quoted_tweets=true&q=%23TooGoodToGo+since%3A2019-01-01+until%3A2021-12-28+lang%3Aen&tweet_search_mode=live&count=100&query_source=spelling_expansion_revert_click&cursor=scroll%3AthGAVUV0VFVBaAwLHF85L6iCUWjoCy_eDMo_ooEnEVoLh4FYCJehgHREVGQVVMVDUBFYQBFQAA&pc=1&spelling_corrections=1&ext=mediaStats%2ChighlightedLabel: 200\n",
      "2021-12-29 21:45:37,946 [INFO] snscrape.modules.twitter - Retrieving scroll page scroll:thGAVUV0VFVBaCwLfd5reu_SQWjoCy_eDMo_ooEnEVkLV4FYCJehgHREVGQVVMVDUBFYYBFQAA\n",
      "2021-12-29 21:45:37,948 [INFO] snscrape.base - Retrieving https://api.twitter.com/2/search/adaptive.json?include_profile_interstitial_type=1&include_blocking=1&include_blocked_by=1&include_followed_by=1&include_want_retweets=1&include_mute_edge=1&include_can_dm=1&include_can_media_tag=1&skip_status=1&cards_platform=Web-12&include_cards=1&include_ext_alt_text=true&include_quote_count=true&include_reply_count=1&tweet_mode=extended&include_entities=true&include_user_entities=true&include_ext_media_color=true&include_ext_media_availability=true&send_error_codes=true&simple_quoted_tweets=true&q=%23TooGoodToGo+since%3A2019-01-01+until%3A2021-12-28+lang%3Aen&tweet_search_mode=live&count=100&query_source=spelling_expansion_revert_click&cursor=scroll%3AthGAVUV0VFVBaCwLfd5reu_SQWjoCy_eDMo_ooEnEVkLV4FYCJehgHREVGQVVMVDUBFYYBFQAA&pc=1&spelling_corrections=1&ext=mediaStats%2ChighlightedLabel\n",
      "2021-12-29 21:45:38,677 [INFO] snscrape.base - Retrieved https://api.twitter.com/2/search/adaptive.json?include_profile_interstitial_type=1&include_blocking=1&include_blocked_by=1&include_followed_by=1&include_want_retweets=1&include_mute_edge=1&include_can_dm=1&include_can_media_tag=1&skip_status=1&cards_platform=Web-12&include_cards=1&include_ext_alt_text=true&include_quote_count=true&include_reply_count=1&tweet_mode=extended&include_entities=true&include_user_entities=true&include_ext_media_color=true&include_ext_media_availability=true&send_error_codes=true&simple_quoted_tweets=true&q=%23TooGoodToGo+since%3A2019-01-01+until%3A2021-12-28+lang%3Aen&tweet_search_mode=live&count=100&query_source=spelling_expansion_revert_click&cursor=scroll%3AthGAVUV0VFVBaCwLfd5reu_SQWjoCy_eDMo_ooEnEVkLV4FYCJehgHREVGQVVMVDUBFYYBFQAA&pc=1&spelling_corrections=1&ext=mediaStats%2ChighlightedLabel: 200\n",
      "2021-12-29 21:45:38,684 [INFO] snscrape.modules.twitter - Retrieving scroll page scroll:thGAVUV0VFVBaAwLeZhNbj6CQWjoCy_eDMo_ooEnEVgLJ4FYCJehgHREVGQVVMVDUBFYgBFQAA\n",
      "2021-12-29 21:45:38,686 [INFO] snscrape.base - Retrieving https://api.twitter.com/2/search/adaptive.json?include_profile_interstitial_type=1&include_blocking=1&include_blocked_by=1&include_followed_by=1&include_want_retweets=1&include_mute_edge=1&include_can_dm=1&include_can_media_tag=1&skip_status=1&cards_platform=Web-12&include_cards=1&include_ext_alt_text=true&include_quote_count=true&include_reply_count=1&tweet_mode=extended&include_entities=true&include_user_entities=true&include_ext_media_color=true&include_ext_media_availability=true&send_error_codes=true&simple_quoted_tweets=true&q=%23TooGoodToGo+since%3A2019-01-01+until%3A2021-12-28+lang%3Aen&tweet_search_mode=live&count=100&query_source=spelling_expansion_revert_click&cursor=scroll%3AthGAVUV0VFVBaAwLeZhNbj6CQWjoCy_eDMo_ooEnEVgLJ4FYCJehgHREVGQVVMVDUBFYgBFQAA&pc=1&spelling_corrections=1&ext=mediaStats%2ChighlightedLabel\n",
      "2021-12-29 21:45:39,279 [INFO] snscrape.base - Retrieved https://api.twitter.com/2/search/adaptive.json?include_profile_interstitial_type=1&include_blocking=1&include_blocked_by=1&include_followed_by=1&include_want_retweets=1&include_mute_edge=1&include_can_dm=1&include_can_media_tag=1&skip_status=1&cards_platform=Web-12&include_cards=1&include_ext_alt_text=true&include_quote_count=true&include_reply_count=1&tweet_mode=extended&include_entities=true&include_user_entities=true&include_ext_media_color=true&include_ext_media_availability=true&send_error_codes=true&simple_quoted_tweets=true&q=%23TooGoodToGo+since%3A2019-01-01+until%3A2021-12-28+lang%3Aen&tweet_search_mode=live&count=100&query_source=spelling_expansion_revert_click&cursor=scroll%3AthGAVUV0VFVBaAwLeZhNbj6CQWjoCy_eDMo_ooEnEVgLJ4FYCJehgHREVGQVVMVDUBFYgBFQAA&pc=1&spelling_corrections=1&ext=mediaStats%2ChighlightedLabel: 200\n",
      "2021-12-29 21:45:39,284 [INFO] snscrape.modules.twitter - Retrieving scroll page scroll:thGAVUV0VFVBaAwLHh_b7_1iQWjoCy_eDMo_ooEnEV8K54FYCJehgHREVGQVVMVDUBFYoBFQAA\n",
      "2021-12-29 21:45:39,287 [INFO] snscrape.base - Retrieving https://api.twitter.com/2/search/adaptive.json?include_profile_interstitial_type=1&include_blocking=1&include_blocked_by=1&include_followed_by=1&include_want_retweets=1&include_mute_edge=1&include_can_dm=1&include_can_media_tag=1&skip_status=1&cards_platform=Web-12&include_cards=1&include_ext_alt_text=true&include_quote_count=true&include_reply_count=1&tweet_mode=extended&include_entities=true&include_user_entities=true&include_ext_media_color=true&include_ext_media_availability=true&send_error_codes=true&simple_quoted_tweets=true&q=%23TooGoodToGo+since%3A2019-01-01+until%3A2021-12-28+lang%3Aen&tweet_search_mode=live&count=100&query_source=spelling_expansion_revert_click&cursor=scroll%3AthGAVUV0VFVBaAwLHh_b7_1iQWjoCy_eDMo_ooEnEV8K54FYCJehgHREVGQVVMVDUBFYoBFQAA&pc=1&spelling_corrections=1&ext=mediaStats%2ChighlightedLabel\n",
      "2021-12-29 21:45:39,904 [INFO] snscrape.base - Retrieved https://api.twitter.com/2/search/adaptive.json?include_profile_interstitial_type=1&include_blocking=1&include_blocked_by=1&include_followed_by=1&include_want_retweets=1&include_mute_edge=1&include_can_dm=1&include_can_media_tag=1&skip_status=1&cards_platform=Web-12&include_cards=1&include_ext_alt_text=true&include_quote_count=true&include_reply_count=1&tweet_mode=extended&include_entities=true&include_user_entities=true&include_ext_media_color=true&include_ext_media_availability=true&send_error_codes=true&simple_quoted_tweets=true&q=%23TooGoodToGo+since%3A2019-01-01+until%3A2021-12-28+lang%3Aen&tweet_search_mode=live&count=100&query_source=spelling_expansion_revert_click&cursor=scroll%3AthGAVUV0VFVBaAwLHh_b7_1iQWjoCy_eDMo_ooEnEV8K54FYCJehgHREVGQVVMVDUBFYoBFQAA&pc=1&spelling_corrections=1&ext=mediaStats%2ChighlightedLabel: 200\n",
      "2021-12-29 21:45:39,910 [INFO] snscrape.modules.twitter - Retrieving scroll page scroll:thGAVUV0VFVBaKgLuVwPrHyyQWjoCy_eDMo_ooEnEV4Kt4FYCJehgHREVGQVVMVDUBFYwBFQAA\n",
      "2021-12-29 21:45:39,912 [INFO] snscrape.base - Retrieving https://api.twitter.com/2/search/adaptive.json?include_profile_interstitial_type=1&include_blocking=1&include_blocked_by=1&include_followed_by=1&include_want_retweets=1&include_mute_edge=1&include_can_dm=1&include_can_media_tag=1&skip_status=1&cards_platform=Web-12&include_cards=1&include_ext_alt_text=true&include_quote_count=true&include_reply_count=1&tweet_mode=extended&include_entities=true&include_user_entities=true&include_ext_media_color=true&include_ext_media_availability=true&send_error_codes=true&simple_quoted_tweets=true&q=%23TooGoodToGo+since%3A2019-01-01+until%3A2021-12-28+lang%3Aen&tweet_search_mode=live&count=100&query_source=spelling_expansion_revert_click&cursor=scroll%3AthGAVUV0VFVBaKgLuVwPrHyyQWjoCy_eDMo_ooEnEV4Kt4FYCJehgHREVGQVVMVDUBFYwBFQAA&pc=1&spelling_corrections=1&ext=mediaStats%2ChighlightedLabel\n",
      "2021-12-29 21:45:40,523 [INFO] snscrape.base - Retrieved https://api.twitter.com/2/search/adaptive.json?include_profile_interstitial_type=1&include_blocking=1&include_blocked_by=1&include_followed_by=1&include_want_retweets=1&include_mute_edge=1&include_can_dm=1&include_can_media_tag=1&skip_status=1&cards_platform=Web-12&include_cards=1&include_ext_alt_text=true&include_quote_count=true&include_reply_count=1&tweet_mode=extended&include_entities=true&include_user_entities=true&include_ext_media_color=true&include_ext_media_availability=true&send_error_codes=true&simple_quoted_tweets=true&q=%23TooGoodToGo+since%3A2019-01-01+until%3A2021-12-28+lang%3Aen&tweet_search_mode=live&count=100&query_source=spelling_expansion_revert_click&cursor=scroll%3AthGAVUV0VFVBaKgLuVwPrHyyQWjoCy_eDMo_ooEnEV4Kt4FYCJehgHREVGQVVMVDUBFYwBFQAA&pc=1&spelling_corrections=1&ext=mediaStats%2ChighlightedLabel: 200\n",
      "2021-12-29 21:45:40,529 [INFO] snscrape.modules.twitter - Retrieving scroll page scroll:thGAVUV0VFVBaAwLzl7_SvviQWjoCy_eDMo_ooEnEV0Kh4FYCJehgHREVGQVVMVDUBFY4BFQAA\n",
      "2021-12-29 21:45:40,530 [INFO] snscrape.base - Retrieving https://api.twitter.com/2/search/adaptive.json?include_profile_interstitial_type=1&include_blocking=1&include_blocked_by=1&include_followed_by=1&include_want_retweets=1&include_mute_edge=1&include_can_dm=1&include_can_media_tag=1&skip_status=1&cards_platform=Web-12&include_cards=1&include_ext_alt_text=true&include_quote_count=true&include_reply_count=1&tweet_mode=extended&include_entities=true&include_user_entities=true&include_ext_media_color=true&include_ext_media_availability=true&send_error_codes=true&simple_quoted_tweets=true&q=%23TooGoodToGo+since%3A2019-01-01+until%3A2021-12-28+lang%3Aen&tweet_search_mode=live&count=100&query_source=spelling_expansion_revert_click&cursor=scroll%3AthGAVUV0VFVBaAwLzl7_SvviQWjoCy_eDMo_ooEnEV0Kh4FYCJehgHREVGQVVMVDUBFY4BFQAA&pc=1&spelling_corrections=1&ext=mediaStats%2ChighlightedLabel\n",
      "2021-12-29 21:45:41,259 [INFO] snscrape.base - Retrieved https://api.twitter.com/2/search/adaptive.json?include_profile_interstitial_type=1&include_blocking=1&include_blocked_by=1&include_followed_by=1&include_want_retweets=1&include_mute_edge=1&include_can_dm=1&include_can_media_tag=1&skip_status=1&cards_platform=Web-12&include_cards=1&include_ext_alt_text=true&include_quote_count=true&include_reply_count=1&tweet_mode=extended&include_entities=true&include_user_entities=true&include_ext_media_color=true&include_ext_media_availability=true&send_error_codes=true&simple_quoted_tweets=true&q=%23TooGoodToGo+since%3A2019-01-01+until%3A2021-12-28+lang%3Aen&tweet_search_mode=live&count=100&query_source=spelling_expansion_revert_click&cursor=scroll%3AthGAVUV0VFVBaAwLzl7_SvviQWjoCy_eDMo_ooEnEV0Kh4FYCJehgHREVGQVVMVDUBFY4BFQAA&pc=1&spelling_corrections=1&ext=mediaStats%2ChighlightedLabel: 200\n",
      "2021-12-29 21:45:41,272 [INFO] snscrape.modules.twitter - Retrieving scroll page scroll:thGAVUV0VFVBaCgLXxpuP0sCQWjoCy_eDMo_ooEnEVwKV4FYCJehgHREVGQVVMVDUBFZABFQAA\n",
      "2021-12-29 21:45:41,276 [INFO] snscrape.base - Retrieving https://api.twitter.com/2/search/adaptive.json?include_profile_interstitial_type=1&include_blocking=1&include_blocked_by=1&include_followed_by=1&include_want_retweets=1&include_mute_edge=1&include_can_dm=1&include_can_media_tag=1&skip_status=1&cards_platform=Web-12&include_cards=1&include_ext_alt_text=true&include_quote_count=true&include_reply_count=1&tweet_mode=extended&include_entities=true&include_user_entities=true&include_ext_media_color=true&include_ext_media_availability=true&send_error_codes=true&simple_quoted_tweets=true&q=%23TooGoodToGo+since%3A2019-01-01+until%3A2021-12-28+lang%3Aen&tweet_search_mode=live&count=100&query_source=spelling_expansion_revert_click&cursor=scroll%3AthGAVUV0VFVBaCgLXxpuP0sCQWjoCy_eDMo_ooEnEVwKV4FYCJehgHREVGQVVMVDUBFZABFQAA&pc=1&spelling_corrections=1&ext=mediaStats%2ChighlightedLabel\n",
      "2021-12-29 21:45:42,119 [INFO] snscrape.base - Retrieved https://api.twitter.com/2/search/adaptive.json?include_profile_interstitial_type=1&include_blocking=1&include_blocked_by=1&include_followed_by=1&include_want_retweets=1&include_mute_edge=1&include_can_dm=1&include_can_media_tag=1&skip_status=1&cards_platform=Web-12&include_cards=1&include_ext_alt_text=true&include_quote_count=true&include_reply_count=1&tweet_mode=extended&include_entities=true&include_user_entities=true&include_ext_media_color=true&include_ext_media_availability=true&send_error_codes=true&simple_quoted_tweets=true&q=%23TooGoodToGo+since%3A2019-01-01+until%3A2021-12-28+lang%3Aen&tweet_search_mode=live&count=100&query_source=spelling_expansion_revert_click&cursor=scroll%3AthGAVUV0VFVBaCgLXxpuP0sCQWjoCy_eDMo_ooEnEVwKV4FYCJehgHREVGQVVMVDUBFZABFQAA&pc=1&spelling_corrections=1&ext=mediaStats%2ChighlightedLabel: 200\n",
      "2021-12-29 21:45:42,133 [INFO] snscrape.modules.twitter - Retrieving scroll page scroll:thGAVUV0VFVBaCgLu92PylpCQWjoCy_eDMo_ooEnEVsKJ4FYCJehgHREVGQVVMVDUBFZIBFQAA\n",
      "2021-12-29 21:45:42,137 [INFO] snscrape.base - Retrieving https://api.twitter.com/2/search/adaptive.json?include_profile_interstitial_type=1&include_blocking=1&include_blocked_by=1&include_followed_by=1&include_want_retweets=1&include_mute_edge=1&include_can_dm=1&include_can_media_tag=1&skip_status=1&cards_platform=Web-12&include_cards=1&include_ext_alt_text=true&include_quote_count=true&include_reply_count=1&tweet_mode=extended&include_entities=true&include_user_entities=true&include_ext_media_color=true&include_ext_media_availability=true&send_error_codes=true&simple_quoted_tweets=true&q=%23TooGoodToGo+since%3A2019-01-01+until%3A2021-12-28+lang%3Aen&tweet_search_mode=live&count=100&query_source=spelling_expansion_revert_click&cursor=scroll%3AthGAVUV0VFVBaCgLu92PylpCQWjoCy_eDMo_ooEnEVsKJ4FYCJehgHREVGQVVMVDUBFZIBFQAA&pc=1&spelling_corrections=1&ext=mediaStats%2ChighlightedLabel\n",
      "2021-12-29 21:45:42,859 [INFO] snscrape.base - Retrieved https://api.twitter.com/2/search/adaptive.json?include_profile_interstitial_type=1&include_blocking=1&include_blocked_by=1&include_followed_by=1&include_want_retweets=1&include_mute_edge=1&include_can_dm=1&include_can_media_tag=1&skip_status=1&cards_platform=Web-12&include_cards=1&include_ext_alt_text=true&include_quote_count=true&include_reply_count=1&tweet_mode=extended&include_entities=true&include_user_entities=true&include_ext_media_color=true&include_ext_media_availability=true&send_error_codes=true&simple_quoted_tweets=true&q=%23TooGoodToGo+since%3A2019-01-01+until%3A2021-12-28+lang%3Aen&tweet_search_mode=live&count=100&query_source=spelling_expansion_revert_click&cursor=scroll%3AthGAVUV0VFVBaCgLu92PylpCQWjoCy_eDMo_ooEnEVsKJ4FYCJehgHREVGQVVMVDUBFZIBFQAA&pc=1&spelling_corrections=1&ext=mediaStats%2ChighlightedLabel: 200\n",
      "2021-12-29 21:45:42,865 [INFO] snscrape.modules.twitter - Retrieving scroll page scroll:thGAVUV0VFVBaMgLvBn4XjmCQWjoCy_eDMo_ooEnEVoJ94FYCJehgHREVGQVVMVDUBFZQBFQAA\n",
      "2021-12-29 21:45:42,866 [INFO] snscrape.base - Retrieving https://api.twitter.com/2/search/adaptive.json?include_profile_interstitial_type=1&include_blocking=1&include_blocked_by=1&include_followed_by=1&include_want_retweets=1&include_mute_edge=1&include_can_dm=1&include_can_media_tag=1&skip_status=1&cards_platform=Web-12&include_cards=1&include_ext_alt_text=true&include_quote_count=true&include_reply_count=1&tweet_mode=extended&include_entities=true&include_user_entities=true&include_ext_media_color=true&include_ext_media_availability=true&send_error_codes=true&simple_quoted_tweets=true&q=%23TooGoodToGo+since%3A2019-01-01+until%3A2021-12-28+lang%3Aen&tweet_search_mode=live&count=100&query_source=spelling_expansion_revert_click&cursor=scroll%3AthGAVUV0VFVBaMgLvBn4XjmCQWjoCy_eDMo_ooEnEVoJ94FYCJehgHREVGQVVMVDUBFZQBFQAA&pc=1&spelling_corrections=1&ext=mediaStats%2ChighlightedLabel\n",
      "2021-12-29 21:45:43,470 [INFO] snscrape.base - Retrieved https://api.twitter.com/2/search/adaptive.json?include_profile_interstitial_type=1&include_blocking=1&include_blocked_by=1&include_followed_by=1&include_want_retweets=1&include_mute_edge=1&include_can_dm=1&include_can_media_tag=1&skip_status=1&cards_platform=Web-12&include_cards=1&include_ext_alt_text=true&include_quote_count=true&include_reply_count=1&tweet_mode=extended&include_entities=true&include_user_entities=true&include_ext_media_color=true&include_ext_media_availability=true&send_error_codes=true&simple_quoted_tweets=true&q=%23TooGoodToGo+since%3A2019-01-01+until%3A2021-12-28+lang%3Aen&tweet_search_mode=live&count=100&query_source=spelling_expansion_revert_click&cursor=scroll%3AthGAVUV0VFVBaMgLvBn4XjmCQWjoCy_eDMo_ooEnEVoJ94FYCJehgHREVGQVVMVDUBFZQBFQAA&pc=1&spelling_corrections=1&ext=mediaStats%2ChighlightedLabel: 200\n",
      "2021-12-29 21:45:43,481 [INFO] snscrape.modules.twitter - Retrieving scroll page scroll:thGAVUV0VFVBaCgLXZicyRhyQWjoCy_eDMo_ooEnEVkJx4FYCJehgHREVGQVVMVDUBFZYBFQAA\n",
      "2021-12-29 21:45:43,484 [INFO] snscrape.base - Retrieving https://api.twitter.com/2/search/adaptive.json?include_profile_interstitial_type=1&include_blocking=1&include_blocked_by=1&include_followed_by=1&include_want_retweets=1&include_mute_edge=1&include_can_dm=1&include_can_media_tag=1&skip_status=1&cards_platform=Web-12&include_cards=1&include_ext_alt_text=true&include_quote_count=true&include_reply_count=1&tweet_mode=extended&include_entities=true&include_user_entities=true&include_ext_media_color=true&include_ext_media_availability=true&send_error_codes=true&simple_quoted_tweets=true&q=%23TooGoodToGo+since%3A2019-01-01+until%3A2021-12-28+lang%3Aen&tweet_search_mode=live&count=100&query_source=spelling_expansion_revert_click&cursor=scroll%3AthGAVUV0VFVBaCgLXZicyRhyQWjoCy_eDMo_ooEnEVkJx4FYCJehgHREVGQVVMVDUBFZYBFQAA&pc=1&spelling_corrections=1&ext=mediaStats%2ChighlightedLabel\n",
      "2021-12-29 21:45:44,331 [INFO] snscrape.base - Retrieved https://api.twitter.com/2/search/adaptive.json?include_profile_interstitial_type=1&include_blocking=1&include_blocked_by=1&include_followed_by=1&include_want_retweets=1&include_mute_edge=1&include_can_dm=1&include_can_media_tag=1&skip_status=1&cards_platform=Web-12&include_cards=1&include_ext_alt_text=true&include_quote_count=true&include_reply_count=1&tweet_mode=extended&include_entities=true&include_user_entities=true&include_ext_media_color=true&include_ext_media_availability=true&send_error_codes=true&simple_quoted_tweets=true&q=%23TooGoodToGo+since%3A2019-01-01+until%3A2021-12-28+lang%3Aen&tweet_search_mode=live&count=100&query_source=spelling_expansion_revert_click&cursor=scroll%3AthGAVUV0VFVBaCgLXZicyRhyQWjoCy_eDMo_ooEnEVkJx4FYCJehgHREVGQVVMVDUBFZYBFQAA&pc=1&spelling_corrections=1&ext=mediaStats%2ChighlightedLabel: 200\n",
      "2021-12-29 21:45:44,343 [INFO] snscrape.modules.twitter - Retrieving scroll page scroll:thGAVUV0VFVBaKwL3ZuYaC9CMWjoCy_eDMo_ooEnEVgJl4FYCJehgHREVGQVVMVDUBFZgBFQAA\n",
      "2021-12-29 21:45:44,346 [INFO] snscrape.base - Retrieving https://api.twitter.com/2/search/adaptive.json?include_profile_interstitial_type=1&include_blocking=1&include_blocked_by=1&include_followed_by=1&include_want_retweets=1&include_mute_edge=1&include_can_dm=1&include_can_media_tag=1&skip_status=1&cards_platform=Web-12&include_cards=1&include_ext_alt_text=true&include_quote_count=true&include_reply_count=1&tweet_mode=extended&include_entities=true&include_user_entities=true&include_ext_media_color=true&include_ext_media_availability=true&send_error_codes=true&simple_quoted_tweets=true&q=%23TooGoodToGo+since%3A2019-01-01+until%3A2021-12-28+lang%3Aen&tweet_search_mode=live&count=100&query_source=spelling_expansion_revert_click&cursor=scroll%3AthGAVUV0VFVBaKwL3ZuYaC9CMWjoCy_eDMo_ooEnEVgJl4FYCJehgHREVGQVVMVDUBFZgBFQAA&pc=1&spelling_corrections=1&ext=mediaStats%2ChighlightedLabel\n",
      "2021-12-29 21:45:44,945 [INFO] snscrape.base - Retrieved https://api.twitter.com/2/search/adaptive.json?include_profile_interstitial_type=1&include_blocking=1&include_blocked_by=1&include_followed_by=1&include_want_retweets=1&include_mute_edge=1&include_can_dm=1&include_can_media_tag=1&skip_status=1&cards_platform=Web-12&include_cards=1&include_ext_alt_text=true&include_quote_count=true&include_reply_count=1&tweet_mode=extended&include_entities=true&include_user_entities=true&include_ext_media_color=true&include_ext_media_availability=true&send_error_codes=true&simple_quoted_tweets=true&q=%23TooGoodToGo+since%3A2019-01-01+until%3A2021-12-28+lang%3Aen&tweet_search_mode=live&count=100&query_source=spelling_expansion_revert_click&cursor=scroll%3AthGAVUV0VFVBaKwL3ZuYaC9CMWjoCy_eDMo_ooEnEVgJl4FYCJehgHREVGQVVMVDUBFZgBFQAA&pc=1&spelling_corrections=1&ext=mediaStats%2ChighlightedLabel: 200\n",
      "2021-12-29 21:45:44,954 [INFO] snscrape.modules.twitter - Retrieving scroll page scroll:thGAVUV0VFVBaGwL2hyrH84yMWjoCy_eDMo_ooEnEV8JV4FYCJehgHREVGQVVMVDUBFZoBFQAA\n",
      "2021-12-29 21:45:44,955 [INFO] snscrape.base - Retrieving https://api.twitter.com/2/search/adaptive.json?include_profile_interstitial_type=1&include_blocking=1&include_blocked_by=1&include_followed_by=1&include_want_retweets=1&include_mute_edge=1&include_can_dm=1&include_can_media_tag=1&skip_status=1&cards_platform=Web-12&include_cards=1&include_ext_alt_text=true&include_quote_count=true&include_reply_count=1&tweet_mode=extended&include_entities=true&include_user_entities=true&include_ext_media_color=true&include_ext_media_availability=true&send_error_codes=true&simple_quoted_tweets=true&q=%23TooGoodToGo+since%3A2019-01-01+until%3A2021-12-28+lang%3Aen&tweet_search_mode=live&count=100&query_source=spelling_expansion_revert_click&cursor=scroll%3AthGAVUV0VFVBaGwL2hyrH84yMWjoCy_eDMo_ooEnEV8JV4FYCJehgHREVGQVVMVDUBFZoBFQAA&pc=1&spelling_corrections=1&ext=mediaStats%2ChighlightedLabel\n",
      "2021-12-29 21:45:45,806 [INFO] snscrape.base - Retrieved https://api.twitter.com/2/search/adaptive.json?include_profile_interstitial_type=1&include_blocking=1&include_blocked_by=1&include_followed_by=1&include_want_retweets=1&include_mute_edge=1&include_can_dm=1&include_can_media_tag=1&skip_status=1&cards_platform=Web-12&include_cards=1&include_ext_alt_text=true&include_quote_count=true&include_reply_count=1&tweet_mode=extended&include_entities=true&include_user_entities=true&include_ext_media_color=true&include_ext_media_availability=true&send_error_codes=true&simple_quoted_tweets=true&q=%23TooGoodToGo+since%3A2019-01-01+until%3A2021-12-28+lang%3Aen&tweet_search_mode=live&count=100&query_source=spelling_expansion_revert_click&cursor=scroll%3AthGAVUV0VFVBaGwL2hyrH84yMWjoCy_eDMo_ooEnEV8JV4FYCJehgHREVGQVVMVDUBFZoBFQAA&pc=1&spelling_corrections=1&ext=mediaStats%2ChighlightedLabel: 200\n",
      "2021-12-29 21:45:45,816 [INFO] snscrape.modules.twitter - Retrieving scroll page scroll:thGAVUV0VFVBaCwL25iuaaySMWjoCy_eDMo_ooEnEV4JJ4FYCJehgHREVGQVVMVDUBFZwBFQAA\n",
      "2021-12-29 21:45:45,817 [INFO] snscrape.base - Retrieving https://api.twitter.com/2/search/adaptive.json?include_profile_interstitial_type=1&include_blocking=1&include_blocked_by=1&include_followed_by=1&include_want_retweets=1&include_mute_edge=1&include_can_dm=1&include_can_media_tag=1&skip_status=1&cards_platform=Web-12&include_cards=1&include_ext_alt_text=true&include_quote_count=true&include_reply_count=1&tweet_mode=extended&include_entities=true&include_user_entities=true&include_ext_media_color=true&include_ext_media_availability=true&send_error_codes=true&simple_quoted_tweets=true&q=%23TooGoodToGo+since%3A2019-01-01+until%3A2021-12-28+lang%3Aen&tweet_search_mode=live&count=100&query_source=spelling_expansion_revert_click&cursor=scroll%3AthGAVUV0VFVBaCwL25iuaaySMWjoCy_eDMo_ooEnEV4JJ4FYCJehgHREVGQVVMVDUBFZwBFQAA&pc=1&spelling_corrections=1&ext=mediaStats%2ChighlightedLabel\n",
      "2021-12-29 21:45:46,399 [INFO] snscrape.base - Retrieved https://api.twitter.com/2/search/adaptive.json?include_profile_interstitial_type=1&include_blocking=1&include_blocked_by=1&include_followed_by=1&include_want_retweets=1&include_mute_edge=1&include_can_dm=1&include_can_media_tag=1&skip_status=1&cards_platform=Web-12&include_cards=1&include_ext_alt_text=true&include_quote_count=true&include_reply_count=1&tweet_mode=extended&include_entities=true&include_user_entities=true&include_ext_media_color=true&include_ext_media_availability=true&send_error_codes=true&simple_quoted_tweets=true&q=%23TooGoodToGo+since%3A2019-01-01+until%3A2021-12-28+lang%3Aen&tweet_search_mode=live&count=100&query_source=spelling_expansion_revert_click&cursor=scroll%3AthGAVUV0VFVBaCwL25iuaaySMWjoCy_eDMo_ooEnEV4JJ4FYCJehgHREVGQVVMVDUBFZwBFQAA&pc=1&spelling_corrections=1&ext=mediaStats%2ChighlightedLabel: 200\n",
      "2021-12-29 21:45:46,408 [INFO] snscrape.modules.twitter - Retrieving scroll page scroll:thGAVUV0VFVBaEwLzxwZbAtCMWjoCy_eDMo_ooEnEV0I94FYCJehgHREVGQVVMVDUBFZ4BFQAA\n",
      "2021-12-29 21:45:46,410 [INFO] snscrape.base - Retrieving https://api.twitter.com/2/search/adaptive.json?include_profile_interstitial_type=1&include_blocking=1&include_blocked_by=1&include_followed_by=1&include_want_retweets=1&include_mute_edge=1&include_can_dm=1&include_can_media_tag=1&skip_status=1&cards_platform=Web-12&include_cards=1&include_ext_alt_text=true&include_quote_count=true&include_reply_count=1&tweet_mode=extended&include_entities=true&include_user_entities=true&include_ext_media_color=true&include_ext_media_availability=true&send_error_codes=true&simple_quoted_tweets=true&q=%23TooGoodToGo+since%3A2019-01-01+until%3A2021-12-28+lang%3Aen&tweet_search_mode=live&count=100&query_source=spelling_expansion_revert_click&cursor=scroll%3AthGAVUV0VFVBaEwLzxwZbAtCMWjoCy_eDMo_ooEnEV0I94FYCJehgHREVGQVVMVDUBFZ4BFQAA&pc=1&spelling_corrections=1&ext=mediaStats%2ChighlightedLabel\n",
      "2021-12-29 21:45:47,035 [INFO] snscrape.base - Retrieved https://api.twitter.com/2/search/adaptive.json?include_profile_interstitial_type=1&include_blocking=1&include_blocked_by=1&include_followed_by=1&include_want_retweets=1&include_mute_edge=1&include_can_dm=1&include_can_media_tag=1&skip_status=1&cards_platform=Web-12&include_cards=1&include_ext_alt_text=true&include_quote_count=true&include_reply_count=1&tweet_mode=extended&include_entities=true&include_user_entities=true&include_ext_media_color=true&include_ext_media_availability=true&send_error_codes=true&simple_quoted_tweets=true&q=%23TooGoodToGo+since%3A2019-01-01+until%3A2021-12-28+lang%3Aen&tweet_search_mode=live&count=100&query_source=spelling_expansion_revert_click&cursor=scroll%3AthGAVUV0VFVBaEwLzxwZbAtCMWjoCy_eDMo_ooEnEV0I94FYCJehgHREVGQVVMVDUBFZ4BFQAA&pc=1&spelling_corrections=1&ext=mediaStats%2ChighlightedLabel: 200\n",
      "2021-12-29 21:45:47,045 [INFO] snscrape.modules.twitter - Retrieving scroll page scroll:thGAVUV0VFVBaEwLSV66aYiyMWjoCy_eDMo_ooEnEVwIx4FYCJehgHREVGQVVMVDUBFaABFQAA\n",
      "2021-12-29 21:45:47,047 [INFO] snscrape.base - Retrieving https://api.twitter.com/2/search/adaptive.json?include_profile_interstitial_type=1&include_blocking=1&include_blocked_by=1&include_followed_by=1&include_want_retweets=1&include_mute_edge=1&include_can_dm=1&include_can_media_tag=1&skip_status=1&cards_platform=Web-12&include_cards=1&include_ext_alt_text=true&include_quote_count=true&include_reply_count=1&tweet_mode=extended&include_entities=true&include_user_entities=true&include_ext_media_color=true&include_ext_media_availability=true&send_error_codes=true&simple_quoted_tweets=true&q=%23TooGoodToGo+since%3A2019-01-01+until%3A2021-12-28+lang%3Aen&tweet_search_mode=live&count=100&query_source=spelling_expansion_revert_click&cursor=scroll%3AthGAVUV0VFVBaEwLSV66aYiyMWjoCy_eDMo_ooEnEVwIx4FYCJehgHREVGQVVMVDUBFaABFQAA&pc=1&spelling_corrections=1&ext=mediaStats%2ChighlightedLabel\n",
      "2021-12-29 21:45:47,771 [INFO] snscrape.base - Retrieved https://api.twitter.com/2/search/adaptive.json?include_profile_interstitial_type=1&include_blocking=1&include_blocked_by=1&include_followed_by=1&include_want_retweets=1&include_mute_edge=1&include_can_dm=1&include_can_media_tag=1&skip_status=1&cards_platform=Web-12&include_cards=1&include_ext_alt_text=true&include_quote_count=true&include_reply_count=1&tweet_mode=extended&include_entities=true&include_user_entities=true&include_ext_media_color=true&include_ext_media_availability=true&send_error_codes=true&simple_quoted_tweets=true&q=%23TooGoodToGo+since%3A2019-01-01+until%3A2021-12-28+lang%3Aen&tweet_search_mode=live&count=100&query_source=spelling_expansion_revert_click&cursor=scroll%3AthGAVUV0VFVBaEwLSV66aYiyMWjoCy_eDMo_ooEnEVwIx4FYCJehgHREVGQVVMVDUBFaABFQAA&pc=1&spelling_corrections=1&ext=mediaStats%2ChighlightedLabel: 200\n",
      "2021-12-29 21:45:47,781 [INFO] snscrape.modules.twitter - Retrieving scroll page scroll:thGAVUV0VFVBaGwKDtq6m94yIWjoCy_eDMo_ooEnEVsIl4FYCJehgHREVGQVVMVDUBFaIBFQAA\n",
      "2021-12-29 21:45:47,783 [INFO] snscrape.base - Retrieving https://api.twitter.com/2/search/adaptive.json?include_profile_interstitial_type=1&include_blocking=1&include_blocked_by=1&include_followed_by=1&include_want_retweets=1&include_mute_edge=1&include_can_dm=1&include_can_media_tag=1&skip_status=1&cards_platform=Web-12&include_cards=1&include_ext_alt_text=true&include_quote_count=true&include_reply_count=1&tweet_mode=extended&include_entities=true&include_user_entities=true&include_ext_media_color=true&include_ext_media_availability=true&send_error_codes=true&simple_quoted_tweets=true&q=%23TooGoodToGo+since%3A2019-01-01+until%3A2021-12-28+lang%3Aen&tweet_search_mode=live&count=100&query_source=spelling_expansion_revert_click&cursor=scroll%3AthGAVUV0VFVBaGwKDtq6m94yIWjoCy_eDMo_ooEnEVsIl4FYCJehgHREVGQVVMVDUBFaIBFQAA&pc=1&spelling_corrections=1&ext=mediaStats%2ChighlightedLabel\n",
      "2021-12-29 21:45:48,509 [INFO] snscrape.base - Retrieved https://api.twitter.com/2/search/adaptive.json?include_profile_interstitial_type=1&include_blocking=1&include_blocked_by=1&include_followed_by=1&include_want_retweets=1&include_mute_edge=1&include_can_dm=1&include_can_media_tag=1&skip_status=1&cards_platform=Web-12&include_cards=1&include_ext_alt_text=true&include_quote_count=true&include_reply_count=1&tweet_mode=extended&include_entities=true&include_user_entities=true&include_ext_media_color=true&include_ext_media_availability=true&send_error_codes=true&simple_quoted_tweets=true&q=%23TooGoodToGo+since%3A2019-01-01+until%3A2021-12-28+lang%3Aen&tweet_search_mode=live&count=100&query_source=spelling_expansion_revert_click&cursor=scroll%3AthGAVUV0VFVBaGwKDtq6m94yIWjoCy_eDMo_ooEnEVsIl4FYCJehgHREVGQVVMVDUBFaIBFQAA&pc=1&spelling_corrections=1&ext=mediaStats%2ChighlightedLabel: 200\n",
      "2021-12-29 21:45:48,518 [INFO] snscrape.modules.twitter - Retrieving scroll page scroll:thGAVUV0VFVBaAgLrhqNWQuSIWjoCy_eDMo_ooEnEVoIZ4FYCJehgHREVGQVVMVDUBFaQBFQAA\n",
      "2021-12-29 21:45:48,520 [INFO] snscrape.base - Retrieving https://api.twitter.com/2/search/adaptive.json?include_profile_interstitial_type=1&include_blocking=1&include_blocked_by=1&include_followed_by=1&include_want_retweets=1&include_mute_edge=1&include_can_dm=1&include_can_media_tag=1&skip_status=1&cards_platform=Web-12&include_cards=1&include_ext_alt_text=true&include_quote_count=true&include_reply_count=1&tweet_mode=extended&include_entities=true&include_user_entities=true&include_ext_media_color=true&include_ext_media_availability=true&send_error_codes=true&simple_quoted_tweets=true&q=%23TooGoodToGo+since%3A2019-01-01+until%3A2021-12-28+lang%3Aen&tweet_search_mode=live&count=100&query_source=spelling_expansion_revert_click&cursor=scroll%3AthGAVUV0VFVBaAgLrhqNWQuSIWjoCy_eDMo_ooEnEVoIZ4FYCJehgHREVGQVVMVDUBFaQBFQAA&pc=1&spelling_corrections=1&ext=mediaStats%2ChighlightedLabel\n",
      "2021-12-29 21:45:49,245 [INFO] snscrape.base - Retrieved https://api.twitter.com/2/search/adaptive.json?include_profile_interstitial_type=1&include_blocking=1&include_blocked_by=1&include_followed_by=1&include_want_retweets=1&include_mute_edge=1&include_can_dm=1&include_can_media_tag=1&skip_status=1&cards_platform=Web-12&include_cards=1&include_ext_alt_text=true&include_quote_count=true&include_reply_count=1&tweet_mode=extended&include_entities=true&include_user_entities=true&include_ext_media_color=true&include_ext_media_availability=true&send_error_codes=true&simple_quoted_tweets=true&q=%23TooGoodToGo+since%3A2019-01-01+until%3A2021-12-28+lang%3Aen&tweet_search_mode=live&count=100&query_source=spelling_expansion_revert_click&cursor=scroll%3AthGAVUV0VFVBaAgLrhqNWQuSIWjoCy_eDMo_ooEnEVoIZ4FYCJehgHREVGQVVMVDUBFaQBFQAA&pc=1&spelling_corrections=1&ext=mediaStats%2ChighlightedLabel: 200\n",
      "2021-12-29 21:45:49,253 [INFO] snscrape.modules.twitter - Retrieving scroll page scroll:thGAVUV0VFVBaEgLvlrNTGsSIWjoCy_eDMo_ooEnEVkIN4FYCJehgHREVGQVVMVDUBFaYBFQAA\n",
      "2021-12-29 21:45:49,255 [INFO] snscrape.base - Retrieving https://api.twitter.com/2/search/adaptive.json?include_profile_interstitial_type=1&include_blocking=1&include_blocked_by=1&include_followed_by=1&include_want_retweets=1&include_mute_edge=1&include_can_dm=1&include_can_media_tag=1&skip_status=1&cards_platform=Web-12&include_cards=1&include_ext_alt_text=true&include_quote_count=true&include_reply_count=1&tweet_mode=extended&include_entities=true&include_user_entities=true&include_ext_media_color=true&include_ext_media_availability=true&send_error_codes=true&simple_quoted_tweets=true&q=%23TooGoodToGo+since%3A2019-01-01+until%3A2021-12-28+lang%3Aen&tweet_search_mode=live&count=100&query_source=spelling_expansion_revert_click&cursor=scroll%3AthGAVUV0VFVBaEgLvlrNTGsSIWjoCy_eDMo_ooEnEVkIN4FYCJehgHREVGQVVMVDUBFaYBFQAA&pc=1&spelling_corrections=1&ext=mediaStats%2ChighlightedLabel\n",
      "2021-12-29 21:45:49,984 [INFO] snscrape.base - Retrieved https://api.twitter.com/2/search/adaptive.json?include_profile_interstitial_type=1&include_blocking=1&include_blocked_by=1&include_followed_by=1&include_want_retweets=1&include_mute_edge=1&include_can_dm=1&include_can_media_tag=1&skip_status=1&cards_platform=Web-12&include_cards=1&include_ext_alt_text=true&include_quote_count=true&include_reply_count=1&tweet_mode=extended&include_entities=true&include_user_entities=true&include_ext_media_color=true&include_ext_media_availability=true&send_error_codes=true&simple_quoted_tweets=true&q=%23TooGoodToGo+since%3A2019-01-01+until%3A2021-12-28+lang%3Aen&tweet_search_mode=live&count=100&query_source=spelling_expansion_revert_click&cursor=scroll%3AthGAVUV0VFVBaEgLvlrNTGsSIWjoCy_eDMo_ooEnEVkIN4FYCJehgHREVGQVVMVDUBFaYBFQAA&pc=1&spelling_corrections=1&ext=mediaStats%2ChighlightedLabel: 200\n",
      "2021-12-29 21:45:49,993 [INFO] snscrape.modules.twitter - Retrieving scroll page scroll:thGAVUV0VFVBaCwLTlm_X_qyIWjoCy_eDMo_ooEnEVlIB4FYCJehgHREVGQVVMVDUBFagBFQAA\n",
      "2021-12-29 21:45:49,996 [INFO] snscrape.base - Retrieving https://api.twitter.com/2/search/adaptive.json?include_profile_interstitial_type=1&include_blocking=1&include_blocked_by=1&include_followed_by=1&include_want_retweets=1&include_mute_edge=1&include_can_dm=1&include_can_media_tag=1&skip_status=1&cards_platform=Web-12&include_cards=1&include_ext_alt_text=true&include_quote_count=true&include_reply_count=1&tweet_mode=extended&include_entities=true&include_user_entities=true&include_ext_media_color=true&include_ext_media_availability=true&send_error_codes=true&simple_quoted_tweets=true&q=%23TooGoodToGo+since%3A2019-01-01+until%3A2021-12-28+lang%3Aen&tweet_search_mode=live&count=100&query_source=spelling_expansion_revert_click&cursor=scroll%3AthGAVUV0VFVBaCwLTlm_X_qyIWjoCy_eDMo_ooEnEVlIB4FYCJehgHREVGQVVMVDUBFagBFQAA&pc=1&spelling_corrections=1&ext=mediaStats%2ChighlightedLabel\n",
      "2021-12-29 21:45:50,721 [INFO] snscrape.base - Retrieved https://api.twitter.com/2/search/adaptive.json?include_profile_interstitial_type=1&include_blocking=1&include_blocked_by=1&include_followed_by=1&include_want_retweets=1&include_mute_edge=1&include_can_dm=1&include_can_media_tag=1&skip_status=1&cards_platform=Web-12&include_cards=1&include_ext_alt_text=true&include_quote_count=true&include_reply_count=1&tweet_mode=extended&include_entities=true&include_user_entities=true&include_ext_media_color=true&include_ext_media_availability=true&send_error_codes=true&simple_quoted_tweets=true&q=%23TooGoodToGo+since%3A2019-01-01+until%3A2021-12-28+lang%3Aen&tweet_search_mode=live&count=100&query_source=spelling_expansion_revert_click&cursor=scroll%3AthGAVUV0VFVBaCwLTlm_X_qyIWjoCy_eDMo_ooEnEVlIB4FYCJehgHREVGQVVMVDUBFagBFQAA&pc=1&spelling_corrections=1&ext=mediaStats%2ChighlightedLabel: 200\n",
      "2021-12-29 21:45:50,732 [INFO] snscrape.modules.twitter - Retrieving scroll page scroll:thGAVUV0VFVBaEwL7lntPwoCIWjoCy_eDMo_ooEnEVhP13FYCJehgHREVGQVVMVDUBFaoBFQAA\n",
      "2021-12-29 21:45:50,735 [INFO] snscrape.base - Retrieving https://api.twitter.com/2/search/adaptive.json?include_profile_interstitial_type=1&include_blocking=1&include_blocked_by=1&include_followed_by=1&include_want_retweets=1&include_mute_edge=1&include_can_dm=1&include_can_media_tag=1&skip_status=1&cards_platform=Web-12&include_cards=1&include_ext_alt_text=true&include_quote_count=true&include_reply_count=1&tweet_mode=extended&include_entities=true&include_user_entities=true&include_ext_media_color=true&include_ext_media_availability=true&send_error_codes=true&simple_quoted_tweets=true&q=%23TooGoodToGo+since%3A2019-01-01+until%3A2021-12-28+lang%3Aen&tweet_search_mode=live&count=100&query_source=spelling_expansion_revert_click&cursor=scroll%3AthGAVUV0VFVBaEwL7lntPwoCIWjoCy_eDMo_ooEnEVhP13FYCJehgHREVGQVVMVDUBFaoBFQAA&pc=1&spelling_corrections=1&ext=mediaStats%2ChighlightedLabel\n",
      "2021-12-29 21:45:51,458 [INFO] snscrape.base - Retrieved https://api.twitter.com/2/search/adaptive.json?include_profile_interstitial_type=1&include_blocking=1&include_blocked_by=1&include_followed_by=1&include_want_retweets=1&include_mute_edge=1&include_can_dm=1&include_can_media_tag=1&skip_status=1&cards_platform=Web-12&include_cards=1&include_ext_alt_text=true&include_quote_count=true&include_reply_count=1&tweet_mode=extended&include_entities=true&include_user_entities=true&include_ext_media_color=true&include_ext_media_availability=true&send_error_codes=true&simple_quoted_tweets=true&q=%23TooGoodToGo+since%3A2019-01-01+until%3A2021-12-28+lang%3Aen&tweet_search_mode=live&count=100&query_source=spelling_expansion_revert_click&cursor=scroll%3AthGAVUV0VFVBaEwL7lntPwoCIWjoCy_eDMo_ooEnEVhP13FYCJehgHREVGQVVMVDUBFaoBFQAA&pc=1&spelling_corrections=1&ext=mediaStats%2ChighlightedLabel: 200\n",
      "2021-12-29 21:45:51,468 [INFO] snscrape.modules.twitter - Retrieving scroll page scroll:thGAVUV0VFVBaEwLXRpI7mlyIWjoCy_eDMo_ooEnEV9Pl3FYCJehgHREVGQVVMVDUBFawBFQAA\n",
      "2021-12-29 21:45:51,472 [INFO] snscrape.base - Retrieving https://api.twitter.com/2/search/adaptive.json?include_profile_interstitial_type=1&include_blocking=1&include_blocked_by=1&include_followed_by=1&include_want_retweets=1&include_mute_edge=1&include_can_dm=1&include_can_media_tag=1&skip_status=1&cards_platform=Web-12&include_cards=1&include_ext_alt_text=true&include_quote_count=true&include_reply_count=1&tweet_mode=extended&include_entities=true&include_user_entities=true&include_ext_media_color=true&include_ext_media_availability=true&send_error_codes=true&simple_quoted_tweets=true&q=%23TooGoodToGo+since%3A2019-01-01+until%3A2021-12-28+lang%3Aen&tweet_search_mode=live&count=100&query_source=spelling_expansion_revert_click&cursor=scroll%3AthGAVUV0VFVBaEwLXRpI7mlyIWjoCy_eDMo_ooEnEV9Pl3FYCJehgHREVGQVVMVDUBFawBFQAA&pc=1&spelling_corrections=1&ext=mediaStats%2ChighlightedLabel\n",
      "2021-12-29 21:45:52,195 [INFO] snscrape.base - Retrieved https://api.twitter.com/2/search/adaptive.json?include_profile_interstitial_type=1&include_blocking=1&include_blocked_by=1&include_followed_by=1&include_want_retweets=1&include_mute_edge=1&include_can_dm=1&include_can_media_tag=1&skip_status=1&cards_platform=Web-12&include_cards=1&include_ext_alt_text=true&include_quote_count=true&include_reply_count=1&tweet_mode=extended&include_entities=true&include_user_entities=true&include_ext_media_color=true&include_ext_media_availability=true&send_error_codes=true&simple_quoted_tweets=true&q=%23TooGoodToGo+since%3A2019-01-01+until%3A2021-12-28+lang%3Aen&tweet_search_mode=live&count=100&query_source=spelling_expansion_revert_click&cursor=scroll%3AthGAVUV0VFVBaEwLXRpI7mlyIWjoCy_eDMo_ooEnEV9Pl3FYCJehgHREVGQVVMVDUBFawBFQAA&pc=1&spelling_corrections=1&ext=mediaStats%2ChighlightedLabel: 200\n",
      "2021-12-29 21:45:52,206 [INFO] snscrape.modules.twitter - Retrieving scroll page scroll:thGAVUV0VFVBaCwLTVh5y3jSIWjoCy_eDMo_ooEnEV5PZ3FYCJehgHREVGQVVMVDUBFa4BFQAA\n",
      "2021-12-29 21:45:52,208 [INFO] snscrape.base - Retrieving https://api.twitter.com/2/search/adaptive.json?include_profile_interstitial_type=1&include_blocking=1&include_blocked_by=1&include_followed_by=1&include_want_retweets=1&include_mute_edge=1&include_can_dm=1&include_can_media_tag=1&skip_status=1&cards_platform=Web-12&include_cards=1&include_ext_alt_text=true&include_quote_count=true&include_reply_count=1&tweet_mode=extended&include_entities=true&include_user_entities=true&include_ext_media_color=true&include_ext_media_availability=true&send_error_codes=true&simple_quoted_tweets=true&q=%23TooGoodToGo+since%3A2019-01-01+until%3A2021-12-28+lang%3Aen&tweet_search_mode=live&count=100&query_source=spelling_expansion_revert_click&cursor=scroll%3AthGAVUV0VFVBaCwLTVh5y3jSIWjoCy_eDMo_ooEnEV5PZ3FYCJehgHREVGQVVMVDUBFa4BFQAA&pc=1&spelling_corrections=1&ext=mediaStats%2ChighlightedLabel\n",
      "2021-12-29 21:45:52,932 [INFO] snscrape.base - Retrieved https://api.twitter.com/2/search/adaptive.json?include_profile_interstitial_type=1&include_blocking=1&include_blocked_by=1&include_followed_by=1&include_want_retweets=1&include_mute_edge=1&include_can_dm=1&include_can_media_tag=1&skip_status=1&cards_platform=Web-12&include_cards=1&include_ext_alt_text=true&include_quote_count=true&include_reply_count=1&tweet_mode=extended&include_entities=true&include_user_entities=true&include_ext_media_color=true&include_ext_media_availability=true&send_error_codes=true&simple_quoted_tweets=true&q=%23TooGoodToGo+since%3A2019-01-01+until%3A2021-12-28+lang%3Aen&tweet_search_mode=live&count=100&query_source=spelling_expansion_revert_click&cursor=scroll%3AthGAVUV0VFVBaCwLTVh5y3jSIWjoCy_eDMo_ooEnEV5PZ3FYCJehgHREVGQVVMVDUBFa4BFQAA&pc=1&spelling_corrections=1&ext=mediaStats%2ChighlightedLabel: 200\n",
      "2021-12-29 21:45:52,942 [INFO] snscrape.modules.twitter - Retrieving scroll page scroll:thGAVUV0VFVBaKgLC9zs3mgSIWjoCy_eDMo_ooEnEV1PN3FYCJehgHREVGQVVMVDUBFbABFQAA\n",
      "2021-12-29 21:45:52,945 [INFO] snscrape.base - Retrieving https://api.twitter.com/2/search/adaptive.json?include_profile_interstitial_type=1&include_blocking=1&include_blocked_by=1&include_followed_by=1&include_want_retweets=1&include_mute_edge=1&include_can_dm=1&include_can_media_tag=1&skip_status=1&cards_platform=Web-12&include_cards=1&include_ext_alt_text=true&include_quote_count=true&include_reply_count=1&tweet_mode=extended&include_entities=true&include_user_entities=true&include_ext_media_color=true&include_ext_media_availability=true&send_error_codes=true&simple_quoted_tweets=true&q=%23TooGoodToGo+since%3A2019-01-01+until%3A2021-12-28+lang%3Aen&tweet_search_mode=live&count=100&query_source=spelling_expansion_revert_click&cursor=scroll%3AthGAVUV0VFVBaKgLC9zs3mgSIWjoCy_eDMo_ooEnEV1PN3FYCJehgHREVGQVVMVDUBFbABFQAA&pc=1&spelling_corrections=1&ext=mediaStats%2ChighlightedLabel\n",
      "2021-12-29 21:45:53,669 [INFO] snscrape.base - Retrieved https://api.twitter.com/2/search/adaptive.json?include_profile_interstitial_type=1&include_blocking=1&include_blocked_by=1&include_followed_by=1&include_want_retweets=1&include_mute_edge=1&include_can_dm=1&include_can_media_tag=1&skip_status=1&cards_platform=Web-12&include_cards=1&include_ext_alt_text=true&include_quote_count=true&include_reply_count=1&tweet_mode=extended&include_entities=true&include_user_entities=true&include_ext_media_color=true&include_ext_media_availability=true&send_error_codes=true&simple_quoted_tweets=true&q=%23TooGoodToGo+since%3A2019-01-01+until%3A2021-12-28+lang%3Aen&tweet_search_mode=live&count=100&query_source=spelling_expansion_revert_click&cursor=scroll%3AthGAVUV0VFVBaKgLC9zs3mgSIWjoCy_eDMo_ooEnEV1PN3FYCJehgHREVGQVVMVDUBFbABFQAA&pc=1&spelling_corrections=1&ext=mediaStats%2ChighlightedLabel: 200\n",
      "2021-12-29 21:45:53,679 [INFO] snscrape.modules.twitter - Retrieving scroll page scroll:thGAVUV0VFVBaGgL_N1NbU-SEWjoCy_eDMo_ooEnEVxPB3FYCJehgHREVGQVVMVDUBFbIBFQAA\n",
      "2021-12-29 21:45:53,681 [INFO] snscrape.base - Retrieving https://api.twitter.com/2/search/adaptive.json?include_profile_interstitial_type=1&include_blocking=1&include_blocked_by=1&include_followed_by=1&include_want_retweets=1&include_mute_edge=1&include_can_dm=1&include_can_media_tag=1&skip_status=1&cards_platform=Web-12&include_cards=1&include_ext_alt_text=true&include_quote_count=true&include_reply_count=1&tweet_mode=extended&include_entities=true&include_user_entities=true&include_ext_media_color=true&include_ext_media_availability=true&send_error_codes=true&simple_quoted_tweets=true&q=%23TooGoodToGo+since%3A2019-01-01+until%3A2021-12-28+lang%3Aen&tweet_search_mode=live&count=100&query_source=spelling_expansion_revert_click&cursor=scroll%3AthGAVUV0VFVBaGgL_N1NbU-SEWjoCy_eDMo_ooEnEVxPB3FYCJehgHREVGQVVMVDUBFbIBFQAA&pc=1&spelling_corrections=1&ext=mediaStats%2ChighlightedLabel\n",
      "2021-12-29 21:45:54,293 [INFO] snscrape.base - Retrieved https://api.twitter.com/2/search/adaptive.json?include_profile_interstitial_type=1&include_blocking=1&include_blocked_by=1&include_followed_by=1&include_want_retweets=1&include_mute_edge=1&include_can_dm=1&include_can_media_tag=1&skip_status=1&cards_platform=Web-12&include_cards=1&include_ext_alt_text=true&include_quote_count=true&include_reply_count=1&tweet_mode=extended&include_entities=true&include_user_entities=true&include_ext_media_color=true&include_ext_media_availability=true&send_error_codes=true&simple_quoted_tweets=true&q=%23TooGoodToGo+since%3A2019-01-01+until%3A2021-12-28+lang%3Aen&tweet_search_mode=live&count=100&query_source=spelling_expansion_revert_click&cursor=scroll%3AthGAVUV0VFVBaGgL_N1NbU-SEWjoCy_eDMo_ooEnEVxPB3FYCJehgHREVGQVVMVDUBFbIBFQAA&pc=1&spelling_corrections=1&ext=mediaStats%2ChighlightedLabel: 200\n",
      "2021-12-29 21:45:54,306 [INFO] snscrape.modules.twitter - Retrieving scroll page scroll:thGAVUV0VFVBaAwL3dtO2V7iEWjoCy_eDMo_ooEnEVtO13FYCJehgHREVGQVVMVDUBFbQBFQAA\n",
      "2021-12-29 21:45:54,309 [INFO] snscrape.base - Retrieving https://api.twitter.com/2/search/adaptive.json?include_profile_interstitial_type=1&include_blocking=1&include_blocked_by=1&include_followed_by=1&include_want_retweets=1&include_mute_edge=1&include_can_dm=1&include_can_media_tag=1&skip_status=1&cards_platform=Web-12&include_cards=1&include_ext_alt_text=true&include_quote_count=true&include_reply_count=1&tweet_mode=extended&include_entities=true&include_user_entities=true&include_ext_media_color=true&include_ext_media_availability=true&send_error_codes=true&simple_quoted_tweets=true&q=%23TooGoodToGo+since%3A2019-01-01+until%3A2021-12-28+lang%3Aen&tweet_search_mode=live&count=100&query_source=spelling_expansion_revert_click&cursor=scroll%3AthGAVUV0VFVBaAwL3dtO2V7iEWjoCy_eDMo_ooEnEVtO13FYCJehgHREVGQVVMVDUBFbQBFQAA&pc=1&spelling_corrections=1&ext=mediaStats%2ChighlightedLabel\n",
      "2021-12-29 21:45:54,898 [INFO] snscrape.base - Retrieved https://api.twitter.com/2/search/adaptive.json?include_profile_interstitial_type=1&include_blocking=1&include_blocked_by=1&include_followed_by=1&include_want_retweets=1&include_mute_edge=1&include_can_dm=1&include_can_media_tag=1&skip_status=1&cards_platform=Web-12&include_cards=1&include_ext_alt_text=true&include_quote_count=true&include_reply_count=1&tweet_mode=extended&include_entities=true&include_user_entities=true&include_ext_media_color=true&include_ext_media_availability=true&send_error_codes=true&simple_quoted_tweets=true&q=%23TooGoodToGo+since%3A2019-01-01+until%3A2021-12-28+lang%3Aen&tweet_search_mode=live&count=100&query_source=spelling_expansion_revert_click&cursor=scroll%3AthGAVUV0VFVBaAwL3dtO2V7iEWjoCy_eDMo_ooEnEVtO13FYCJehgHREVGQVVMVDUBFbQBFQAA&pc=1&spelling_corrections=1&ext=mediaStats%2ChighlightedLabel: 200\n",
      "2021-12-29 21:45:54,908 [INFO] snscrape.modules.twitter - Retrieving scroll page scroll:thGAVUV0VFVBaKwLzJ4aqJ5SEWjoCy_eDMo_ooEnEVpOp3FYCJehgHREVGQVVMVDUBFbYBFQAA\n",
      "2021-12-29 21:45:54,910 [INFO] snscrape.base - Retrieving https://api.twitter.com/2/search/adaptive.json?include_profile_interstitial_type=1&include_blocking=1&include_blocked_by=1&include_followed_by=1&include_want_retweets=1&include_mute_edge=1&include_can_dm=1&include_can_media_tag=1&skip_status=1&cards_platform=Web-12&include_cards=1&include_ext_alt_text=true&include_quote_count=true&include_reply_count=1&tweet_mode=extended&include_entities=true&include_user_entities=true&include_ext_media_color=true&include_ext_media_availability=true&send_error_codes=true&simple_quoted_tweets=true&q=%23TooGoodToGo+since%3A2019-01-01+until%3A2021-12-28+lang%3Aen&tweet_search_mode=live&count=100&query_source=spelling_expansion_revert_click&cursor=scroll%3AthGAVUV0VFVBaKwLzJ4aqJ5SEWjoCy_eDMo_ooEnEVpOp3FYCJehgHREVGQVVMVDUBFbYBFQAA&pc=1&spelling_corrections=1&ext=mediaStats%2ChighlightedLabel\n",
      "2021-12-29 21:45:55,635 [INFO] snscrape.base - Retrieved https://api.twitter.com/2/search/adaptive.json?include_profile_interstitial_type=1&include_blocking=1&include_blocked_by=1&include_followed_by=1&include_want_retweets=1&include_mute_edge=1&include_can_dm=1&include_can_media_tag=1&skip_status=1&cards_platform=Web-12&include_cards=1&include_ext_alt_text=true&include_quote_count=true&include_reply_count=1&tweet_mode=extended&include_entities=true&include_user_entities=true&include_ext_media_color=true&include_ext_media_availability=true&send_error_codes=true&simple_quoted_tweets=true&q=%23TooGoodToGo+since%3A2019-01-01+until%3A2021-12-28+lang%3Aen&tweet_search_mode=live&count=100&query_source=spelling_expansion_revert_click&cursor=scroll%3AthGAVUV0VFVBaKwLzJ4aqJ5SEWjoCy_eDMo_ooEnEVpOp3FYCJehgHREVGQVVMVDUBFbYBFQAA&pc=1&spelling_corrections=1&ext=mediaStats%2ChighlightedLabel: 200\n",
      "2021-12-29 21:45:55,644 [INFO] snscrape.modules.twitter - Retrieving scroll page scroll:thGAVUV0VFVBaAgKiZpJ-53iEWjoCy_eDMo_ooEnEVlOd3FYCJehgHREVGQVVMVDUBFbgBFQAA\n",
      "2021-12-29 21:45:55,646 [INFO] snscrape.base - Retrieving https://api.twitter.com/2/search/adaptive.json?include_profile_interstitial_type=1&include_blocking=1&include_blocked_by=1&include_followed_by=1&include_want_retweets=1&include_mute_edge=1&include_can_dm=1&include_can_media_tag=1&skip_status=1&cards_platform=Web-12&include_cards=1&include_ext_alt_text=true&include_quote_count=true&include_reply_count=1&tweet_mode=extended&include_entities=true&include_user_entities=true&include_ext_media_color=true&include_ext_media_availability=true&send_error_codes=true&simple_quoted_tweets=true&q=%23TooGoodToGo+since%3A2019-01-01+until%3A2021-12-28+lang%3Aen&tweet_search_mode=live&count=100&query_source=spelling_expansion_revert_click&cursor=scroll%3AthGAVUV0VFVBaAgKiZpJ-53iEWjoCy_eDMo_ooEnEVlOd3FYCJehgHREVGQVVMVDUBFbgBFQAA&pc=1&spelling_corrections=1&ext=mediaStats%2ChighlightedLabel\n",
      "2021-12-29 21:45:56,249 [INFO] snscrape.base - Retrieved https://api.twitter.com/2/search/adaptive.json?include_profile_interstitial_type=1&include_blocking=1&include_blocked_by=1&include_followed_by=1&include_want_retweets=1&include_mute_edge=1&include_can_dm=1&include_can_media_tag=1&skip_status=1&cards_platform=Web-12&include_cards=1&include_ext_alt_text=true&include_quote_count=true&include_reply_count=1&tweet_mode=extended&include_entities=true&include_user_entities=true&include_ext_media_color=true&include_ext_media_availability=true&send_error_codes=true&simple_quoted_tweets=true&q=%23TooGoodToGo+since%3A2019-01-01+until%3A2021-12-28+lang%3Aen&tweet_search_mode=live&count=100&query_source=spelling_expansion_revert_click&cursor=scroll%3AthGAVUV0VFVBaAgKiZpJ-53iEWjoCy_eDMo_ooEnEVlOd3FYCJehgHREVGQVVMVDUBFbgBFQAA&pc=1&spelling_corrections=1&ext=mediaStats%2ChighlightedLabel: 200\n",
      "2021-12-29 21:45:56,260 [INFO] snscrape.modules.twitter - Retrieving scroll page scroll:thGAVUV0VFVBaAwLrt3pjI1CEWjoCy_eDMo_ooEnEVhOR3FYCJehgHREVGQVVMVDUBFboBFQAA\n",
      "2021-12-29 21:45:56,265 [INFO] snscrape.base - Retrieving https://api.twitter.com/2/search/adaptive.json?include_profile_interstitial_type=1&include_blocking=1&include_blocked_by=1&include_followed_by=1&include_want_retweets=1&include_mute_edge=1&include_can_dm=1&include_can_media_tag=1&skip_status=1&cards_platform=Web-12&include_cards=1&include_ext_alt_text=true&include_quote_count=true&include_reply_count=1&tweet_mode=extended&include_entities=true&include_user_entities=true&include_ext_media_color=true&include_ext_media_availability=true&send_error_codes=true&simple_quoted_tweets=true&q=%23TooGoodToGo+since%3A2019-01-01+until%3A2021-12-28+lang%3Aen&tweet_search_mode=live&count=100&query_source=spelling_expansion_revert_click&cursor=scroll%3AthGAVUV0VFVBaAwLrt3pjI1CEWjoCy_eDMo_ooEnEVhOR3FYCJehgHREVGQVVMVDUBFboBFQAA&pc=1&spelling_corrections=1&ext=mediaStats%2ChighlightedLabel\n",
      "2021-12-29 21:45:57,110 [INFO] snscrape.base - Retrieved https://api.twitter.com/2/search/adaptive.json?include_profile_interstitial_type=1&include_blocking=1&include_blocked_by=1&include_followed_by=1&include_want_retweets=1&include_mute_edge=1&include_can_dm=1&include_can_media_tag=1&skip_status=1&cards_platform=Web-12&include_cards=1&include_ext_alt_text=true&include_quote_count=true&include_reply_count=1&tweet_mode=extended&include_entities=true&include_user_entities=true&include_ext_media_color=true&include_ext_media_availability=true&send_error_codes=true&simple_quoted_tweets=true&q=%23TooGoodToGo+since%3A2019-01-01+until%3A2021-12-28+lang%3Aen&tweet_search_mode=live&count=100&query_source=spelling_expansion_revert_click&cursor=scroll%3AthGAVUV0VFVBaAwLrt3pjI1CEWjoCy_eDMo_ooEnEVhOR3FYCJehgHREVGQVVMVDUBFboBFQAA&pc=1&spelling_corrections=1&ext=mediaStats%2ChighlightedLabel: 200\n",
      "2021-12-29 21:45:57,122 [INFO] snscrape.modules.twitter - Retrieving scroll page scroll:thGAVUV0VFVBaCwL7ptpeMwSEWjoCy_eDMo_ooEnEV9OB3FYCJehgHREVGQVVMVDUBFbwBFQAA\n",
      "2021-12-29 21:45:57,125 [INFO] snscrape.base - Retrieving https://api.twitter.com/2/search/adaptive.json?include_profile_interstitial_type=1&include_blocking=1&include_blocked_by=1&include_followed_by=1&include_want_retweets=1&include_mute_edge=1&include_can_dm=1&include_can_media_tag=1&skip_status=1&cards_platform=Web-12&include_cards=1&include_ext_alt_text=true&include_quote_count=true&include_reply_count=1&tweet_mode=extended&include_entities=true&include_user_entities=true&include_ext_media_color=true&include_ext_media_availability=true&send_error_codes=true&simple_quoted_tweets=true&q=%23TooGoodToGo+since%3A2019-01-01+until%3A2021-12-28+lang%3Aen&tweet_search_mode=live&count=100&query_source=spelling_expansion_revert_click&cursor=scroll%3AthGAVUV0VFVBaCwL7ptpeMwSEWjoCy_eDMo_ooEnEV9OB3FYCJehgHREVGQVVMVDUBFbwBFQAA&pc=1&spelling_corrections=1&ext=mediaStats%2ChighlightedLabel\n",
      "2021-12-29 21:45:57,847 [INFO] snscrape.base - Retrieved https://api.twitter.com/2/search/adaptive.json?include_profile_interstitial_type=1&include_blocking=1&include_blocked_by=1&include_followed_by=1&include_want_retweets=1&include_mute_edge=1&include_can_dm=1&include_can_media_tag=1&skip_status=1&cards_platform=Web-12&include_cards=1&include_ext_alt_text=true&include_quote_count=true&include_reply_count=1&tweet_mode=extended&include_entities=true&include_user_entities=true&include_ext_media_color=true&include_ext_media_availability=true&send_error_codes=true&simple_quoted_tweets=true&q=%23TooGoodToGo+since%3A2019-01-01+until%3A2021-12-28+lang%3Aen&tweet_search_mode=live&count=100&query_source=spelling_expansion_revert_click&cursor=scroll%3AthGAVUV0VFVBaCwL7ptpeMwSEWjoCy_eDMo_ooEnEV9OB3FYCJehgHREVGQVVMVDUBFbwBFQAA&pc=1&spelling_corrections=1&ext=mediaStats%2ChighlightedLabel: 200\n",
      "2021-12-29 21:45:57,860 [INFO] snscrape.modules.twitter - Retrieving scroll page scroll:thGAVUV0VFVBaAgLWt9-fPtiEWjoCy_eDMo_ooEnEV5N13FYCJehgHREVGQVVMVDUBFb4BFQAA\n",
      "2021-12-29 21:45:57,863 [INFO] snscrape.base - Retrieving https://api.twitter.com/2/search/adaptive.json?include_profile_interstitial_type=1&include_blocking=1&include_blocked_by=1&include_followed_by=1&include_want_retweets=1&include_mute_edge=1&include_can_dm=1&include_can_media_tag=1&skip_status=1&cards_platform=Web-12&include_cards=1&include_ext_alt_text=true&include_quote_count=true&include_reply_count=1&tweet_mode=extended&include_entities=true&include_user_entities=true&include_ext_media_color=true&include_ext_media_availability=true&send_error_codes=true&simple_quoted_tweets=true&q=%23TooGoodToGo+since%3A2019-01-01+until%3A2021-12-28+lang%3Aen&tweet_search_mode=live&count=100&query_source=spelling_expansion_revert_click&cursor=scroll%3AthGAVUV0VFVBaAgLWt9-fPtiEWjoCy_eDMo_ooEnEV5N13FYCJehgHREVGQVVMVDUBFb4BFQAA&pc=1&spelling_corrections=1&ext=mediaStats%2ChighlightedLabel\n",
      "2021-12-29 21:45:58,585 [INFO] snscrape.base - Retrieved https://api.twitter.com/2/search/adaptive.json?include_profile_interstitial_type=1&include_blocking=1&include_blocked_by=1&include_followed_by=1&include_want_retweets=1&include_mute_edge=1&include_can_dm=1&include_can_media_tag=1&skip_status=1&cards_platform=Web-12&include_cards=1&include_ext_alt_text=true&include_quote_count=true&include_reply_count=1&tweet_mode=extended&include_entities=true&include_user_entities=true&include_ext_media_color=true&include_ext_media_availability=true&send_error_codes=true&simple_quoted_tweets=true&q=%23TooGoodToGo+since%3A2019-01-01+until%3A2021-12-28+lang%3Aen&tweet_search_mode=live&count=100&query_source=spelling_expansion_revert_click&cursor=scroll%3AthGAVUV0VFVBaAgLWt9-fPtiEWjoCy_eDMo_ooEnEV5N13FYCJehgHREVGQVVMVDUBFb4BFQAA&pc=1&spelling_corrections=1&ext=mediaStats%2ChighlightedLabel: 200\n",
      "2021-12-29 21:45:58,596 [INFO] snscrape.modules.twitter - Retrieving scroll page scroll:thGAVUV0VFVBaEwLyNm4jdrCEWjoCy_eDMo_ooEnEV1Np3FYCJehgHREVGQVVMVDUBFcABFQAA\n",
      "2021-12-29 21:45:58,599 [INFO] snscrape.base - Retrieving https://api.twitter.com/2/search/adaptive.json?include_profile_interstitial_type=1&include_blocking=1&include_blocked_by=1&include_followed_by=1&include_want_retweets=1&include_mute_edge=1&include_can_dm=1&include_can_media_tag=1&skip_status=1&cards_platform=Web-12&include_cards=1&include_ext_alt_text=true&include_quote_count=true&include_reply_count=1&tweet_mode=extended&include_entities=true&include_user_entities=true&include_ext_media_color=true&include_ext_media_availability=true&send_error_codes=true&simple_quoted_tweets=true&q=%23TooGoodToGo+since%3A2019-01-01+until%3A2021-12-28+lang%3Aen&tweet_search_mode=live&count=100&query_source=spelling_expansion_revert_click&cursor=scroll%3AthGAVUV0VFVBaEwLyNm4jdrCEWjoCy_eDMo_ooEnEV1Np3FYCJehgHREVGQVVMVDUBFcABFQAA&pc=1&spelling_corrections=1&ext=mediaStats%2ChighlightedLabel\n",
      "2021-12-29 21:45:59,224 [INFO] snscrape.base - Retrieved https://api.twitter.com/2/search/adaptive.json?include_profile_interstitial_type=1&include_blocking=1&include_blocked_by=1&include_followed_by=1&include_want_retweets=1&include_mute_edge=1&include_can_dm=1&include_can_media_tag=1&skip_status=1&cards_platform=Web-12&include_cards=1&include_ext_alt_text=true&include_quote_count=true&include_reply_count=1&tweet_mode=extended&include_entities=true&include_user_entities=true&include_ext_media_color=true&include_ext_media_availability=true&send_error_codes=true&simple_quoted_tweets=true&q=%23TooGoodToGo+since%3A2019-01-01+until%3A2021-12-28+lang%3Aen&tweet_search_mode=live&count=100&query_source=spelling_expansion_revert_click&cursor=scroll%3AthGAVUV0VFVBaEwLyNm4jdrCEWjoCy_eDMo_ooEnEV1Np3FYCJehgHREVGQVVMVDUBFcABFQAA&pc=1&spelling_corrections=1&ext=mediaStats%2ChighlightedLabel: 200\n",
      "2021-12-29 21:45:59,231 [INFO] snscrape.modules.twitter - Retrieving scroll page scroll:thGAVUV0VFVBaCgLvh_46EpiEWjoCy_eDMo_ooEnEVxNd3FYCJehgHREVGQVVMVDUBFcIBFQAA\n",
      "2021-12-29 21:45:59,233 [INFO] snscrape.base - Retrieving https://api.twitter.com/2/search/adaptive.json?include_profile_interstitial_type=1&include_blocking=1&include_blocked_by=1&include_followed_by=1&include_want_retweets=1&include_mute_edge=1&include_can_dm=1&include_can_media_tag=1&skip_status=1&cards_platform=Web-12&include_cards=1&include_ext_alt_text=true&include_quote_count=true&include_reply_count=1&tweet_mode=extended&include_entities=true&include_user_entities=true&include_ext_media_color=true&include_ext_media_availability=true&send_error_codes=true&simple_quoted_tweets=true&q=%23TooGoodToGo+since%3A2019-01-01+until%3A2021-12-28+lang%3Aen&tweet_search_mode=live&count=100&query_source=spelling_expansion_revert_click&cursor=scroll%3AthGAVUV0VFVBaCgLvh_46EpiEWjoCy_eDMo_ooEnEVxNd3FYCJehgHREVGQVVMVDUBFcIBFQAA&pc=1&spelling_corrections=1&ext=mediaStats%2ChighlightedLabel\n",
      "2021-12-29 21:45:59,937 [INFO] snscrape.base - Retrieved https://api.twitter.com/2/search/adaptive.json?include_profile_interstitial_type=1&include_blocking=1&include_blocked_by=1&include_followed_by=1&include_want_retweets=1&include_mute_edge=1&include_can_dm=1&include_can_media_tag=1&skip_status=1&cards_platform=Web-12&include_cards=1&include_ext_alt_text=true&include_quote_count=true&include_reply_count=1&tweet_mode=extended&include_entities=true&include_user_entities=true&include_ext_media_color=true&include_ext_media_availability=true&send_error_codes=true&simple_quoted_tweets=true&q=%23TooGoodToGo+since%3A2019-01-01+until%3A2021-12-28+lang%3Aen&tweet_search_mode=live&count=100&query_source=spelling_expansion_revert_click&cursor=scroll%3AthGAVUV0VFVBaCgLvh_46EpiEWjoCy_eDMo_ooEnEVxNd3FYCJehgHREVGQVVMVDUBFcIBFQAA&pc=1&spelling_corrections=1&ext=mediaStats%2ChighlightedLabel: 200\n",
      "2021-12-29 21:45:59,946 [INFO] snscrape.modules.twitter - Retrieving scroll page scroll:thGAVUV0VFVBaCwLrF0cD-nyEWjoCy_eDMo_ooEnEVtNR3FYCJehgHREVGQVVMVDUBFcQBFQAA\n",
      "2021-12-29 21:45:59,947 [INFO] snscrape.base - Retrieving https://api.twitter.com/2/search/adaptive.json?include_profile_interstitial_type=1&include_blocking=1&include_blocked_by=1&include_followed_by=1&include_want_retweets=1&include_mute_edge=1&include_can_dm=1&include_can_media_tag=1&skip_status=1&cards_platform=Web-12&include_cards=1&include_ext_alt_text=true&include_quote_count=true&include_reply_count=1&tweet_mode=extended&include_entities=true&include_user_entities=true&include_ext_media_color=true&include_ext_media_availability=true&send_error_codes=true&simple_quoted_tweets=true&q=%23TooGoodToGo+since%3A2019-01-01+until%3A2021-12-28+lang%3Aen&tweet_search_mode=live&count=100&query_source=spelling_expansion_revert_click&cursor=scroll%3AthGAVUV0VFVBaCwLrF0cD-nyEWjoCy_eDMo_ooEnEVtNR3FYCJehgHREVGQVVMVDUBFcQBFQAA&pc=1&spelling_corrections=1&ext=mediaStats%2ChighlightedLabel\n",
      "2021-12-29 21:46:00,673 [INFO] snscrape.base - Retrieved https://api.twitter.com/2/search/adaptive.json?include_profile_interstitial_type=1&include_blocking=1&include_blocked_by=1&include_followed_by=1&include_want_retweets=1&include_mute_edge=1&include_can_dm=1&include_can_media_tag=1&skip_status=1&cards_platform=Web-12&include_cards=1&include_ext_alt_text=true&include_quote_count=true&include_reply_count=1&tweet_mode=extended&include_entities=true&include_user_entities=true&include_ext_media_color=true&include_ext_media_availability=true&send_error_codes=true&simple_quoted_tweets=true&q=%23TooGoodToGo+since%3A2019-01-01+until%3A2021-12-28+lang%3Aen&tweet_search_mode=live&count=100&query_source=spelling_expansion_revert_click&cursor=scroll%3AthGAVUV0VFVBaCwLrF0cD-nyEWjoCy_eDMo_ooEnEVtNR3FYCJehgHREVGQVVMVDUBFcQBFQAA&pc=1&spelling_corrections=1&ext=mediaStats%2ChighlightedLabel: 200\n",
      "2021-12-29 21:46:00,679 [INFO] snscrape.modules.twitter - Retrieving scroll page scroll:thGAVUV0VFVBaAgLXZ4N2XmiEWjoCy_eDMo_ooEnEVpNF3FYCJehgHREVGQVVMVDUBFcYBFQAA\n",
      "2021-12-29 21:46:00,680 [INFO] snscrape.base - Retrieving https://api.twitter.com/2/search/adaptive.json?include_profile_interstitial_type=1&include_blocking=1&include_blocked_by=1&include_followed_by=1&include_want_retweets=1&include_mute_edge=1&include_can_dm=1&include_can_media_tag=1&skip_status=1&cards_platform=Web-12&include_cards=1&include_ext_alt_text=true&include_quote_count=true&include_reply_count=1&tweet_mode=extended&include_entities=true&include_user_entities=true&include_ext_media_color=true&include_ext_media_availability=true&send_error_codes=true&simple_quoted_tweets=true&q=%23TooGoodToGo+since%3A2019-01-01+until%3A2021-12-28+lang%3Aen&tweet_search_mode=live&count=100&query_source=spelling_expansion_revert_click&cursor=scroll%3AthGAVUV0VFVBaAgLXZ4N2XmiEWjoCy_eDMo_ooEnEVpNF3FYCJehgHREVGQVVMVDUBFcYBFQAA&pc=1&spelling_corrections=1&ext=mediaStats%2ChighlightedLabel\n",
      "2021-12-29 21:46:01,288 [INFO] snscrape.base - Retrieved https://api.twitter.com/2/search/adaptive.json?include_profile_interstitial_type=1&include_blocking=1&include_blocked_by=1&include_followed_by=1&include_want_retweets=1&include_mute_edge=1&include_can_dm=1&include_can_media_tag=1&skip_status=1&cards_platform=Web-12&include_cards=1&include_ext_alt_text=true&include_quote_count=true&include_reply_count=1&tweet_mode=extended&include_entities=true&include_user_entities=true&include_ext_media_color=true&include_ext_media_availability=true&send_error_codes=true&simple_quoted_tweets=true&q=%23TooGoodToGo+since%3A2019-01-01+until%3A2021-12-28+lang%3Aen&tweet_search_mode=live&count=100&query_source=spelling_expansion_revert_click&cursor=scroll%3AthGAVUV0VFVBaAgLXZ4N2XmiEWjoCy_eDMo_ooEnEVpNF3FYCJehgHREVGQVVMVDUBFcYBFQAA&pc=1&spelling_corrections=1&ext=mediaStats%2ChighlightedLabel: 200\n",
      "2021-12-29 21:46:01,301 [INFO] snscrape.modules.twitter - Retrieving scroll page scroll:thGAVUV0VFVBaCwLSlmayDkyEWjoCy_eDMo_ooEnEVlM53FYCJehgHREVGQVVMVDUBFcgBFQAA\n",
      "2021-12-29 21:46:01,302 [INFO] snscrape.base - Retrieving https://api.twitter.com/2/search/adaptive.json?include_profile_interstitial_type=1&include_blocking=1&include_blocked_by=1&include_followed_by=1&include_want_retweets=1&include_mute_edge=1&include_can_dm=1&include_can_media_tag=1&skip_status=1&cards_platform=Web-12&include_cards=1&include_ext_alt_text=true&include_quote_count=true&include_reply_count=1&tweet_mode=extended&include_entities=true&include_user_entities=true&include_ext_media_color=true&include_ext_media_availability=true&send_error_codes=true&simple_quoted_tweets=true&q=%23TooGoodToGo+since%3A2019-01-01+until%3A2021-12-28+lang%3Aen&tweet_search_mode=live&count=100&query_source=spelling_expansion_revert_click&cursor=scroll%3AthGAVUV0VFVBaCwLSlmayDkyEWjoCy_eDMo_ooEnEVlM53FYCJehgHREVGQVVMVDUBFcgBFQAA&pc=1&spelling_corrections=1&ext=mediaStats%2ChighlightedLabel\n",
      "2021-12-29 21:46:02,026 [INFO] snscrape.base - Retrieved https://api.twitter.com/2/search/adaptive.json?include_profile_interstitial_type=1&include_blocking=1&include_blocked_by=1&include_followed_by=1&include_want_retweets=1&include_mute_edge=1&include_can_dm=1&include_can_media_tag=1&skip_status=1&cards_platform=Web-12&include_cards=1&include_ext_alt_text=true&include_quote_count=true&include_reply_count=1&tweet_mode=extended&include_entities=true&include_user_entities=true&include_ext_media_color=true&include_ext_media_availability=true&send_error_codes=true&simple_quoted_tweets=true&q=%23TooGoodToGo+since%3A2019-01-01+until%3A2021-12-28+lang%3Aen&tweet_search_mode=live&count=100&query_source=spelling_expansion_revert_click&cursor=scroll%3AthGAVUV0VFVBaCwLSlmayDkyEWjoCy_eDMo_ooEnEVlM53FYCJehgHREVGQVVMVDUBFcgBFQAA&pc=1&spelling_corrections=1&ext=mediaStats%2ChighlightedLabel: 200\n",
      "2021-12-29 21:46:02,035 [INFO] snscrape.modules.twitter - Retrieving scroll page scroll:thGAVUV0VFVBaEgLeJoIiSiiEWjoCy_eDMo_ooEnEVhMt3FYCJehgHREVGQVVMVDUBFcoBFQAA\n",
      "2021-12-29 21:46:02,037 [INFO] snscrape.base - Retrieving https://api.twitter.com/2/search/adaptive.json?include_profile_interstitial_type=1&include_blocking=1&include_blocked_by=1&include_followed_by=1&include_want_retweets=1&include_mute_edge=1&include_can_dm=1&include_can_media_tag=1&skip_status=1&cards_platform=Web-12&include_cards=1&include_ext_alt_text=true&include_quote_count=true&include_reply_count=1&tweet_mode=extended&include_entities=true&include_user_entities=true&include_ext_media_color=true&include_ext_media_availability=true&send_error_codes=true&simple_quoted_tweets=true&q=%23TooGoodToGo+since%3A2019-01-01+until%3A2021-12-28+lang%3Aen&tweet_search_mode=live&count=100&query_source=spelling_expansion_revert_click&cursor=scroll%3AthGAVUV0VFVBaEgLeJoIiSiiEWjoCy_eDMo_ooEnEVhMt3FYCJehgHREVGQVVMVDUBFcoBFQAA&pc=1&spelling_corrections=1&ext=mediaStats%2ChighlightedLabel\n",
      "2021-12-29 21:46:02,763 [INFO] snscrape.base - Retrieved https://api.twitter.com/2/search/adaptive.json?include_profile_interstitial_type=1&include_blocking=1&include_blocked_by=1&include_followed_by=1&include_want_retweets=1&include_mute_edge=1&include_can_dm=1&include_can_media_tag=1&skip_status=1&cards_platform=Web-12&include_cards=1&include_ext_alt_text=true&include_quote_count=true&include_reply_count=1&tweet_mode=extended&include_entities=true&include_user_entities=true&include_ext_media_color=true&include_ext_media_availability=true&send_error_codes=true&simple_quoted_tweets=true&q=%23TooGoodToGo+since%3A2019-01-01+until%3A2021-12-28+lang%3Aen&tweet_search_mode=live&count=100&query_source=spelling_expansion_revert_click&cursor=scroll%3AthGAVUV0VFVBaEgLeJoIiSiiEWjoCy_eDMo_ooEnEVhMt3FYCJehgHREVGQVVMVDUBFcoBFQAA&pc=1&spelling_corrections=1&ext=mediaStats%2ChighlightedLabel: 200\n",
      "2021-12-29 21:46:02,772 [INFO] snscrape.modules.twitter - Retrieving scroll page scroll:thGAVUV0VFVBaAwL7RivmAgSEWjoCy_eDMo_ooEnEV9Md3FYCJehgHREVGQVVMVDUBFcwBFQAA\n",
      "2021-12-29 21:46:02,773 [INFO] snscrape.base - Retrieving https://api.twitter.com/2/search/adaptive.json?include_profile_interstitial_type=1&include_blocking=1&include_blocked_by=1&include_followed_by=1&include_want_retweets=1&include_mute_edge=1&include_can_dm=1&include_can_media_tag=1&skip_status=1&cards_platform=Web-12&include_cards=1&include_ext_alt_text=true&include_quote_count=true&include_reply_count=1&tweet_mode=extended&include_entities=true&include_user_entities=true&include_ext_media_color=true&include_ext_media_availability=true&send_error_codes=true&simple_quoted_tweets=true&q=%23TooGoodToGo+since%3A2019-01-01+until%3A2021-12-28+lang%3Aen&tweet_search_mode=live&count=100&query_source=spelling_expansion_revert_click&cursor=scroll%3AthGAVUV0VFVBaAwL7RivmAgSEWjoCy_eDMo_ooEnEV9Md3FYCJehgHREVGQVVMVDUBFcwBFQAA&pc=1&spelling_corrections=1&ext=mediaStats%2ChighlightedLabel\n",
      "2021-12-29 21:46:03,501 [INFO] snscrape.base - Retrieved https://api.twitter.com/2/search/adaptive.json?include_profile_interstitial_type=1&include_blocking=1&include_blocked_by=1&include_followed_by=1&include_want_retweets=1&include_mute_edge=1&include_can_dm=1&include_can_media_tag=1&skip_status=1&cards_platform=Web-12&include_cards=1&include_ext_alt_text=true&include_quote_count=true&include_reply_count=1&tweet_mode=extended&include_entities=true&include_user_entities=true&include_ext_media_color=true&include_ext_media_availability=true&send_error_codes=true&simple_quoted_tweets=true&q=%23TooGoodToGo+since%3A2019-01-01+until%3A2021-12-28+lang%3Aen&tweet_search_mode=live&count=100&query_source=spelling_expansion_revert_click&cursor=scroll%3AthGAVUV0VFVBaAwL7RivmAgSEWjoCy_eDMo_ooEnEV9Md3FYCJehgHREVGQVVMVDUBFcwBFQAA&pc=1&spelling_corrections=1&ext=mediaStats%2ChighlightedLabel: 200\n",
      "2021-12-29 21:46:03,512 [INFO] snscrape.modules.twitter - Retrieving scroll page scroll:thGAVUV0VFVBaCwLTlydaB-CAWjoCy_eDMo_ooEnEV5MR3FYCJehgHREVGQVVMVDUBFc4BFQAA\n",
      "2021-12-29 21:46:03,516 [INFO] snscrape.base - Retrieving https://api.twitter.com/2/search/adaptive.json?include_profile_interstitial_type=1&include_blocking=1&include_blocked_by=1&include_followed_by=1&include_want_retweets=1&include_mute_edge=1&include_can_dm=1&include_can_media_tag=1&skip_status=1&cards_platform=Web-12&include_cards=1&include_ext_alt_text=true&include_quote_count=true&include_reply_count=1&tweet_mode=extended&include_entities=true&include_user_entities=true&include_ext_media_color=true&include_ext_media_availability=true&send_error_codes=true&simple_quoted_tweets=true&q=%23TooGoodToGo+since%3A2019-01-01+until%3A2021-12-28+lang%3Aen&tweet_search_mode=live&count=100&query_source=spelling_expansion_revert_click&cursor=scroll%3AthGAVUV0VFVBaCwLTlydaB-CAWjoCy_eDMo_ooEnEV5MR3FYCJehgHREVGQVVMVDUBFc4BFQAA&pc=1&spelling_corrections=1&ext=mediaStats%2ChighlightedLabel\n",
      "2021-12-29 21:46:04,238 [INFO] snscrape.base - Retrieved https://api.twitter.com/2/search/adaptive.json?include_profile_interstitial_type=1&include_blocking=1&include_blocked_by=1&include_followed_by=1&include_want_retweets=1&include_mute_edge=1&include_can_dm=1&include_can_media_tag=1&skip_status=1&cards_platform=Web-12&include_cards=1&include_ext_alt_text=true&include_quote_count=true&include_reply_count=1&tweet_mode=extended&include_entities=true&include_user_entities=true&include_ext_media_color=true&include_ext_media_availability=true&send_error_codes=true&simple_quoted_tweets=true&q=%23TooGoodToGo+since%3A2019-01-01+until%3A2021-12-28+lang%3Aen&tweet_search_mode=live&count=100&query_source=spelling_expansion_revert_click&cursor=scroll%3AthGAVUV0VFVBaCwLTlydaB-CAWjoCy_eDMo_ooEnEV5MR3FYCJehgHREVGQVVMVDUBFc4BFQAA&pc=1&spelling_corrections=1&ext=mediaStats%2ChighlightedLabel: 200\n",
      "2021-12-29 21:46:04,247 [INFO] snscrape.modules.twitter - Retrieving scroll page scroll:thGAVUV0VFVBaAwL6NwMrV7iAWjoCy_eDMo_ooEnEV1MF3FYCJehgHREVGQVVMVDUBFdABFQAA\n",
      "2021-12-29 21:46:04,249 [INFO] snscrape.base - Retrieving https://api.twitter.com/2/search/adaptive.json?include_profile_interstitial_type=1&include_blocking=1&include_blocked_by=1&include_followed_by=1&include_want_retweets=1&include_mute_edge=1&include_can_dm=1&include_can_media_tag=1&skip_status=1&cards_platform=Web-12&include_cards=1&include_ext_alt_text=true&include_quote_count=true&include_reply_count=1&tweet_mode=extended&include_entities=true&include_user_entities=true&include_ext_media_color=true&include_ext_media_availability=true&send_error_codes=true&simple_quoted_tweets=true&q=%23TooGoodToGo+since%3A2019-01-01+until%3A2021-12-28+lang%3Aen&tweet_search_mode=live&count=100&query_source=spelling_expansion_revert_click&cursor=scroll%3AthGAVUV0VFVBaAwL6NwMrV7iAWjoCy_eDMo_ooEnEV1MF3FYCJehgHREVGQVVMVDUBFdABFQAA&pc=1&spelling_corrections=1&ext=mediaStats%2ChighlightedLabel\n",
      "2021-12-29 21:46:04,975 [INFO] snscrape.base - Retrieved https://api.twitter.com/2/search/adaptive.json?include_profile_interstitial_type=1&include_blocking=1&include_blocked_by=1&include_followed_by=1&include_want_retweets=1&include_mute_edge=1&include_can_dm=1&include_can_media_tag=1&skip_status=1&cards_platform=Web-12&include_cards=1&include_ext_alt_text=true&include_quote_count=true&include_reply_count=1&tweet_mode=extended&include_entities=true&include_user_entities=true&include_ext_media_color=true&include_ext_media_availability=true&send_error_codes=true&simple_quoted_tweets=true&q=%23TooGoodToGo+since%3A2019-01-01+until%3A2021-12-28+lang%3Aen&tweet_search_mode=live&count=100&query_source=spelling_expansion_revert_click&cursor=scroll%3AthGAVUV0VFVBaAwL6NwMrV7iAWjoCy_eDMo_ooEnEV1MF3FYCJehgHREVGQVVMVDUBFdABFQAA&pc=1&spelling_corrections=1&ext=mediaStats%2ChighlightedLabel: 200\n",
      "2021-12-29 21:46:04,984 [INFO] snscrape.modules.twitter - Retrieving scroll page scroll:thGAVUV0VFVBaEwLTtgqKP4yAWjoCy_eDMo_ooEnEVxL53FYCJehgHREVGQVVMVDUBFdIBFQAA\n",
      "2021-12-29 21:46:04,986 [INFO] snscrape.base - Retrieving https://api.twitter.com/2/search/adaptive.json?include_profile_interstitial_type=1&include_blocking=1&include_blocked_by=1&include_followed_by=1&include_want_retweets=1&include_mute_edge=1&include_can_dm=1&include_can_media_tag=1&skip_status=1&cards_platform=Web-12&include_cards=1&include_ext_alt_text=true&include_quote_count=true&include_reply_count=1&tweet_mode=extended&include_entities=true&include_user_entities=true&include_ext_media_color=true&include_ext_media_availability=true&send_error_codes=true&simple_quoted_tweets=true&q=%23TooGoodToGo+since%3A2019-01-01+until%3A2021-12-28+lang%3Aen&tweet_search_mode=live&count=100&query_source=spelling_expansion_revert_click&cursor=scroll%3AthGAVUV0VFVBaEwLTtgqKP4yAWjoCy_eDMo_ooEnEVxL53FYCJehgHREVGQVVMVDUBFdIBFQAA&pc=1&spelling_corrections=1&ext=mediaStats%2ChighlightedLabel\n",
      "2021-12-29 21:46:05,588 [INFO] snscrape.base - Retrieved https://api.twitter.com/2/search/adaptive.json?include_profile_interstitial_type=1&include_blocking=1&include_blocked_by=1&include_followed_by=1&include_want_retweets=1&include_mute_edge=1&include_can_dm=1&include_can_media_tag=1&skip_status=1&cards_platform=Web-12&include_cards=1&include_ext_alt_text=true&include_quote_count=true&include_reply_count=1&tweet_mode=extended&include_entities=true&include_user_entities=true&include_ext_media_color=true&include_ext_media_availability=true&send_error_codes=true&simple_quoted_tweets=true&q=%23TooGoodToGo+since%3A2019-01-01+until%3A2021-12-28+lang%3Aen&tweet_search_mode=live&count=100&query_source=spelling_expansion_revert_click&cursor=scroll%3AthGAVUV0VFVBaEwLTtgqKP4yAWjoCy_eDMo_ooEnEVxL53FYCJehgHREVGQVVMVDUBFdIBFQAA&pc=1&spelling_corrections=1&ext=mediaStats%2ChighlightedLabel: 200\n",
      "2021-12-29 21:46:05,598 [INFO] snscrape.modules.twitter - Retrieving scroll page scroll:thGAVUV0VFVBaIwLXR84KX2SAWjoCy_eDMo_ooEnEVtLt3FYCJehgHREVGQVVMVDUBFdQBFQAA\n",
      "2021-12-29 21:46:05,599 [INFO] snscrape.base - Retrieving https://api.twitter.com/2/search/adaptive.json?include_profile_interstitial_type=1&include_blocking=1&include_blocked_by=1&include_followed_by=1&include_want_retweets=1&include_mute_edge=1&include_can_dm=1&include_can_media_tag=1&skip_status=1&cards_platform=Web-12&include_cards=1&include_ext_alt_text=true&include_quote_count=true&include_reply_count=1&tweet_mode=extended&include_entities=true&include_user_entities=true&include_ext_media_color=true&include_ext_media_availability=true&send_error_codes=true&simple_quoted_tweets=true&q=%23TooGoodToGo+since%3A2019-01-01+until%3A2021-12-28+lang%3Aen&tweet_search_mode=live&count=100&query_source=spelling_expansion_revert_click&cursor=scroll%3AthGAVUV0VFVBaIwLXR84KX2SAWjoCy_eDMo_ooEnEVtLt3FYCJehgHREVGQVVMVDUBFdQBFQAA&pc=1&spelling_corrections=1&ext=mediaStats%2ChighlightedLabel\n",
      "2021-12-29 21:46:06,238 [INFO] snscrape.base - Retrieved https://api.twitter.com/2/search/adaptive.json?include_profile_interstitial_type=1&include_blocking=1&include_blocked_by=1&include_followed_by=1&include_want_retweets=1&include_mute_edge=1&include_can_dm=1&include_can_media_tag=1&skip_status=1&cards_platform=Web-12&include_cards=1&include_ext_alt_text=true&include_quote_count=true&include_reply_count=1&tweet_mode=extended&include_entities=true&include_user_entities=true&include_ext_media_color=true&include_ext_media_availability=true&send_error_codes=true&simple_quoted_tweets=true&q=%23TooGoodToGo+since%3A2019-01-01+until%3A2021-12-28+lang%3Aen&tweet_search_mode=live&count=100&query_source=spelling_expansion_revert_click&cursor=scroll%3AthGAVUV0VFVBaIwLXR84KX2SAWjoCy_eDMo_ooEnEVtLt3FYCJehgHREVGQVVMVDUBFdQBFQAA&pc=1&spelling_corrections=1&ext=mediaStats%2ChighlightedLabel: 200\n",
      "2021-12-29 21:46:06,247 [INFO] snscrape.modules.twitter - Retrieving scroll page scroll:thGAVUV0VFVBaAwL3BwYjAziAWjoCy_eDMo_ooEnEVpLh3FYCJehgHREVGQVVMVDUBFdYBFQAA\n",
      "2021-12-29 21:46:06,249 [INFO] snscrape.base - Retrieving https://api.twitter.com/2/search/adaptive.json?include_profile_interstitial_type=1&include_blocking=1&include_blocked_by=1&include_followed_by=1&include_want_retweets=1&include_mute_edge=1&include_can_dm=1&include_can_media_tag=1&skip_status=1&cards_platform=Web-12&include_cards=1&include_ext_alt_text=true&include_quote_count=true&include_reply_count=1&tweet_mode=extended&include_entities=true&include_user_entities=true&include_ext_media_color=true&include_ext_media_availability=true&send_error_codes=true&simple_quoted_tweets=true&q=%23TooGoodToGo+since%3A2019-01-01+until%3A2021-12-28+lang%3Aen&tweet_search_mode=live&count=100&query_source=spelling_expansion_revert_click&cursor=scroll%3AthGAVUV0VFVBaAwL3BwYjAziAWjoCy_eDMo_ooEnEVpLh3FYCJehgHREVGQVVMVDUBFdYBFQAA&pc=1&spelling_corrections=1&ext=mediaStats%2ChighlightedLabel\n",
      "2021-12-29 21:46:06,940 [INFO] snscrape.base - Retrieved https://api.twitter.com/2/search/adaptive.json?include_profile_interstitial_type=1&include_blocking=1&include_blocked_by=1&include_followed_by=1&include_want_retweets=1&include_mute_edge=1&include_can_dm=1&include_can_media_tag=1&skip_status=1&cards_platform=Web-12&include_cards=1&include_ext_alt_text=true&include_quote_count=true&include_reply_count=1&tweet_mode=extended&include_entities=true&include_user_entities=true&include_ext_media_color=true&include_ext_media_availability=true&send_error_codes=true&simple_quoted_tweets=true&q=%23TooGoodToGo+since%3A2019-01-01+until%3A2021-12-28+lang%3Aen&tweet_search_mode=live&count=100&query_source=spelling_expansion_revert_click&cursor=scroll%3AthGAVUV0VFVBaAwL3BwYjAziAWjoCy_eDMo_ooEnEVpLh3FYCJehgHREVGQVVMVDUBFdYBFQAA&pc=1&spelling_corrections=1&ext=mediaStats%2ChighlightedLabel: 200\n",
      "2021-12-29 21:46:06,948 [INFO] snscrape.modules.twitter - Retrieving scroll page scroll:thGAVUV0VFVBaAwLyVyIaTyCAWjoCy_eDMo_ooEnEVlLV3FYCJehgHREVGQVVMVDUBFdgBFQAA\n",
      "2021-12-29 21:46:06,950 [INFO] snscrape.base - Retrieving https://api.twitter.com/2/search/adaptive.json?include_profile_interstitial_type=1&include_blocking=1&include_blocked_by=1&include_followed_by=1&include_want_retweets=1&include_mute_edge=1&include_can_dm=1&include_can_media_tag=1&skip_status=1&cards_platform=Web-12&include_cards=1&include_ext_alt_text=true&include_quote_count=true&include_reply_count=1&tweet_mode=extended&include_entities=true&include_user_entities=true&include_ext_media_color=true&include_ext_media_availability=true&send_error_codes=true&simple_quoted_tweets=true&q=%23TooGoodToGo+since%3A2019-01-01+until%3A2021-12-28+lang%3Aen&tweet_search_mode=live&count=100&query_source=spelling_expansion_revert_click&cursor=scroll%3AthGAVUV0VFVBaAwLyVyIaTyCAWjoCy_eDMo_ooEnEVlLV3FYCJehgHREVGQVVMVDUBFdgBFQAA&pc=1&spelling_corrections=1&ext=mediaStats%2ChighlightedLabel\n",
      "2021-12-29 21:46:07,678 [INFO] snscrape.base - Retrieved https://api.twitter.com/2/search/adaptive.json?include_profile_interstitial_type=1&include_blocking=1&include_blocked_by=1&include_followed_by=1&include_want_retweets=1&include_mute_edge=1&include_can_dm=1&include_can_media_tag=1&skip_status=1&cards_platform=Web-12&include_cards=1&include_ext_alt_text=true&include_quote_count=true&include_reply_count=1&tweet_mode=extended&include_entities=true&include_user_entities=true&include_ext_media_color=true&include_ext_media_availability=true&send_error_codes=true&simple_quoted_tweets=true&q=%23TooGoodToGo+since%3A2019-01-01+until%3A2021-12-28+lang%3Aen&tweet_search_mode=live&count=100&query_source=spelling_expansion_revert_click&cursor=scroll%3AthGAVUV0VFVBaAwLyVyIaTyCAWjoCy_eDMo_ooEnEVlLV3FYCJehgHREVGQVVMVDUBFdgBFQAA&pc=1&spelling_corrections=1&ext=mediaStats%2ChighlightedLabel: 200\n",
      "2021-12-29 21:46:07,687 [INFO] snscrape.modules.twitter - Retrieving scroll page scroll:thGAVUV0VFVBaCgLutzKaHviAWjoCy_eDMo_ooEnEVhLJ3FYCJehgHREVGQVVMVDUBFdoBFQAA\n",
      "2021-12-29 21:46:07,688 [INFO] snscrape.base - Retrieving https://api.twitter.com/2/search/adaptive.json?include_profile_interstitial_type=1&include_blocking=1&include_blocked_by=1&include_followed_by=1&include_want_retweets=1&include_mute_edge=1&include_can_dm=1&include_can_media_tag=1&skip_status=1&cards_platform=Web-12&include_cards=1&include_ext_alt_text=true&include_quote_count=true&include_reply_count=1&tweet_mode=extended&include_entities=true&include_user_entities=true&include_ext_media_color=true&include_ext_media_availability=true&send_error_codes=true&simple_quoted_tweets=true&q=%23TooGoodToGo+since%3A2019-01-01+until%3A2021-12-28+lang%3Aen&tweet_search_mode=live&count=100&query_source=spelling_expansion_revert_click&cursor=scroll%3AthGAVUV0VFVBaCgLutzKaHviAWjoCy_eDMo_ooEnEVhLJ3FYCJehgHREVGQVVMVDUBFdoBFQAA&pc=1&spelling_corrections=1&ext=mediaStats%2ChighlightedLabel\n",
      "2021-12-29 21:46:08,288 [INFO] snscrape.base - Retrieved https://api.twitter.com/2/search/adaptive.json?include_profile_interstitial_type=1&include_blocking=1&include_blocked_by=1&include_followed_by=1&include_want_retweets=1&include_mute_edge=1&include_can_dm=1&include_can_media_tag=1&skip_status=1&cards_platform=Web-12&include_cards=1&include_ext_alt_text=true&include_quote_count=true&include_reply_count=1&tweet_mode=extended&include_entities=true&include_user_entities=true&include_ext_media_color=true&include_ext_media_availability=true&send_error_codes=true&simple_quoted_tweets=true&q=%23TooGoodToGo+since%3A2019-01-01+until%3A2021-12-28+lang%3Aen&tweet_search_mode=live&count=100&query_source=spelling_expansion_revert_click&cursor=scroll%3AthGAVUV0VFVBaCgLutzKaHviAWjoCy_eDMo_ooEnEVhLJ3FYCJehgHREVGQVVMVDUBFdoBFQAA&pc=1&spelling_corrections=1&ext=mediaStats%2ChighlightedLabel: 200\n",
      "2021-12-29 21:46:08,297 [INFO] snscrape.modules.twitter - Retrieving scroll page scroll:thGAVUV0VFVBaAwLzt3rSZtyAWjoCy_eDMo_ooEnEV9K53FYCJehgHREVGQVVMVDUBFdwBFQAA\n",
      "2021-12-29 21:46:08,299 [INFO] snscrape.base - Retrieving https://api.twitter.com/2/search/adaptive.json?include_profile_interstitial_type=1&include_blocking=1&include_blocked_by=1&include_followed_by=1&include_want_retweets=1&include_mute_edge=1&include_can_dm=1&include_can_media_tag=1&skip_status=1&cards_platform=Web-12&include_cards=1&include_ext_alt_text=true&include_quote_count=true&include_reply_count=1&tweet_mode=extended&include_entities=true&include_user_entities=true&include_ext_media_color=true&include_ext_media_availability=true&send_error_codes=true&simple_quoted_tweets=true&q=%23TooGoodToGo+since%3A2019-01-01+until%3A2021-12-28+lang%3Aen&tweet_search_mode=live&count=100&query_source=spelling_expansion_revert_click&cursor=scroll%3AthGAVUV0VFVBaAwLzt3rSZtyAWjoCy_eDMo_ooEnEV9K53FYCJehgHREVGQVVMVDUBFdwBFQAA&pc=1&spelling_corrections=1&ext=mediaStats%2ChighlightedLabel\n",
      "2021-12-29 21:46:08,903 [INFO] snscrape.base - Retrieved https://api.twitter.com/2/search/adaptive.json?include_profile_interstitial_type=1&include_blocking=1&include_blocked_by=1&include_followed_by=1&include_want_retweets=1&include_mute_edge=1&include_can_dm=1&include_can_media_tag=1&skip_status=1&cards_platform=Web-12&include_cards=1&include_ext_alt_text=true&include_quote_count=true&include_reply_count=1&tweet_mode=extended&include_entities=true&include_user_entities=true&include_ext_media_color=true&include_ext_media_availability=true&send_error_codes=true&simple_quoted_tweets=true&q=%23TooGoodToGo+since%3A2019-01-01+until%3A2021-12-28+lang%3Aen&tweet_search_mode=live&count=100&query_source=spelling_expansion_revert_click&cursor=scroll%3AthGAVUV0VFVBaAwLzt3rSZtyAWjoCy_eDMo_ooEnEV9K53FYCJehgHREVGQVVMVDUBFdwBFQAA&pc=1&spelling_corrections=1&ext=mediaStats%2ChighlightedLabel: 200\n",
      "2021-12-29 21:46:08,910 [INFO] snscrape.modules.twitter - Retrieving scroll page scroll:thGAVUV0VFVBaCgL_B9LzIriAWjoCy_eDMo_ooEnEV5Kt3FYCJehgHREVGQVVMVDUBFd4BFQAA\n",
      "2021-12-29 21:46:08,914 [INFO] snscrape.base - Retrieving https://api.twitter.com/2/search/adaptive.json?include_profile_interstitial_type=1&include_blocking=1&include_blocked_by=1&include_followed_by=1&include_want_retweets=1&include_mute_edge=1&include_can_dm=1&include_can_media_tag=1&skip_status=1&cards_platform=Web-12&include_cards=1&include_ext_alt_text=true&include_quote_count=true&include_reply_count=1&tweet_mode=extended&include_entities=true&include_user_entities=true&include_ext_media_color=true&include_ext_media_availability=true&send_error_codes=true&simple_quoted_tweets=true&q=%23TooGoodToGo+since%3A2019-01-01+until%3A2021-12-28+lang%3Aen&tweet_search_mode=live&count=100&query_source=spelling_expansion_revert_click&cursor=scroll%3AthGAVUV0VFVBaCgL_B9LzIriAWjoCy_eDMo_ooEnEV5Kt3FYCJehgHREVGQVVMVDUBFd4BFQAA&pc=1&spelling_corrections=1&ext=mediaStats%2ChighlightedLabel\n",
      "2021-12-29 21:46:09,519 [INFO] snscrape.base - Retrieved https://api.twitter.com/2/search/adaptive.json?include_profile_interstitial_type=1&include_blocking=1&include_blocked_by=1&include_followed_by=1&include_want_retweets=1&include_mute_edge=1&include_can_dm=1&include_can_media_tag=1&skip_status=1&cards_platform=Web-12&include_cards=1&include_ext_alt_text=true&include_quote_count=true&include_reply_count=1&tweet_mode=extended&include_entities=true&include_user_entities=true&include_ext_media_color=true&include_ext_media_availability=true&send_error_codes=true&simple_quoted_tweets=true&q=%23TooGoodToGo+since%3A2019-01-01+until%3A2021-12-28+lang%3Aen&tweet_search_mode=live&count=100&query_source=spelling_expansion_revert_click&cursor=scroll%3AthGAVUV0VFVBaCgL_B9LzIriAWjoCy_eDMo_ooEnEV5Kt3FYCJehgHREVGQVVMVDUBFd4BFQAA&pc=1&spelling_corrections=1&ext=mediaStats%2ChighlightedLabel: 200\n",
      "2021-12-29 21:46:09,530 [INFO] snscrape.modules.twitter - Retrieving scroll page scroll:thGAVUV0VFVBaCgLvd1N_MpSAWjoCy_eDMo_ooEnEV1Kh3FYCJehgHREVGQVVMVDUBFeABFQAA\n",
      "2021-12-29 21:46:09,533 [INFO] snscrape.base - Retrieving https://api.twitter.com/2/search/adaptive.json?include_profile_interstitial_type=1&include_blocking=1&include_blocked_by=1&include_followed_by=1&include_want_retweets=1&include_mute_edge=1&include_can_dm=1&include_can_media_tag=1&skip_status=1&cards_platform=Web-12&include_cards=1&include_ext_alt_text=true&include_quote_count=true&include_reply_count=1&tweet_mode=extended&include_entities=true&include_user_entities=true&include_ext_media_color=true&include_ext_media_availability=true&send_error_codes=true&simple_quoted_tweets=true&q=%23TooGoodToGo+since%3A2019-01-01+until%3A2021-12-28+lang%3Aen&tweet_search_mode=live&count=100&query_source=spelling_expansion_revert_click&cursor=scroll%3AthGAVUV0VFVBaCgLvd1N_MpSAWjoCy_eDMo_ooEnEV1Kh3FYCJehgHREVGQVVMVDUBFeABFQAA&pc=1&spelling_corrections=1&ext=mediaStats%2ChighlightedLabel\n",
      "2021-12-29 21:46:10,135 [INFO] snscrape.base - Retrieved https://api.twitter.com/2/search/adaptive.json?include_profile_interstitial_type=1&include_blocking=1&include_blocked_by=1&include_followed_by=1&include_want_retweets=1&include_mute_edge=1&include_can_dm=1&include_can_media_tag=1&skip_status=1&cards_platform=Web-12&include_cards=1&include_ext_alt_text=true&include_quote_count=true&include_reply_count=1&tweet_mode=extended&include_entities=true&include_user_entities=true&include_ext_media_color=true&include_ext_media_availability=true&send_error_codes=true&simple_quoted_tweets=true&q=%23TooGoodToGo+since%3A2019-01-01+until%3A2021-12-28+lang%3Aen&tweet_search_mode=live&count=100&query_source=spelling_expansion_revert_click&cursor=scroll%3AthGAVUV0VFVBaCgLvd1N_MpSAWjoCy_eDMo_ooEnEV1Kh3FYCJehgHREVGQVVMVDUBFeABFQAA&pc=1&spelling_corrections=1&ext=mediaStats%2ChighlightedLabel: 200\n",
      "2021-12-29 21:46:10,146 [INFO] snscrape.modules.twitter - Retrieving scroll page scroll:thGAVUV0VFVBaAgL3V-pqQnCAWjoCy_eDMo_ooEnEVxKV3FYCJehgHREVGQVVMVDUBFeIBFQAA\n",
      "2021-12-29 21:46:10,149 [INFO] snscrape.base - Retrieving https://api.twitter.com/2/search/adaptive.json?include_profile_interstitial_type=1&include_blocking=1&include_blocked_by=1&include_followed_by=1&include_want_retweets=1&include_mute_edge=1&include_can_dm=1&include_can_media_tag=1&skip_status=1&cards_platform=Web-12&include_cards=1&include_ext_alt_text=true&include_quote_count=true&include_reply_count=1&tweet_mode=extended&include_entities=true&include_user_entities=true&include_ext_media_color=true&include_ext_media_availability=true&send_error_codes=true&simple_quoted_tweets=true&q=%23TooGoodToGo+since%3A2019-01-01+until%3A2021-12-28+lang%3Aen&tweet_search_mode=live&count=100&query_source=spelling_expansion_revert_click&cursor=scroll%3AthGAVUV0VFVBaAgL3V-pqQnCAWjoCy_eDMo_ooEnEVxKV3FYCJehgHREVGQVVMVDUBFeIBFQAA&pc=1&spelling_corrections=1&ext=mediaStats%2ChighlightedLabel\n",
      "2021-12-29 21:46:10,872 [INFO] snscrape.base - Retrieved https://api.twitter.com/2/search/adaptive.json?include_profile_interstitial_type=1&include_blocking=1&include_blocked_by=1&include_followed_by=1&include_want_retweets=1&include_mute_edge=1&include_can_dm=1&include_can_media_tag=1&skip_status=1&cards_platform=Web-12&include_cards=1&include_ext_alt_text=true&include_quote_count=true&include_reply_count=1&tweet_mode=extended&include_entities=true&include_user_entities=true&include_ext_media_color=true&include_ext_media_availability=true&send_error_codes=true&simple_quoted_tweets=true&q=%23TooGoodToGo+since%3A2019-01-01+until%3A2021-12-28+lang%3Aen&tweet_search_mode=live&count=100&query_source=spelling_expansion_revert_click&cursor=scroll%3AthGAVUV0VFVBaAgL3V-pqQnCAWjoCy_eDMo_ooEnEVxKV3FYCJehgHREVGQVVMVDUBFeIBFQAA&pc=1&spelling_corrections=1&ext=mediaStats%2ChighlightedLabel: 200\n",
      "2021-12-29 21:46:10,883 [INFO] snscrape.modules.twitter - Retrieving scroll page scroll:thGAVUV0VFVBaCgL3Fiu_BkCAWjoCy_eDMo_ooEnEVtKJ3FYCJehgHREVGQVVMVDUBFeQBFQAA\n",
      "2021-12-29 21:46:10,886 [INFO] snscrape.base - Retrieving https://api.twitter.com/2/search/adaptive.json?include_profile_interstitial_type=1&include_blocking=1&include_blocked_by=1&include_followed_by=1&include_want_retweets=1&include_mute_edge=1&include_can_dm=1&include_can_media_tag=1&skip_status=1&cards_platform=Web-12&include_cards=1&include_ext_alt_text=true&include_quote_count=true&include_reply_count=1&tweet_mode=extended&include_entities=true&include_user_entities=true&include_ext_media_color=true&include_ext_media_availability=true&send_error_codes=true&simple_quoted_tweets=true&q=%23TooGoodToGo+since%3A2019-01-01+until%3A2021-12-28+lang%3Aen&tweet_search_mode=live&count=100&query_source=spelling_expansion_revert_click&cursor=scroll%3AthGAVUV0VFVBaCgL3Fiu_BkCAWjoCy_eDMo_ooEnEVtKJ3FYCJehgHREVGQVVMVDUBFeQBFQAA&pc=1&spelling_corrections=1&ext=mediaStats%2ChighlightedLabel\n",
      "2021-12-29 21:46:11,440 [INFO] snscrape.base - Retrieved https://api.twitter.com/2/search/adaptive.json?include_profile_interstitial_type=1&include_blocking=1&include_blocked_by=1&include_followed_by=1&include_want_retweets=1&include_mute_edge=1&include_can_dm=1&include_can_media_tag=1&skip_status=1&cards_platform=Web-12&include_cards=1&include_ext_alt_text=true&include_quote_count=true&include_reply_count=1&tweet_mode=extended&include_entities=true&include_user_entities=true&include_ext_media_color=true&include_ext_media_availability=true&send_error_codes=true&simple_quoted_tweets=true&q=%23TooGoodToGo+since%3A2019-01-01+until%3A2021-12-28+lang%3Aen&tweet_search_mode=live&count=100&query_source=spelling_expansion_revert_click&cursor=scroll%3AthGAVUV0VFVBaCgL3Fiu_BkCAWjoCy_eDMo_ooEnEVtKJ3FYCJehgHREVGQVVMVDUBFeQBFQAA&pc=1&spelling_corrections=1&ext=mediaStats%2ChighlightedLabel: 200\n",
      "2021-12-29 21:46:11,444 [INFO] snscrape.modules.twitter - Retrieving scroll page scroll:thGAVUV0VFVBaAgKGJnv7XiiAWjoCy_eDMo_ooEnEVpJ93FYCJehgHREVGQVVMVDUBFeYBFQAA\n",
      "2021-12-29 21:46:11,446 [INFO] snscrape.base - Retrieving https://api.twitter.com/2/search/adaptive.json?include_profile_interstitial_type=1&include_blocking=1&include_blocked_by=1&include_followed_by=1&include_want_retweets=1&include_mute_edge=1&include_can_dm=1&include_can_media_tag=1&skip_status=1&cards_platform=Web-12&include_cards=1&include_ext_alt_text=true&include_quote_count=true&include_reply_count=1&tweet_mode=extended&include_entities=true&include_user_entities=true&include_ext_media_color=true&include_ext_media_availability=true&send_error_codes=true&simple_quoted_tweets=true&q=%23TooGoodToGo+since%3A2019-01-01+until%3A2021-12-28+lang%3Aen&tweet_search_mode=live&count=100&query_source=spelling_expansion_revert_click&cursor=scroll%3AthGAVUV0VFVBaAgKGJnv7XiiAWjoCy_eDMo_ooEnEVpJ93FYCJehgHREVGQVVMVDUBFeYBFQAA&pc=1&spelling_corrections=1&ext=mediaStats%2ChighlightedLabel\n",
      "2021-12-29 21:46:12,102 [INFO] snscrape.base - Retrieved https://api.twitter.com/2/search/adaptive.json?include_profile_interstitial_type=1&include_blocking=1&include_blocked_by=1&include_followed_by=1&include_want_retweets=1&include_mute_edge=1&include_can_dm=1&include_can_media_tag=1&skip_status=1&cards_platform=Web-12&include_cards=1&include_ext_alt_text=true&include_quote_count=true&include_reply_count=1&tweet_mode=extended&include_entities=true&include_user_entities=true&include_ext_media_color=true&include_ext_media_availability=true&send_error_codes=true&simple_quoted_tweets=true&q=%23TooGoodToGo+since%3A2019-01-01+until%3A2021-12-28+lang%3Aen&tweet_search_mode=live&count=100&query_source=spelling_expansion_revert_click&cursor=scroll%3AthGAVUV0VFVBaAgKGJnv7XiiAWjoCy_eDMo_ooEnEVpJ93FYCJehgHREVGQVVMVDUBFeYBFQAA&pc=1&spelling_corrections=1&ext=mediaStats%2ChighlightedLabel: 200\n",
      "2021-12-29 21:46:12,111 [INFO] snscrape.modules.twitter - Retrieving scroll page scroll:thGAVUV0VFVBaGwLWFudWAgCAWjoCy_eDMo_ooEnEVlJx3FYCJehgHREVGQVVMVDUBFegBFQAA\n",
      "2021-12-29 21:46:12,112 [INFO] snscrape.base - Retrieving https://api.twitter.com/2/search/adaptive.json?include_profile_interstitial_type=1&include_blocking=1&include_blocked_by=1&include_followed_by=1&include_want_retweets=1&include_mute_edge=1&include_can_dm=1&include_can_media_tag=1&skip_status=1&cards_platform=Web-12&include_cards=1&include_ext_alt_text=true&include_quote_count=true&include_reply_count=1&tweet_mode=extended&include_entities=true&include_user_entities=true&include_ext_media_color=true&include_ext_media_availability=true&send_error_codes=true&simple_quoted_tweets=true&q=%23TooGoodToGo+since%3A2019-01-01+until%3A2021-12-28+lang%3Aen&tweet_search_mode=live&count=100&query_source=spelling_expansion_revert_click&cursor=scroll%3AthGAVUV0VFVBaGwLWFudWAgCAWjoCy_eDMo_ooEnEVlJx3FYCJehgHREVGQVVMVDUBFegBFQAA&pc=1&spelling_corrections=1&ext=mediaStats%2ChighlightedLabel\n",
      "2021-12-29 21:46:12,839 [INFO] snscrape.base - Retrieved https://api.twitter.com/2/search/adaptive.json?include_profile_interstitial_type=1&include_blocking=1&include_blocked_by=1&include_followed_by=1&include_want_retweets=1&include_mute_edge=1&include_can_dm=1&include_can_media_tag=1&skip_status=1&cards_platform=Web-12&include_cards=1&include_ext_alt_text=true&include_quote_count=true&include_reply_count=1&tweet_mode=extended&include_entities=true&include_user_entities=true&include_ext_media_color=true&include_ext_media_availability=true&send_error_codes=true&simple_quoted_tweets=true&q=%23TooGoodToGo+since%3A2019-01-01+until%3A2021-12-28+lang%3Aen&tweet_search_mode=live&count=100&query_source=spelling_expansion_revert_click&cursor=scroll%3AthGAVUV0VFVBaGwLWFudWAgCAWjoCy_eDMo_ooEnEVlJx3FYCJehgHREVGQVVMVDUBFegBFQAA&pc=1&spelling_corrections=1&ext=mediaStats%2ChighlightedLabel: 200\n",
      "2021-12-29 21:46:12,851 [INFO] snscrape.modules.twitter - Retrieving scroll page scroll:thGAVUV0VFVBaAwLqdi5fN-R8WjoCy_eDMo_ooEnEVhJl3FYCJehgHREVGQVVMVDUBFeoBFQAA\n",
      "2021-12-29 21:46:12,854 [INFO] snscrape.base - Retrieving https://api.twitter.com/2/search/adaptive.json?include_profile_interstitial_type=1&include_blocking=1&include_blocked_by=1&include_followed_by=1&include_want_retweets=1&include_mute_edge=1&include_can_dm=1&include_can_media_tag=1&skip_status=1&cards_platform=Web-12&include_cards=1&include_ext_alt_text=true&include_quote_count=true&include_reply_count=1&tweet_mode=extended&include_entities=true&include_user_entities=true&include_ext_media_color=true&include_ext_media_availability=true&send_error_codes=true&simple_quoted_tweets=true&q=%23TooGoodToGo+since%3A2019-01-01+until%3A2021-12-28+lang%3Aen&tweet_search_mode=live&count=100&query_source=spelling_expansion_revert_click&cursor=scroll%3AthGAVUV0VFVBaAwLqdi5fN-R8WjoCy_eDMo_ooEnEVhJl3FYCJehgHREVGQVVMVDUBFeoBFQAA&pc=1&spelling_corrections=1&ext=mediaStats%2ChighlightedLabel\n",
      "2021-12-29 21:46:13,576 [INFO] snscrape.base - Retrieved https://api.twitter.com/2/search/adaptive.json?include_profile_interstitial_type=1&include_blocking=1&include_blocked_by=1&include_followed_by=1&include_want_retweets=1&include_mute_edge=1&include_can_dm=1&include_can_media_tag=1&skip_status=1&cards_platform=Web-12&include_cards=1&include_ext_alt_text=true&include_quote_count=true&include_reply_count=1&tweet_mode=extended&include_entities=true&include_user_entities=true&include_ext_media_color=true&include_ext_media_availability=true&send_error_codes=true&simple_quoted_tweets=true&q=%23TooGoodToGo+since%3A2019-01-01+until%3A2021-12-28+lang%3Aen&tweet_search_mode=live&count=100&query_source=spelling_expansion_revert_click&cursor=scroll%3AthGAVUV0VFVBaAwLqdi5fN-R8WjoCy_eDMo_ooEnEVhJl3FYCJehgHREVGQVVMVDUBFeoBFQAA&pc=1&spelling_corrections=1&ext=mediaStats%2ChighlightedLabel: 200\n",
      "2021-12-29 21:46:13,586 [INFO] snscrape.modules.twitter - Retrieving scroll page scroll:thGAVUV0VFVBaAwL3V5P_R8R8WjoCy_eDMo_ooEnEV9JV3FYCJehgHREVGQVVMVDUBFewBFQAA\n",
      "2021-12-29 21:46:13,587 [INFO] snscrape.base - Retrieving https://api.twitter.com/2/search/adaptive.json?include_profile_interstitial_type=1&include_blocking=1&include_blocked_by=1&include_followed_by=1&include_want_retweets=1&include_mute_edge=1&include_can_dm=1&include_can_media_tag=1&skip_status=1&cards_platform=Web-12&include_cards=1&include_ext_alt_text=true&include_quote_count=true&include_reply_count=1&tweet_mode=extended&include_entities=true&include_user_entities=true&include_ext_media_color=true&include_ext_media_availability=true&send_error_codes=true&simple_quoted_tweets=true&q=%23TooGoodToGo+since%3A2019-01-01+until%3A2021-12-28+lang%3Aen&tweet_search_mode=live&count=100&query_source=spelling_expansion_revert_click&cursor=scroll%3AthGAVUV0VFVBaAwL3V5P_R8R8WjoCy_eDMo_ooEnEV9JV3FYCJehgHREVGQVVMVDUBFewBFQAA&pc=1&spelling_corrections=1&ext=mediaStats%2ChighlightedLabel\n",
      "2021-12-29 21:46:14,172 [INFO] snscrape.base - Retrieved https://api.twitter.com/2/search/adaptive.json?include_profile_interstitial_type=1&include_blocking=1&include_blocked_by=1&include_followed_by=1&include_want_retweets=1&include_mute_edge=1&include_can_dm=1&include_can_media_tag=1&skip_status=1&cards_platform=Web-12&include_cards=1&include_ext_alt_text=true&include_quote_count=true&include_reply_count=1&tweet_mode=extended&include_entities=true&include_user_entities=true&include_ext_media_color=true&include_ext_media_availability=true&send_error_codes=true&simple_quoted_tweets=true&q=%23TooGoodToGo+since%3A2019-01-01+until%3A2021-12-28+lang%3Aen&tweet_search_mode=live&count=100&query_source=spelling_expansion_revert_click&cursor=scroll%3AthGAVUV0VFVBaAwL3V5P_R8R8WjoCy_eDMo_ooEnEV9JV3FYCJehgHREVGQVVMVDUBFewBFQAA&pc=1&spelling_corrections=1&ext=mediaStats%2ChighlightedLabel: 200\n",
      "2021-12-29 21:46:14,181 [INFO] snscrape.modules.twitter - Retrieving scroll page scroll:thGAVUV0VFVBaAwLTV88mF6h8WjoCy_eDMo_ooEnEV5JJ3FYCJehgHREVGQVVMVDUBFe4BFQAA\n",
      "2021-12-29 21:46:14,183 [INFO] snscrape.base - Retrieving https://api.twitter.com/2/search/adaptive.json?include_profile_interstitial_type=1&include_blocking=1&include_blocked_by=1&include_followed_by=1&include_want_retweets=1&include_mute_edge=1&include_can_dm=1&include_can_media_tag=1&skip_status=1&cards_platform=Web-12&include_cards=1&include_ext_alt_text=true&include_quote_count=true&include_reply_count=1&tweet_mode=extended&include_entities=true&include_user_entities=true&include_ext_media_color=true&include_ext_media_availability=true&send_error_codes=true&simple_quoted_tweets=true&q=%23TooGoodToGo+since%3A2019-01-01+until%3A2021-12-28+lang%3Aen&tweet_search_mode=live&count=100&query_source=spelling_expansion_revert_click&cursor=scroll%3AthGAVUV0VFVBaAwLTV88mF6h8WjoCy_eDMo_ooEnEV5JJ3FYCJehgHREVGQVVMVDUBFe4BFQAA&pc=1&spelling_corrections=1&ext=mediaStats%2ChighlightedLabel\n",
      "2021-12-29 21:46:14,928 [INFO] snscrape.base - Retrieved https://api.twitter.com/2/search/adaptive.json?include_profile_interstitial_type=1&include_blocking=1&include_blocked_by=1&include_followed_by=1&include_want_retweets=1&include_mute_edge=1&include_can_dm=1&include_can_media_tag=1&skip_status=1&cards_platform=Web-12&include_cards=1&include_ext_alt_text=true&include_quote_count=true&include_reply_count=1&tweet_mode=extended&include_entities=true&include_user_entities=true&include_ext_media_color=true&include_ext_media_availability=true&send_error_codes=true&simple_quoted_tweets=true&q=%23TooGoodToGo+since%3A2019-01-01+until%3A2021-12-28+lang%3Aen&tweet_search_mode=live&count=100&query_source=spelling_expansion_revert_click&cursor=scroll%3AthGAVUV0VFVBaAwLTV88mF6h8WjoCy_eDMo_ooEnEV5JJ3FYCJehgHREVGQVVMVDUBFe4BFQAA&pc=1&spelling_corrections=1&ext=mediaStats%2ChighlightedLabel: 200\n",
      "2021-12-29 21:46:14,937 [INFO] snscrape.modules.twitter - Retrieving scroll page scroll:thGAVUV0VFVBaAwLzVoOik4h8WjoCy_eDMo_ooEnEV1I93FYCJehgHREVGQVVMVDUBFfABFQAA\n",
      "2021-12-29 21:46:14,939 [INFO] snscrape.base - Retrieving https://api.twitter.com/2/search/adaptive.json?include_profile_interstitial_type=1&include_blocking=1&include_blocked_by=1&include_followed_by=1&include_want_retweets=1&include_mute_edge=1&include_can_dm=1&include_can_media_tag=1&skip_status=1&cards_platform=Web-12&include_cards=1&include_ext_alt_text=true&include_quote_count=true&include_reply_count=1&tweet_mode=extended&include_entities=true&include_user_entities=true&include_ext_media_color=true&include_ext_media_availability=true&send_error_codes=true&simple_quoted_tweets=true&q=%23TooGoodToGo+since%3A2019-01-01+until%3A2021-12-28+lang%3Aen&tweet_search_mode=live&count=100&query_source=spelling_expansion_revert_click&cursor=scroll%3AthGAVUV0VFVBaAwLzVoOik4h8WjoCy_eDMo_ooEnEV1I93FYCJehgHREVGQVVMVDUBFfABFQAA&pc=1&spelling_corrections=1&ext=mediaStats%2ChighlightedLabel\n",
      "2021-12-29 21:46:15,788 [INFO] snscrape.base - Retrieved https://api.twitter.com/2/search/adaptive.json?include_profile_interstitial_type=1&include_blocking=1&include_blocked_by=1&include_followed_by=1&include_want_retweets=1&include_mute_edge=1&include_can_dm=1&include_can_media_tag=1&skip_status=1&cards_platform=Web-12&include_cards=1&include_ext_alt_text=true&include_quote_count=true&include_reply_count=1&tweet_mode=extended&include_entities=true&include_user_entities=true&include_ext_media_color=true&include_ext_media_availability=true&send_error_codes=true&simple_quoted_tweets=true&q=%23TooGoodToGo+since%3A2019-01-01+until%3A2021-12-28+lang%3Aen&tweet_search_mode=live&count=100&query_source=spelling_expansion_revert_click&cursor=scroll%3AthGAVUV0VFVBaAwLzVoOik4h8WjoCy_eDMo_ooEnEV1I93FYCJehgHREVGQVVMVDUBFfABFQAA&pc=1&spelling_corrections=1&ext=mediaStats%2ChighlightedLabel: 200\n",
      "2021-12-29 21:46:15,799 [INFO] snscrape.modules.twitter - Retrieving scroll page scroll:thGAVUV0VFVBaAgLu9ov6W2R8WjoCy_eDMo_ooEnEVxIx3FYCJehgHREVGQVVMVDUBFfIBFQAA\n",
      "2021-12-29 21:46:15,801 [INFO] snscrape.base - Retrieving https://api.twitter.com/2/search/adaptive.json?include_profile_interstitial_type=1&include_blocking=1&include_blocked_by=1&include_followed_by=1&include_want_retweets=1&include_mute_edge=1&include_can_dm=1&include_can_media_tag=1&skip_status=1&cards_platform=Web-12&include_cards=1&include_ext_alt_text=true&include_quote_count=true&include_reply_count=1&tweet_mode=extended&include_entities=true&include_user_entities=true&include_ext_media_color=true&include_ext_media_availability=true&send_error_codes=true&simple_quoted_tweets=true&q=%23TooGoodToGo+since%3A2019-01-01+until%3A2021-12-28+lang%3Aen&tweet_search_mode=live&count=100&query_source=spelling_expansion_revert_click&cursor=scroll%3AthGAVUV0VFVBaAgLu9ov6W2R8WjoCy_eDMo_ooEnEVxIx3FYCJehgHREVGQVVMVDUBFfIBFQAA&pc=1&spelling_corrections=1&ext=mediaStats%2ChighlightedLabel\n",
      "2021-12-29 21:46:16,525 [INFO] snscrape.base - Retrieved https://api.twitter.com/2/search/adaptive.json?include_profile_interstitial_type=1&include_blocking=1&include_blocked_by=1&include_followed_by=1&include_want_retweets=1&include_mute_edge=1&include_can_dm=1&include_can_media_tag=1&skip_status=1&cards_platform=Web-12&include_cards=1&include_ext_alt_text=true&include_quote_count=true&include_reply_count=1&tweet_mode=extended&include_entities=true&include_user_entities=true&include_ext_media_color=true&include_ext_media_availability=true&send_error_codes=true&simple_quoted_tweets=true&q=%23TooGoodToGo+since%3A2019-01-01+until%3A2021-12-28+lang%3Aen&tweet_search_mode=live&count=100&query_source=spelling_expansion_revert_click&cursor=scroll%3AthGAVUV0VFVBaAgLu9ov6W2R8WjoCy_eDMo_ooEnEVxIx3FYCJehgHREVGQVVMVDUBFfIBFQAA&pc=1&spelling_corrections=1&ext=mediaStats%2ChighlightedLabel: 200\n",
      "2021-12-29 21:46:16,540 [INFO] snscrape.modules.twitter - Retrieving scroll page scroll:thGAVUV0VFVBaKwLSloOmI0h8WjoCy_eDMo_ooEnEVtIl3FYCJehgHREVGQVVMVDUBFfQBFQAA\n",
      "2021-12-29 21:46:16,543 [INFO] snscrape.base - Retrieving https://api.twitter.com/2/search/adaptive.json?include_profile_interstitial_type=1&include_blocking=1&include_blocked_by=1&include_followed_by=1&include_want_retweets=1&include_mute_edge=1&include_can_dm=1&include_can_media_tag=1&skip_status=1&cards_platform=Web-12&include_cards=1&include_ext_alt_text=true&include_quote_count=true&include_reply_count=1&tweet_mode=extended&include_entities=true&include_user_entities=true&include_ext_media_color=true&include_ext_media_availability=true&send_error_codes=true&simple_quoted_tweets=true&q=%23TooGoodToGo+since%3A2019-01-01+until%3A2021-12-28+lang%3Aen&tweet_search_mode=live&count=100&query_source=spelling_expansion_revert_click&cursor=scroll%3AthGAVUV0VFVBaKwLSloOmI0h8WjoCy_eDMo_ooEnEVtIl3FYCJehgHREVGQVVMVDUBFfQBFQAA&pc=1&spelling_corrections=1&ext=mediaStats%2ChighlightedLabel\n",
      "2021-12-29 21:46:17,262 [INFO] snscrape.base - Retrieved https://api.twitter.com/2/search/adaptive.json?include_profile_interstitial_type=1&include_blocking=1&include_blocked_by=1&include_followed_by=1&include_want_retweets=1&include_mute_edge=1&include_can_dm=1&include_can_media_tag=1&skip_status=1&cards_platform=Web-12&include_cards=1&include_ext_alt_text=true&include_quote_count=true&include_reply_count=1&tweet_mode=extended&include_entities=true&include_user_entities=true&include_ext_media_color=true&include_ext_media_availability=true&send_error_codes=true&simple_quoted_tweets=true&q=%23TooGoodToGo+since%3A2019-01-01+until%3A2021-12-28+lang%3Aen&tweet_search_mode=live&count=100&query_source=spelling_expansion_revert_click&cursor=scroll%3AthGAVUV0VFVBaKwLSloOmI0h8WjoCy_eDMo_ooEnEVtIl3FYCJehgHREVGQVVMVDUBFfQBFQAA&pc=1&spelling_corrections=1&ext=mediaStats%2ChighlightedLabel: 200\n",
      "2021-12-29 21:46:17,274 [INFO] snscrape.modules.twitter - Retrieving scroll page scroll:thGAVUV0VFVBaCgL39mP-wzB8WjoCy_eDMo_ooEnEVpIZ3FYCJehgHREVGQVVMVDUBFfYBFQAA\n",
      "2021-12-29 21:46:17,278 [INFO] snscrape.base - Retrieving https://api.twitter.com/2/search/adaptive.json?include_profile_interstitial_type=1&include_blocking=1&include_blocked_by=1&include_followed_by=1&include_want_retweets=1&include_mute_edge=1&include_can_dm=1&include_can_media_tag=1&skip_status=1&cards_platform=Web-12&include_cards=1&include_ext_alt_text=true&include_quote_count=true&include_reply_count=1&tweet_mode=extended&include_entities=true&include_user_entities=true&include_ext_media_color=true&include_ext_media_availability=true&send_error_codes=true&simple_quoted_tweets=true&q=%23TooGoodToGo+since%3A2019-01-01+until%3A2021-12-28+lang%3Aen&tweet_search_mode=live&count=100&query_source=spelling_expansion_revert_click&cursor=scroll%3AthGAVUV0VFVBaCgL39mP-wzB8WjoCy_eDMo_ooEnEVpIZ3FYCJehgHREVGQVVMVDUBFfYBFQAA&pc=1&spelling_corrections=1&ext=mediaStats%2ChighlightedLabel\n",
      "2021-12-29 21:46:18,000 [INFO] snscrape.base - Retrieved https://api.twitter.com/2/search/adaptive.json?include_profile_interstitial_type=1&include_blocking=1&include_blocked_by=1&include_followed_by=1&include_want_retweets=1&include_mute_edge=1&include_can_dm=1&include_can_media_tag=1&skip_status=1&cards_platform=Web-12&include_cards=1&include_ext_alt_text=true&include_quote_count=true&include_reply_count=1&tweet_mode=extended&include_entities=true&include_user_entities=true&include_ext_media_color=true&include_ext_media_availability=true&send_error_codes=true&simple_quoted_tweets=true&q=%23TooGoodToGo+since%3A2019-01-01+until%3A2021-12-28+lang%3Aen&tweet_search_mode=live&count=100&query_source=spelling_expansion_revert_click&cursor=scroll%3AthGAVUV0VFVBaCgL39mP-wzB8WjoCy_eDMo_ooEnEVpIZ3FYCJehgHREVGQVVMVDUBFfYBFQAA&pc=1&spelling_corrections=1&ext=mediaStats%2ChighlightedLabel: 200\n",
      "2021-12-29 21:46:18,010 [INFO] snscrape.modules.twitter - Retrieving scroll page scroll:thGAVUV0VFVBaCwL21rduawh8WjoCy_eDMo_ooEnEVlIN3FYCJehgHREVGQVVMVDUBFfgBFQAA\n",
      "2021-12-29 21:46:18,014 [INFO] snscrape.base - Retrieving https://api.twitter.com/2/search/adaptive.json?include_profile_interstitial_type=1&include_blocking=1&include_blocked_by=1&include_followed_by=1&include_want_retweets=1&include_mute_edge=1&include_can_dm=1&include_can_media_tag=1&skip_status=1&cards_platform=Web-12&include_cards=1&include_ext_alt_text=true&include_quote_count=true&include_reply_count=1&tweet_mode=extended&include_entities=true&include_user_entities=true&include_ext_media_color=true&include_ext_media_availability=true&send_error_codes=true&simple_quoted_tweets=true&q=%23TooGoodToGo+since%3A2019-01-01+until%3A2021-12-28+lang%3Aen&tweet_search_mode=live&count=100&query_source=spelling_expansion_revert_click&cursor=scroll%3AthGAVUV0VFVBaCwL21rduawh8WjoCy_eDMo_ooEnEVlIN3FYCJehgHREVGQVVMVDUBFfgBFQAA&pc=1&spelling_corrections=1&ext=mediaStats%2ChighlightedLabel\n",
      "2021-12-29 21:46:18,737 [INFO] snscrape.base - Retrieved https://api.twitter.com/2/search/adaptive.json?include_profile_interstitial_type=1&include_blocking=1&include_blocked_by=1&include_followed_by=1&include_want_retweets=1&include_mute_edge=1&include_can_dm=1&include_can_media_tag=1&skip_status=1&cards_platform=Web-12&include_cards=1&include_ext_alt_text=true&include_quote_count=true&include_reply_count=1&tweet_mode=extended&include_entities=true&include_user_entities=true&include_ext_media_color=true&include_ext_media_availability=true&send_error_codes=true&simple_quoted_tweets=true&q=%23TooGoodToGo+since%3A2019-01-01+until%3A2021-12-28+lang%3Aen&tweet_search_mode=live&count=100&query_source=spelling_expansion_revert_click&cursor=scroll%3AthGAVUV0VFVBaCwL21rduawh8WjoCy_eDMo_ooEnEVlIN3FYCJehgHREVGQVVMVDUBFfgBFQAA&pc=1&spelling_corrections=1&ext=mediaStats%2ChighlightedLabel: 200\n",
      "2021-12-29 21:46:18,748 [INFO] snscrape.modules.twitter - Retrieving scroll page scroll:thGAVUV0VFVBaCwLSF3sP-th8WjoCy_eDMo_ooEnEVhIB3FYCJehgHREVGQVVMVDUBFfoBFQAA\n",
      "2021-12-29 21:46:18,750 [INFO] snscrape.base - Retrieving https://api.twitter.com/2/search/adaptive.json?include_profile_interstitial_type=1&include_blocking=1&include_blocked_by=1&include_followed_by=1&include_want_retweets=1&include_mute_edge=1&include_can_dm=1&include_can_media_tag=1&skip_status=1&cards_platform=Web-12&include_cards=1&include_ext_alt_text=true&include_quote_count=true&include_reply_count=1&tweet_mode=extended&include_entities=true&include_user_entities=true&include_ext_media_color=true&include_ext_media_availability=true&send_error_codes=true&simple_quoted_tweets=true&q=%23TooGoodToGo+since%3A2019-01-01+until%3A2021-12-28+lang%3Aen&tweet_search_mode=live&count=100&query_source=spelling_expansion_revert_click&cursor=scroll%3AthGAVUV0VFVBaCwLSF3sP-th8WjoCy_eDMo_ooEnEVhIB3FYCJehgHREVGQVVMVDUBFfoBFQAA&pc=1&spelling_corrections=1&ext=mediaStats%2ChighlightedLabel\n",
      "2021-12-29 21:46:19,351 [INFO] snscrape.base - Retrieved https://api.twitter.com/2/search/adaptive.json?include_profile_interstitial_type=1&include_blocking=1&include_blocked_by=1&include_followed_by=1&include_want_retweets=1&include_mute_edge=1&include_can_dm=1&include_can_media_tag=1&skip_status=1&cards_platform=Web-12&include_cards=1&include_ext_alt_text=true&include_quote_count=true&include_reply_count=1&tweet_mode=extended&include_entities=true&include_user_entities=true&include_ext_media_color=true&include_ext_media_availability=true&send_error_codes=true&simple_quoted_tweets=true&q=%23TooGoodToGo+since%3A2019-01-01+until%3A2021-12-28+lang%3Aen&tweet_search_mode=live&count=100&query_source=spelling_expansion_revert_click&cursor=scroll%3AthGAVUV0VFVBaCwLSF3sP-th8WjoCy_eDMo_ooEnEVhIB3FYCJehgHREVGQVVMVDUBFfoBFQAA&pc=1&spelling_corrections=1&ext=mediaStats%2ChighlightedLabel: 200\n",
      "2021-12-29 21:46:19,360 [INFO] snscrape.modules.twitter - Retrieving scroll page scroll:thGAVUV0VFVBaAwLaFsfGLqx8WjoCy_eDMo_ooEnEV9Px2FYCJehgHREVGQVVMVDUBFfwBFQAA\n",
      "2021-12-29 21:46:19,364 [INFO] snscrape.base - Retrieving https://api.twitter.com/2/search/adaptive.json?include_profile_interstitial_type=1&include_blocking=1&include_blocked_by=1&include_followed_by=1&include_want_retweets=1&include_mute_edge=1&include_can_dm=1&include_can_media_tag=1&skip_status=1&cards_platform=Web-12&include_cards=1&include_ext_alt_text=true&include_quote_count=true&include_reply_count=1&tweet_mode=extended&include_entities=true&include_user_entities=true&include_ext_media_color=true&include_ext_media_availability=true&send_error_codes=true&simple_quoted_tweets=true&q=%23TooGoodToGo+since%3A2019-01-01+until%3A2021-12-28+lang%3Aen&tweet_search_mode=live&count=100&query_source=spelling_expansion_revert_click&cursor=scroll%3AthGAVUV0VFVBaAwLaFsfGLqx8WjoCy_eDMo_ooEnEV9Px2FYCJehgHREVGQVVMVDUBFfwBFQAA&pc=1&spelling_corrections=1&ext=mediaStats%2ChighlightedLabel\n",
      "2021-12-29 21:46:19,966 [INFO] snscrape.base - Retrieved https://api.twitter.com/2/search/adaptive.json?include_profile_interstitial_type=1&include_blocking=1&include_blocked_by=1&include_followed_by=1&include_want_retweets=1&include_mute_edge=1&include_can_dm=1&include_can_media_tag=1&skip_status=1&cards_platform=Web-12&include_cards=1&include_ext_alt_text=true&include_quote_count=true&include_reply_count=1&tweet_mode=extended&include_entities=true&include_user_entities=true&include_ext_media_color=true&include_ext_media_availability=true&send_error_codes=true&simple_quoted_tweets=true&q=%23TooGoodToGo+since%3A2019-01-01+until%3A2021-12-28+lang%3Aen&tweet_search_mode=live&count=100&query_source=spelling_expansion_revert_click&cursor=scroll%3AthGAVUV0VFVBaAwLaFsfGLqx8WjoCy_eDMo_ooEnEV9Px2FYCJehgHREVGQVVMVDUBFfwBFQAA&pc=1&spelling_corrections=1&ext=mediaStats%2ChighlightedLabel: 200\n",
      "2021-12-29 21:46:19,976 [INFO] snscrape.modules.twitter - Retrieving scroll page scroll:thGAVUV0VFVBaAgL3Jsa7jnx8WjoCy_eDMo_ooEnEV5Pl2FYCJehgHREVGQVVMVDUBFf4BFQAA\n",
      "2021-12-29 21:46:19,977 [INFO] snscrape.base - Retrieving https://api.twitter.com/2/search/adaptive.json?include_profile_interstitial_type=1&include_blocking=1&include_blocked_by=1&include_followed_by=1&include_want_retweets=1&include_mute_edge=1&include_can_dm=1&include_can_media_tag=1&skip_status=1&cards_platform=Web-12&include_cards=1&include_ext_alt_text=true&include_quote_count=true&include_reply_count=1&tweet_mode=extended&include_entities=true&include_user_entities=true&include_ext_media_color=true&include_ext_media_availability=true&send_error_codes=true&simple_quoted_tweets=true&q=%23TooGoodToGo+since%3A2019-01-01+until%3A2021-12-28+lang%3Aen&tweet_search_mode=live&count=100&query_source=spelling_expansion_revert_click&cursor=scroll%3AthGAVUV0VFVBaAgL3Jsa7jnx8WjoCy_eDMo_ooEnEV5Pl2FYCJehgHREVGQVVMVDUBFf4BFQAA&pc=1&spelling_corrections=1&ext=mediaStats%2ChighlightedLabel\n",
      "2021-12-29 21:46:20,580 [INFO] snscrape.base - Retrieved https://api.twitter.com/2/search/adaptive.json?include_profile_interstitial_type=1&include_blocking=1&include_blocked_by=1&include_followed_by=1&include_want_retweets=1&include_mute_edge=1&include_can_dm=1&include_can_media_tag=1&skip_status=1&cards_platform=Web-12&include_cards=1&include_ext_alt_text=true&include_quote_count=true&include_reply_count=1&tweet_mode=extended&include_entities=true&include_user_entities=true&include_ext_media_color=true&include_ext_media_availability=true&send_error_codes=true&simple_quoted_tweets=true&q=%23TooGoodToGo+since%3A2019-01-01+until%3A2021-12-28+lang%3Aen&tweet_search_mode=live&count=100&query_source=spelling_expansion_revert_click&cursor=scroll%3AthGAVUV0VFVBaAgL3Jsa7jnx8WjoCy_eDMo_ooEnEV5Pl2FYCJehgHREVGQVVMVDUBFf4BFQAA&pc=1&spelling_corrections=1&ext=mediaStats%2ChighlightedLabel: 200\n",
      "2021-12-29 21:46:20,595 [INFO] snscrape.modules.twitter - Retrieving scroll page scroll:thGAVUV0VFVBaAwKa19oyxjx8WjoCy_eDMo_ooEnEV1PZ2FYCJehgHREVGQVVMVDUBFYACFQAA\n",
      "2021-12-29 21:46:20,599 [INFO] snscrape.base - Retrieving https://api.twitter.com/2/search/adaptive.json?include_profile_interstitial_type=1&include_blocking=1&include_blocked_by=1&include_followed_by=1&include_want_retweets=1&include_mute_edge=1&include_can_dm=1&include_can_media_tag=1&skip_status=1&cards_platform=Web-12&include_cards=1&include_ext_alt_text=true&include_quote_count=true&include_reply_count=1&tweet_mode=extended&include_entities=true&include_user_entities=true&include_ext_media_color=true&include_ext_media_availability=true&send_error_codes=true&simple_quoted_tweets=true&q=%23TooGoodToGo+since%3A2019-01-01+until%3A2021-12-28+lang%3Aen&tweet_search_mode=live&count=100&query_source=spelling_expansion_revert_click&cursor=scroll%3AthGAVUV0VFVBaAwKa19oyxjx8WjoCy_eDMo_ooEnEV1PZ2FYCJehgHREVGQVVMVDUBFYACFQAA&pc=1&spelling_corrections=1&ext=mediaStats%2ChighlightedLabel\n",
      "2021-12-29 21:46:21,195 [INFO] snscrape.base - Retrieved https://api.twitter.com/2/search/adaptive.json?include_profile_interstitial_type=1&include_blocking=1&include_blocked_by=1&include_followed_by=1&include_want_retweets=1&include_mute_edge=1&include_can_dm=1&include_can_media_tag=1&skip_status=1&cards_platform=Web-12&include_cards=1&include_ext_alt_text=true&include_quote_count=true&include_reply_count=1&tweet_mode=extended&include_entities=true&include_user_entities=true&include_ext_media_color=true&include_ext_media_availability=true&send_error_codes=true&simple_quoted_tweets=true&q=%23TooGoodToGo+since%3A2019-01-01+until%3A2021-12-28+lang%3Aen&tweet_search_mode=live&count=100&query_source=spelling_expansion_revert_click&cursor=scroll%3AthGAVUV0VFVBaAwKa19oyxjx8WjoCy_eDMo_ooEnEV1PZ2FYCJehgHREVGQVVMVDUBFYACFQAA&pc=1&spelling_corrections=1&ext=mediaStats%2ChighlightedLabel: 200\n",
      "2021-12-29 21:46:21,204 [INFO] snscrape.modules.twitter - Retrieving scroll page scroll:thGAVUV0VFVBaAwLzxjq_ahR8WjoCy_eDMo_ooEnEVxPN2FYCJehgHREVGQVVMVDUBFYICFQAA\n",
      "2021-12-29 21:46:21,206 [INFO] snscrape.base - Retrieving https://api.twitter.com/2/search/adaptive.json?include_profile_interstitial_type=1&include_blocking=1&include_blocked_by=1&include_followed_by=1&include_want_retweets=1&include_mute_edge=1&include_can_dm=1&include_can_media_tag=1&skip_status=1&cards_platform=Web-12&include_cards=1&include_ext_alt_text=true&include_quote_count=true&include_reply_count=1&tweet_mode=extended&include_entities=true&include_user_entities=true&include_ext_media_color=true&include_ext_media_availability=true&send_error_codes=true&simple_quoted_tweets=true&q=%23TooGoodToGo+since%3A2019-01-01+until%3A2021-12-28+lang%3Aen&tweet_search_mode=live&count=100&query_source=spelling_expansion_revert_click&cursor=scroll%3AthGAVUV0VFVBaAwLzxjq_ahR8WjoCy_eDMo_ooEnEVxPN2FYCJehgHREVGQVVMVDUBFYICFQAA&pc=1&spelling_corrections=1&ext=mediaStats%2ChighlightedLabel\n",
      "2021-12-29 21:46:21,932 [INFO] snscrape.base - Retrieved https://api.twitter.com/2/search/adaptive.json?include_profile_interstitial_type=1&include_blocking=1&include_blocked_by=1&include_followed_by=1&include_want_retweets=1&include_mute_edge=1&include_can_dm=1&include_can_media_tag=1&skip_status=1&cards_platform=Web-12&include_cards=1&include_ext_alt_text=true&include_quote_count=true&include_reply_count=1&tweet_mode=extended&include_entities=true&include_user_entities=true&include_ext_media_color=true&include_ext_media_availability=true&send_error_codes=true&simple_quoted_tweets=true&q=%23TooGoodToGo+since%3A2019-01-01+until%3A2021-12-28+lang%3Aen&tweet_search_mode=live&count=100&query_source=spelling_expansion_revert_click&cursor=scroll%3AthGAVUV0VFVBaAwLzxjq_ahR8WjoCy_eDMo_ooEnEVxPN2FYCJehgHREVGQVVMVDUBFYICFQAA&pc=1&spelling_corrections=1&ext=mediaStats%2ChighlightedLabel: 200\n",
      "2021-12-29 21:46:21,942 [INFO] snscrape.modules.twitter - Retrieving scroll page scroll:thGAVUV0VFVBaKwLblo8u--x4WjoCy_eDMo_ooEnEVtPB2FYCJehgHREVGQVVMVDUBFYQCFQAA\n",
      "2021-12-29 21:46:21,943 [INFO] snscrape.base - Retrieving https://api.twitter.com/2/search/adaptive.json?include_profile_interstitial_type=1&include_blocking=1&include_blocked_by=1&include_followed_by=1&include_want_retweets=1&include_mute_edge=1&include_can_dm=1&include_can_media_tag=1&skip_status=1&cards_platform=Web-12&include_cards=1&include_ext_alt_text=true&include_quote_count=true&include_reply_count=1&tweet_mode=extended&include_entities=true&include_user_entities=true&include_ext_media_color=true&include_ext_media_availability=true&send_error_codes=true&simple_quoted_tweets=true&q=%23TooGoodToGo+since%3A2019-01-01+until%3A2021-12-28+lang%3Aen&tweet_search_mode=live&count=100&query_source=spelling_expansion_revert_click&cursor=scroll%3AthGAVUV0VFVBaKwLblo8u--x4WjoCy_eDMo_ooEnEVtPB2FYCJehgHREVGQVVMVDUBFYQCFQAA&pc=1&spelling_corrections=1&ext=mediaStats%2ChighlightedLabel\n",
      "2021-12-29 21:46:22,547 [INFO] snscrape.base - Retrieved https://api.twitter.com/2/search/adaptive.json?include_profile_interstitial_type=1&include_blocking=1&include_blocked_by=1&include_followed_by=1&include_want_retweets=1&include_mute_edge=1&include_can_dm=1&include_can_media_tag=1&skip_status=1&cards_platform=Web-12&include_cards=1&include_ext_alt_text=true&include_quote_count=true&include_reply_count=1&tweet_mode=extended&include_entities=true&include_user_entities=true&include_ext_media_color=true&include_ext_media_availability=true&send_error_codes=true&simple_quoted_tweets=true&q=%23TooGoodToGo+since%3A2019-01-01+until%3A2021-12-28+lang%3Aen&tweet_search_mode=live&count=100&query_source=spelling_expansion_revert_click&cursor=scroll%3AthGAVUV0VFVBaKwLblo8u--x4WjoCy_eDMo_ooEnEVtPB2FYCJehgHREVGQVVMVDUBFYQCFQAA&pc=1&spelling_corrections=1&ext=mediaStats%2ChighlightedLabel: 200\n",
      "2021-12-29 21:46:22,556 [INFO] snscrape.modules.twitter - Retrieving scroll page scroll:thGAVUV0VFVBaAgL-5l5HQ7h4WjoCy_eDMo_ooEnEVpO12FYCJehgHREVGQVVMVDUBFYYCFQAA\n",
      "2021-12-29 21:46:22,558 [INFO] snscrape.base - Retrieving https://api.twitter.com/2/search/adaptive.json?include_profile_interstitial_type=1&include_blocking=1&include_blocked_by=1&include_followed_by=1&include_want_retweets=1&include_mute_edge=1&include_can_dm=1&include_can_media_tag=1&skip_status=1&cards_platform=Web-12&include_cards=1&include_ext_alt_text=true&include_quote_count=true&include_reply_count=1&tweet_mode=extended&include_entities=true&include_user_entities=true&include_ext_media_color=true&include_ext_media_availability=true&send_error_codes=true&simple_quoted_tweets=true&q=%23TooGoodToGo+since%3A2019-01-01+until%3A2021-12-28+lang%3Aen&tweet_search_mode=live&count=100&query_source=spelling_expansion_revert_click&cursor=scroll%3AthGAVUV0VFVBaAgL-5l5HQ7h4WjoCy_eDMo_ooEnEVpO12FYCJehgHREVGQVVMVDUBFYYCFQAA&pc=1&spelling_corrections=1&ext=mediaStats%2ChighlightedLabel\n",
      "2021-12-29 21:46:23,164 [INFO] snscrape.base - Retrieved https://api.twitter.com/2/search/adaptive.json?include_profile_interstitial_type=1&include_blocking=1&include_blocked_by=1&include_followed_by=1&include_want_retweets=1&include_mute_edge=1&include_can_dm=1&include_can_media_tag=1&skip_status=1&cards_platform=Web-12&include_cards=1&include_ext_alt_text=true&include_quote_count=true&include_reply_count=1&tweet_mode=extended&include_entities=true&include_user_entities=true&include_ext_media_color=true&include_ext_media_availability=true&send_error_codes=true&simple_quoted_tweets=true&q=%23TooGoodToGo+since%3A2019-01-01+until%3A2021-12-28+lang%3Aen&tweet_search_mode=live&count=100&query_source=spelling_expansion_revert_click&cursor=scroll%3AthGAVUV0VFVBaAgL-5l5HQ7h4WjoCy_eDMo_ooEnEVpO12FYCJehgHREVGQVVMVDUBFYYCFQAA&pc=1&spelling_corrections=1&ext=mediaStats%2ChighlightedLabel: 200\n",
      "2021-12-29 21:46:23,173 [INFO] snscrape.modules.twitter - Retrieving scroll page scroll:thGAVUV0VFVBaAwL7Zkb_y4R4WjoCy_eDMo_ooEnEVlOp2FYCJehgHREVGQVVMVDUBFYgCFQAA\n",
      "2021-12-29 21:46:23,175 [INFO] snscrape.base - Retrieving https://api.twitter.com/2/search/adaptive.json?include_profile_interstitial_type=1&include_blocking=1&include_blocked_by=1&include_followed_by=1&include_want_retweets=1&include_mute_edge=1&include_can_dm=1&include_can_media_tag=1&skip_status=1&cards_platform=Web-12&include_cards=1&include_ext_alt_text=true&include_quote_count=true&include_reply_count=1&tweet_mode=extended&include_entities=true&include_user_entities=true&include_ext_media_color=true&include_ext_media_availability=true&send_error_codes=true&simple_quoted_tweets=true&q=%23TooGoodToGo+since%3A2019-01-01+until%3A2021-12-28+lang%3Aen&tweet_search_mode=live&count=100&query_source=spelling_expansion_revert_click&cursor=scroll%3AthGAVUV0VFVBaAwL7Zkb_y4R4WjoCy_eDMo_ooEnEVlOp2FYCJehgHREVGQVVMVDUBFYgCFQAA&pc=1&spelling_corrections=1&ext=mediaStats%2ChighlightedLabel\n",
      "2021-12-29 21:46:23,896 [INFO] snscrape.base - Retrieved https://api.twitter.com/2/search/adaptive.json?include_profile_interstitial_type=1&include_blocking=1&include_blocked_by=1&include_followed_by=1&include_want_retweets=1&include_mute_edge=1&include_can_dm=1&include_can_media_tag=1&skip_status=1&cards_platform=Web-12&include_cards=1&include_ext_alt_text=true&include_quote_count=true&include_reply_count=1&tweet_mode=extended&include_entities=true&include_user_entities=true&include_ext_media_color=true&include_ext_media_availability=true&send_error_codes=true&simple_quoted_tweets=true&q=%23TooGoodToGo+since%3A2019-01-01+until%3A2021-12-28+lang%3Aen&tweet_search_mode=live&count=100&query_source=spelling_expansion_revert_click&cursor=scroll%3AthGAVUV0VFVBaAwL7Zkb_y4R4WjoCy_eDMo_ooEnEVlOp2FYCJehgHREVGQVVMVDUBFYgCFQAA&pc=1&spelling_corrections=1&ext=mediaStats%2ChighlightedLabel: 200\n",
      "2021-12-29 21:46:23,902 [INFO] snscrape.modules.twitter - Retrieving scroll page scroll:thGAVUV0VFVBaCwLS1h7-5zx4WjoCy_eDMo_ooEnEVhOd2FYCJehgHREVGQVVMVDUBFYoCFQAA\n",
      "2021-12-29 21:46:23,904 [INFO] snscrape.base - Retrieving https://api.twitter.com/2/search/adaptive.json?include_profile_interstitial_type=1&include_blocking=1&include_blocked_by=1&include_followed_by=1&include_want_retweets=1&include_mute_edge=1&include_can_dm=1&include_can_media_tag=1&skip_status=1&cards_platform=Web-12&include_cards=1&include_ext_alt_text=true&include_quote_count=true&include_reply_count=1&tweet_mode=extended&include_entities=true&include_user_entities=true&include_ext_media_color=true&include_ext_media_availability=true&send_error_codes=true&simple_quoted_tweets=true&q=%23TooGoodToGo+since%3A2019-01-01+until%3A2021-12-28+lang%3Aen&tweet_search_mode=live&count=100&query_source=spelling_expansion_revert_click&cursor=scroll%3AthGAVUV0VFVBaCwLS1h7-5zx4WjoCy_eDMo_ooEnEVhOd2FYCJehgHREVGQVVMVDUBFYoCFQAA&pc=1&spelling_corrections=1&ext=mediaStats%2ChighlightedLabel\n",
      "2021-12-29 21:46:24,636 [INFO] snscrape.base - Retrieved https://api.twitter.com/2/search/adaptive.json?include_profile_interstitial_type=1&include_blocking=1&include_blocked_by=1&include_followed_by=1&include_want_retweets=1&include_mute_edge=1&include_can_dm=1&include_can_media_tag=1&skip_status=1&cards_platform=Web-12&include_cards=1&include_ext_alt_text=true&include_quote_count=true&include_reply_count=1&tweet_mode=extended&include_entities=true&include_user_entities=true&include_ext_media_color=true&include_ext_media_availability=true&send_error_codes=true&simple_quoted_tweets=true&q=%23TooGoodToGo+since%3A2019-01-01+until%3A2021-12-28+lang%3Aen&tweet_search_mode=live&count=100&query_source=spelling_expansion_revert_click&cursor=scroll%3AthGAVUV0VFVBaCwLS1h7-5zx4WjoCy_eDMo_ooEnEVhOd2FYCJehgHREVGQVVMVDUBFYoCFQAA&pc=1&spelling_corrections=1&ext=mediaStats%2ChighlightedLabel: 200\n",
      "2021-12-29 21:46:24,645 [INFO] snscrape.modules.twitter - Retrieving scroll page scroll:thGAVUV0VFVBaMgKv5yrbjtx4WjoCy_eDMo_ooEnEV9ON2FYCJehgHREVGQVVMVDUBFYwCFQAA\n",
      "2021-12-29 21:46:24,647 [INFO] snscrape.base - Retrieving https://api.twitter.com/2/search/adaptive.json?include_profile_interstitial_type=1&include_blocking=1&include_blocked_by=1&include_followed_by=1&include_want_retweets=1&include_mute_edge=1&include_can_dm=1&include_can_media_tag=1&skip_status=1&cards_platform=Web-12&include_cards=1&include_ext_alt_text=true&include_quote_count=true&include_reply_count=1&tweet_mode=extended&include_entities=true&include_user_entities=true&include_ext_media_color=true&include_ext_media_availability=true&send_error_codes=true&simple_quoted_tweets=true&q=%23TooGoodToGo+since%3A2019-01-01+until%3A2021-12-28+lang%3Aen&tweet_search_mode=live&count=100&query_source=spelling_expansion_revert_click&cursor=scroll%3AthGAVUV0VFVBaMgKv5yrbjtx4WjoCy_eDMo_ooEnEV9ON2FYCJehgHREVGQVVMVDUBFYwCFQAA&pc=1&spelling_corrections=1&ext=mediaStats%2ChighlightedLabel\n",
      "2021-12-29 21:46:25,213 [INFO] snscrape.base - Retrieved https://api.twitter.com/2/search/adaptive.json?include_profile_interstitial_type=1&include_blocking=1&include_blocked_by=1&include_followed_by=1&include_want_retweets=1&include_mute_edge=1&include_can_dm=1&include_can_media_tag=1&skip_status=1&cards_platform=Web-12&include_cards=1&include_ext_alt_text=true&include_quote_count=true&include_reply_count=1&tweet_mode=extended&include_entities=true&include_user_entities=true&include_ext_media_color=true&include_ext_media_availability=true&send_error_codes=true&simple_quoted_tweets=true&q=%23TooGoodToGo+since%3A2019-01-01+until%3A2021-12-28+lang%3Aen&tweet_search_mode=live&count=100&query_source=spelling_expansion_revert_click&cursor=scroll%3AthGAVUV0VFVBaMgKv5yrbjtx4WjoCy_eDMo_ooEnEV9ON2FYCJehgHREVGQVVMVDUBFYwCFQAA&pc=1&spelling_corrections=1&ext=mediaStats%2ChighlightedLabel: 200\n",
      "2021-12-29 21:46:25,223 [INFO] snscrape.modules.twitter - Retrieving scroll page scroll:thGAVUV0VFVBaAgLrJjLDwoR4WjoCy_eDMo_ooEnEV5OB2FYCJehgHREVGQVVMVDUBFY4CFQAA\n",
      "2021-12-29 21:46:25,224 [INFO] snscrape.base - Retrieving https://api.twitter.com/2/search/adaptive.json?include_profile_interstitial_type=1&include_blocking=1&include_blocked_by=1&include_followed_by=1&include_want_retweets=1&include_mute_edge=1&include_can_dm=1&include_can_media_tag=1&skip_status=1&cards_platform=Web-12&include_cards=1&include_ext_alt_text=true&include_quote_count=true&include_reply_count=1&tweet_mode=extended&include_entities=true&include_user_entities=true&include_ext_media_color=true&include_ext_media_availability=true&send_error_codes=true&simple_quoted_tweets=true&q=%23TooGoodToGo+since%3A2019-01-01+until%3A2021-12-28+lang%3Aen&tweet_search_mode=live&count=100&query_source=spelling_expansion_revert_click&cursor=scroll%3AthGAVUV0VFVBaAgLrJjLDwoR4WjoCy_eDMo_ooEnEV5OB2FYCJehgHREVGQVVMVDUBFY4CFQAA&pc=1&spelling_corrections=1&ext=mediaStats%2ChighlightedLabel\n",
      "2021-12-29 21:46:25,618 [INFO] snscrape.base - Retrieved https://api.twitter.com/2/search/adaptive.json?include_profile_interstitial_type=1&include_blocking=1&include_blocked_by=1&include_followed_by=1&include_want_retweets=1&include_mute_edge=1&include_can_dm=1&include_can_media_tag=1&skip_status=1&cards_platform=Web-12&include_cards=1&include_ext_alt_text=true&include_quote_count=true&include_reply_count=1&tweet_mode=extended&include_entities=true&include_user_entities=true&include_ext_media_color=true&include_ext_media_availability=true&send_error_codes=true&simple_quoted_tweets=true&q=%23TooGoodToGo+since%3A2019-01-01+until%3A2021-12-28+lang%3Aen&tweet_search_mode=live&count=100&query_source=spelling_expansion_revert_click&cursor=scroll%3AthGAVUV0VFVBaAgLrJjLDwoR4WjoCy_eDMo_ooEnEV5OB2FYCJehgHREVGQVVMVDUBFY4CFQAA&pc=1&spelling_corrections=1&ext=mediaStats%2ChighlightedLabel: 200\n",
      "2021-12-29 21:46:25,626 [INFO] snscrape.modules.twitter - Retrieving scroll page scroll:thGAVUV0VFVBaAgLW9662CgR4WjoCy_eDMo_ooEnEV4N52FYCJehgHREVGQVVMVDUBFZACFQAA\n",
      "2021-12-29 21:46:25,630 [INFO] snscrape.base - Retrieving https://api.twitter.com/2/search/adaptive.json?include_profile_interstitial_type=1&include_blocking=1&include_blocked_by=1&include_followed_by=1&include_want_retweets=1&include_mute_edge=1&include_can_dm=1&include_can_media_tag=1&skip_status=1&cards_platform=Web-12&include_cards=1&include_ext_alt_text=true&include_quote_count=true&include_reply_count=1&tweet_mode=extended&include_entities=true&include_user_entities=true&include_ext_media_color=true&include_ext_media_availability=true&send_error_codes=true&simple_quoted_tweets=true&q=%23TooGoodToGo+since%3A2019-01-01+until%3A2021-12-28+lang%3Aen&tweet_search_mode=live&count=100&query_source=spelling_expansion_revert_click&cursor=scroll%3AthGAVUV0VFVBaAgLW9662CgR4WjoCy_eDMo_ooEnEV4N52FYCJehgHREVGQVVMVDUBFZACFQAA&pc=1&spelling_corrections=1&ext=mediaStats%2ChighlightedLabel\n",
      "2021-12-29 21:46:25,861 [INFO] snscrape.base - Retrieved https://api.twitter.com/2/search/adaptive.json?include_profile_interstitial_type=1&include_blocking=1&include_blocked_by=1&include_followed_by=1&include_want_retweets=1&include_mute_edge=1&include_can_dm=1&include_can_media_tag=1&skip_status=1&cards_platform=Web-12&include_cards=1&include_ext_alt_text=true&include_quote_count=true&include_reply_count=1&tweet_mode=extended&include_entities=true&include_user_entities=true&include_ext_media_color=true&include_ext_media_availability=true&send_error_codes=true&simple_quoted_tweets=true&q=%23TooGoodToGo+since%3A2019-01-01+until%3A2021-12-28+lang%3Aen&tweet_search_mode=live&count=100&query_source=spelling_expansion_revert_click&cursor=scroll%3AthGAVUV0VFVBaAgLW9662CgR4WjoCy_eDMo_ooEnEV4N52FYCJehgHREVGQVVMVDUBFZACFQAA&pc=1&spelling_corrections=1&ext=mediaStats%2ChighlightedLabel: 200\n",
      "2021-12-29 21:46:25,863 [INFO] snscrape.modules.twitter - Retrieving scroll page scroll:thGAVUV0VFVBaAgLW9662CgR4WjoCy_eDMo_ooEnEV4N52FYCJehgHREVGQVVMVDUBFZACFQAA\n",
      "2021-12-29 21:46:25,864 [INFO] snscrape.base - Retrieving https://api.twitter.com/2/search/adaptive.json?include_profile_interstitial_type=1&include_blocking=1&include_blocked_by=1&include_followed_by=1&include_want_retweets=1&include_mute_edge=1&include_can_dm=1&include_can_media_tag=1&skip_status=1&cards_platform=Web-12&include_cards=1&include_ext_alt_text=true&include_quote_count=true&include_reply_count=1&tweet_mode=extended&include_entities=true&include_user_entities=true&include_ext_media_color=true&include_ext_media_availability=true&send_error_codes=true&simple_quoted_tweets=true&q=%23TooGoodToGo+since%3A2019-01-01+until%3A2021-12-28+lang%3Aen&tweet_search_mode=live&count=100&query_source=spelling_expansion_revert_click&cursor=scroll%3AthGAVUV0VFVBaAgLW9662CgR4WjoCy_eDMo_ooEnEV4N52FYCJehgHREVGQVVMVDUBFZACFQAA&pc=1&spelling_corrections=1&ext=mediaStats%2ChighlightedLabel\n",
      "2021-12-29 21:46:26,107 [INFO] snscrape.base - Retrieved https://api.twitter.com/2/search/adaptive.json?include_profile_interstitial_type=1&include_blocking=1&include_blocked_by=1&include_followed_by=1&include_want_retweets=1&include_mute_edge=1&include_can_dm=1&include_can_media_tag=1&skip_status=1&cards_platform=Web-12&include_cards=1&include_ext_alt_text=true&include_quote_count=true&include_reply_count=1&tweet_mode=extended&include_entities=true&include_user_entities=true&include_ext_media_color=true&include_ext_media_availability=true&send_error_codes=true&simple_quoted_tweets=true&q=%23TooGoodToGo+since%3A2019-01-01+until%3A2021-12-28+lang%3Aen&tweet_search_mode=live&count=100&query_source=spelling_expansion_revert_click&cursor=scroll%3AthGAVUV0VFVBaAgLW9662CgR4WjoCy_eDMo_ooEnEV4N52FYCJehgHREVGQVVMVDUBFZACFQAA&pc=1&spelling_corrections=1&ext=mediaStats%2ChighlightedLabel: 200\n",
      "2021-12-29 21:46:26,108 [INFO] snscrape.modules.twitter - Retrieving scroll page scroll:thGAVUV0VFVBaAgLW9662CgR4WjoCy_eDMo_ooEnEV4N52FYCJehgHREVGQVVMVDUBFZACFQAA\n",
      "2021-12-29 21:46:26,110 [INFO] snscrape.base - Retrieving https://api.twitter.com/2/search/adaptive.json?include_profile_interstitial_type=1&include_blocking=1&include_blocked_by=1&include_followed_by=1&include_want_retweets=1&include_mute_edge=1&include_can_dm=1&include_can_media_tag=1&skip_status=1&cards_platform=Web-12&include_cards=1&include_ext_alt_text=true&include_quote_count=true&include_reply_count=1&tweet_mode=extended&include_entities=true&include_user_entities=true&include_ext_media_color=true&include_ext_media_availability=true&send_error_codes=true&simple_quoted_tweets=true&q=%23TooGoodToGo+since%3A2019-01-01+until%3A2021-12-28+lang%3Aen&tweet_search_mode=live&count=100&query_source=spelling_expansion_revert_click&cursor=scroll%3AthGAVUV0VFVBaAgLW9662CgR4WjoCy_eDMo_ooEnEV4N52FYCJehgHREVGQVVMVDUBFZACFQAA&pc=1&spelling_corrections=1&ext=mediaStats%2ChighlightedLabel\n",
      "2021-12-29 21:46:26,353 [INFO] snscrape.base - Retrieved https://api.twitter.com/2/search/adaptive.json?include_profile_interstitial_type=1&include_blocking=1&include_blocked_by=1&include_followed_by=1&include_want_retweets=1&include_mute_edge=1&include_can_dm=1&include_can_media_tag=1&skip_status=1&cards_platform=Web-12&include_cards=1&include_ext_alt_text=true&include_quote_count=true&include_reply_count=1&tweet_mode=extended&include_entities=true&include_user_entities=true&include_ext_media_color=true&include_ext_media_availability=true&send_error_codes=true&simple_quoted_tweets=true&q=%23TooGoodToGo+since%3A2019-01-01+until%3A2021-12-28+lang%3Aen&tweet_search_mode=live&count=100&query_source=spelling_expansion_revert_click&cursor=scroll%3AthGAVUV0VFVBaAgLW9662CgR4WjoCy_eDMo_ooEnEV4N52FYCJehgHREVGQVVMVDUBFZACFQAA&pc=1&spelling_corrections=1&ext=mediaStats%2ChighlightedLabel: 200\n",
      "2021-12-29 21:46:26,355 [INFO] snscrape.modules.twitter - Retrieving scroll page scroll:thGAVUV0VFVBaAgLW9662CgR4WjoCy_eDMo_ooEnEV4N52FYCJehgHREVGQVVMVDUBFZACFQAA\n",
      "2021-12-29 21:46:26,356 [INFO] snscrape.base - Retrieving https://api.twitter.com/2/search/adaptive.json?include_profile_interstitial_type=1&include_blocking=1&include_blocked_by=1&include_followed_by=1&include_want_retweets=1&include_mute_edge=1&include_can_dm=1&include_can_media_tag=1&skip_status=1&cards_platform=Web-12&include_cards=1&include_ext_alt_text=true&include_quote_count=true&include_reply_count=1&tweet_mode=extended&include_entities=true&include_user_entities=true&include_ext_media_color=true&include_ext_media_availability=true&send_error_codes=true&simple_quoted_tweets=true&q=%23TooGoodToGo+since%3A2019-01-01+until%3A2021-12-28+lang%3Aen&tweet_search_mode=live&count=100&query_source=spelling_expansion_revert_click&cursor=scroll%3AthGAVUV0VFVBaAgLW9662CgR4WjoCy_eDMo_ooEnEV4N52FYCJehgHREVGQVVMVDUBFZACFQAA&pc=1&spelling_corrections=1&ext=mediaStats%2ChighlightedLabel\n",
      "2021-12-29 21:46:26,599 [INFO] snscrape.base - Retrieved https://api.twitter.com/2/search/adaptive.json?include_profile_interstitial_type=1&include_blocking=1&include_blocked_by=1&include_followed_by=1&include_want_retweets=1&include_mute_edge=1&include_can_dm=1&include_can_media_tag=1&skip_status=1&cards_platform=Web-12&include_cards=1&include_ext_alt_text=true&include_quote_count=true&include_reply_count=1&tweet_mode=extended&include_entities=true&include_user_entities=true&include_ext_media_color=true&include_ext_media_availability=true&send_error_codes=true&simple_quoted_tweets=true&q=%23TooGoodToGo+since%3A2019-01-01+until%3A2021-12-28+lang%3Aen&tweet_search_mode=live&count=100&query_source=spelling_expansion_revert_click&cursor=scroll%3AthGAVUV0VFVBaAgLW9662CgR4WjoCy_eDMo_ooEnEV4N52FYCJehgHREVGQVVMVDUBFZACFQAA&pc=1&spelling_corrections=1&ext=mediaStats%2ChighlightedLabel: 200\n"
     ]
    }
   ],
   "source": [
    "# Creating list to append tweet data to\n",
    "tweets_list = []\n",
    "\n",
    "# Using TwitterSearchScraper to scrape data and append tweets to list\n",
    "for i,tweet in enumerate(sntwitter.TwitterSearchScraper('#TooGoodToGo since:2019-01-01 until:2021-12-28 lang:en').get_items()):\n",
    "    if i>5000:\n",
    "        break\n",
    "    tweets_list.append([tweet.date, tweet.id, tweet.content, tweet.username])\n",
    "    \n",
    "# Creating a dataframe from the tweets list above\n",
    "tweets_df = pd.DataFrame(tweets_list, columns=['Datetime', 'Tweet Id', 'Text', 'Username'])"
   ]
  },
  {
   "cell_type": "code",
   "execution_count": 107,
   "metadata": {},
   "outputs": [
    {
     "data": {
      "text/html": [
       "<div>\n",
       "<style scoped>\n",
       "    .dataframe tbody tr th:only-of-type {\n",
       "        vertical-align: middle;\n",
       "    }\n",
       "\n",
       "    .dataframe tbody tr th {\n",
       "        vertical-align: top;\n",
       "    }\n",
       "\n",
       "    .dataframe thead th {\n",
       "        text-align: right;\n",
       "    }\n",
       "</style>\n",
       "<table border=\"1\" class=\"dataframe\">\n",
       "  <thead>\n",
       "    <tr style=\"text-align: right;\">\n",
       "      <th></th>\n",
       "      <th>Datetime</th>\n",
       "      <th>Tweet Id</th>\n",
       "      <th>Text</th>\n",
       "      <th>Username</th>\n",
       "      <th>date2</th>\n",
       "      <th>date3</th>\n",
       "      <th>date</th>\n",
       "    </tr>\n",
       "  </thead>\n",
       "  <tbody>\n",
       "    <tr>\n",
       "      <th>0</th>\n",
       "      <td>2021-12-27 20:51:44+00:00</td>\n",
       "      <td>1475570112417644551</td>\n",
       "      <td>First time trying @toogoodtogo.be !  we are pr...</td>\n",
       "      <td>RebeccaNiu</td>\n",
       "      <td>2021-12-27 20:51:44+00:00</td>\n",
       "      <td>2021-12-27 20:51:44</td>\n",
       "      <td>2021-12-27</td>\n",
       "    </tr>\n",
       "    <tr>\n",
       "      <th>1</th>\n",
       "      <td>2021-12-27 18:09:58+00:00</td>\n",
       "      <td>1475529403832672259</td>\n",
       "      <td>I got very excited at the reduced and #TooGood...</td>\n",
       "      <td>CaitlinHafferty</td>\n",
       "      <td>2021-12-27 18:09:58+00:00</td>\n",
       "      <td>2021-12-27 18:09:58</td>\n",
       "      <td>2021-12-27</td>\n",
       "    </tr>\n",
       "    <tr>\n",
       "      <th>2</th>\n",
       "      <td>2021-12-27 12:06:00+00:00</td>\n",
       "      <td>1475437807405518849</td>\n",
       "      <td>Make sure you when you cook leftovers they are...</td>\n",
       "      <td>GIS_volunteers</td>\n",
       "      <td>2021-12-27 12:06:00+00:00</td>\n",
       "      <td>2021-12-27 12:06:00</td>\n",
       "      <td>2021-12-27</td>\n",
       "    </tr>\n",
       "    <tr>\n",
       "      <th>3</th>\n",
       "      <td>2021-12-27 10:46:42+00:00</td>\n",
       "      <td>1475417851334959104</td>\n",
       "      <td>Today's entry is something that I've cooked to...</td>\n",
       "      <td>ApronBrothers</td>\n",
       "      <td>2021-12-27 10:46:42+00:00</td>\n",
       "      <td>2021-12-27 10:46:42</td>\n",
       "      <td>2021-12-27</td>\n",
       "    </tr>\n",
       "    <tr>\n",
       "      <th>4</th>\n",
       "      <td>2021-12-26 23:53:56+00:00</td>\n",
       "      <td>1475253576062672902</td>\n",
       "      <td>#TooGoodToGo 2nd Order at Tartinery.. Yeah! 😃 ...</td>\n",
       "      <td>chocosesameball</td>\n",
       "      <td>2021-12-26 23:53:56+00:00</td>\n",
       "      <td>2021-12-26 23:53:56</td>\n",
       "      <td>2021-12-26</td>\n",
       "    </tr>\n",
       "    <tr>\n",
       "      <th>...</th>\n",
       "      <td>...</td>\n",
       "      <td>...</td>\n",
       "      <td>...</td>\n",
       "      <td>...</td>\n",
       "      <td>...</td>\n",
       "      <td>...</td>\n",
       "      <td>...</td>\n",
       "    </tr>\n",
       "    <tr>\n",
       "      <th>2722</th>\n",
       "      <td>2019-01-16 17:38:36+00:00</td>\n",
       "      <td>1085592165227614208</td>\n",
       "      <td>First #toogoodtogo save... https://t.co/dbnYVC...</td>\n",
       "      <td>GustaafVocking</td>\n",
       "      <td>2019-01-16 17:38:36+00:00</td>\n",
       "      <td>2019-01-16 17:38:36</td>\n",
       "      <td>2019-01-16</td>\n",
       "    </tr>\n",
       "    <tr>\n",
       "      <th>2723</th>\n",
       "      <td>2019-01-12 21:07:22+00:00</td>\n",
       "      <td>1084195154309861377</td>\n",
       "      <td>Wish @TooGoodToGo_UK was used more in #Chelten...</td>\n",
       "      <td>Hanfunkymonkey</td>\n",
       "      <td>2019-01-12 21:07:22+00:00</td>\n",
       "      <td>2019-01-12 21:07:22</td>\n",
       "      <td>2019-01-12</td>\n",
       "    </tr>\n",
       "    <tr>\n",
       "      <th>2724</th>\n",
       "      <td>2019-01-11 18:17:04+00:00</td>\n",
       "      <td>1083789909637431296</td>\n",
       "      <td>Super excited to announce that we've partnered...</td>\n",
       "      <td>TheBigButtyBar</td>\n",
       "      <td>2019-01-11 18:17:04+00:00</td>\n",
       "      <td>2019-01-11 18:17:04</td>\n",
       "      <td>2019-01-11</td>\n",
       "    </tr>\n",
       "    <tr>\n",
       "      <th>2725</th>\n",
       "      <td>2019-01-09 13:59:08+00:00</td>\n",
       "      <td>1083000222811344897</td>\n",
       "      <td>Thomas in Parken Bakeri has joined the movemen...</td>\n",
       "      <td>OsloSciencePark</td>\n",
       "      <td>2019-01-09 13:59:08+00:00</td>\n",
       "      <td>2019-01-09 13:59:08</td>\n",
       "      <td>2019-01-09</td>\n",
       "    </tr>\n",
       "    <tr>\n",
       "      <th>2726</th>\n",
       "      <td>2019-01-04 11:29:17+00:00</td>\n",
       "      <td>1081150571111948288</td>\n",
       "      <td>Hi @JamieTGTG \\n#TooGoodToGo is a brilliant id...</td>\n",
       "      <td>nerinibird</td>\n",
       "      <td>2019-01-04 11:29:17+00:00</td>\n",
       "      <td>2019-01-04 11:29:17</td>\n",
       "      <td>2019-01-04</td>\n",
       "    </tr>\n",
       "  </tbody>\n",
       "</table>\n",
       "<p>2727 rows × 7 columns</p>\n",
       "</div>"
      ],
      "text/plain": [
       "                      Datetime             Tweet Id  \\\n",
       "0    2021-12-27 20:51:44+00:00  1475570112417644551   \n",
       "1    2021-12-27 18:09:58+00:00  1475529403832672259   \n",
       "2    2021-12-27 12:06:00+00:00  1475437807405518849   \n",
       "3    2021-12-27 10:46:42+00:00  1475417851334959104   \n",
       "4    2021-12-26 23:53:56+00:00  1475253576062672902   \n",
       "...                        ...                  ...   \n",
       "2722 2019-01-16 17:38:36+00:00  1085592165227614208   \n",
       "2723 2019-01-12 21:07:22+00:00  1084195154309861377   \n",
       "2724 2019-01-11 18:17:04+00:00  1083789909637431296   \n",
       "2725 2019-01-09 13:59:08+00:00  1083000222811344897   \n",
       "2726 2019-01-04 11:29:17+00:00  1081150571111948288   \n",
       "\n",
       "                                                   Text         Username  \\\n",
       "0     First time trying @toogoodtogo.be !  we are pr...       RebeccaNiu   \n",
       "1     I got very excited at the reduced and #TooGood...  CaitlinHafferty   \n",
       "2     Make sure you when you cook leftovers they are...   GIS_volunteers   \n",
       "3     Today's entry is something that I've cooked to...    ApronBrothers   \n",
       "4     #TooGoodToGo 2nd Order at Tartinery.. Yeah! 😃 ...  chocosesameball   \n",
       "...                                                 ...              ...   \n",
       "2722  First #toogoodtogo save... https://t.co/dbnYVC...   GustaafVocking   \n",
       "2723  Wish @TooGoodToGo_UK was used more in #Chelten...   Hanfunkymonkey   \n",
       "2724  Super excited to announce that we've partnered...   TheBigButtyBar   \n",
       "2725  Thomas in Parken Bakeri has joined the movemen...  OsloSciencePark   \n",
       "2726  Hi @JamieTGTG \\n#TooGoodToGo is a brilliant id...       nerinibird   \n",
       "\n",
       "                         date2               date3       date  \n",
       "0    2021-12-27 20:51:44+00:00 2021-12-27 20:51:44 2021-12-27  \n",
       "1    2021-12-27 18:09:58+00:00 2021-12-27 18:09:58 2021-12-27  \n",
       "2    2021-12-27 12:06:00+00:00 2021-12-27 12:06:00 2021-12-27  \n",
       "3    2021-12-27 10:46:42+00:00 2021-12-27 10:46:42 2021-12-27  \n",
       "4    2021-12-26 23:53:56+00:00 2021-12-26 23:53:56 2021-12-26  \n",
       "...                        ...                 ...        ...  \n",
       "2722 2019-01-16 17:38:36+00:00 2019-01-16 17:38:36 2019-01-16  \n",
       "2723 2019-01-12 21:07:22+00:00 2019-01-12 21:07:22 2019-01-12  \n",
       "2724 2019-01-11 18:17:04+00:00 2019-01-11 18:17:04 2019-01-11  \n",
       "2725 2019-01-09 13:59:08+00:00 2019-01-09 13:59:08 2019-01-09  \n",
       "2726 2019-01-04 11:29:17+00:00 2019-01-04 11:29:17 2019-01-04  \n",
       "\n",
       "[2727 rows x 7 columns]"
      ]
     },
     "execution_count": 107,
     "metadata": {},
     "output_type": "execute_result"
    }
   ],
   "source": [
    "tweets_df['date2'] = pd.to_datetime(tweets_df['Datetime'], utc=True)\n",
    "tweets_df['date3'] = tweets_df['date2'].dt.tz_localize(None)\n",
    "tweets_df['date'] = tweets_df['date3'].dt.normalize()\n",
    "tweets_df.head()"
   ]
  },
  {
   "cell_type": "code",
   "execution_count": 108,
   "metadata": {},
   "outputs": [],
   "source": [
    "tweets_df = tweets_df[['Text', 'date']]\n",
    "tweets_df.columns=['review_content','date']"
   ]
  },
  {
   "cell_type": "code",
   "execution_count": 109,
   "metadata": {
    "collapsed": true,
    "jupyter": {
     "outputs_hidden": true
    },
    "tags": []
   },
   "outputs": [
    {
     "name": "stderr",
     "output_type": "stream",
     "text": [
      "/tmp/ipykernel_7964/443677151.py:1: SettingWithCopyWarning: \n",
      "A value is trying to be set on a copy of a slice from a DataFrame.\n",
      "Try using .loc[row_indexer,col_indexer] = value instead\n",
      "\n",
      "See the caveats in the documentation: https://pandas.pydata.org/pandas-docs/stable/user_guide/indexing.html#returning-a-view-versus-a-copy\n",
      "  tweets_df['source']='Twitter'\n"
     ]
    }
   ],
   "source": [
    "tweets_df['source']='Twitter'"
   ]
  },
  {
   "cell_type": "code",
   "execution_count": 110,
   "metadata": {},
   "outputs": [
    {
     "name": "stdout",
     "output_type": "stream",
     "text": [
      "<class 'pandas.core.frame.DataFrame'>\n",
      "RangeIndex: 2727 entries, 0 to 2726\n",
      "Data columns (total 3 columns):\n",
      " #   Column          Non-Null Count  Dtype         \n",
      "---  ------          --------------  -----         \n",
      " 0   review_content  2727 non-null   object        \n",
      " 1   date            2727 non-null   datetime64[ns]\n",
      " 2   source          2727 non-null   object        \n",
      "dtypes: datetime64[ns](1), object(2)\n",
      "memory usage: 64.0+ KB\n"
     ]
    }
   ],
   "source": [
    "tweets_df.info()"
   ]
  },
  {
   "cell_type": "code",
   "execution_count": 112,
   "metadata": {},
   "outputs": [],
   "source": [
    "tweets_df.to_pickle('tweets2021tgtg.pkl')"
   ]
  },
  {
   "cell_type": "code",
   "execution_count": null,
   "metadata": {},
   "outputs": [],
   "source": []
  }
 ],
 "metadata": {
  "colab": {
   "name": "Step1_Extraction_Concatenation.ipynb",
   "provenance": []
  },
  "kernelspec": {
   "display_name": "Python 3 (ipykernel)",
   "language": "python",
   "name": "python3"
  },
  "language_info": {
   "codemirror_mode": {
    "name": "ipython",
    "version": 3
   },
   "file_extension": ".py",
   "mimetype": "text/x-python",
   "name": "python",
   "nbconvert_exporter": "python",
   "pygments_lexer": "ipython3",
   "version": "3.9.7"
  }
 },
 "nbformat": 4,
 "nbformat_minor": 4
}
