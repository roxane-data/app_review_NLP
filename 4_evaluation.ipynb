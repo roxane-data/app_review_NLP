{
 "cells": [
  {
   "cell_type": "code",
   "execution_count": 1,
   "id": "c9163390-54ef-4b88-b25c-eb04b9fedab2",
   "metadata": {},
   "outputs": [],
   "source": [
    "import pandas as pd\n",
    "import numpy as np\n",
    "import seaborn as sns\n",
    "import matplotlib.pyplot as plt\n",
    "\n",
    "import pickle\n",
    "\n",
    "from classification import Classification\n",
    "from ensemble import Ensemble"
   ]
  },
  {
   "cell_type": "code",
   "execution_count": 2,
   "id": "f29276c1-6458-4038-ac38-65f008af5c6d",
   "metadata": {},
   "outputs": [],
   "source": [
    "sns.set_context('poster')"
   ]
  },
  {
   "cell_type": "code",
   "execution_count": 3,
   "id": "b58bb5ad-49cb-4abf-9a53-220e7e922719",
   "metadata": {},
   "outputs": [],
   "source": [
    "with open(\"data/X_train_data.pkl\", 'rb') as f:\n",
    "    X_train = pickle.load(f)"
   ]
  },
  {
   "cell_type": "code",
   "execution_count": 2,
   "id": "f4e172cf-a6bb-4b37-a5ea-19dc1d11c789",
   "metadata": {},
   "outputs": [],
   "source": [
    "with open(\"data/X_test_data.pkl\", 'rb') as f:\n",
    "    X_test = pickle.load(f)"
   ]
  },
  {
   "cell_type": "code",
   "execution_count": 3,
   "id": "c8699a0e-f100-45b3-85bb-37912ab594d3",
   "metadata": {},
   "outputs": [],
   "source": [
    "X_test.to_csv('data/X_test_data.csv')"
   ]
  },
  {
   "cell_type": "code",
   "execution_count": 5,
   "id": "ef7978ed-5800-458f-bcba-6a5931bc71f0",
   "metadata": {},
   "outputs": [],
   "source": [
    "with open(\"data/y_train_data.pkl\", 'rb') as f:\n",
    "    y_train = pickle.load(f)"
   ]
  },
  {
   "cell_type": "code",
   "execution_count": 4,
   "id": "c39f25e8-6331-4ac2-9830-b2ce4f930d18",
   "metadata": {},
   "outputs": [],
   "source": [
    "with open(\"data/y_test_data.pkl\", 'rb') as f:\n",
    "    y_test = pickle.load(f)"
   ]
  },
  {
   "cell_type": "code",
   "execution_count": 5,
   "id": "e3f91fb8-c68a-4dab-a1ef-cccbf099437a",
   "metadata": {},
   "outputs": [],
   "source": [
    "y_test.to_csv('data/y_test_data.csv')"
   ]
  },
  {
   "cell_type": "code",
   "execution_count": 7,
   "id": "86e3b0bf-9f67-4364-bb51-a81f225c5e82",
   "metadata": {},
   "outputs": [
    {
     "name": "stdout",
     "output_type": "stream",
     "text": [
      "(5892, 50)\n",
      "(5892, 1)\n",
      "(4715, 50)\n",
      "(4715, 1)\n"
     ]
    }
   ],
   "source": [
    "print(X_train.shape)\n",
    "print(y_train.shape)\n",
    "print(X_test.shape)\n",
    "print(y_test.shape)"
   ]
  },
  {
   "cell_type": "markdown",
   "id": "e9237013-74e9-4c73-a286-ceabaa2de92c",
   "metadata": {},
   "source": [
    "### Best model selection\n",
    "Based on 3 factors of defining a good model:\n",
    "\n",
    "    Good Validation Accuracy\n",
    "    Good Training Accuracy\n",
    "    Small Difference between Training and Validation Accuracy when using test data and validation accuracy is higher than training which means the model generalise just fine"
   ]
  },
  {
   "cell_type": "code",
   "execution_count": 8,
   "id": "847253e1-2ea8-4de1-a678-30f0ca6b8226",
   "metadata": {},
   "outputs": [
    {
     "data": {
      "text/html": [
       "<div>\n",
       "<style scoped>\n",
       "    .dataframe tbody tr th:only-of-type {\n",
       "        vertical-align: middle;\n",
       "    }\n",
       "\n",
       "    .dataframe tbody tr th {\n",
       "        vertical-align: top;\n",
       "    }\n",
       "\n",
       "    .dataframe thead th {\n",
       "        text-align: right;\n",
       "    }\n",
       "</style>\n",
       "<table border=\"1\" class=\"dataframe\">\n",
       "  <thead>\n",
       "    <tr style=\"text-align: right;\">\n",
       "      <th></th>\n",
       "      <th>Model Name</th>\n",
       "      <th>Train Accuracy</th>\n",
       "      <th>Validation Accuracy</th>\n",
       "      <th>Accuracy Difference</th>\n",
       "    </tr>\n",
       "  </thead>\n",
       "  <tbody>\n",
       "    <tr>\n",
       "      <th>0</th>\n",
       "      <td>Decision Tree</td>\n",
       "      <td>0.449649</td>\n",
       "      <td>0.416836</td>\n",
       "      <td>0.032813</td>\n",
       "    </tr>\n",
       "    <tr>\n",
       "      <th>0</th>\n",
       "      <td>Random Forest</td>\n",
       "      <td>0.616655</td>\n",
       "      <td>0.486762</td>\n",
       "      <td>0.129894</td>\n",
       "    </tr>\n",
       "    <tr>\n",
       "      <th>0</th>\n",
       "      <td>Logistic Regression</td>\n",
       "      <td>0.530210</td>\n",
       "      <td>0.496945</td>\n",
       "      <td>0.033265</td>\n",
       "    </tr>\n",
       "    <tr>\n",
       "      <th>0</th>\n",
       "      <td>SVM</td>\n",
       "      <td>0.631591</td>\n",
       "      <td>0.498982</td>\n",
       "      <td>0.132609</td>\n",
       "    </tr>\n",
       "    <tr>\n",
       "      <th>0</th>\n",
       "      <td>Naive Bayes</td>\n",
       "      <td>0.485178</td>\n",
       "      <td>0.460964</td>\n",
       "      <td>0.024214</td>\n",
       "    </tr>\n",
       "    <tr>\n",
       "      <th>0</th>\n",
       "      <td>KNN</td>\n",
       "      <td>0.491288</td>\n",
       "      <td>0.477257</td>\n",
       "      <td>0.014030</td>\n",
       "    </tr>\n",
       "    <tr>\n",
       "      <th>0</th>\n",
       "      <td>AdaBoost</td>\n",
       "      <td>0.508486</td>\n",
       "      <td>0.481331</td>\n",
       "      <td>0.027155</td>\n",
       "    </tr>\n",
       "    <tr>\n",
       "      <th>0</th>\n",
       "      <td>XGBoost</td>\n",
       "      <td>0.712378</td>\n",
       "      <td>0.502376</td>\n",
       "      <td>0.210002</td>\n",
       "    </tr>\n",
       "  </tbody>\n",
       "</table>\n",
       "</div>"
      ],
      "text/plain": [
       "            Model Name  Train Accuracy  Validation Accuracy  \\\n",
       "0        Decision Tree        0.449649             0.416836   \n",
       "0        Random Forest        0.616655             0.486762   \n",
       "0  Logistic Regression        0.530210             0.496945   \n",
       "0                  SVM        0.631591             0.498982   \n",
       "0          Naive Bayes        0.485178             0.460964   \n",
       "0                  KNN        0.491288             0.477257   \n",
       "0             AdaBoost        0.508486             0.481331   \n",
       "0              XGBoost        0.712378             0.502376   \n",
       "\n",
       "   Accuracy Difference  \n",
       "0             0.032813  \n",
       "0             0.129894  \n",
       "0             0.033265  \n",
       "0             0.132609  \n",
       "0             0.024214  \n",
       "0             0.014030  \n",
       "0             0.027155  \n",
       "0             0.210002  "
      ]
     },
     "execution_count": 8,
     "metadata": {},
     "output_type": "execute_result"
    }
   ],
   "source": [
    "path = \"data/models/all_models.pkl\" \n",
    "\n",
    "with open(path, 'rb') as f:\n",
    "    df = pickle.load(f)\n",
    "\n",
    "df"
   ]
  },
  {
   "cell_type": "markdown",
   "id": "7b293aaa-ac2f-4628-adac-5e848233bf77",
   "metadata": {},
   "source": [
    "Best model : Random Forest "
   ]
  },
  {
   "cell_type": "code",
   "execution_count": 19,
   "id": "3b2b86ad-27da-4a09-917d-58a3b6bfd999",
   "metadata": {},
   "outputs": [],
   "source": [
    "path = \"data/models/Random Forest.pkl\" \n",
    "\n",
    "with open(path, 'rb') as f:\n",
    "    best_model = pickle.load(f)"
   ]
  },
  {
   "cell_type": "markdown",
   "id": "27d1c679-e834-4a72-8efd-a823ec47a4b9",
   "metadata": {},
   "source": [
    "### Best model tested"
   ]
  },
  {
   "cell_type": "code",
   "execution_count": 20,
   "id": "9f4bf202-f9fa-4452-8e41-c3e21d93b7d4",
   "metadata": {},
   "outputs": [
    {
     "data": {
      "text/html": [
       "<div>\n",
       "<style scoped>\n",
       "    .dataframe tbody tr th:only-of-type {\n",
       "        vertical-align: middle;\n",
       "    }\n",
       "\n",
       "    .dataframe tbody tr th {\n",
       "        vertical-align: top;\n",
       "    }\n",
       "\n",
       "    .dataframe thead th {\n",
       "        text-align: right;\n",
       "    }\n",
       "</style>\n",
       "<table border=\"1\" class=\"dataframe\">\n",
       "  <thead>\n",
       "    <tr style=\"text-align: right;\">\n",
       "      <th></th>\n",
       "      <th>Model Name</th>\n",
       "      <th>Train Accuracy</th>\n",
       "      <th>Validation Accuracy</th>\n",
       "      <th>Accuracy Difference</th>\n",
       "    </tr>\n",
       "  </thead>\n",
       "  <tbody>\n",
       "    <tr>\n",
       "      <th>0</th>\n",
       "      <td>Random Forest</td>\n",
       "      <td>0.616655</td>\n",
       "      <td>0.665323</td>\n",
       "      <td>-0.048668</td>\n",
       "    </tr>\n",
       "  </tbody>\n",
       "</table>\n",
       "</div>"
      ],
      "text/plain": [
       "      Model Name  Train Accuracy  Validation Accuracy  Accuracy Difference\n",
       "0  Random Forest        0.616655             0.665323            -0.048668"
      ]
     },
     "metadata": {},
     "output_type": "display_data"
    },
    {
     "data": {
      "text/html": [
       "<div>\n",
       "<style scoped>\n",
       "    .dataframe tbody tr th:only-of-type {\n",
       "        vertical-align: middle;\n",
       "    }\n",
       "\n",
       "    .dataframe tbody tr th {\n",
       "        vertical-align: top;\n",
       "    }\n",
       "\n",
       "    .dataframe thead th {\n",
       "        text-align: right;\n",
       "    }\n",
       "</style>\n",
       "<table border=\"1\" class=\"dataframe\">\n",
       "  <thead>\n",
       "    <tr style=\"text-align: right;\">\n",
       "      <th></th>\n",
       "      <th>1</th>\n",
       "      <th>2</th>\n",
       "      <th>3</th>\n",
       "      <th>4</th>\n",
       "      <th>5</th>\n",
       "    </tr>\n",
       "  </thead>\n",
       "  <tbody>\n",
       "    <tr>\n",
       "      <th>precision</th>\n",
       "      <td>0.297566</td>\n",
       "      <td>0.142857</td>\n",
       "      <td>0.080000</td>\n",
       "      <td>0.150862</td>\n",
       "      <td>0.895232</td>\n",
       "    </tr>\n",
       "    <tr>\n",
       "      <th>recall</th>\n",
       "      <td>0.677582</td>\n",
       "      <td>0.007752</td>\n",
       "      <td>0.012270</td>\n",
       "      <td>0.312500</td>\n",
       "      <td>0.747967</td>\n",
       "    </tr>\n",
       "    <tr>\n",
       "      <th>f1-score</th>\n",
       "      <td>0.413528</td>\n",
       "      <td>0.014706</td>\n",
       "      <td>0.021277</td>\n",
       "      <td>0.203488</td>\n",
       "      <td>0.815001</td>\n",
       "    </tr>\n",
       "  </tbody>\n",
       "</table>\n",
       "</div>"
      ],
      "text/plain": [
       "                  1         2         3         4         5\n",
       "precision  0.297566  0.142857  0.080000  0.150862  0.895232\n",
       "recall     0.677582  0.007752  0.012270  0.312500  0.747967\n",
       "f1-score   0.413528  0.014706  0.021277  0.203488  0.815001"
      ]
     },
     "execution_count": 20,
     "metadata": {},
     "output_type": "execute_result"
    }
   ],
   "source": [
    "best_model.get_test_scores(X_test,y_test)"
   ]
  },
  {
   "cell_type": "code",
   "execution_count": 21,
   "id": "900abfc7-ab95-47db-8c62-0984a139037b",
   "metadata": {},
   "outputs": [
    {
     "data": {
      "text/html": [
       "<div>\n",
       "<style scoped>\n",
       "    .dataframe tbody tr th:only-of-type {\n",
       "        vertical-align: middle;\n",
       "    }\n",
       "\n",
       "    .dataframe tbody tr th {\n",
       "        vertical-align: top;\n",
       "    }\n",
       "\n",
       "    .dataframe thead th {\n",
       "        text-align: right;\n",
       "    }\n",
       "</style>\n",
       "<table border=\"1\" class=\"dataframe\">\n",
       "  <thead>\n",
       "    <tr style=\"text-align: right;\">\n",
       "      <th></th>\n",
       "      <th>1</th>\n",
       "      <th>2</th>\n",
       "      <th>3</th>\n",
       "      <th>4</th>\n",
       "      <th>5</th>\n",
       "    </tr>\n",
       "  </thead>\n",
       "  <tbody>\n",
       "    <tr>\n",
       "      <th>precision</th>\n",
       "      <td>0.545966</td>\n",
       "      <td>0.111111</td>\n",
       "      <td>0.185185</td>\n",
       "      <td>0.416667</td>\n",
       "      <td>0.485669</td>\n",
       "    </tr>\n",
       "    <tr>\n",
       "      <th>recall</th>\n",
       "      <td>0.684706</td>\n",
       "      <td>0.007576</td>\n",
       "      <td>0.028902</td>\n",
       "      <td>0.344311</td>\n",
       "      <td>0.745721</td>\n",
       "    </tr>\n",
       "    <tr>\n",
       "      <th>f1-score</th>\n",
       "      <td>0.607516</td>\n",
       "      <td>0.014184</td>\n",
       "      <td>0.050000</td>\n",
       "      <td>0.377049</td>\n",
       "      <td>0.588235</td>\n",
       "    </tr>\n",
       "  </tbody>\n",
       "</table>\n",
       "</div>"
      ],
      "text/plain": [
       "                  1         2         3         4         5\n",
       "precision  0.545966  0.111111  0.185185  0.416667  0.485669\n",
       "recall     0.684706  0.007576  0.028902  0.344311  0.745721\n",
       "f1-score   0.607516  0.014184  0.050000  0.377049  0.588235"
      ]
     },
     "execution_count": 21,
     "metadata": {},
     "output_type": "execute_result"
    }
   ],
   "source": [
    "best_model.classification_report"
   ]
  },
  {
   "cell_type": "markdown",
   "id": "abf7917d-d76b-432e-b815-ab73042f4ca9",
   "metadata": {},
   "source": [
    "Looking at the precision, recall, and f1 score, the scores were higher around scores of 1 and 5, less for 4, and the least for 3 and 2. This shows that the models performs well on more extreme opinions on reviews than mixed opinions."
   ]
  },
  {
   "cell_type": "code",
   "execution_count": 22,
   "id": "ffcad390-c12a-47ea-841c-58a570707463",
   "metadata": {},
   "outputs": [
    {
     "data": {
      "image/png": "[encoded data removed]",
      "text/plain": [
       "<Figure size 648x648 with 1 Axes>"
      ]
     },
     "metadata": {},
     "output_type": "display_data"
    }
   ],
   "source": [
    "best_model.conf_matrix()"
   ]
  },
  {
   "cell_type": "code",
   "execution_count": 23,
   "id": "2637ecf6-1333-4b46-8c9b-22f4486a3e04",
   "metadata": {},
   "outputs": [
    {
     "data": {
      "image/png": "[encoded data removed]",
      "text/plain": [
       "<Figure size 648x648 with 1 Axes>"
      ]
     },
     "metadata": {},
     "output_type": "display_data"
    }
   ],
   "source": [
    "best_model.test_conf_matrix()"
   ]
  },
  {
   "cell_type": "markdown",
   "id": "a8cabdcf-a82b-432b-b659-0df208142681",
   "metadata": {},
   "source": [
    "15% of reviews that have a score of 5, have been predicted to have a score of 1. It's a lot! And we have 433 reviews that have a score of 5 which have been predicted to 1 and only 269 reviews having a score of 1 predicted to 1. More false predicted than true predicted. The model perform only when it comes to predict reviews that have a score of 5. We might need to consider using neural networks to see an improvement in our prediction."
   ]
  },
  {
   "cell_type": "markdown",
   "id": "0a31727f-384d-4687-ab4b-f99ffa1c308b",
   "metadata": {},
   "source": [
    "Future improvements \n",
    "\n",
    "- Model using neural networks - see if better accuracy can be achieved\n",
    "- Create a working application to test new reviews written by people\n",
    "- Try a different pre-processing approach and see if model performances change\n",
    "- Bring in new sources of data to see if there are significant differences on frequent words used"
   ]
  },
  {
   "cell_type": "code",
   "execution_count": null,
   "id": "208f6863-7695-4352-b4c9-a762db508735",
   "metadata": {},
   "outputs": [],
   "source": []
  }
 ],
 "metadata": {
  "kernelspec": {
   "display_name": "Python 3 (ipykernel)",
   "language": "python",
   "name": "python3"
  },
  "language_info": {
   "codemirror_mode": {
    "name": "ipython",
    "version": 3
   },
   "file_extension": ".py",
   "mimetype": "text/x-python",
   "name": "python",
   "nbconvert_exporter": "python",
   "pygments_lexer": "ipython3",
   "version": "3.9.7"
  }
 },
 "nbformat": 4,
 "nbformat_minor": 5
}
